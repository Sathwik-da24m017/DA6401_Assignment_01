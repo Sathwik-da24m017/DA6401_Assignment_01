{
 "cells": [
  {
   "cell_type": "code",
   "execution_count": 1,
   "metadata": {},
   "outputs": [
    {
     "data": {
      "image/png": "[encoded data removed]",
      "text/plain": [
       "<Figure size 1500x200 with 10 Axes>"
      ]
     },
     "metadata": {},
     "output_type": "display_data"
    }
   ],
   "source": [
    "import numpy as np\n",
    "import matplotlib.pyplot as plt\n",
    "from keras.datasets import fashion_mnist\n",
    "\n",
    "# Load the dataset\n",
    "(train_images, train_labels), (test_images, test_labels) = fashion_mnist.load_data()\n",
    "\n",
    "# Class labels from 0 to 9\n",
    "class_names = [\n",
    "    \"T-shirt/top\", \"Trouser\", \"Pullover\", \"Dress\", \"Coat\",\n",
    "    \"Sandal\", \"Shirt\", \"Sneaker\", \"Bag\", \"Ankle boot\"\n",
    "]\n",
    "\n",
    "# Create a figure with 10 subplots (1 row, 10 columns)\n",
    "fig, axes = plt.subplots(1, 10, figsize=(15, 2))\n",
    "\n",
    "# Plot one image per class\n",
    "for i in range(10):\n",
    "    # Find the first occurrence of each class in train_labels\n",
    "    idx = np.where(train_labels == i)[0][0]\n",
    "    axes[i].imshow(train_images[idx], cmap='gray')\n",
    "    axes[i].axis('off')\n",
    "    axes[i].set_title(class_names[i], fontsize=8)\n",
    "\n",
    "plt.tight_layout()\n",
    "plt.show()"
   ]
  },
  {
   "cell_type": "code",
   "execution_count": 2,
   "metadata": {},
   "outputs": [],
   "source": [
    "def split_train_validation(X, y, val_size=0.2):\n",
    "    \"\"\"Splits data into training and validation sets.\"\"\"\n",
    "    n = len(X)\n",
    "    val_indices = np.random.choice(n, int(n * val_size), replace=False)\n",
    "    train_indices = np.setdiff1d(np.arange(n), val_indices)\n",
    "    \n",
    "    return X[train_indices], X[val_indices], y[train_indices], y[val_indices]\n"
   ]
  },
  {
   "cell_type": "code",
   "execution_count": 3,
   "metadata": {},
   "outputs": [],
   "source": [
    "# Normalize images to [0,1] range\n",
    "train_images = train_images.reshape(train_images.shape[0], -1) / 255.0\n",
    "test_images = test_images.reshape(test_images.shape[0], -1) / 255.0\n",
    "\n",
    "# One-hot encode labels\n",
    "def one_hot_encode(labels, num_classes=10):\n",
    "    return np.eye(num_classes)[labels]\n",
    "\n",
    "train_labels = one_hot_encode(train_labels)\n",
    "test_labels = one_hot_encode(test_labels)\n",
    "\n",
    "# Activation functions and their derivatives\n",
    "def relu(x):\n",
    "    return np.maximum(0, x)\n",
    "\n",
    "def relu_derivative(x):\n",
    "    return (x > 0).astype(float)\n",
    "\n",
    "def sigmoid(x):\n",
    "    return 1 / (1 + np.exp(-x))\n",
    "\n",
    "def sigmoid_derivative(x):\n",
    "    return sigmoid(x) * (1 - sigmoid(x))\n",
    "\n",
    "def softmax(x):\n",
    "    exp_x = np.exp(x - np.max(x, axis=1, keepdims=True))  # For numerical stability\n",
    "    return exp_x / np.sum(exp_x, axis=1, keepdims=True)\n",
    "\n",
    "# Loss function (Cross-entropy)\n",
    "def cross_entropy_loss(y_true, y_pred):\n",
    "    return -np.mean(np.sum(y_true * np.log(y_pred + 1e-9), axis=1))\n"
   ]
  },
  {
   "cell_type": "code",
   "execution_count": 6,
   "metadata": {},
   "outputs": [],
   "source": [
    "# Base Optimizer Class\n",
    "class Optimizer:\n",
    "    def update(self, params, grads):\n",
    "        raise NotImplementedError\n",
    "\n",
    "# Dictionary to store optimizers\n",
    "optimizers = {}\n",
    "\n",
    "def register_optimizer(name, optimizer_class):\n",
    "    optimizers[name] = optimizer_class\n",
    "\n",
    "# SGD Optimizer\n",
    "class SGD(Optimizer):\n",
    "    def __init__(self, lr=0.01):\n",
    "        self.lr = lr\n",
    "    \n",
    "    def update(self, params, grads):\n",
    "        for key in params.keys():\n",
    "            params[key] -= self.lr * grads[key]\n",
    "\n",
    "register_optimizer('sgd', SGD)\n",
    "\n",
    "# Momentum-based Gradient Descent\n",
    "class Momentum(SGD):\n",
    "    def __init__(self, lr=0.01, beta=0.9):\n",
    "        super().__init__(lr)\n",
    "        self.beta = beta\n",
    "        self.v = {}\n",
    "    \n",
    "    def update(self, params, grads):\n",
    "        for key in params.keys():\n",
    "            if key not in self.v:\n",
    "                self.v[key] = np.zeros_like(params[key])\n",
    "            self.v[key] = self.beta * self.v[key] + (1 - self.beta) * grads[key]\n",
    "            params[key] -= self.lr * self.v[key]\n",
    "\n",
    "register_optimizer('momentum', Momentum)\n",
    "\n",
    "# Nesterov Accelerated Gradient Descent\n",
    "class NAG(Momentum):\n",
    "    def update(self, params, grads):\n",
    "        for key in params.keys():\n",
    "            if key not in self.v:\n",
    "                self.v[key] = np.zeros_like(params[key])\n",
    "            prev_v = self.v[key]\n",
    "            self.v[key] = self.beta * self.v[key] + self.lr * grads[key]\n",
    "            params[key] -= self.beta * prev_v + (1 + self.beta) * self.v[key]\n",
    "\n",
    "register_optimizer('nesterov', NAG)\n",
    "\n",
    "# RMSprop Optimizer\n",
    "class RMSprop(Optimizer):\n",
    "    def __init__(self, lr=0.01, beta=0.9, epsilon=1e-8):\n",
    "        self.lr = lr\n",
    "        self.beta = beta\n",
    "        self.epsilon = epsilon\n",
    "        self.s = {}\n",
    "    \n",
    "    def update(self, params, grads):\n",
    "        for key in params.keys():\n",
    "            if key not in self.s:\n",
    "                self.s[key] = np.zeros_like(params[key])\n",
    "            self.s[key] = self.beta * self.s[key] + (1 - self.beta) * grads[key]**2\n",
    "            params[key] -= self.lr * grads[key] / (np.sqrt(self.s[key]) + self.epsilon)\n",
    "\n",
    "register_optimizer('rmsprop', RMSprop)\n",
    "\n",
    "# Adam Optimizer\n",
    "class Adam(Optimizer):\n",
    "    def __init__(self, lr=0.01, beta1=0.9, beta2=0.999, epsilon=1e-8):\n",
    "        self.lr = lr\n",
    "        self.beta1 = beta1\n",
    "        self.beta2 = beta2\n",
    "        self.epsilon = epsilon\n",
    "        self.m = {}\n",
    "        self.v = {}\n",
    "        self.t = 0\n",
    "    \n",
    "    def update(self, params, grads):\n",
    "        self.t += 1\n",
    "        for key in params.keys():\n",
    "            if key not in self.m:\n",
    "                self.m[key] = np.zeros_like(params[key])\n",
    "                self.v[key] = np.zeros_like(params[key])\n",
    "            self.m[key] = self.beta1 * self.m[key] + (1 - self.beta1) * grads[key]\n",
    "            self.v[key] = self.beta2 * self.v[key] + (1 - self.beta2) * (grads[key]**2)\n",
    "            m_hat = self.m[key] / (1 - self.beta1**self.t)\n",
    "            v_hat = self.v[key] / (1 - self.beta2**self.t)\n",
    "            params[key] -= self.lr * m_hat / (np.sqrt(v_hat) + self.epsilon)\n",
    "\n",
    "register_optimizer('adam', Adam)\n"
   ]
  },
  {
   "cell_type": "code",
   "execution_count": 7,
   "metadata": {},
   "outputs": [],
   "source": [
    "# Neural Network Class\n",
    "class NeuralNetwork:\n",
    "    def __init__(self, layers, activation='relu', optimizer='sgd', lr=0.01):\n",
    "        self.layers = layers\n",
    "        self.activation = activation\n",
    "        self.params = {}\n",
    "        self.grads = {}\n",
    "        self.optimizer = optimizers[optimizer](lr=lr)\n",
    "        self._initialize_weights()\n",
    "    \n",
    "    def _initialize_weights(self):\n",
    "        for i in range(len(self.layers) - 1):\n",
    "            self.params[f'W{i+1}'] = np.random.randn(self.layers[i], self.layers[i+1]) * 0.01\n",
    "            self.params[f'b{i+1}'] = np.zeros((1, self.layers[i+1]))\n",
    "    \n",
    "    def forward(self, X):\n",
    "        self.cache = {'A0': X}\n",
    "        for i in range(len(self.layers) - 1):\n",
    "            Z = self.cache[f'A{i}'] @ self.params[f'W{i+1}'] + self.params[f'b{i+1}']\n",
    "            self.cache[f'A{i+1}'] = relu(Z) if self.activation == 'relu' else sigmoid(Z)\n",
    "        return softmax(self.cache[f'A{len(self.layers)-1}'])\n",
    "    \n",
    "    def backward(self, X, y):\n",
    "        m = X.shape[0]\n",
    "        dA = self.cache[f'A{len(self.layers)-1}'] - y\n",
    "        for i in reversed(range(len(self.layers) - 1)):\n",
    "            dZ = dA * relu_derivative(self.cache[f'A{i+1}'])\n",
    "            self.grads[f'W{i+1}'] = self.cache[f'A{i}'].T @ dZ / m\n",
    "            self.grads[f'b{i+1}'] = np.sum(dZ, axis=0, keepdims=True) / m\n",
    "            dA = dZ @ self.params[f'W{i+1}'].T\n",
    "        self.optimizer.update(self.params, self.grads)\n",
    "    def train(self, X_train, y_train, X_val, y_val, epochs=100, batch_size=32):\n",
    "        for epoch in range(epochs):\n",
    "            num_batches = X_train.shape[0] // batch_size\n",
    "            for i in range(num_batches):\n",
    "                start = i * batch_size\n",
    "                end = start + batch_size\n",
    "                X_batch, y_batch = X_train[start:end], y_train[start:end]\n",
    "\n",
    "                y_pred = self.forward(X_batch)\n",
    "                loss = cross_entropy_loss(y_batch, y_pred)\n",
    "                self.backward(X_batch, y_batch)\n",
    "\n",
    "            # Evaluate on validation set\n",
    "            y_val_pred = self.forward(X_val)\n",
    "            val_loss = cross_entropy_loss(y_val, y_val_pred)\n",
    "\n",
    "            # Log metrics to WandB\n",
    "            wandb.log({\"train_loss\": loss, \"val_loss\": val_loss, \"epoch\": epoch + 1})\n",
    "            print(f'Epoch {epoch+1}, Train Loss: {loss:.4f}, Val Loss: {val_loss:.4f}')\n"
   ]
  },
  {
   "cell_type": "code",
   "execution_count": 8,
   "metadata": {},
   "outputs": [
    {
     "name": "stderr",
     "output_type": "stream",
     "text": [
      "\u001b[34m\u001b[1mwandb\u001b[0m: Using wandb-core as the SDK backend.  Please refer to https://wandb.me/wandb-core for more information.\n",
      "\u001b[34m\u001b[1mwandb\u001b[0m: \u001b[33mWARNING\u001b[0m If you're specifying your api key in code, ensure this code is not shared publicly.\n",
      "\u001b[34m\u001b[1mwandb\u001b[0m: \u001b[33mWARNING\u001b[0m Consider setting the WANDB_API_KEY environment variable, or running `wandb login` from the command line.\n",
      "\u001b[34m\u001b[1mwandb\u001b[0m: Appending key for api.wandb.ai to your netrc file: /Users/sathwikpentela/.netrc\n",
      "\u001b[34m\u001b[1mwandb\u001b[0m: Currently logged in as: \u001b[33mda24m017\u001b[0m (\u001b[33mda24m017-indian-institute-of-technology-madras\u001b[0m) to \u001b[32mhttps://api.wandb.ai\u001b[0m. Use \u001b[1m`wandb login --relogin`\u001b[0m to force relogin\n"
     ]
    },
    {
     "data": {
      "text/plain": [
       "True"
      ]
     },
     "execution_count": 8,
     "metadata": {},
     "output_type": "execute_result"
    }
   ],
   "source": [
    "import wandb\n",
    "wandb.login(key=\"f56388c51b488c425a228537fd2d35e5498a3a91\")\n"
   ]
  },
  {
   "cell_type": "code",
   "execution_count": 9,
   "metadata": {},
   "outputs": [],
   "source": [
    "sweep_config = {\n",
    "    \"method\": \"bayes\",  # Can use 'grid' or 'bayes' for efficiency\n",
    "    \"metric\": {\"name\": \"val_loss\", \"goal\": \"minimize\"},\n",
    "    \"parameters\": {\n",
    "        \"epochs\": {\"values\": [5, 10]},\n",
    "        \"hidden_layers\": {\"values\": [3, 4, 5]},\n",
    "        \"layer_size\": {\"values\": [32, 64, 128]},\n",
    "        \"weight_decay\": {\"values\": [0, 0.0005, 0.5]},\n",
    "        \"learning_rate\": {\"values\": [1e-3, 1e-4]},\n",
    "        \"optimizer\": {\"values\": [\"sgd\", \"momentum\", \"nesterov\", \"rmsprop\", \"adam\", \"nadam\"]},\n",
    "        \"batch_size\": {\"values\": [16, 32, 64]},\n",
    "        \"weight_init\": {\"values\": [\"random\", \"xavier\"]},\n",
    "        \"activation\": {\"values\": [\"sigmoid\", \"tanh\", \"relu\"]}\n",
    "    }\n",
    "}\n"
   ]
  },
  {
   "cell_type": "code",
   "execution_count": 10,
   "metadata": {},
   "outputs": [
    {
     "name": "stdout",
     "output_type": "stream",
     "text": [
      "Create sweep with ID: ic4mfnl6\n",
      "Sweep URL: https://wandb.ai/da24m017-indian-institute-of-technology-madras/DA6401_Assignment_1/sweeps/ic4mfnl6\n"
     ]
    }
   ],
   "source": [
    "sweep_id = wandb.sweep(sweep_config, project=\"DA6401_Assignment_1\")"
   ]
  },
  {
   "cell_type": "code",
   "execution_count": null,
   "metadata": {},
   "outputs": [],
   "source": [
    "def sweep_train():\n",
    "    with wandb.init() as run:\n",
    "        config = wandb.config\n",
    "\n",
    "        # Load dataset\n",
    "        (X_train, y_train), (X_test, y_test) = fashion_mnist.load_data()\n",
    "        X_train, X_val, y_train, y_val = split_train_validation(X_train, y_train, val_size=0.2)\n",
    "\n",
    "        # Normalize data\n",
    "        X_train, X_val, X_test = X_train / 255.0, X_val / 255.0, X_test / 255.0\n",
    "\n",
    "        # Flatten images (28x28 → 784)\n",
    "        X_train, X_val, X_test = X_train.reshape(-1, 784), X_val.reshape(-1, 784), X_test.reshape(-1, 784)\n",
    "\n",
    "        # Convert labels to one-hot encoding\n",
    "        y_train = one_hot_encode(y_train, num_classes=10)\n",
    "        y_val = one_hot_encode(y_val, num_classes=10)\n",
    "\n",
    "        # Create model using wandb.config parameters\n",
    "        model = NeuralNetwork(\n",
    "            layers=[784] + [config.layer_size] * config.hidden_layers + [10],\n",
    "            activation=config.activation,\n",
    "            optimizer=config.optimizer,\n",
    "            lr=config.learning_rate\n",
    "        )\n",
    "\n",
    "        # Train the model\n",
    "        model.train(X_train, y_train, X_val, y_val, epochs=config.epochs, batch_size=config.batch_size)\n",
    "\n",
    "        wandb.finish()\n"
   ]
  },
  {
   "cell_type": "code",
   "execution_count": 12,
   "metadata": {},
   "outputs": [
    {
     "name": "stderr",
     "output_type": "stream",
     "text": [
      "\u001b[34m\u001b[1mwandb\u001b[0m: Agent Starting Run: utbrgtmt with config:\n",
      "\u001b[34m\u001b[1mwandb\u001b[0m: \tactivation: sigmoid\n",
      "\u001b[34m\u001b[1mwandb\u001b[0m: \tbatch_size: 64\n",
      "\u001b[34m\u001b[1mwandb\u001b[0m: \tepochs: 10\n",
      "\u001b[34m\u001b[1mwandb\u001b[0m: \thidden_layers: 5\n",
      "\u001b[34m\u001b[1mwandb\u001b[0m: \tlayer_size: 64\n",
      "\u001b[34m\u001b[1mwandb\u001b[0m: \tlearning_rate: 0.0001\n",
      "\u001b[34m\u001b[1mwandb\u001b[0m: \toptimizer: nadam\n",
      "\u001b[34m\u001b[1mwandb\u001b[0m: \tweight_decay: 0.0005\n",
      "\u001b[34m\u001b[1mwandb\u001b[0m: \tweight_init: xavier\n"
     ]
    },
    {
     "data": {
      "text/html": [
       "Tracking run with wandb version 0.19.8"
      ],
      "text/plain": [
       "<IPython.core.display.HTML object>"
      ]
     },
     "metadata": {},
     "output_type": "display_data"
    },
    {
     "data": {
      "text/html": [
       "Run data is saved locally in <code>/Users/sathwikpentela/MTECH/DA6401_Assignment_1/wandb/run-20250309_055638-utbrgtmt</code>"
      ],
      "text/plain": [
       "<IPython.core.display.HTML object>"
      ]
     },
     "metadata": {},
     "output_type": "display_data"
    },
    {
     "data": {
      "text/html": [
       "Syncing run <strong><a href='https://wandb.ai/da24m017-indian-institute-of-technology-madras/DA6401_Assignment_1/runs/utbrgtmt' target=\"_blank\">skilled-sweep-1</a></strong> to <a href='https://wandb.ai/da24m017-indian-institute-of-technology-madras/DA6401_Assignment_1' target=\"_blank\">Weights & Biases</a> (<a href='https://wandb.me/developer-guide' target=\"_blank\">docs</a>)<br>Sweep page: <a href='https://wandb.ai/da24m017-indian-institute-of-technology-madras/DA6401_Assignment_1/sweeps/ic4mfnl6' target=\"_blank\">https://wandb.ai/da24m017-indian-institute-of-technology-madras/DA6401_Assignment_1/sweeps/ic4mfnl6</a>"
      ],
      "text/plain": [
       "<IPython.core.display.HTML object>"
      ]
     },
     "metadata": {},
     "output_type": "display_data"
    },
    {
     "data": {
      "text/html": [
       " View project at <a href='https://wandb.ai/da24m017-indian-institute-of-technology-madras/DA6401_Assignment_1' target=\"_blank\">https://wandb.ai/da24m017-indian-institute-of-technology-madras/DA6401_Assignment_1</a>"
      ],
      "text/plain": [
       "<IPython.core.display.HTML object>"
      ]
     },
     "metadata": {},
     "output_type": "display_data"
    },
    {
     "data": {
      "text/html": [
       " View sweep at <a href='https://wandb.ai/da24m017-indian-institute-of-technology-madras/DA6401_Assignment_1/sweeps/ic4mfnl6' target=\"_blank\">https://wandb.ai/da24m017-indian-institute-of-technology-madras/DA6401_Assignment_1/sweeps/ic4mfnl6</a>"
      ],
      "text/plain": [
       "<IPython.core.display.HTML object>"
      ]
     },
     "metadata": {},
     "output_type": "display_data"
    },
    {
     "data": {
      "text/html": [
       " View run at <a href='https://wandb.ai/da24m017-indian-institute-of-technology-madras/DA6401_Assignment_1/runs/utbrgtmt' target=\"_blank\">https://wandb.ai/da24m017-indian-institute-of-technology-madras/DA6401_Assignment_1/runs/utbrgtmt</a>"
      ],
      "text/plain": [
       "<IPython.core.display.HTML object>"
      ]
     },
     "metadata": {},
     "output_type": "display_data"
    },
    {
     "name": "stderr",
     "output_type": "stream",
     "text": [
      "Traceback (most recent call last):\n",
      "  File \"/var/folders/97/64q5gb_55n5dk9c9nd8xzdw00000gn/T/ipykernel_38811/4050847273.py\", line 20, in sweep_train\n",
      "    model = NeuralNetwork(\n",
      "  File \"/var/folders/97/64q5gb_55n5dk9c9nd8xzdw00000gn/T/ipykernel_38811/4163194409.py\", line 8, in __init__\n",
      "    self.optimizer = optimizers[optimizer](lr=lr)\n",
      "KeyError: 'nadam'\n"
     ]
    },
    {
     "data": {
      "text/html": [],
      "text/plain": [
       "<IPython.core.display.HTML object>"
      ]
     },
     "metadata": {},
     "output_type": "display_data"
    },
    {
     "data": {
      "text/html": [
       " View run <strong style=\"color:#cdcd00\">skilled-sweep-1</strong> at: <a href='https://wandb.ai/da24m017-indian-institute-of-technology-madras/DA6401_Assignment_1/runs/utbrgtmt' target=\"_blank\">https://wandb.ai/da24m017-indian-institute-of-technology-madras/DA6401_Assignment_1/runs/utbrgtmt</a><br> View project at: <a href='https://wandb.ai/da24m017-indian-institute-of-technology-madras/DA6401_Assignment_1' target=\"_blank\">https://wandb.ai/da24m017-indian-institute-of-technology-madras/DA6401_Assignment_1</a><br>Synced 5 W&B file(s), 0 media file(s), 0 artifact file(s) and 0 other file(s)"
      ],
      "text/plain": [
       "<IPython.core.display.HTML object>"
      ]
     },
     "metadata": {},
     "output_type": "display_data"
    },
    {
     "data": {
      "text/html": [
       "Find logs at: <code>./wandb/run-20250309_055638-utbrgtmt/logs</code>"
      ],
      "text/plain": [
       "<IPython.core.display.HTML object>"
      ]
     },
     "metadata": {},
     "output_type": "display_data"
    },
    {
     "name": "stderr",
     "output_type": "stream",
     "text": [
      "Run utbrgtmt errored:\n",
      "Traceback (most recent call last):\n",
      "  File \"/Users/sathwikpentela/miniforge3/envs/PINN/lib/python3.10/site-packages/wandb/agents/pyagent.py\", line 306, in _run_job\n",
      "    self._function()\n",
      "  File \"/var/folders/97/64q5gb_55n5dk9c9nd8xzdw00000gn/T/ipykernel_38811/4050847273.py\", line 20, in sweep_train\n",
      "    model = NeuralNetwork(\n",
      "  File \"/var/folders/97/64q5gb_55n5dk9c9nd8xzdw00000gn/T/ipykernel_38811/4163194409.py\", line 8, in __init__\n",
      "    self.optimizer = optimizers[optimizer](lr=lr)\n",
      "KeyError: 'nadam'\n",
      "\n",
      "\u001b[34m\u001b[1mwandb\u001b[0m: \u001b[32m\u001b[41mERROR\u001b[0m Run utbrgtmt errored:\n",
      "\u001b[34m\u001b[1mwandb\u001b[0m: \u001b[32m\u001b[41mERROR\u001b[0m Traceback (most recent call last):\n",
      "\u001b[34m\u001b[1mwandb\u001b[0m: \u001b[32m\u001b[41mERROR\u001b[0m   File \"/Users/sathwikpentela/miniforge3/envs/PINN/lib/python3.10/site-packages/wandb/agents/pyagent.py\", line 306, in _run_job\n",
      "\u001b[34m\u001b[1mwandb\u001b[0m: \u001b[32m\u001b[41mERROR\u001b[0m     self._function()\n",
      "\u001b[34m\u001b[1mwandb\u001b[0m: \u001b[32m\u001b[41mERROR\u001b[0m   File \"/var/folders/97/64q5gb_55n5dk9c9nd8xzdw00000gn/T/ipykernel_38811/4050847273.py\", line 20, in sweep_train\n",
      "\u001b[34m\u001b[1mwandb\u001b[0m: \u001b[32m\u001b[41mERROR\u001b[0m     model = NeuralNetwork(\n",
      "\u001b[34m\u001b[1mwandb\u001b[0m: \u001b[32m\u001b[41mERROR\u001b[0m   File \"/var/folders/97/64q5gb_55n5dk9c9nd8xzdw00000gn/T/ipykernel_38811/4163194409.py\", line 8, in __init__\n",
      "\u001b[34m\u001b[1mwandb\u001b[0m: \u001b[32m\u001b[41mERROR\u001b[0m     self.optimizer = optimizers[optimizer](lr=lr)\n",
      "\u001b[34m\u001b[1mwandb\u001b[0m: \u001b[32m\u001b[41mERROR\u001b[0m KeyError: 'nadam'\n",
      "\u001b[34m\u001b[1mwandb\u001b[0m: \u001b[32m\u001b[41mERROR\u001b[0m \n",
      "\u001b[34m\u001b[1mwandb\u001b[0m: Agent Starting Run: 5m4dmrh3 with config:\n",
      "\u001b[34m\u001b[1mwandb\u001b[0m: \tactivation: sigmoid\n",
      "\u001b[34m\u001b[1mwandb\u001b[0m: \tbatch_size: 64\n",
      "\u001b[34m\u001b[1mwandb\u001b[0m: \tepochs: 10\n",
      "\u001b[34m\u001b[1mwandb\u001b[0m: \thidden_layers: 3\n",
      "\u001b[34m\u001b[1mwandb\u001b[0m: \tlayer_size: 64\n",
      "\u001b[34m\u001b[1mwandb\u001b[0m: \tlearning_rate: 0.0001\n",
      "\u001b[34m\u001b[1mwandb\u001b[0m: \toptimizer: sgd\n",
      "\u001b[34m\u001b[1mwandb\u001b[0m: \tweight_decay: 0.5\n",
      "\u001b[34m\u001b[1mwandb\u001b[0m: \tweight_init: xavier\n"
     ]
    },
    {
     "data": {
      "text/html": [
       "Tracking run with wandb version 0.19.8"
      ],
      "text/plain": [
       "<IPython.core.display.HTML object>"
      ]
     },
     "metadata": {},
     "output_type": "display_data"
    },
    {
     "data": {
      "text/html": [
       "Run data is saved locally in <code>/Users/sathwikpentela/MTECH/DA6401_Assignment_1/wandb/run-20250309_055643-5m4dmrh3</code>"
      ],
      "text/plain": [
       "<IPython.core.display.HTML object>"
      ]
     },
     "metadata": {},
     "output_type": "display_data"
    },
    {
     "data": {
      "text/html": [
       "Syncing run <strong><a href='https://wandb.ai/da24m017-indian-institute-of-technology-madras/DA6401_Assignment_1/runs/5m4dmrh3' target=\"_blank\">olive-sweep-2</a></strong> to <a href='https://wandb.ai/da24m017-indian-institute-of-technology-madras/DA6401_Assignment_1' target=\"_blank\">Weights & Biases</a> (<a href='https://wandb.me/developer-guide' target=\"_blank\">docs</a>)<br>Sweep page: <a href='https://wandb.ai/da24m017-indian-institute-of-technology-madras/DA6401_Assignment_1/sweeps/ic4mfnl6' target=\"_blank\">https://wandb.ai/da24m017-indian-institute-of-technology-madras/DA6401_Assignment_1/sweeps/ic4mfnl6</a>"
      ],
      "text/plain": [
       "<IPython.core.display.HTML object>"
      ]
     },
     "metadata": {},
     "output_type": "display_data"
    },
    {
     "data": {
      "text/html": [
       " View project at <a href='https://wandb.ai/da24m017-indian-institute-of-technology-madras/DA6401_Assignment_1' target=\"_blank\">https://wandb.ai/da24m017-indian-institute-of-technology-madras/DA6401_Assignment_1</a>"
      ],
      "text/plain": [
       "<IPython.core.display.HTML object>"
      ]
     },
     "metadata": {},
     "output_type": "display_data"
    },
    {
     "data": {
      "text/html": [
       " View sweep at <a href='https://wandb.ai/da24m017-indian-institute-of-technology-madras/DA6401_Assignment_1/sweeps/ic4mfnl6' target=\"_blank\">https://wandb.ai/da24m017-indian-institute-of-technology-madras/DA6401_Assignment_1/sweeps/ic4mfnl6</a>"
      ],
      "text/plain": [
       "<IPython.core.display.HTML object>"
      ]
     },
     "metadata": {},
     "output_type": "display_data"
    },
    {
     "data": {
      "text/html": [
       " View run at <a href='https://wandb.ai/da24m017-indian-institute-of-technology-madras/DA6401_Assignment_1/runs/5m4dmrh3' target=\"_blank\">https://wandb.ai/da24m017-indian-institute-of-technology-madras/DA6401_Assignment_1/runs/5m4dmrh3</a>"
      ],
      "text/plain": [
       "<IPython.core.display.HTML object>"
      ]
     },
     "metadata": {},
     "output_type": "display_data"
    },
    {
     "name": "stdout",
     "output_type": "stream",
     "text": [
      "Epoch 1, Train Loss: 2.3028, Val Loss: 2.3027\n",
      "Epoch 2, Train Loss: 2.3027, Val Loss: 2.3026\n",
      "Epoch 3, Train Loss: 2.3027, Val Loss: 2.3026\n",
      "Epoch 4, Train Loss: 2.3027, Val Loss: 2.3026\n",
      "Epoch 5, Train Loss: 2.3027, Val Loss: 2.3026\n",
      "Epoch 6, Train Loss: 2.3027, Val Loss: 2.3026\n",
      "Epoch 7, Train Loss: 2.3027, Val Loss: 2.3026\n",
      "Epoch 8, Train Loss: 2.3027, Val Loss: 2.3026\n",
      "Epoch 9, Train Loss: 2.3027, Val Loss: 2.3026\n",
      "Epoch 10, Train Loss: 2.3027, Val Loss: 2.3026\n"
     ]
    },
    {
     "data": {
      "text/html": [],
      "text/plain": [
       "<IPython.core.display.HTML object>"
      ]
     },
     "metadata": {},
     "output_type": "display_data"
    },
    {
     "data": {
      "text/html": [
       "<br>    <style><br>        .wandb-row {<br>            display: flex;<br>            flex-direction: row;<br>            flex-wrap: wrap;<br>            justify-content: flex-start;<br>            width: 100%;<br>        }<br>        .wandb-col {<br>            display: flex;<br>            flex-direction: column;<br>            flex-basis: 100%;<br>            flex: 1;<br>            padding: 10px;<br>        }<br>    </style><br><div class=\"wandb-row\"><div class=\"wandb-col\"><h3>Run history:</h3><br/><table class=\"wandb\"><tr><td>epoch</td><td>▁▂▃▃▄▅▆▆▇█</td></tr><tr><td>train_loss</td><td>█▆▄▃▂▁▁▁▁▁</td></tr><tr><td>val_loss</td><td>█▅▃▂▂▁▁▁▁▁</td></tr></table><br/></div><div class=\"wandb-col\"><h3>Run summary:</h3><br/><table class=\"wandb\"><tr><td>epoch</td><td>10</td></tr><tr><td>train_loss</td><td>2.30271</td></tr><tr><td>val_loss</td><td>2.30262</td></tr></table><br/></div></div>"
      ],
      "text/plain": [
       "<IPython.core.display.HTML object>"
      ]
     },
     "metadata": {},
     "output_type": "display_data"
    },
    {
     "data": {
      "text/html": [
       " View run <strong style=\"color:#cdcd00\">olive-sweep-2</strong> at: <a href='https://wandb.ai/da24m017-indian-institute-of-technology-madras/DA6401_Assignment_1/runs/5m4dmrh3' target=\"_blank\">https://wandb.ai/da24m017-indian-institute-of-technology-madras/DA6401_Assignment_1/runs/5m4dmrh3</a><br> View project at: <a href='https://wandb.ai/da24m017-indian-institute-of-technology-madras/DA6401_Assignment_1' target=\"_blank\">https://wandb.ai/da24m017-indian-institute-of-technology-madras/DA6401_Assignment_1</a><br>Synced 5 W&B file(s), 0 media file(s), 0 artifact file(s) and 0 other file(s)"
      ],
      "text/plain": [
       "<IPython.core.display.HTML object>"
      ]
     },
     "metadata": {},
     "output_type": "display_data"
    },
    {
     "data": {
      "text/html": [
       "Find logs at: <code>./wandb/run-20250309_055643-5m4dmrh3/logs</code>"
      ],
      "text/plain": [
       "<IPython.core.display.HTML object>"
      ]
     },
     "metadata": {},
     "output_type": "display_data"
    },
    {
     "name": "stderr",
     "output_type": "stream",
     "text": [
      "\u001b[34m\u001b[1mwandb\u001b[0m: Agent Starting Run: yust2dwi with config:\n",
      "\u001b[34m\u001b[1mwandb\u001b[0m: \tactivation: relu\n",
      "\u001b[34m\u001b[1mwandb\u001b[0m: \tbatch_size: 64\n",
      "\u001b[34m\u001b[1mwandb\u001b[0m: \tepochs: 10\n",
      "\u001b[34m\u001b[1mwandb\u001b[0m: \thidden_layers: 5\n",
      "\u001b[34m\u001b[1mwandb\u001b[0m: \tlayer_size: 128\n",
      "\u001b[34m\u001b[1mwandb\u001b[0m: \tlearning_rate: 0.001\n",
      "\u001b[34m\u001b[1mwandb\u001b[0m: \toptimizer: sgd\n",
      "\u001b[34m\u001b[1mwandb\u001b[0m: \tweight_decay: 0.0005\n",
      "\u001b[34m\u001b[1mwandb\u001b[0m: \tweight_init: random\n"
     ]
    },
    {
     "data": {
      "text/html": [
       "Tracking run with wandb version 0.19.8"
      ],
      "text/plain": [
       "<IPython.core.display.HTML object>"
      ]
     },
     "metadata": {},
     "output_type": "display_data"
    },
    {
     "data": {
      "text/html": [
       "Run data is saved locally in <code>/Users/sathwikpentela/MTECH/DA6401_Assignment_1/wandb/run-20250309_055654-yust2dwi</code>"
      ],
      "text/plain": [
       "<IPython.core.display.HTML object>"
      ]
     },
     "metadata": {},
     "output_type": "display_data"
    },
    {
     "data": {
      "text/html": [
       "Syncing run <strong><a href='https://wandb.ai/da24m017-indian-institute-of-technology-madras/DA6401_Assignment_1/runs/yust2dwi' target=\"_blank\">tough-sweep-3</a></strong> to <a href='https://wandb.ai/da24m017-indian-institute-of-technology-madras/DA6401_Assignment_1' target=\"_blank\">Weights & Biases</a> (<a href='https://wandb.me/developer-guide' target=\"_blank\">docs</a>)<br>Sweep page: <a href='https://wandb.ai/da24m017-indian-institute-of-technology-madras/DA6401_Assignment_1/sweeps/ic4mfnl6' target=\"_blank\">https://wandb.ai/da24m017-indian-institute-of-technology-madras/DA6401_Assignment_1/sweeps/ic4mfnl6</a>"
      ],
      "text/plain": [
       "<IPython.core.display.HTML object>"
      ]
     },
     "metadata": {},
     "output_type": "display_data"
    },
    {
     "data": {
      "text/html": [
       " View project at <a href='https://wandb.ai/da24m017-indian-institute-of-technology-madras/DA6401_Assignment_1' target=\"_blank\">https://wandb.ai/da24m017-indian-institute-of-technology-madras/DA6401_Assignment_1</a>"
      ],
      "text/plain": [
       "<IPython.core.display.HTML object>"
      ]
     },
     "metadata": {},
     "output_type": "display_data"
    },
    {
     "data": {
      "text/html": [
       " View sweep at <a href='https://wandb.ai/da24m017-indian-institute-of-technology-madras/DA6401_Assignment_1/sweeps/ic4mfnl6' target=\"_blank\">https://wandb.ai/da24m017-indian-institute-of-technology-madras/DA6401_Assignment_1/sweeps/ic4mfnl6</a>"
      ],
      "text/plain": [
       "<IPython.core.display.HTML object>"
      ]
     },
     "metadata": {},
     "output_type": "display_data"
    },
    {
     "data": {
      "text/html": [
       " View run at <a href='https://wandb.ai/da24m017-indian-institute-of-technology-madras/DA6401_Assignment_1/runs/yust2dwi' target=\"_blank\">https://wandb.ai/da24m017-indian-institute-of-technology-madras/DA6401_Assignment_1/runs/yust2dwi</a>"
      ],
      "text/plain": [
       "<IPython.core.display.HTML object>"
      ]
     },
     "metadata": {},
     "output_type": "display_data"
    },
    {
     "name": "stdout",
     "output_type": "stream",
     "text": [
      "Epoch 1, Train Loss: 2.2949, Val Loss: 2.3027\n",
      "Epoch 2, Train Loss: 2.2919, Val Loss: 2.3030\n",
      "Epoch 3, Train Loss: 2.2907, Val Loss: 2.3031\n",
      "Epoch 4, Train Loss: 2.2902, Val Loss: 2.3032\n",
      "Epoch 5, Train Loss: 2.2899, Val Loss: 2.3033\n",
      "Epoch 6, Train Loss: 2.2898, Val Loss: 2.3033\n",
      "Epoch 7, Train Loss: 2.2898, Val Loss: 2.3033\n",
      "Epoch 8, Train Loss: 2.2898, Val Loss: 2.3033\n",
      "Epoch 9, Train Loss: 2.2898, Val Loss: 2.3033\n",
      "Epoch 10, Train Loss: 2.2898, Val Loss: 2.3033\n"
     ]
    },
    {
     "data": {
      "text/html": [],
      "text/plain": [
       "<IPython.core.display.HTML object>"
      ]
     },
     "metadata": {},
     "output_type": "display_data"
    },
    {
     "data": {
      "text/html": [
       "<br>    <style><br>        .wandb-row {<br>            display: flex;<br>            flex-direction: row;<br>            flex-wrap: wrap;<br>            justify-content: flex-start;<br>            width: 100%;<br>        }<br>        .wandb-col {<br>            display: flex;<br>            flex-direction: column;<br>            flex-basis: 100%;<br>            flex: 1;<br>            padding: 10px;<br>        }<br>    </style><br><div class=\"wandb-row\"><div class=\"wandb-col\"><h3>Run history:</h3><br/><table class=\"wandb\"><tr><td>epoch</td><td>▁▂▃▃▄▅▆▆▇█</td></tr><tr><td>train_loss</td><td>█▄▂▂▁▁▁▁▁▁</td></tr><tr><td>val_loss</td><td>▁▄▆▇██████</td></tr></table><br/></div><div class=\"wandb-col\"><h3>Run summary:</h3><br/><table class=\"wandb\"><tr><td>epoch</td><td>10</td></tr><tr><td>train_loss</td><td>2.28977</td></tr><tr><td>val_loss</td><td>2.30329</td></tr></table><br/></div></div>"
      ],
      "text/plain": [
       "<IPython.core.display.HTML object>"
      ]
     },
     "metadata": {},
     "output_type": "display_data"
    },
    {
     "data": {
      "text/html": [
       " View run <strong style=\"color:#cdcd00\">tough-sweep-3</strong> at: <a href='https://wandb.ai/da24m017-indian-institute-of-technology-madras/DA6401_Assignment_1/runs/yust2dwi' target=\"_blank\">https://wandb.ai/da24m017-indian-institute-of-technology-madras/DA6401_Assignment_1/runs/yust2dwi</a><br> View project at: <a href='https://wandb.ai/da24m017-indian-institute-of-technology-madras/DA6401_Assignment_1' target=\"_blank\">https://wandb.ai/da24m017-indian-institute-of-technology-madras/DA6401_Assignment_1</a><br>Synced 5 W&B file(s), 0 media file(s), 0 artifact file(s) and 0 other file(s)"
      ],
      "text/plain": [
       "<IPython.core.display.HTML object>"
      ]
     },
     "metadata": {},
     "output_type": "display_data"
    },
    {
     "data": {
      "text/html": [
       "Find logs at: <code>./wandb/run-20250309_055654-yust2dwi/logs</code>"
      ],
      "text/plain": [
       "<IPython.core.display.HTML object>"
      ]
     },
     "metadata": {},
     "output_type": "display_data"
    },
    {
     "name": "stderr",
     "output_type": "stream",
     "text": [
      "\u001b[34m\u001b[1mwandb\u001b[0m: Sweep Agent: Waiting for job.\n",
      "\u001b[34m\u001b[1mwandb\u001b[0m: Job received.\n",
      "\u001b[34m\u001b[1mwandb\u001b[0m: Agent Starting Run: stmqmgqx with config:\n",
      "\u001b[34m\u001b[1mwandb\u001b[0m: \tactivation: tanh\n",
      "\u001b[34m\u001b[1mwandb\u001b[0m: \tbatch_size: 16\n",
      "\u001b[34m\u001b[1mwandb\u001b[0m: \tepochs: 10\n",
      "\u001b[34m\u001b[1mwandb\u001b[0m: \thidden_layers: 4\n",
      "\u001b[34m\u001b[1mwandb\u001b[0m: \tlayer_size: 32\n",
      "\u001b[34m\u001b[1mwandb\u001b[0m: \tlearning_rate: 0.001\n",
      "\u001b[34m\u001b[1mwandb\u001b[0m: \toptimizer: adam\n",
      "\u001b[34m\u001b[1mwandb\u001b[0m: \tweight_decay: 0.5\n",
      "\u001b[34m\u001b[1mwandb\u001b[0m: \tweight_init: random\n"
     ]
    },
    {
     "data": {
      "text/html": [
       "Tracking run with wandb version 0.19.8"
      ],
      "text/plain": [
       "<IPython.core.display.HTML object>"
      ]
     },
     "metadata": {},
     "output_type": "display_data"
    },
    {
     "data": {
      "text/html": [
       "Run data is saved locally in <code>/Users/sathwikpentela/MTECH/DA6401_Assignment_1/wandb/run-20250309_055715-stmqmgqx</code>"
      ],
      "text/plain": [
       "<IPython.core.display.HTML object>"
      ]
     },
     "metadata": {},
     "output_type": "display_data"
    },
    {
     "data": {
      "text/html": [
       "Syncing run <strong><a href='https://wandb.ai/da24m017-indian-institute-of-technology-madras/DA6401_Assignment_1/runs/stmqmgqx' target=\"_blank\">morning-sweep-4</a></strong> to <a href='https://wandb.ai/da24m017-indian-institute-of-technology-madras/DA6401_Assignment_1' target=\"_blank\">Weights & Biases</a> (<a href='https://wandb.me/developer-guide' target=\"_blank\">docs</a>)<br>Sweep page: <a href='https://wandb.ai/da24m017-indian-institute-of-technology-madras/DA6401_Assignment_1/sweeps/ic4mfnl6' target=\"_blank\">https://wandb.ai/da24m017-indian-institute-of-technology-madras/DA6401_Assignment_1/sweeps/ic4mfnl6</a>"
      ],
      "text/plain": [
       "<IPython.core.display.HTML object>"
      ]
     },
     "metadata": {},
     "output_type": "display_data"
    },
    {
     "data": {
      "text/html": [
       " View project at <a href='https://wandb.ai/da24m017-indian-institute-of-technology-madras/DA6401_Assignment_1' target=\"_blank\">https://wandb.ai/da24m017-indian-institute-of-technology-madras/DA6401_Assignment_1</a>"
      ],
      "text/plain": [
       "<IPython.core.display.HTML object>"
      ]
     },
     "metadata": {},
     "output_type": "display_data"
    },
    {
     "data": {
      "text/html": [
       " View sweep at <a href='https://wandb.ai/da24m017-indian-institute-of-technology-madras/DA6401_Assignment_1/sweeps/ic4mfnl6' target=\"_blank\">https://wandb.ai/da24m017-indian-institute-of-technology-madras/DA6401_Assignment_1/sweeps/ic4mfnl6</a>"
      ],
      "text/plain": [
       "<IPython.core.display.HTML object>"
      ]
     },
     "metadata": {},
     "output_type": "display_data"
    },
    {
     "data": {
      "text/html": [
       " View run at <a href='https://wandb.ai/da24m017-indian-institute-of-technology-madras/DA6401_Assignment_1/runs/stmqmgqx' target=\"_blank\">https://wandb.ai/da24m017-indian-institute-of-technology-madras/DA6401_Assignment_1/runs/stmqmgqx</a>"
      ],
      "text/plain": [
       "<IPython.core.display.HTML object>"
      ]
     },
     "metadata": {},
     "output_type": "display_data"
    },
    {
     "name": "stdout",
     "output_type": "stream",
     "text": [
      "Epoch 1, Train Loss: 2.3012, Val Loss: 2.3028\n",
      "Epoch 2, Train Loss: 2.3012, Val Loss: 2.3027\n",
      "Epoch 3, Train Loss: 2.3012, Val Loss: 2.3027\n"
     ]
    },
    {
     "name": "stderr",
     "output_type": "stream",
     "text": [
      "/var/folders/97/64q5gb_55n5dk9c9nd8xzdw00000gn/T/ipykernel_38811/3661820967.py:20: RuntimeWarning: overflow encountered in exp\n",
      "  return 1 / (1 + np.exp(-x))\n"
     ]
    },
    {
     "name": "stdout",
     "output_type": "stream",
     "text": [
      "Epoch 4, Train Loss: 2.3011, Val Loss: 2.3027\n",
      "Epoch 5, Train Loss: 2.3011, Val Loss: 2.3027\n",
      "Epoch 6, Train Loss: 2.3011, Val Loss: 2.3027\n",
      "Epoch 7, Train Loss: 2.3011, Val Loss: 2.3027\n",
      "Epoch 8, Train Loss: 2.3011, Val Loss: 2.3027\n",
      "Epoch 9, Train Loss: 2.3011, Val Loss: 2.3027\n",
      "Epoch 10, Train Loss: 2.3011, Val Loss: 2.3027\n"
     ]
    },
    {
     "data": {
      "text/html": [],
      "text/plain": [
       "<IPython.core.display.HTML object>"
      ]
     },
     "metadata": {},
     "output_type": "display_data"
    },
    {
     "data": {
      "text/html": [
       "<br>    <style><br>        .wandb-row {<br>            display: flex;<br>            flex-direction: row;<br>            flex-wrap: wrap;<br>            justify-content: flex-start;<br>            width: 100%;<br>        }<br>        .wandb-col {<br>            display: flex;<br>            flex-direction: column;<br>            flex-basis: 100%;<br>            flex: 1;<br>            padding: 10px;<br>        }<br>    </style><br><div class=\"wandb-row\"><div class=\"wandb-col\"><h3>Run history:</h3><br/><table class=\"wandb\"><tr><td>epoch</td><td>▁▂▃▃▄▅▆▆▇█</td></tr><tr><td>train_loss</td><td>█▇▆▅▄▃▂▂▁▁</td></tr><tr><td>val_loss</td><td>█▆▄▃▃▂▂▂▁▁</td></tr></table><br/></div><div class=\"wandb-col\"><h3>Run summary:</h3><br/><table class=\"wandb\"><tr><td>epoch</td><td>10</td></tr><tr><td>train_loss</td><td>2.30106</td></tr><tr><td>val_loss</td><td>2.30268</td></tr></table><br/></div></div>"
      ],
      "text/plain": [
       "<IPython.core.display.HTML object>"
      ]
     },
     "metadata": {},
     "output_type": "display_data"
    },
    {
     "data": {
      "text/html": [
       " View run <strong style=\"color:#cdcd00\">morning-sweep-4</strong> at: <a href='https://wandb.ai/da24m017-indian-institute-of-technology-madras/DA6401_Assignment_1/runs/stmqmgqx' target=\"_blank\">https://wandb.ai/da24m017-indian-institute-of-technology-madras/DA6401_Assignment_1/runs/stmqmgqx</a><br> View project at: <a href='https://wandb.ai/da24m017-indian-institute-of-technology-madras/DA6401_Assignment_1' target=\"_blank\">https://wandb.ai/da24m017-indian-institute-of-technology-madras/DA6401_Assignment_1</a><br>Synced 5 W&B file(s), 0 media file(s), 0 artifact file(s) and 0 other file(s)"
      ],
      "text/plain": [
       "<IPython.core.display.HTML object>"
      ]
     },
     "metadata": {},
     "output_type": "display_data"
    },
    {
     "data": {
      "text/html": [
       "Find logs at: <code>./wandb/run-20250309_055715-stmqmgqx/logs</code>"
      ],
      "text/plain": [
       "<IPython.core.display.HTML object>"
      ]
     },
     "metadata": {},
     "output_type": "display_data"
    },
    {
     "name": "stderr",
     "output_type": "stream",
     "text": [
      "\u001b[34m\u001b[1mwandb\u001b[0m: Agent Starting Run: 7iuwgtdh with config:\n",
      "\u001b[34m\u001b[1mwandb\u001b[0m: \tactivation: relu\n",
      "\u001b[34m\u001b[1mwandb\u001b[0m: \tbatch_size: 16\n",
      "\u001b[34m\u001b[1mwandb\u001b[0m: \tepochs: 5\n",
      "\u001b[34m\u001b[1mwandb\u001b[0m: \thidden_layers: 5\n",
      "\u001b[34m\u001b[1mwandb\u001b[0m: \tlayer_size: 128\n",
      "\u001b[34m\u001b[1mwandb\u001b[0m: \tlearning_rate: 0.0001\n",
      "\u001b[34m\u001b[1mwandb\u001b[0m: \toptimizer: sgd\n",
      "\u001b[34m\u001b[1mwandb\u001b[0m: \tweight_decay: 0.5\n",
      "\u001b[34m\u001b[1mwandb\u001b[0m: \tweight_init: random\n"
     ]
    },
    {
     "data": {
      "text/html": [
       "Tracking run with wandb version 0.19.8"
      ],
      "text/plain": [
       "<IPython.core.display.HTML object>"
      ]
     },
     "metadata": {},
     "output_type": "display_data"
    },
    {
     "data": {
      "text/html": [
       "Run data is saved locally in <code>/Users/sathwikpentela/MTECH/DA6401_Assignment_1/wandb/run-20250309_055732-7iuwgtdh</code>"
      ],
      "text/plain": [
       "<IPython.core.display.HTML object>"
      ]
     },
     "metadata": {},
     "output_type": "display_data"
    },
    {
     "data": {
      "text/html": [
       "Syncing run <strong><a href='https://wandb.ai/da24m017-indian-institute-of-technology-madras/DA6401_Assignment_1/runs/7iuwgtdh' target=\"_blank\">toasty-sweep-5</a></strong> to <a href='https://wandb.ai/da24m017-indian-institute-of-technology-madras/DA6401_Assignment_1' target=\"_blank\">Weights & Biases</a> (<a href='https://wandb.me/developer-guide' target=\"_blank\">docs</a>)<br>Sweep page: <a href='https://wandb.ai/da24m017-indian-institute-of-technology-madras/DA6401_Assignment_1/sweeps/ic4mfnl6' target=\"_blank\">https://wandb.ai/da24m017-indian-institute-of-technology-madras/DA6401_Assignment_1/sweeps/ic4mfnl6</a>"
      ],
      "text/plain": [
       "<IPython.core.display.HTML object>"
      ]
     },
     "metadata": {},
     "output_type": "display_data"
    },
    {
     "data": {
      "text/html": [
       " View project at <a href='https://wandb.ai/da24m017-indian-institute-of-technology-madras/DA6401_Assignment_1' target=\"_blank\">https://wandb.ai/da24m017-indian-institute-of-technology-madras/DA6401_Assignment_1</a>"
      ],
      "text/plain": [
       "<IPython.core.display.HTML object>"
      ]
     },
     "metadata": {},
     "output_type": "display_data"
    },
    {
     "data": {
      "text/html": [
       " View sweep at <a href='https://wandb.ai/da24m017-indian-institute-of-technology-madras/DA6401_Assignment_1/sweeps/ic4mfnl6' target=\"_blank\">https://wandb.ai/da24m017-indian-institute-of-technology-madras/DA6401_Assignment_1/sweeps/ic4mfnl6</a>"
      ],
      "text/plain": [
       "<IPython.core.display.HTML object>"
      ]
     },
     "metadata": {},
     "output_type": "display_data"
    },
    {
     "data": {
      "text/html": [
       " View run at <a href='https://wandb.ai/da24m017-indian-institute-of-technology-madras/DA6401_Assignment_1/runs/7iuwgtdh' target=\"_blank\">https://wandb.ai/da24m017-indian-institute-of-technology-madras/DA6401_Assignment_1/runs/7iuwgtdh</a>"
      ],
      "text/plain": [
       "<IPython.core.display.HTML object>"
      ]
     },
     "metadata": {},
     "output_type": "display_data"
    },
    {
     "name": "stdout",
     "output_type": "stream",
     "text": [
      "Epoch 1, Train Loss: 2.3023, Val Loss: 2.3027\n",
      "Epoch 2, Train Loss: 2.3021, Val Loss: 2.3029\n",
      "Epoch 3, Train Loss: 2.3020, Val Loss: 2.3030\n",
      "Epoch 4, Train Loss: 2.3020, Val Loss: 2.3032\n",
      "Epoch 5, Train Loss: 2.3020, Val Loss: 2.3033\n"
     ]
    },
    {
     "data": {
      "text/html": [],
      "text/plain": [
       "<IPython.core.display.HTML object>"
      ]
     },
     "metadata": {},
     "output_type": "display_data"
    },
    {
     "data": {
      "text/html": [
       "<br>    <style><br>        .wandb-row {<br>            display: flex;<br>            flex-direction: row;<br>            flex-wrap: wrap;<br>            justify-content: flex-start;<br>            width: 100%;<br>        }<br>        .wandb-col {<br>            display: flex;<br>            flex-direction: column;<br>            flex-basis: 100%;<br>            flex: 1;<br>            padding: 10px;<br>        }<br>    </style><br><div class=\"wandb-row\"><div class=\"wandb-col\"><h3>Run history:</h3><br/><table class=\"wandb\"><tr><td>epoch</td><td>▁▃▅▆█</td></tr><tr><td>train_loss</td><td>█▄▂▁▁</td></tr><tr><td>val_loss</td><td>▁▃▅▇█</td></tr></table><br/></div><div class=\"wandb-col\"><h3>Run summary:</h3><br/><table class=\"wandb\"><tr><td>epoch</td><td>5</td></tr><tr><td>train_loss</td><td>2.30201</td></tr><tr><td>val_loss</td><td>2.30329</td></tr></table><br/></div></div>"
      ],
      "text/plain": [
       "<IPython.core.display.HTML object>"
      ]
     },
     "metadata": {},
     "output_type": "display_data"
    },
    {
     "data": {
      "text/html": [
       " View run <strong style=\"color:#cdcd00\">toasty-sweep-5</strong> at: <a href='https://wandb.ai/da24m017-indian-institute-of-technology-madras/DA6401_Assignment_1/runs/7iuwgtdh' target=\"_blank\">https://wandb.ai/da24m017-indian-institute-of-technology-madras/DA6401_Assignment_1/runs/7iuwgtdh</a><br> View project at: <a href='https://wandb.ai/da24m017-indian-institute-of-technology-madras/DA6401_Assignment_1' target=\"_blank\">https://wandb.ai/da24m017-indian-institute-of-technology-madras/DA6401_Assignment_1</a><br>Synced 5 W&B file(s), 0 media file(s), 0 artifact file(s) and 0 other file(s)"
      ],
      "text/plain": [
       "<IPython.core.display.HTML object>"
      ]
     },
     "metadata": {},
     "output_type": "display_data"
    },
    {
     "data": {
      "text/html": [
       "Find logs at: <code>./wandb/run-20250309_055732-7iuwgtdh/logs</code>"
      ],
      "text/plain": [
       "<IPython.core.display.HTML object>"
      ]
     },
     "metadata": {},
     "output_type": "display_data"
    },
    {
     "name": "stderr",
     "output_type": "stream",
     "text": [
      "\u001b[34m\u001b[1mwandb\u001b[0m: Sweep Agent: Waiting for job.\n",
      "\u001b[34m\u001b[1mwandb\u001b[0m: Job received.\n",
      "\u001b[34m\u001b[1mwandb\u001b[0m: Agent Starting Run: gawy5fqv with config:\n",
      "\u001b[34m\u001b[1mwandb\u001b[0m: \tactivation: tanh\n",
      "\u001b[34m\u001b[1mwandb\u001b[0m: \tbatch_size: 64\n",
      "\u001b[34m\u001b[1mwandb\u001b[0m: \tepochs: 10\n",
      "\u001b[34m\u001b[1mwandb\u001b[0m: \thidden_layers: 4\n",
      "\u001b[34m\u001b[1mwandb\u001b[0m: \tlayer_size: 64\n",
      "\u001b[34m\u001b[1mwandb\u001b[0m: \tlearning_rate: 0.0001\n",
      "\u001b[34m\u001b[1mwandb\u001b[0m: \toptimizer: sgd\n",
      "\u001b[34m\u001b[1mwandb\u001b[0m: \tweight_decay: 0.5\n",
      "\u001b[34m\u001b[1mwandb\u001b[0m: \tweight_init: xavier\n"
     ]
    },
    {
     "data": {
      "text/html": [
       "Tracking run with wandb version 0.19.8"
      ],
      "text/plain": [
       "<IPython.core.display.HTML object>"
      ]
     },
     "metadata": {},
     "output_type": "display_data"
    },
    {
     "data": {
      "text/html": [
       "Run data is saved locally in <code>/Users/sathwikpentela/MTECH/DA6401_Assignment_1/wandb/run-20250309_055753-gawy5fqv</code>"
      ],
      "text/plain": [
       "<IPython.core.display.HTML object>"
      ]
     },
     "metadata": {},
     "output_type": "display_data"
    },
    {
     "data": {
      "text/html": [
       "Syncing run <strong><a href='https://wandb.ai/da24m017-indian-institute-of-technology-madras/DA6401_Assignment_1/runs/gawy5fqv' target=\"_blank\">jumping-sweep-6</a></strong> to <a href='https://wandb.ai/da24m017-indian-institute-of-technology-madras/DA6401_Assignment_1' target=\"_blank\">Weights & Biases</a> (<a href='https://wandb.me/developer-guide' target=\"_blank\">docs</a>)<br>Sweep page: <a href='https://wandb.ai/da24m017-indian-institute-of-technology-madras/DA6401_Assignment_1/sweeps/ic4mfnl6' target=\"_blank\">https://wandb.ai/da24m017-indian-institute-of-technology-madras/DA6401_Assignment_1/sweeps/ic4mfnl6</a>"
      ],
      "text/plain": [
       "<IPython.core.display.HTML object>"
      ]
     },
     "metadata": {},
     "output_type": "display_data"
    },
    {
     "data": {
      "text/html": [
       " View project at <a href='https://wandb.ai/da24m017-indian-institute-of-technology-madras/DA6401_Assignment_1' target=\"_blank\">https://wandb.ai/da24m017-indian-institute-of-technology-madras/DA6401_Assignment_1</a>"
      ],
      "text/plain": [
       "<IPython.core.display.HTML object>"
      ]
     },
     "metadata": {},
     "output_type": "display_data"
    },
    {
     "data": {
      "text/html": [
       " View sweep at <a href='https://wandb.ai/da24m017-indian-institute-of-technology-madras/DA6401_Assignment_1/sweeps/ic4mfnl6' target=\"_blank\">https://wandb.ai/da24m017-indian-institute-of-technology-madras/DA6401_Assignment_1/sweeps/ic4mfnl6</a>"
      ],
      "text/plain": [
       "<IPython.core.display.HTML object>"
      ]
     },
     "metadata": {},
     "output_type": "display_data"
    },
    {
     "data": {
      "text/html": [
       " View run at <a href='https://wandb.ai/da24m017-indian-institute-of-technology-madras/DA6401_Assignment_1/runs/gawy5fqv' target=\"_blank\">https://wandb.ai/da24m017-indian-institute-of-technology-madras/DA6401_Assignment_1/runs/gawy5fqv</a>"
      ],
      "text/plain": [
       "<IPython.core.display.HTML object>"
      ]
     },
     "metadata": {},
     "output_type": "display_data"
    },
    {
     "name": "stdout",
     "output_type": "stream",
     "text": [
      "Epoch 1, Train Loss: 2.3030, Val Loss: 2.3026\n",
      "Epoch 2, Train Loss: 2.3028, Val Loss: 2.3026\n",
      "Epoch 3, Train Loss: 2.3027, Val Loss: 2.3026\n",
      "Epoch 4, Train Loss: 2.3027, Val Loss: 2.3026\n",
      "Epoch 5, Train Loss: 2.3026, Val Loss: 2.3026\n",
      "Epoch 6, Train Loss: 2.3026, Val Loss: 2.3026\n",
      "Epoch 7, Train Loss: 2.3026, Val Loss: 2.3026\n",
      "Epoch 8, Train Loss: 2.3026, Val Loss: 2.3026\n",
      "Epoch 9, Train Loss: 2.3026, Val Loss: 2.3026\n",
      "Epoch 10, Train Loss: 2.3026, Val Loss: 2.3026\n"
     ]
    },
    {
     "data": {
      "text/html": [],
      "text/plain": [
       "<IPython.core.display.HTML object>"
      ]
     },
     "metadata": {},
     "output_type": "display_data"
    },
    {
     "data": {
      "text/html": [
       "<br>    <style><br>        .wandb-row {<br>            display: flex;<br>            flex-direction: row;<br>            flex-wrap: wrap;<br>            justify-content: flex-start;<br>            width: 100%;<br>        }<br>        .wandb-col {<br>            display: flex;<br>            flex-direction: column;<br>            flex-basis: 100%;<br>            flex: 1;<br>            padding: 10px;<br>        }<br>    </style><br><div class=\"wandb-row\"><div class=\"wandb-col\"><h3>Run history:</h3><br/><table class=\"wandb\"><tr><td>epoch</td><td>▁▂▃▃▄▅▆▆▇█</td></tr><tr><td>train_loss</td><td>█▅▄▃▂▂▁▁▁▁</td></tr><tr><td>val_loss</td><td>▁▃▄▅▆▇▇▇██</td></tr></table><br/></div><div class=\"wandb-col\"><h3>Run summary:</h3><br/><table class=\"wandb\"><tr><td>epoch</td><td>10</td></tr><tr><td>train_loss</td><td>2.30255</td></tr><tr><td>val_loss</td><td>2.30259</td></tr></table><br/></div></div>"
      ],
      "text/plain": [
       "<IPython.core.display.HTML object>"
      ]
     },
     "metadata": {},
     "output_type": "display_data"
    },
    {
     "data": {
      "text/html": [
       " View run <strong style=\"color:#cdcd00\">jumping-sweep-6</strong> at: <a href='https://wandb.ai/da24m017-indian-institute-of-technology-madras/DA6401_Assignment_1/runs/gawy5fqv' target=\"_blank\">https://wandb.ai/da24m017-indian-institute-of-technology-madras/DA6401_Assignment_1/runs/gawy5fqv</a><br> View project at: <a href='https://wandb.ai/da24m017-indian-institute-of-technology-madras/DA6401_Assignment_1' target=\"_blank\">https://wandb.ai/da24m017-indian-institute-of-technology-madras/DA6401_Assignment_1</a><br>Synced 5 W&B file(s), 0 media file(s), 0 artifact file(s) and 0 other file(s)"
      ],
      "text/plain": [
       "<IPython.core.display.HTML object>"
      ]
     },
     "metadata": {},
     "output_type": "display_data"
    },
    {
     "data": {
      "text/html": [
       "Find logs at: <code>./wandb/run-20250309_055753-gawy5fqv/logs</code>"
      ],
      "text/plain": [
       "<IPython.core.display.HTML object>"
      ]
     },
     "metadata": {},
     "output_type": "display_data"
    },
    {
     "name": "stderr",
     "output_type": "stream",
     "text": [
      "\u001b[34m\u001b[1mwandb\u001b[0m: Agent Starting Run: 90fdfk8i with config:\n",
      "\u001b[34m\u001b[1mwandb\u001b[0m: \tactivation: relu\n",
      "\u001b[34m\u001b[1mwandb\u001b[0m: \tbatch_size: 64\n",
      "\u001b[34m\u001b[1mwandb\u001b[0m: \tepochs: 10\n",
      "\u001b[34m\u001b[1mwandb\u001b[0m: \thidden_layers: 4\n",
      "\u001b[34m\u001b[1mwandb\u001b[0m: \tlayer_size: 64\n",
      "\u001b[34m\u001b[1mwandb\u001b[0m: \tlearning_rate: 0.0001\n",
      "\u001b[34m\u001b[1mwandb\u001b[0m: \toptimizer: rmsprop\n",
      "\u001b[34m\u001b[1mwandb\u001b[0m: \tweight_decay: 0.5\n",
      "\u001b[34m\u001b[1mwandb\u001b[0m: \tweight_init: xavier\n"
     ]
    },
    {
     "data": {
      "text/html": [
       "Tracking run with wandb version 0.19.8"
      ],
      "text/plain": [
       "<IPython.core.display.HTML object>"
      ]
     },
     "metadata": {},
     "output_type": "display_data"
    },
    {
     "data": {
      "text/html": [
       "Run data is saved locally in <code>/Users/sathwikpentela/MTECH/DA6401_Assignment_1/wandb/run-20250309_055805-90fdfk8i</code>"
      ],
      "text/plain": [
       "<IPython.core.display.HTML object>"
      ]
     },
     "metadata": {},
     "output_type": "display_data"
    },
    {
     "data": {
      "text/html": [
       "Syncing run <strong><a href='https://wandb.ai/da24m017-indian-institute-of-technology-madras/DA6401_Assignment_1/runs/90fdfk8i' target=\"_blank\">lyric-sweep-7</a></strong> to <a href='https://wandb.ai/da24m017-indian-institute-of-technology-madras/DA6401_Assignment_1' target=\"_blank\">Weights & Biases</a> (<a href='https://wandb.me/developer-guide' target=\"_blank\">docs</a>)<br>Sweep page: <a href='https://wandb.ai/da24m017-indian-institute-of-technology-madras/DA6401_Assignment_1/sweeps/ic4mfnl6' target=\"_blank\">https://wandb.ai/da24m017-indian-institute-of-technology-madras/DA6401_Assignment_1/sweeps/ic4mfnl6</a>"
      ],
      "text/plain": [
       "<IPython.core.display.HTML object>"
      ]
     },
     "metadata": {},
     "output_type": "display_data"
    },
    {
     "data": {
      "text/html": [
       " View project at <a href='https://wandb.ai/da24m017-indian-institute-of-technology-madras/DA6401_Assignment_1' target=\"_blank\">https://wandb.ai/da24m017-indian-institute-of-technology-madras/DA6401_Assignment_1</a>"
      ],
      "text/plain": [
       "<IPython.core.display.HTML object>"
      ]
     },
     "metadata": {},
     "output_type": "display_data"
    },
    {
     "data": {
      "text/html": [
       " View sweep at <a href='https://wandb.ai/da24m017-indian-institute-of-technology-madras/DA6401_Assignment_1/sweeps/ic4mfnl6' target=\"_blank\">https://wandb.ai/da24m017-indian-institute-of-technology-madras/DA6401_Assignment_1/sweeps/ic4mfnl6</a>"
      ],
      "text/plain": [
       "<IPython.core.display.HTML object>"
      ]
     },
     "metadata": {},
     "output_type": "display_data"
    },
    {
     "data": {
      "text/html": [
       " View run at <a href='https://wandb.ai/da24m017-indian-institute-of-technology-madras/DA6401_Assignment_1/runs/90fdfk8i' target=\"_blank\">https://wandb.ai/da24m017-indian-institute-of-technology-madras/DA6401_Assignment_1/runs/90fdfk8i</a>"
      ],
      "text/plain": [
       "<IPython.core.display.HTML object>"
      ]
     },
     "metadata": {},
     "output_type": "display_data"
    },
    {
     "name": "stdout",
     "output_type": "stream",
     "text": [
      "Epoch 1, Train Loss: 2.2104, Val Loss: 2.2045\n",
      "Epoch 2, Train Loss: 2.1250, Val Loss: 2.0571\n",
      "Epoch 3, Train Loss: 2.0532, Val Loss: 1.9832\n",
      "Epoch 4, Train Loss: 1.9677, Val Loss: 1.9125\n",
      "Epoch 5, Train Loss: 1.9318, Val Loss: 1.8703\n",
      "Epoch 6, Train Loss: 1.9126, Val Loss: 1.8474\n",
      "Epoch 7, Train Loss: 1.8997, Val Loss: 1.8324\n",
      "Epoch 8, Train Loss: 1.8888, Val Loss: 1.8190\n",
      "Epoch 9, Train Loss: 1.8827, Val Loss: 1.8106\n",
      "Epoch 10, Train Loss: 1.8749, Val Loss: 1.8027\n"
     ]
    },
    {
     "data": {
      "text/html": [],
      "text/plain": [
       "<IPython.core.display.HTML object>"
      ]
     },
     "metadata": {},
     "output_type": "display_data"
    },
    {
     "data": {
      "text/html": [
       "<br>    <style><br>        .wandb-row {<br>            display: flex;<br>            flex-direction: row;<br>            flex-wrap: wrap;<br>            justify-content: flex-start;<br>            width: 100%;<br>        }<br>        .wandb-col {<br>            display: flex;<br>            flex-direction: column;<br>            flex-basis: 100%;<br>            flex: 1;<br>            padding: 10px;<br>        }<br>    </style><br><div class=\"wandb-row\"><div class=\"wandb-col\"><h3>Run history:</h3><br/><table class=\"wandb\"><tr><td>epoch</td><td>▁▂▃▃▄▅▆▆▇█</td></tr><tr><td>train_loss</td><td>█▆▅▃▂▂▂▁▁▁</td></tr><tr><td>val_loss</td><td>█▅▄▃▂▂▂▁▁▁</td></tr></table><br/></div><div class=\"wandb-col\"><h3>Run summary:</h3><br/><table class=\"wandb\"><tr><td>epoch</td><td>10</td></tr><tr><td>train_loss</td><td>1.87492</td></tr><tr><td>val_loss</td><td>1.80272</td></tr></table><br/></div></div>"
      ],
      "text/plain": [
       "<IPython.core.display.HTML object>"
      ]
     },
     "metadata": {},
     "output_type": "display_data"
    },
    {
     "data": {
      "text/html": [
       " View run <strong style=\"color:#cdcd00\">lyric-sweep-7</strong> at: <a href='https://wandb.ai/da24m017-indian-institute-of-technology-madras/DA6401_Assignment_1/runs/90fdfk8i' target=\"_blank\">https://wandb.ai/da24m017-indian-institute-of-technology-madras/DA6401_Assignment_1/runs/90fdfk8i</a><br> View project at: <a href='https://wandb.ai/da24m017-indian-institute-of-technology-madras/DA6401_Assignment_1' target=\"_blank\">https://wandb.ai/da24m017-indian-institute-of-technology-madras/DA6401_Assignment_1</a><br>Synced 5 W&B file(s), 0 media file(s), 0 artifact file(s) and 0 other file(s)"
      ],
      "text/plain": [
       "<IPython.core.display.HTML object>"
      ]
     },
     "metadata": {},
     "output_type": "display_data"
    },
    {
     "data": {
      "text/html": [
       "Find logs at: <code>./wandb/run-20250309_055805-90fdfk8i/logs</code>"
      ],
      "text/plain": [
       "<IPython.core.display.HTML object>"
      ]
     },
     "metadata": {},
     "output_type": "display_data"
    },
    {
     "name": "stderr",
     "output_type": "stream",
     "text": [
      "\u001b[34m\u001b[1mwandb\u001b[0m: Agent Starting Run: h2xna525 with config:\n",
      "\u001b[34m\u001b[1mwandb\u001b[0m: \tactivation: relu\n",
      "\u001b[34m\u001b[1mwandb\u001b[0m: \tbatch_size: 32\n",
      "\u001b[34m\u001b[1mwandb\u001b[0m: \tepochs: 10\n",
      "\u001b[34m\u001b[1mwandb\u001b[0m: \thidden_layers: 4\n",
      "\u001b[34m\u001b[1mwandb\u001b[0m: \tlayer_size: 128\n",
      "\u001b[34m\u001b[1mwandb\u001b[0m: \tlearning_rate: 0.0001\n",
      "\u001b[34m\u001b[1mwandb\u001b[0m: \toptimizer: adam\n",
      "\u001b[34m\u001b[1mwandb\u001b[0m: \tweight_decay: 0.0005\n",
      "\u001b[34m\u001b[1mwandb\u001b[0m: \tweight_init: xavier\n"
     ]
    },
    {
     "data": {
      "text/html": [
       "Tracking run with wandb version 0.19.8"
      ],
      "text/plain": [
       "<IPython.core.display.HTML object>"
      ]
     },
     "metadata": {},
     "output_type": "display_data"
    },
    {
     "data": {
      "text/html": [
       "Run data is saved locally in <code>/Users/sathwikpentela/MTECH/DA6401_Assignment_1/wandb/run-20250309_055815-h2xna525</code>"
      ],
      "text/plain": [
       "<IPython.core.display.HTML object>"
      ]
     },
     "metadata": {},
     "output_type": "display_data"
    },
    {
     "data": {
      "text/html": [
       "Syncing run <strong><a href='https://wandb.ai/da24m017-indian-institute-of-technology-madras/DA6401_Assignment_1/runs/h2xna525' target=\"_blank\">deep-sweep-8</a></strong> to <a href='https://wandb.ai/da24m017-indian-institute-of-technology-madras/DA6401_Assignment_1' target=\"_blank\">Weights & Biases</a> (<a href='https://wandb.me/developer-guide' target=\"_blank\">docs</a>)<br>Sweep page: <a href='https://wandb.ai/da24m017-indian-institute-of-technology-madras/DA6401_Assignment_1/sweeps/ic4mfnl6' target=\"_blank\">https://wandb.ai/da24m017-indian-institute-of-technology-madras/DA6401_Assignment_1/sweeps/ic4mfnl6</a>"
      ],
      "text/plain": [
       "<IPython.core.display.HTML object>"
      ]
     },
     "metadata": {},
     "output_type": "display_data"
    },
    {
     "data": {
      "text/html": [
       " View project at <a href='https://wandb.ai/da24m017-indian-institute-of-technology-madras/DA6401_Assignment_1' target=\"_blank\">https://wandb.ai/da24m017-indian-institute-of-technology-madras/DA6401_Assignment_1</a>"
      ],
      "text/plain": [
       "<IPython.core.display.HTML object>"
      ]
     },
     "metadata": {},
     "output_type": "display_data"
    },
    {
     "data": {
      "text/html": [
       " View sweep at <a href='https://wandb.ai/da24m017-indian-institute-of-technology-madras/DA6401_Assignment_1/sweeps/ic4mfnl6' target=\"_blank\">https://wandb.ai/da24m017-indian-institute-of-technology-madras/DA6401_Assignment_1/sweeps/ic4mfnl6</a>"
      ],
      "text/plain": [
       "<IPython.core.display.HTML object>"
      ]
     },
     "metadata": {},
     "output_type": "display_data"
    },
    {
     "data": {
      "text/html": [
       " View run at <a href='https://wandb.ai/da24m017-indian-institute-of-technology-madras/DA6401_Assignment_1/runs/h2xna525' target=\"_blank\">https://wandb.ai/da24m017-indian-institute-of-technology-madras/DA6401_Assignment_1/runs/h2xna525</a>"
      ],
      "text/plain": [
       "<IPython.core.display.HTML object>"
      ]
     },
     "metadata": {},
     "output_type": "display_data"
    },
    {
     "name": "stdout",
     "output_type": "stream",
     "text": [
      "Epoch 1, Train Loss: 1.9116, Val Loss: 1.8862\n",
      "Epoch 2, Train Loss: 1.8638, Val Loss: 1.8303\n",
      "Epoch 3, Train Loss: 1.8519, Val Loss: 1.8142\n",
      "Epoch 4, Train Loss: 1.8309, Val Loss: 1.7916\n",
      "Epoch 5, Train Loss: 1.8206, Val Loss: 1.7765\n",
      "Epoch 6, Train Loss: 1.8061, Val Loss: 1.7618\n",
      "Epoch 7, Train Loss: 1.8000, Val Loss: 1.7538\n",
      "Epoch 8, Train Loss: 1.7933, Val Loss: 1.7474\n",
      "Epoch 9, Train Loss: 1.7924, Val Loss: 1.7452\n",
      "Epoch 10, Train Loss: 1.7866, Val Loss: 1.7399\n"
     ]
    },
    {
     "data": {
      "text/html": [],
      "text/plain": [
       "<IPython.core.display.HTML object>"
      ]
     },
     "metadata": {},
     "output_type": "display_data"
    },
    {
     "data": {
      "text/html": [
       "<br>    <style><br>        .wandb-row {<br>            display: flex;<br>            flex-direction: row;<br>            flex-wrap: wrap;<br>            justify-content: flex-start;<br>            width: 100%;<br>        }<br>        .wandb-col {<br>            display: flex;<br>            flex-direction: column;<br>            flex-basis: 100%;<br>            flex: 1;<br>            padding: 10px;<br>        }<br>    </style><br><div class=\"wandb-row\"><div class=\"wandb-col\"><h3>Run history:</h3><br/><table class=\"wandb\"><tr><td>epoch</td><td>▁▂▃▃▄▅▆▆▇█</td></tr><tr><td>train_loss</td><td>█▅▅▃▃▂▂▁▁▁</td></tr><tr><td>val_loss</td><td>█▅▅▃▃▂▂▁▁▁</td></tr></table><br/></div><div class=\"wandb-col\"><h3>Run summary:</h3><br/><table class=\"wandb\"><tr><td>epoch</td><td>10</td></tr><tr><td>train_loss</td><td>1.7866</td></tr><tr><td>val_loss</td><td>1.73995</td></tr></table><br/></div></div>"
      ],
      "text/plain": [
       "<IPython.core.display.HTML object>"
      ]
     },
     "metadata": {},
     "output_type": "display_data"
    },
    {
     "data": {
      "text/html": [
       " View run <strong style=\"color:#cdcd00\">deep-sweep-8</strong> at: <a href='https://wandb.ai/da24m017-indian-institute-of-technology-madras/DA6401_Assignment_1/runs/h2xna525' target=\"_blank\">https://wandb.ai/da24m017-indian-institute-of-technology-madras/DA6401_Assignment_1/runs/h2xna525</a><br> View project at: <a href='https://wandb.ai/da24m017-indian-institute-of-technology-madras/DA6401_Assignment_1' target=\"_blank\">https://wandb.ai/da24m017-indian-institute-of-technology-madras/DA6401_Assignment_1</a><br>Synced 5 W&B file(s), 0 media file(s), 0 artifact file(s) and 0 other file(s)"
      ],
      "text/plain": [
       "<IPython.core.display.HTML object>"
      ]
     },
     "metadata": {},
     "output_type": "display_data"
    },
    {
     "data": {
      "text/html": [
       "Find logs at: <code>./wandb/run-20250309_055815-h2xna525/logs</code>"
      ],
      "text/plain": [
       "<IPython.core.display.HTML object>"
      ]
     },
     "metadata": {},
     "output_type": "display_data"
    },
    {
     "name": "stderr",
     "output_type": "stream",
     "text": [
      "\u001b[34m\u001b[1mwandb\u001b[0m: Sweep Agent: Waiting for job.\n",
      "\u001b[34m\u001b[1mwandb\u001b[0m: Job received.\n",
      "\u001b[34m\u001b[1mwandb\u001b[0m: Agent Starting Run: ybqzqbrk with config:\n",
      "\u001b[34m\u001b[1mwandb\u001b[0m: \tactivation: relu\n",
      "\u001b[34m\u001b[1mwandb\u001b[0m: \tbatch_size: 32\n",
      "\u001b[34m\u001b[1mwandb\u001b[0m: \tepochs: 10\n",
      "\u001b[34m\u001b[1mwandb\u001b[0m: \thidden_layers: 5\n",
      "\u001b[34m\u001b[1mwandb\u001b[0m: \tlayer_size: 128\n",
      "\u001b[34m\u001b[1mwandb\u001b[0m: \tlearning_rate: 0.0001\n",
      "\u001b[34m\u001b[1mwandb\u001b[0m: \toptimizer: adam\n",
      "\u001b[34m\u001b[1mwandb\u001b[0m: \tweight_decay: 0.5\n",
      "\u001b[34m\u001b[1mwandb\u001b[0m: \tweight_init: xavier\n"
     ]
    },
    {
     "data": {
      "text/html": [
       "Tracking run with wandb version 0.19.8"
      ],
      "text/plain": [
       "<IPython.core.display.HTML object>"
      ]
     },
     "metadata": {},
     "output_type": "display_data"
    },
    {
     "data": {
      "text/html": [
       "Run data is saved locally in <code>/Users/sathwikpentela/MTECH/DA6401_Assignment_1/wandb/run-20250309_055848-ybqzqbrk</code>"
      ],
      "text/plain": [
       "<IPython.core.display.HTML object>"
      ]
     },
     "metadata": {},
     "output_type": "display_data"
    },
    {
     "data": {
      "text/html": [
       "Syncing run <strong><a href='https://wandb.ai/da24m017-indian-institute-of-technology-madras/DA6401_Assignment_1/runs/ybqzqbrk' target=\"_blank\">worldly-sweep-9</a></strong> to <a href='https://wandb.ai/da24m017-indian-institute-of-technology-madras/DA6401_Assignment_1' target=\"_blank\">Weights & Biases</a> (<a href='https://wandb.me/developer-guide' target=\"_blank\">docs</a>)<br>Sweep page: <a href='https://wandb.ai/da24m017-indian-institute-of-technology-madras/DA6401_Assignment_1/sweeps/ic4mfnl6' target=\"_blank\">https://wandb.ai/da24m017-indian-institute-of-technology-madras/DA6401_Assignment_1/sweeps/ic4mfnl6</a>"
      ],
      "text/plain": [
       "<IPython.core.display.HTML object>"
      ]
     },
     "metadata": {},
     "output_type": "display_data"
    },
    {
     "data": {
      "text/html": [
       " View project at <a href='https://wandb.ai/da24m017-indian-institute-of-technology-madras/DA6401_Assignment_1' target=\"_blank\">https://wandb.ai/da24m017-indian-institute-of-technology-madras/DA6401_Assignment_1</a>"
      ],
      "text/plain": [
       "<IPython.core.display.HTML object>"
      ]
     },
     "metadata": {},
     "output_type": "display_data"
    },
    {
     "data": {
      "text/html": [
       " View sweep at <a href='https://wandb.ai/da24m017-indian-institute-of-technology-madras/DA6401_Assignment_1/sweeps/ic4mfnl6' target=\"_blank\">https://wandb.ai/da24m017-indian-institute-of-technology-madras/DA6401_Assignment_1/sweeps/ic4mfnl6</a>"
      ],
      "text/plain": [
       "<IPython.core.display.HTML object>"
      ]
     },
     "metadata": {},
     "output_type": "display_data"
    },
    {
     "data": {
      "text/html": [
       " View run at <a href='https://wandb.ai/da24m017-indian-institute-of-technology-madras/DA6401_Assignment_1/runs/ybqzqbrk' target=\"_blank\">https://wandb.ai/da24m017-indian-institute-of-technology-madras/DA6401_Assignment_1/runs/ybqzqbrk</a>"
      ],
      "text/plain": [
       "<IPython.core.display.HTML object>"
      ]
     },
     "metadata": {},
     "output_type": "display_data"
    },
    {
     "name": "stdout",
     "output_type": "stream",
     "text": [
      "Epoch 1, Train Loss: 1.9546, Val Loss: 1.9209\n",
      "Epoch 2, Train Loss: 1.9233, Val Loss: 1.8820\n",
      "Epoch 3, Train Loss: 1.8983, Val Loss: 1.8464\n",
      "Epoch 4, Train Loss: 1.8689, Val Loss: 1.8153\n",
      "Epoch 5, Train Loss: 1.8574, Val Loss: 1.7944\n",
      "Epoch 6, Train Loss: 1.8568, Val Loss: 1.7845\n",
      "Epoch 7, Train Loss: 1.8503, Val Loss: 1.7742\n",
      "Epoch 8, Train Loss: 1.8231, Val Loss: 1.7700\n",
      "Epoch 9, Train Loss: 1.8059, Val Loss: 1.7638\n",
      "Epoch 10, Train Loss: 1.7850, Val Loss: 1.7531\n"
     ]
    },
    {
     "data": {
      "text/html": [],
      "text/plain": [
       "<IPython.core.display.HTML object>"
      ]
     },
     "metadata": {},
     "output_type": "display_data"
    },
    {
     "data": {
      "text/html": [
       "<br>    <style><br>        .wandb-row {<br>            display: flex;<br>            flex-direction: row;<br>            flex-wrap: wrap;<br>            justify-content: flex-start;<br>            width: 100%;<br>        }<br>        .wandb-col {<br>            display: flex;<br>            flex-direction: column;<br>            flex-basis: 100%;<br>            flex: 1;<br>            padding: 10px;<br>        }<br>    </style><br><div class=\"wandb-row\"><div class=\"wandb-col\"><h3>Run history:</h3><br/><table class=\"wandb\"><tr><td>epoch</td><td>▁▂▃▃▄▅▆▆▇█</td></tr><tr><td>train_loss</td><td>█▇▆▄▄▄▄▃▂▁</td></tr><tr><td>val_loss</td><td>█▆▅▄▃▂▂▂▁▁</td></tr></table><br/></div><div class=\"wandb-col\"><h3>Run summary:</h3><br/><table class=\"wandb\"><tr><td>epoch</td><td>10</td></tr><tr><td>train_loss</td><td>1.78502</td></tr><tr><td>val_loss</td><td>1.75306</td></tr></table><br/></div></div>"
      ],
      "text/plain": [
       "<IPython.core.display.HTML object>"
      ]
     },
     "metadata": {},
     "output_type": "display_data"
    },
    {
     "data": {
      "text/html": [
       " View run <strong style=\"color:#cdcd00\">worldly-sweep-9</strong> at: <a href='https://wandb.ai/da24m017-indian-institute-of-technology-madras/DA6401_Assignment_1/runs/ybqzqbrk' target=\"_blank\">https://wandb.ai/da24m017-indian-institute-of-technology-madras/DA6401_Assignment_1/runs/ybqzqbrk</a><br> View project at: <a href='https://wandb.ai/da24m017-indian-institute-of-technology-madras/DA6401_Assignment_1' target=\"_blank\">https://wandb.ai/da24m017-indian-institute-of-technology-madras/DA6401_Assignment_1</a><br>Synced 5 W&B file(s), 0 media file(s), 0 artifact file(s) and 0 other file(s)"
      ],
      "text/plain": [
       "<IPython.core.display.HTML object>"
      ]
     },
     "metadata": {},
     "output_type": "display_data"
    },
    {
     "data": {
      "text/html": [
       "Find logs at: <code>./wandb/run-20250309_055848-ybqzqbrk/logs</code>"
      ],
      "text/plain": [
       "<IPython.core.display.HTML object>"
      ]
     },
     "metadata": {},
     "output_type": "display_data"
    },
    {
     "name": "stderr",
     "output_type": "stream",
     "text": [
      "\u001b[34m\u001b[1mwandb\u001b[0m: Agent Starting Run: dlotiiac with config:\n",
      "\u001b[34m\u001b[1mwandb\u001b[0m: \tactivation: relu\n",
      "\u001b[34m\u001b[1mwandb\u001b[0m: \tbatch_size: 16\n",
      "\u001b[34m\u001b[1mwandb\u001b[0m: \tepochs: 10\n",
      "\u001b[34m\u001b[1mwandb\u001b[0m: \thidden_layers: 3\n",
      "\u001b[34m\u001b[1mwandb\u001b[0m: \tlayer_size: 64\n",
      "\u001b[34m\u001b[1mwandb\u001b[0m: \tlearning_rate: 0.0001\n",
      "\u001b[34m\u001b[1mwandb\u001b[0m: \toptimizer: nadam\n",
      "\u001b[34m\u001b[1mwandb\u001b[0m: \tweight_decay: 0\n",
      "\u001b[34m\u001b[1mwandb\u001b[0m: \tweight_init: xavier\n"
     ]
    },
    {
     "data": {
      "text/html": [
       "Tracking run with wandb version 0.19.8"
      ],
      "text/plain": [
       "<IPython.core.display.HTML object>"
      ]
     },
     "metadata": {},
     "output_type": "display_data"
    },
    {
     "data": {
      "text/html": [
       "Run data is saved locally in <code>/Users/sathwikpentela/MTECH/DA6401_Assignment_1/wandb/run-20250309_055915-dlotiiac</code>"
      ],
      "text/plain": [
       "<IPython.core.display.HTML object>"
      ]
     },
     "metadata": {},
     "output_type": "display_data"
    },
    {
     "data": {
      "text/html": [
       "Syncing run <strong><a href='https://wandb.ai/da24m017-indian-institute-of-technology-madras/DA6401_Assignment_1/runs/dlotiiac' target=\"_blank\">swift-sweep-10</a></strong> to <a href='https://wandb.ai/da24m017-indian-institute-of-technology-madras/DA6401_Assignment_1' target=\"_blank\">Weights & Biases</a> (<a href='https://wandb.me/developer-guide' target=\"_blank\">docs</a>)<br>Sweep page: <a href='https://wandb.ai/da24m017-indian-institute-of-technology-madras/DA6401_Assignment_1/sweeps/ic4mfnl6' target=\"_blank\">https://wandb.ai/da24m017-indian-institute-of-technology-madras/DA6401_Assignment_1/sweeps/ic4mfnl6</a>"
      ],
      "text/plain": [
       "<IPython.core.display.HTML object>"
      ]
     },
     "metadata": {},
     "output_type": "display_data"
    },
    {
     "data": {
      "text/html": [
       " View project at <a href='https://wandb.ai/da24m017-indian-institute-of-technology-madras/DA6401_Assignment_1' target=\"_blank\">https://wandb.ai/da24m017-indian-institute-of-technology-madras/DA6401_Assignment_1</a>"
      ],
      "text/plain": [
       "<IPython.core.display.HTML object>"
      ]
     },
     "metadata": {},
     "output_type": "display_data"
    },
    {
     "data": {
      "text/html": [
       " View sweep at <a href='https://wandb.ai/da24m017-indian-institute-of-technology-madras/DA6401_Assignment_1/sweeps/ic4mfnl6' target=\"_blank\">https://wandb.ai/da24m017-indian-institute-of-technology-madras/DA6401_Assignment_1/sweeps/ic4mfnl6</a>"
      ],
      "text/plain": [
       "<IPython.core.display.HTML object>"
      ]
     },
     "metadata": {},
     "output_type": "display_data"
    },
    {
     "data": {
      "text/html": [
       " View run at <a href='https://wandb.ai/da24m017-indian-institute-of-technology-madras/DA6401_Assignment_1/runs/dlotiiac' target=\"_blank\">https://wandb.ai/da24m017-indian-institute-of-technology-madras/DA6401_Assignment_1/runs/dlotiiac</a>"
      ],
      "text/plain": [
       "<IPython.core.display.HTML object>"
      ]
     },
     "metadata": {},
     "output_type": "display_data"
    },
    {
     "name": "stderr",
     "output_type": "stream",
     "text": [
      "Traceback (most recent call last):\n",
      "  File \"/var/folders/97/64q5gb_55n5dk9c9nd8xzdw00000gn/T/ipykernel_38811/4050847273.py\", line 20, in sweep_train\n",
      "    model = NeuralNetwork(\n",
      "  File \"/var/folders/97/64q5gb_55n5dk9c9nd8xzdw00000gn/T/ipykernel_38811/4163194409.py\", line 8, in __init__\n",
      "    self.optimizer = optimizers[optimizer](lr=lr)\n",
      "KeyError: 'nadam'\n"
     ]
    },
    {
     "data": {
      "text/html": [],
      "text/plain": [
       "<IPython.core.display.HTML object>"
      ]
     },
     "metadata": {},
     "output_type": "display_data"
    },
    {
     "data": {
      "text/html": [
       " View run <strong style=\"color:#cdcd00\">swift-sweep-10</strong> at: <a href='https://wandb.ai/da24m017-indian-institute-of-technology-madras/DA6401_Assignment_1/runs/dlotiiac' target=\"_blank\">https://wandb.ai/da24m017-indian-institute-of-technology-madras/DA6401_Assignment_1/runs/dlotiiac</a><br> View project at: <a href='https://wandb.ai/da24m017-indian-institute-of-technology-madras/DA6401_Assignment_1' target=\"_blank\">https://wandb.ai/da24m017-indian-institute-of-technology-madras/DA6401_Assignment_1</a><br>Synced 5 W&B file(s), 0 media file(s), 0 artifact file(s) and 0 other file(s)"
      ],
      "text/plain": [
       "<IPython.core.display.HTML object>"
      ]
     },
     "metadata": {},
     "output_type": "display_data"
    },
    {
     "data": {
      "text/html": [
       "Find logs at: <code>./wandb/run-20250309_055915-dlotiiac/logs</code>"
      ],
      "text/plain": [
       "<IPython.core.display.HTML object>"
      ]
     },
     "metadata": {},
     "output_type": "display_data"
    },
    {
     "name": "stderr",
     "output_type": "stream",
     "text": [
      "Run dlotiiac errored:\n",
      "Traceback (most recent call last):\n",
      "  File \"/Users/sathwikpentela/miniforge3/envs/PINN/lib/python3.10/site-packages/wandb/agents/pyagent.py\", line 306, in _run_job\n",
      "    self._function()\n",
      "  File \"/var/folders/97/64q5gb_55n5dk9c9nd8xzdw00000gn/T/ipykernel_38811/4050847273.py\", line 20, in sweep_train\n",
      "    model = NeuralNetwork(\n",
      "  File \"/var/folders/97/64q5gb_55n5dk9c9nd8xzdw00000gn/T/ipykernel_38811/4163194409.py\", line 8, in __init__\n",
      "    self.optimizer = optimizers[optimizer](lr=lr)\n",
      "KeyError: 'nadam'\n",
      "\n",
      "\u001b[34m\u001b[1mwandb\u001b[0m: \u001b[32m\u001b[41mERROR\u001b[0m Run dlotiiac errored:\n",
      "\u001b[34m\u001b[1mwandb\u001b[0m: \u001b[32m\u001b[41mERROR\u001b[0m Traceback (most recent call last):\n",
      "\u001b[34m\u001b[1mwandb\u001b[0m: \u001b[32m\u001b[41mERROR\u001b[0m   File \"/Users/sathwikpentela/miniforge3/envs/PINN/lib/python3.10/site-packages/wandb/agents/pyagent.py\", line 306, in _run_job\n",
      "\u001b[34m\u001b[1mwandb\u001b[0m: \u001b[32m\u001b[41mERROR\u001b[0m     self._function()\n",
      "\u001b[34m\u001b[1mwandb\u001b[0m: \u001b[32m\u001b[41mERROR\u001b[0m   File \"/var/folders/97/64q5gb_55n5dk9c9nd8xzdw00000gn/T/ipykernel_38811/4050847273.py\", line 20, in sweep_train\n",
      "\u001b[34m\u001b[1mwandb\u001b[0m: \u001b[32m\u001b[41mERROR\u001b[0m     model = NeuralNetwork(\n",
      "\u001b[34m\u001b[1mwandb\u001b[0m: \u001b[32m\u001b[41mERROR\u001b[0m   File \"/var/folders/97/64q5gb_55n5dk9c9nd8xzdw00000gn/T/ipykernel_38811/4163194409.py\", line 8, in __init__\n",
      "\u001b[34m\u001b[1mwandb\u001b[0m: \u001b[32m\u001b[41mERROR\u001b[0m     self.optimizer = optimizers[optimizer](lr=lr)\n",
      "\u001b[34m\u001b[1mwandb\u001b[0m: \u001b[32m\u001b[41mERROR\u001b[0m KeyError: 'nadam'\n",
      "\u001b[34m\u001b[1mwandb\u001b[0m: \u001b[32m\u001b[41mERROR\u001b[0m \n",
      "\u001b[34m\u001b[1mwandb\u001b[0m: Agent Starting Run: 5ooq1pbx with config:\n",
      "\u001b[34m\u001b[1mwandb\u001b[0m: \tactivation: relu\n",
      "\u001b[34m\u001b[1mwandb\u001b[0m: \tbatch_size: 64\n",
      "\u001b[34m\u001b[1mwandb\u001b[0m: \tepochs: 10\n",
      "\u001b[34m\u001b[1mwandb\u001b[0m: \thidden_layers: 4\n",
      "\u001b[34m\u001b[1mwandb\u001b[0m: \tlayer_size: 128\n",
      "\u001b[34m\u001b[1mwandb\u001b[0m: \tlearning_rate: 0.0001\n",
      "\u001b[34m\u001b[1mwandb\u001b[0m: \toptimizer: adam\n",
      "\u001b[34m\u001b[1mwandb\u001b[0m: \tweight_decay: 0.5\n",
      "\u001b[34m\u001b[1mwandb\u001b[0m: \tweight_init: xavier\n"
     ]
    },
    {
     "data": {
      "text/html": [
       "Tracking run with wandb version 0.19.8"
      ],
      "text/plain": [
       "<IPython.core.display.HTML object>"
      ]
     },
     "metadata": {},
     "output_type": "display_data"
    },
    {
     "data": {
      "text/html": [
       "Run data is saved locally in <code>/Users/sathwikpentela/MTECH/DA6401_Assignment_1/wandb/run-20250309_055920-5ooq1pbx</code>"
      ],
      "text/plain": [
       "<IPython.core.display.HTML object>"
      ]
     },
     "metadata": {},
     "output_type": "display_data"
    },
    {
     "data": {
      "text/html": [
       "Syncing run <strong><a href='https://wandb.ai/da24m017-indian-institute-of-technology-madras/DA6401_Assignment_1/runs/5ooq1pbx' target=\"_blank\">classic-sweep-11</a></strong> to <a href='https://wandb.ai/da24m017-indian-institute-of-technology-madras/DA6401_Assignment_1' target=\"_blank\">Weights & Biases</a> (<a href='https://wandb.me/developer-guide' target=\"_blank\">docs</a>)<br>Sweep page: <a href='https://wandb.ai/da24m017-indian-institute-of-technology-madras/DA6401_Assignment_1/sweeps/ic4mfnl6' target=\"_blank\">https://wandb.ai/da24m017-indian-institute-of-technology-madras/DA6401_Assignment_1/sweeps/ic4mfnl6</a>"
      ],
      "text/plain": [
       "<IPython.core.display.HTML object>"
      ]
     },
     "metadata": {},
     "output_type": "display_data"
    },
    {
     "data": {
      "text/html": [
       " View project at <a href='https://wandb.ai/da24m017-indian-institute-of-technology-madras/DA6401_Assignment_1' target=\"_blank\">https://wandb.ai/da24m017-indian-institute-of-technology-madras/DA6401_Assignment_1</a>"
      ],
      "text/plain": [
       "<IPython.core.display.HTML object>"
      ]
     },
     "metadata": {},
     "output_type": "display_data"
    },
    {
     "data": {
      "text/html": [
       " View sweep at <a href='https://wandb.ai/da24m017-indian-institute-of-technology-madras/DA6401_Assignment_1/sweeps/ic4mfnl6' target=\"_blank\">https://wandb.ai/da24m017-indian-institute-of-technology-madras/DA6401_Assignment_1/sweeps/ic4mfnl6</a>"
      ],
      "text/plain": [
       "<IPython.core.display.HTML object>"
      ]
     },
     "metadata": {},
     "output_type": "display_data"
    },
    {
     "data": {
      "text/html": [
       " View run at <a href='https://wandb.ai/da24m017-indian-institute-of-technology-madras/DA6401_Assignment_1/runs/5ooq1pbx' target=\"_blank\">https://wandb.ai/da24m017-indian-institute-of-technology-madras/DA6401_Assignment_1/runs/5ooq1pbx</a>"
      ],
      "text/plain": [
       "<IPython.core.display.HTML object>"
      ]
     },
     "metadata": {},
     "output_type": "display_data"
    },
    {
     "name": "stdout",
     "output_type": "stream",
     "text": [
      "Epoch 1, Train Loss: 1.9521, Val Loss: 1.9721\n",
      "Epoch 2, Train Loss: 1.8783, Val Loss: 1.8385\n",
      "Epoch 3, Train Loss: 1.8394, Val Loss: 1.7864\n",
      "Epoch 4, Train Loss: 1.8143, Val Loss: 1.7595\n",
      "Epoch 5, Train Loss: 1.8003, Val Loss: 1.7452\n",
      "Epoch 6, Train Loss: 1.7820, Val Loss: 1.7328\n",
      "Epoch 7, Train Loss: 1.7723, Val Loss: 1.7275\n",
      "Epoch 8, Train Loss: 1.7586, Val Loss: 1.7189\n",
      "Epoch 9, Train Loss: 1.7402, Val Loss: 1.7113\n",
      "Epoch 10, Train Loss: 1.7256, Val Loss: 1.7054\n"
     ]
    },
    {
     "data": {
      "text/html": [],
      "text/plain": [
       "<IPython.core.display.HTML object>"
      ]
     },
     "metadata": {},
     "output_type": "display_data"
    },
    {
     "data": {
      "text/html": [
       "<br>    <style><br>        .wandb-row {<br>            display: flex;<br>            flex-direction: row;<br>            flex-wrap: wrap;<br>            justify-content: flex-start;<br>            width: 100%;<br>        }<br>        .wandb-col {<br>            display: flex;<br>            flex-direction: column;<br>            flex-basis: 100%;<br>            flex: 1;<br>            padding: 10px;<br>        }<br>    </style><br><div class=\"wandb-row\"><div class=\"wandb-col\"><h3>Run history:</h3><br/><table class=\"wandb\"><tr><td>epoch</td><td>▁▂▃▃▄▅▆▆▇█</td></tr><tr><td>train_loss</td><td>█▆▅▄▃▃▂▂▁▁</td></tr><tr><td>val_loss</td><td>█▄▃▂▂▂▂▁▁▁</td></tr></table><br/></div><div class=\"wandb-col\"><h3>Run summary:</h3><br/><table class=\"wandb\"><tr><td>epoch</td><td>10</td></tr><tr><td>train_loss</td><td>1.72561</td></tr><tr><td>val_loss</td><td>1.70538</td></tr></table><br/></div></div>"
      ],
      "text/plain": [
       "<IPython.core.display.HTML object>"
      ]
     },
     "metadata": {},
     "output_type": "display_data"
    },
    {
     "data": {
      "text/html": [
       " View run <strong style=\"color:#cdcd00\">classic-sweep-11</strong> at: <a href='https://wandb.ai/da24m017-indian-institute-of-technology-madras/DA6401_Assignment_1/runs/5ooq1pbx' target=\"_blank\">https://wandb.ai/da24m017-indian-institute-of-technology-madras/DA6401_Assignment_1/runs/5ooq1pbx</a><br> View project at: <a href='https://wandb.ai/da24m017-indian-institute-of-technology-madras/DA6401_Assignment_1' target=\"_blank\">https://wandb.ai/da24m017-indian-institute-of-technology-madras/DA6401_Assignment_1</a><br>Synced 5 W&B file(s), 0 media file(s), 0 artifact file(s) and 0 other file(s)"
      ],
      "text/plain": [
       "<IPython.core.display.HTML object>"
      ]
     },
     "metadata": {},
     "output_type": "display_data"
    },
    {
     "data": {
      "text/html": [
       "Find logs at: <code>./wandb/run-20250309_055920-5ooq1pbx/logs</code>"
      ],
      "text/plain": [
       "<IPython.core.display.HTML object>"
      ]
     },
     "metadata": {},
     "output_type": "display_data"
    },
    {
     "name": "stderr",
     "output_type": "stream",
     "text": [
      "\u001b[34m\u001b[1mwandb\u001b[0m: Agent Starting Run: zog0wtky with config:\n",
      "\u001b[34m\u001b[1mwandb\u001b[0m: \tactivation: sigmoid\n",
      "\u001b[34m\u001b[1mwandb\u001b[0m: \tbatch_size: 16\n",
      "\u001b[34m\u001b[1mwandb\u001b[0m: \tepochs: 5\n",
      "\u001b[34m\u001b[1mwandb\u001b[0m: \thidden_layers: 3\n",
      "\u001b[34m\u001b[1mwandb\u001b[0m: \tlayer_size: 32\n",
      "\u001b[34m\u001b[1mwandb\u001b[0m: \tlearning_rate: 0.001\n",
      "\u001b[34m\u001b[1mwandb\u001b[0m: \toptimizer: nadam\n",
      "\u001b[34m\u001b[1mwandb\u001b[0m: \tweight_decay: 0\n",
      "\u001b[34m\u001b[1mwandb\u001b[0m: \tweight_init: random\n"
     ]
    },
    {
     "data": {
      "text/html": [
       "Tracking run with wandb version 0.19.8"
      ],
      "text/plain": [
       "<IPython.core.display.HTML object>"
      ]
     },
     "metadata": {},
     "output_type": "display_data"
    },
    {
     "data": {
      "text/html": [
       "Run data is saved locally in <code>/Users/sathwikpentela/MTECH/DA6401_Assignment_1/wandb/run-20250309_055936-zog0wtky</code>"
      ],
      "text/plain": [
       "<IPython.core.display.HTML object>"
      ]
     },
     "metadata": {},
     "output_type": "display_data"
    },
    {
     "data": {
      "text/html": [
       "Syncing run <strong><a href='https://wandb.ai/da24m017-indian-institute-of-technology-madras/DA6401_Assignment_1/runs/zog0wtky' target=\"_blank\">olive-sweep-12</a></strong> to <a href='https://wandb.ai/da24m017-indian-institute-of-technology-madras/DA6401_Assignment_1' target=\"_blank\">Weights & Biases</a> (<a href='https://wandb.me/developer-guide' target=\"_blank\">docs</a>)<br>Sweep page: <a href='https://wandb.ai/da24m017-indian-institute-of-technology-madras/DA6401_Assignment_1/sweeps/ic4mfnl6' target=\"_blank\">https://wandb.ai/da24m017-indian-institute-of-technology-madras/DA6401_Assignment_1/sweeps/ic4mfnl6</a>"
      ],
      "text/plain": [
       "<IPython.core.display.HTML object>"
      ]
     },
     "metadata": {},
     "output_type": "display_data"
    },
    {
     "data": {
      "text/html": [
       " View project at <a href='https://wandb.ai/da24m017-indian-institute-of-technology-madras/DA6401_Assignment_1' target=\"_blank\">https://wandb.ai/da24m017-indian-institute-of-technology-madras/DA6401_Assignment_1</a>"
      ],
      "text/plain": [
       "<IPython.core.display.HTML object>"
      ]
     },
     "metadata": {},
     "output_type": "display_data"
    },
    {
     "data": {
      "text/html": [
       " View sweep at <a href='https://wandb.ai/da24m017-indian-institute-of-technology-madras/DA6401_Assignment_1/sweeps/ic4mfnl6' target=\"_blank\">https://wandb.ai/da24m017-indian-institute-of-technology-madras/DA6401_Assignment_1/sweeps/ic4mfnl6</a>"
      ],
      "text/plain": [
       "<IPython.core.display.HTML object>"
      ]
     },
     "metadata": {},
     "output_type": "display_data"
    },
    {
     "data": {
      "text/html": [
       " View run at <a href='https://wandb.ai/da24m017-indian-institute-of-technology-madras/DA6401_Assignment_1/runs/zog0wtky' target=\"_blank\">https://wandb.ai/da24m017-indian-institute-of-technology-madras/DA6401_Assignment_1/runs/zog0wtky</a>"
      ],
      "text/plain": [
       "<IPython.core.display.HTML object>"
      ]
     },
     "metadata": {},
     "output_type": "display_data"
    },
    {
     "name": "stderr",
     "output_type": "stream",
     "text": [
      "Traceback (most recent call last):\n",
      "  File \"/var/folders/97/64q5gb_55n5dk9c9nd8xzdw00000gn/T/ipykernel_38811/4050847273.py\", line 20, in sweep_train\n",
      "    model = NeuralNetwork(\n",
      "  File \"/var/folders/97/64q5gb_55n5dk9c9nd8xzdw00000gn/T/ipykernel_38811/4163194409.py\", line 8, in __init__\n",
      "    self.optimizer = optimizers[optimizer](lr=lr)\n",
      "KeyError: 'nadam'\n"
     ]
    },
    {
     "data": {
      "text/html": [],
      "text/plain": [
       "<IPython.core.display.HTML object>"
      ]
     },
     "metadata": {},
     "output_type": "display_data"
    },
    {
     "data": {
      "text/html": [
       " View run <strong style=\"color:#cdcd00\">olive-sweep-12</strong> at: <a href='https://wandb.ai/da24m017-indian-institute-of-technology-madras/DA6401_Assignment_1/runs/zog0wtky' target=\"_blank\">https://wandb.ai/da24m017-indian-institute-of-technology-madras/DA6401_Assignment_1/runs/zog0wtky</a><br> View project at: <a href='https://wandb.ai/da24m017-indian-institute-of-technology-madras/DA6401_Assignment_1' target=\"_blank\">https://wandb.ai/da24m017-indian-institute-of-technology-madras/DA6401_Assignment_1</a><br>Synced 5 W&B file(s), 0 media file(s), 0 artifact file(s) and 0 other file(s)"
      ],
      "text/plain": [
       "<IPython.core.display.HTML object>"
      ]
     },
     "metadata": {},
     "output_type": "display_data"
    },
    {
     "data": {
      "text/html": [
       "Find logs at: <code>./wandb/run-20250309_055936-zog0wtky/logs</code>"
      ],
      "text/plain": [
       "<IPython.core.display.HTML object>"
      ]
     },
     "metadata": {},
     "output_type": "display_data"
    },
    {
     "name": "stderr",
     "output_type": "stream",
     "text": [
      "Run zog0wtky errored:\n",
      "Traceback (most recent call last):\n",
      "  File \"/Users/sathwikpentela/miniforge3/envs/PINN/lib/python3.10/site-packages/wandb/agents/pyagent.py\", line 306, in _run_job\n",
      "    self._function()\n",
      "  File \"/var/folders/97/64q5gb_55n5dk9c9nd8xzdw00000gn/T/ipykernel_38811/4050847273.py\", line 20, in sweep_train\n",
      "    model = NeuralNetwork(\n",
      "  File \"/var/folders/97/64q5gb_55n5dk9c9nd8xzdw00000gn/T/ipykernel_38811/4163194409.py\", line 8, in __init__\n",
      "    self.optimizer = optimizers[optimizer](lr=lr)\n",
      "KeyError: 'nadam'\n",
      "\n",
      "\u001b[34m\u001b[1mwandb\u001b[0m: \u001b[32m\u001b[41mERROR\u001b[0m Run zog0wtky errored:\n",
      "\u001b[34m\u001b[1mwandb\u001b[0m: \u001b[32m\u001b[41mERROR\u001b[0m Traceback (most recent call last):\n",
      "\u001b[34m\u001b[1mwandb\u001b[0m: \u001b[32m\u001b[41mERROR\u001b[0m   File \"/Users/sathwikpentela/miniforge3/envs/PINN/lib/python3.10/site-packages/wandb/agents/pyagent.py\", line 306, in _run_job\n",
      "\u001b[34m\u001b[1mwandb\u001b[0m: \u001b[32m\u001b[41mERROR\u001b[0m     self._function()\n",
      "\u001b[34m\u001b[1mwandb\u001b[0m: \u001b[32m\u001b[41mERROR\u001b[0m   File \"/var/folders/97/64q5gb_55n5dk9c9nd8xzdw00000gn/T/ipykernel_38811/4050847273.py\", line 20, in sweep_train\n",
      "\u001b[34m\u001b[1mwandb\u001b[0m: \u001b[32m\u001b[41mERROR\u001b[0m     model = NeuralNetwork(\n",
      "\u001b[34m\u001b[1mwandb\u001b[0m: \u001b[32m\u001b[41mERROR\u001b[0m   File \"/var/folders/97/64q5gb_55n5dk9c9nd8xzdw00000gn/T/ipykernel_38811/4163194409.py\", line 8, in __init__\n",
      "\u001b[34m\u001b[1mwandb\u001b[0m: \u001b[32m\u001b[41mERROR\u001b[0m     self.optimizer = optimizers[optimizer](lr=lr)\n",
      "\u001b[34m\u001b[1mwandb\u001b[0m: \u001b[32m\u001b[41mERROR\u001b[0m KeyError: 'nadam'\n",
      "\u001b[34m\u001b[1mwandb\u001b[0m: \u001b[32m\u001b[41mERROR\u001b[0m \n",
      "\u001b[34m\u001b[1mwandb\u001b[0m: Agent Starting Run: oo5krrkd with config:\n",
      "\u001b[34m\u001b[1mwandb\u001b[0m: \tactivation: relu\n",
      "\u001b[34m\u001b[1mwandb\u001b[0m: \tbatch_size: 32\n",
      "\u001b[34m\u001b[1mwandb\u001b[0m: \tepochs: 10\n",
      "\u001b[34m\u001b[1mwandb\u001b[0m: \thidden_layers: 5\n",
      "\u001b[34m\u001b[1mwandb\u001b[0m: \tlayer_size: 128\n",
      "\u001b[34m\u001b[1mwandb\u001b[0m: \tlearning_rate: 0.0001\n",
      "\u001b[34m\u001b[1mwandb\u001b[0m: \toptimizer: adam\n",
      "\u001b[34m\u001b[1mwandb\u001b[0m: \tweight_decay: 0.5\n",
      "\u001b[34m\u001b[1mwandb\u001b[0m: \tweight_init: xavier\n"
     ]
    },
    {
     "data": {
      "text/html": [
       "Tracking run with wandb version 0.19.8"
      ],
      "text/plain": [
       "<IPython.core.display.HTML object>"
      ]
     },
     "metadata": {},
     "output_type": "display_data"
    },
    {
     "data": {
      "text/html": [
       "Run data is saved locally in <code>/Users/sathwikpentela/MTECH/DA6401_Assignment_1/wandb/run-20250309_055941-oo5krrkd</code>"
      ],
      "text/plain": [
       "<IPython.core.display.HTML object>"
      ]
     },
     "metadata": {},
     "output_type": "display_data"
    },
    {
     "data": {
      "text/html": [
       "Syncing run <strong><a href='https://wandb.ai/da24m017-indian-institute-of-technology-madras/DA6401_Assignment_1/runs/oo5krrkd' target=\"_blank\">polar-sweep-13</a></strong> to <a href='https://wandb.ai/da24m017-indian-institute-of-technology-madras/DA6401_Assignment_1' target=\"_blank\">Weights & Biases</a> (<a href='https://wandb.me/developer-guide' target=\"_blank\">docs</a>)<br>Sweep page: <a href='https://wandb.ai/da24m017-indian-institute-of-technology-madras/DA6401_Assignment_1/sweeps/ic4mfnl6' target=\"_blank\">https://wandb.ai/da24m017-indian-institute-of-technology-madras/DA6401_Assignment_1/sweeps/ic4mfnl6</a>"
      ],
      "text/plain": [
       "<IPython.core.display.HTML object>"
      ]
     },
     "metadata": {},
     "output_type": "display_data"
    },
    {
     "data": {
      "text/html": [
       " View project at <a href='https://wandb.ai/da24m017-indian-institute-of-technology-madras/DA6401_Assignment_1' target=\"_blank\">https://wandb.ai/da24m017-indian-institute-of-technology-madras/DA6401_Assignment_1</a>"
      ],
      "text/plain": [
       "<IPython.core.display.HTML object>"
      ]
     },
     "metadata": {},
     "output_type": "display_data"
    },
    {
     "data": {
      "text/html": [
       " View sweep at <a href='https://wandb.ai/da24m017-indian-institute-of-technology-madras/DA6401_Assignment_1/sweeps/ic4mfnl6' target=\"_blank\">https://wandb.ai/da24m017-indian-institute-of-technology-madras/DA6401_Assignment_1/sweeps/ic4mfnl6</a>"
      ],
      "text/plain": [
       "<IPython.core.display.HTML object>"
      ]
     },
     "metadata": {},
     "output_type": "display_data"
    },
    {
     "data": {
      "text/html": [
       " View run at <a href='https://wandb.ai/da24m017-indian-institute-of-technology-madras/DA6401_Assignment_1/runs/oo5krrkd' target=\"_blank\">https://wandb.ai/da24m017-indian-institute-of-technology-madras/DA6401_Assignment_1/runs/oo5krrkd</a>"
      ],
      "text/plain": [
       "<IPython.core.display.HTML object>"
      ]
     },
     "metadata": {},
     "output_type": "display_data"
    },
    {
     "name": "stdout",
     "output_type": "stream",
     "text": [
      "Epoch 1, Train Loss: 2.0829, Val Loss: 1.9813\n",
      "Epoch 2, Train Loss: 2.0247, Val Loss: 1.9294\n",
      "Epoch 3, Train Loss: 2.0171, Val Loss: 1.9088\n",
      "Epoch 4, Train Loss: 2.0068, Val Loss: 1.8895\n",
      "Epoch 5, Train Loss: 2.0008, Val Loss: 1.8757\n",
      "Epoch 6, Train Loss: 1.9871, Val Loss: 1.8650\n",
      "Epoch 7, Train Loss: 1.9760, Val Loss: 1.8553\n",
      "Epoch 8, Train Loss: 1.9668, Val Loss: 1.8467\n",
      "Epoch 9, Train Loss: 1.9555, Val Loss: 1.8396\n",
      "Epoch 10, Train Loss: 1.9453, Val Loss: 1.8362\n"
     ]
    },
    {
     "data": {
      "text/html": [],
      "text/plain": [
       "<IPython.core.display.HTML object>"
      ]
     },
     "metadata": {},
     "output_type": "display_data"
    },
    {
     "data": {
      "text/html": [
       "<br>    <style><br>        .wandb-row {<br>            display: flex;<br>            flex-direction: row;<br>            flex-wrap: wrap;<br>            justify-content: flex-start;<br>            width: 100%;<br>        }<br>        .wandb-col {<br>            display: flex;<br>            flex-direction: column;<br>            flex-basis: 100%;<br>            flex: 1;<br>            padding: 10px;<br>        }<br>    </style><br><div class=\"wandb-row\"><div class=\"wandb-col\"><h3>Run history:</h3><br/><table class=\"wandb\"><tr><td>epoch</td><td>▁▂▃▃▄▅▆▆▇█</td></tr><tr><td>train_loss</td><td>█▅▅▄▄▃▃▂▂▁</td></tr><tr><td>val_loss</td><td>█▅▅▄▃▂▂▂▁▁</td></tr></table><br/></div><div class=\"wandb-col\"><h3>Run summary:</h3><br/><table class=\"wandb\"><tr><td>epoch</td><td>10</td></tr><tr><td>train_loss</td><td>1.94529</td></tr><tr><td>val_loss</td><td>1.83617</td></tr></table><br/></div></div>"
      ],
      "text/plain": [
       "<IPython.core.display.HTML object>"
      ]
     },
     "metadata": {},
     "output_type": "display_data"
    },
    {
     "data": {
      "text/html": [
       " View run <strong style=\"color:#cdcd00\">polar-sweep-13</strong> at: <a href='https://wandb.ai/da24m017-indian-institute-of-technology-madras/DA6401_Assignment_1/runs/oo5krrkd' target=\"_blank\">https://wandb.ai/da24m017-indian-institute-of-technology-madras/DA6401_Assignment_1/runs/oo5krrkd</a><br> View project at: <a href='https://wandb.ai/da24m017-indian-institute-of-technology-madras/DA6401_Assignment_1' target=\"_blank\">https://wandb.ai/da24m017-indian-institute-of-technology-madras/DA6401_Assignment_1</a><br>Synced 5 W&B file(s), 0 media file(s), 0 artifact file(s) and 0 other file(s)"
      ],
      "text/plain": [
       "<IPython.core.display.HTML object>"
      ]
     },
     "metadata": {},
     "output_type": "display_data"
    },
    {
     "data": {
      "text/html": [
       "Find logs at: <code>./wandb/run-20250309_055941-oo5krrkd/logs</code>"
      ],
      "text/plain": [
       "<IPython.core.display.HTML object>"
      ]
     },
     "metadata": {},
     "output_type": "display_data"
    },
    {
     "name": "stderr",
     "output_type": "stream",
     "text": [
      "\u001b[34m\u001b[1mwandb\u001b[0m: Agent Starting Run: dvue0egu with config:\n",
      "\u001b[34m\u001b[1mwandb\u001b[0m: \tactivation: relu\n",
      "\u001b[34m\u001b[1mwandb\u001b[0m: \tbatch_size: 32\n",
      "\u001b[34m\u001b[1mwandb\u001b[0m: \tepochs: 10\n",
      "\u001b[34m\u001b[1mwandb\u001b[0m: \thidden_layers: 5\n",
      "\u001b[34m\u001b[1mwandb\u001b[0m: \tlayer_size: 128\n",
      "\u001b[34m\u001b[1mwandb\u001b[0m: \tlearning_rate: 0.001\n",
      "\u001b[34m\u001b[1mwandb\u001b[0m: \toptimizer: nadam\n",
      "\u001b[34m\u001b[1mwandb\u001b[0m: \tweight_decay: 0.5\n",
      "\u001b[34m\u001b[1mwandb\u001b[0m: \tweight_init: xavier\n"
     ]
    },
    {
     "data": {
      "text/html": [
       "Tracking run with wandb version 0.19.8"
      ],
      "text/plain": [
       "<IPython.core.display.HTML object>"
      ]
     },
     "metadata": {},
     "output_type": "display_data"
    },
    {
     "data": {
      "text/html": [
       "Run data is saved locally in <code>/Users/sathwikpentela/MTECH/DA6401_Assignment_1/wandb/run-20250309_060008-dvue0egu</code>"
      ],
      "text/plain": [
       "<IPython.core.display.HTML object>"
      ]
     },
     "metadata": {},
     "output_type": "display_data"
    },
    {
     "data": {
      "text/html": [
       "Syncing run <strong><a href='https://wandb.ai/da24m017-indian-institute-of-technology-madras/DA6401_Assignment_1/runs/dvue0egu' target=\"_blank\">atomic-sweep-14</a></strong> to <a href='https://wandb.ai/da24m017-indian-institute-of-technology-madras/DA6401_Assignment_1' target=\"_blank\">Weights & Biases</a> (<a href='https://wandb.me/developer-guide' target=\"_blank\">docs</a>)<br>Sweep page: <a href='https://wandb.ai/da24m017-indian-institute-of-technology-madras/DA6401_Assignment_1/sweeps/ic4mfnl6' target=\"_blank\">https://wandb.ai/da24m017-indian-institute-of-technology-madras/DA6401_Assignment_1/sweeps/ic4mfnl6</a>"
      ],
      "text/plain": [
       "<IPython.core.display.HTML object>"
      ]
     },
     "metadata": {},
     "output_type": "display_data"
    },
    {
     "data": {
      "text/html": [
       " View project at <a href='https://wandb.ai/da24m017-indian-institute-of-technology-madras/DA6401_Assignment_1' target=\"_blank\">https://wandb.ai/da24m017-indian-institute-of-technology-madras/DA6401_Assignment_1</a>"
      ],
      "text/plain": [
       "<IPython.core.display.HTML object>"
      ]
     },
     "metadata": {},
     "output_type": "display_data"
    },
    {
     "data": {
      "text/html": [
       " View sweep at <a href='https://wandb.ai/da24m017-indian-institute-of-technology-madras/DA6401_Assignment_1/sweeps/ic4mfnl6' target=\"_blank\">https://wandb.ai/da24m017-indian-institute-of-technology-madras/DA6401_Assignment_1/sweeps/ic4mfnl6</a>"
      ],
      "text/plain": [
       "<IPython.core.display.HTML object>"
      ]
     },
     "metadata": {},
     "output_type": "display_data"
    },
    {
     "data": {
      "text/html": [
       " View run at <a href='https://wandb.ai/da24m017-indian-institute-of-technology-madras/DA6401_Assignment_1/runs/dvue0egu' target=\"_blank\">https://wandb.ai/da24m017-indian-institute-of-technology-madras/DA6401_Assignment_1/runs/dvue0egu</a>"
      ],
      "text/plain": [
       "<IPython.core.display.HTML object>"
      ]
     },
     "metadata": {},
     "output_type": "display_data"
    },
    {
     "name": "stderr",
     "output_type": "stream",
     "text": [
      "Traceback (most recent call last):\n",
      "  File \"/var/folders/97/64q5gb_55n5dk9c9nd8xzdw00000gn/T/ipykernel_38811/4050847273.py\", line 20, in sweep_train\n",
      "    model = NeuralNetwork(\n",
      "  File \"/var/folders/97/64q5gb_55n5dk9c9nd8xzdw00000gn/T/ipykernel_38811/4163194409.py\", line 8, in __init__\n",
      "    self.optimizer = optimizers[optimizer](lr=lr)\n",
      "KeyError: 'nadam'\n"
     ]
    },
    {
     "data": {
      "text/html": [],
      "text/plain": [
       "<IPython.core.display.HTML object>"
      ]
     },
     "metadata": {},
     "output_type": "display_data"
    },
    {
     "data": {
      "text/html": [
       " View run <strong style=\"color:#cdcd00\">atomic-sweep-14</strong> at: <a href='https://wandb.ai/da24m017-indian-institute-of-technology-madras/DA6401_Assignment_1/runs/dvue0egu' target=\"_blank\">https://wandb.ai/da24m017-indian-institute-of-technology-madras/DA6401_Assignment_1/runs/dvue0egu</a><br> View project at: <a href='https://wandb.ai/da24m017-indian-institute-of-technology-madras/DA6401_Assignment_1' target=\"_blank\">https://wandb.ai/da24m017-indian-institute-of-technology-madras/DA6401_Assignment_1</a><br>Synced 5 W&B file(s), 0 media file(s), 0 artifact file(s) and 0 other file(s)"
      ],
      "text/plain": [
       "<IPython.core.display.HTML object>"
      ]
     },
     "metadata": {},
     "output_type": "display_data"
    },
    {
     "data": {
      "text/html": [
       "Find logs at: <code>./wandb/run-20250309_060008-dvue0egu/logs</code>"
      ],
      "text/plain": [
       "<IPython.core.display.HTML object>"
      ]
     },
     "metadata": {},
     "output_type": "display_data"
    },
    {
     "name": "stderr",
     "output_type": "stream",
     "text": [
      "Run dvue0egu errored:\n",
      "Traceback (most recent call last):\n",
      "  File \"/Users/sathwikpentela/miniforge3/envs/PINN/lib/python3.10/site-packages/wandb/agents/pyagent.py\", line 306, in _run_job\n",
      "    self._function()\n",
      "  File \"/var/folders/97/64q5gb_55n5dk9c9nd8xzdw00000gn/T/ipykernel_38811/4050847273.py\", line 20, in sweep_train\n",
      "    model = NeuralNetwork(\n",
      "  File \"/var/folders/97/64q5gb_55n5dk9c9nd8xzdw00000gn/T/ipykernel_38811/4163194409.py\", line 8, in __init__\n",
      "    self.optimizer = optimizers[optimizer](lr=lr)\n",
      "KeyError: 'nadam'\n",
      "\n",
      "\u001b[34m\u001b[1mwandb\u001b[0m: \u001b[32m\u001b[41mERROR\u001b[0m Run dvue0egu errored:\n",
      "\u001b[34m\u001b[1mwandb\u001b[0m: \u001b[32m\u001b[41mERROR\u001b[0m Traceback (most recent call last):\n",
      "\u001b[34m\u001b[1mwandb\u001b[0m: \u001b[32m\u001b[41mERROR\u001b[0m   File \"/Users/sathwikpentela/miniforge3/envs/PINN/lib/python3.10/site-packages/wandb/agents/pyagent.py\", line 306, in _run_job\n",
      "\u001b[34m\u001b[1mwandb\u001b[0m: \u001b[32m\u001b[41mERROR\u001b[0m     self._function()\n",
      "\u001b[34m\u001b[1mwandb\u001b[0m: \u001b[32m\u001b[41mERROR\u001b[0m   File \"/var/folders/97/64q5gb_55n5dk9c9nd8xzdw00000gn/T/ipykernel_38811/4050847273.py\", line 20, in sweep_train\n",
      "\u001b[34m\u001b[1mwandb\u001b[0m: \u001b[32m\u001b[41mERROR\u001b[0m     model = NeuralNetwork(\n",
      "\u001b[34m\u001b[1mwandb\u001b[0m: \u001b[32m\u001b[41mERROR\u001b[0m   File \"/var/folders/97/64q5gb_55n5dk9c9nd8xzdw00000gn/T/ipykernel_38811/4163194409.py\", line 8, in __init__\n",
      "\u001b[34m\u001b[1mwandb\u001b[0m: \u001b[32m\u001b[41mERROR\u001b[0m     self.optimizer = optimizers[optimizer](lr=lr)\n",
      "\u001b[34m\u001b[1mwandb\u001b[0m: \u001b[32m\u001b[41mERROR\u001b[0m KeyError: 'nadam'\n",
      "\u001b[34m\u001b[1mwandb\u001b[0m: \u001b[32m\u001b[41mERROR\u001b[0m \n",
      "\u001b[34m\u001b[1mwandb\u001b[0m: Agent Starting Run: pvdnbmq9 with config:\n",
      "\u001b[34m\u001b[1mwandb\u001b[0m: \tactivation: relu\n",
      "\u001b[34m\u001b[1mwandb\u001b[0m: \tbatch_size: 64\n",
      "\u001b[34m\u001b[1mwandb\u001b[0m: \tepochs: 5\n",
      "\u001b[34m\u001b[1mwandb\u001b[0m: \thidden_layers: 4\n",
      "\u001b[34m\u001b[1mwandb\u001b[0m: \tlayer_size: 128\n",
      "\u001b[34m\u001b[1mwandb\u001b[0m: \tlearning_rate: 0.0001\n",
      "\u001b[34m\u001b[1mwandb\u001b[0m: \toptimizer: adam\n",
      "\u001b[34m\u001b[1mwandb\u001b[0m: \tweight_decay: 0.5\n",
      "\u001b[34m\u001b[1mwandb\u001b[0m: \tweight_init: xavier\n"
     ]
    },
    {
     "data": {
      "text/html": [
       "Tracking run with wandb version 0.19.8"
      ],
      "text/plain": [
       "<IPython.core.display.HTML object>"
      ]
     },
     "metadata": {},
     "output_type": "display_data"
    },
    {
     "data": {
      "text/html": [
       "Run data is saved locally in <code>/Users/sathwikpentela/MTECH/DA6401_Assignment_1/wandb/run-20250309_060014-pvdnbmq9</code>"
      ],
      "text/plain": [
       "<IPython.core.display.HTML object>"
      ]
     },
     "metadata": {},
     "output_type": "display_data"
    },
    {
     "data": {
      "text/html": [
       "Syncing run <strong><a href='https://wandb.ai/da24m017-indian-institute-of-technology-madras/DA6401_Assignment_1/runs/pvdnbmq9' target=\"_blank\">flowing-sweep-15</a></strong> to <a href='https://wandb.ai/da24m017-indian-institute-of-technology-madras/DA6401_Assignment_1' target=\"_blank\">Weights & Biases</a> (<a href='https://wandb.me/developer-guide' target=\"_blank\">docs</a>)<br>Sweep page: <a href='https://wandb.ai/da24m017-indian-institute-of-technology-madras/DA6401_Assignment_1/sweeps/ic4mfnl6' target=\"_blank\">https://wandb.ai/da24m017-indian-institute-of-technology-madras/DA6401_Assignment_1/sweeps/ic4mfnl6</a>"
      ],
      "text/plain": [
       "<IPython.core.display.HTML object>"
      ]
     },
     "metadata": {},
     "output_type": "display_data"
    },
    {
     "data": {
      "text/html": [
       " View project at <a href='https://wandb.ai/da24m017-indian-institute-of-technology-madras/DA6401_Assignment_1' target=\"_blank\">https://wandb.ai/da24m017-indian-institute-of-technology-madras/DA6401_Assignment_1</a>"
      ],
      "text/plain": [
       "<IPython.core.display.HTML object>"
      ]
     },
     "metadata": {},
     "output_type": "display_data"
    },
    {
     "data": {
      "text/html": [
       " View sweep at <a href='https://wandb.ai/da24m017-indian-institute-of-technology-madras/DA6401_Assignment_1/sweeps/ic4mfnl6' target=\"_blank\">https://wandb.ai/da24m017-indian-institute-of-technology-madras/DA6401_Assignment_1/sweeps/ic4mfnl6</a>"
      ],
      "text/plain": [
       "<IPython.core.display.HTML object>"
      ]
     },
     "metadata": {},
     "output_type": "display_data"
    },
    {
     "data": {
      "text/html": [
       " View run at <a href='https://wandb.ai/da24m017-indian-institute-of-technology-madras/DA6401_Assignment_1/runs/pvdnbmq9' target=\"_blank\">https://wandb.ai/da24m017-indian-institute-of-technology-madras/DA6401_Assignment_1/runs/pvdnbmq9</a>"
      ],
      "text/plain": [
       "<IPython.core.display.HTML object>"
      ]
     },
     "metadata": {},
     "output_type": "display_data"
    },
    {
     "name": "stdout",
     "output_type": "stream",
     "text": [
      "Epoch 1, Train Loss: 2.0244, Val Loss: 1.9849\n",
      "Epoch 2, Train Loss: 1.9133, Val Loss: 1.8354\n",
      "Epoch 3, Train Loss: 1.8898, Val Loss: 1.8020\n",
      "Epoch 4, Train Loss: 1.8587, Val Loss: 1.7781\n",
      "Epoch 5, Train Loss: 1.8307, Val Loss: 1.7614\n"
     ]
    },
    {
     "data": {
      "text/html": [],
      "text/plain": [
       "<IPython.core.display.HTML object>"
      ]
     },
     "metadata": {},
     "output_type": "display_data"
    },
    {
     "data": {
      "text/html": [
       "<br>    <style><br>        .wandb-row {<br>            display: flex;<br>            flex-direction: row;<br>            flex-wrap: wrap;<br>            justify-content: flex-start;<br>            width: 100%;<br>        }<br>        .wandb-col {<br>            display: flex;<br>            flex-direction: column;<br>            flex-basis: 100%;<br>            flex: 1;<br>            padding: 10px;<br>        }<br>    </style><br><div class=\"wandb-row\"><div class=\"wandb-col\"><h3>Run history:</h3><br/><table class=\"wandb\"><tr><td>epoch</td><td>▁▃▅▆█</td></tr><tr><td>train_loss</td><td>█▄▃▂▁</td></tr><tr><td>val_loss</td><td>█▃▂▂▁</td></tr></table><br/></div><div class=\"wandb-col\"><h3>Run summary:</h3><br/><table class=\"wandb\"><tr><td>epoch</td><td>5</td></tr><tr><td>train_loss</td><td>1.83071</td></tr><tr><td>val_loss</td><td>1.76138</td></tr></table><br/></div></div>"
      ],
      "text/plain": [
       "<IPython.core.display.HTML object>"
      ]
     },
     "metadata": {},
     "output_type": "display_data"
    },
    {
     "data": {
      "text/html": [
       " View run <strong style=\"color:#cdcd00\">flowing-sweep-15</strong> at: <a href='https://wandb.ai/da24m017-indian-institute-of-technology-madras/DA6401_Assignment_1/runs/pvdnbmq9' target=\"_blank\">https://wandb.ai/da24m017-indian-institute-of-technology-madras/DA6401_Assignment_1/runs/pvdnbmq9</a><br> View project at: <a href='https://wandb.ai/da24m017-indian-institute-of-technology-madras/DA6401_Assignment_1' target=\"_blank\">https://wandb.ai/da24m017-indian-institute-of-technology-madras/DA6401_Assignment_1</a><br>Synced 5 W&B file(s), 0 media file(s), 0 artifact file(s) and 0 other file(s)"
      ],
      "text/plain": [
       "<IPython.core.display.HTML object>"
      ]
     },
     "metadata": {},
     "output_type": "display_data"
    },
    {
     "data": {
      "text/html": [
       "Find logs at: <code>./wandb/run-20250309_060014-pvdnbmq9/logs</code>"
      ],
      "text/plain": [
       "<IPython.core.display.HTML object>"
      ]
     },
     "metadata": {},
     "output_type": "display_data"
    },
    {
     "name": "stderr",
     "output_type": "stream",
     "text": [
      "\u001b[34m\u001b[1mwandb\u001b[0m: Agent Starting Run: 4x0vqmpt with config:\n",
      "\u001b[34m\u001b[1mwandb\u001b[0m: \tactivation: relu\n",
      "\u001b[34m\u001b[1mwandb\u001b[0m: \tbatch_size: 16\n",
      "\u001b[34m\u001b[1mwandb\u001b[0m: \tepochs: 5\n",
      "\u001b[34m\u001b[1mwandb\u001b[0m: \thidden_layers: 3\n",
      "\u001b[34m\u001b[1mwandb\u001b[0m: \tlayer_size: 32\n",
      "\u001b[34m\u001b[1mwandb\u001b[0m: \tlearning_rate: 0.001\n",
      "\u001b[34m\u001b[1mwandb\u001b[0m: \toptimizer: sgd\n",
      "\u001b[34m\u001b[1mwandb\u001b[0m: \tweight_decay: 0\n",
      "\u001b[34m\u001b[1mwandb\u001b[0m: \tweight_init: random\n"
     ]
    },
    {
     "data": {
      "text/html": [
       "Tracking run with wandb version 0.19.8"
      ],
      "text/plain": [
       "<IPython.core.display.HTML object>"
      ]
     },
     "metadata": {},
     "output_type": "display_data"
    },
    {
     "data": {
      "text/html": [
       "Run data is saved locally in <code>/Users/sathwikpentela/MTECH/DA6401_Assignment_1/wandb/run-20250309_060025-4x0vqmpt</code>"
      ],
      "text/plain": [
       "<IPython.core.display.HTML object>"
      ]
     },
     "metadata": {},
     "output_type": "display_data"
    },
    {
     "data": {
      "text/html": [
       "Syncing run <strong><a href='https://wandb.ai/da24m017-indian-institute-of-technology-madras/DA6401_Assignment_1/runs/4x0vqmpt' target=\"_blank\">resilient-sweep-16</a></strong> to <a href='https://wandb.ai/da24m017-indian-institute-of-technology-madras/DA6401_Assignment_1' target=\"_blank\">Weights & Biases</a> (<a href='https://wandb.me/developer-guide' target=\"_blank\">docs</a>)<br>Sweep page: <a href='https://wandb.ai/da24m017-indian-institute-of-technology-madras/DA6401_Assignment_1/sweeps/ic4mfnl6' target=\"_blank\">https://wandb.ai/da24m017-indian-institute-of-technology-madras/DA6401_Assignment_1/sweeps/ic4mfnl6</a>"
      ],
      "text/plain": [
       "<IPython.core.display.HTML object>"
      ]
     },
     "metadata": {},
     "output_type": "display_data"
    },
    {
     "data": {
      "text/html": [
       " View project at <a href='https://wandb.ai/da24m017-indian-institute-of-technology-madras/DA6401_Assignment_1' target=\"_blank\">https://wandb.ai/da24m017-indian-institute-of-technology-madras/DA6401_Assignment_1</a>"
      ],
      "text/plain": [
       "<IPython.core.display.HTML object>"
      ]
     },
     "metadata": {},
     "output_type": "display_data"
    },
    {
     "data": {
      "text/html": [
       " View sweep at <a href='https://wandb.ai/da24m017-indian-institute-of-technology-madras/DA6401_Assignment_1/sweeps/ic4mfnl6' target=\"_blank\">https://wandb.ai/da24m017-indian-institute-of-technology-madras/DA6401_Assignment_1/sweeps/ic4mfnl6</a>"
      ],
      "text/plain": [
       "<IPython.core.display.HTML object>"
      ]
     },
     "metadata": {},
     "output_type": "display_data"
    },
    {
     "data": {
      "text/html": [
       " View run at <a href='https://wandb.ai/da24m017-indian-institute-of-technology-madras/DA6401_Assignment_1/runs/4x0vqmpt' target=\"_blank\">https://wandb.ai/da24m017-indian-institute-of-technology-madras/DA6401_Assignment_1/runs/4x0vqmpt</a>"
      ],
      "text/plain": [
       "<IPython.core.display.HTML object>"
      ]
     },
     "metadata": {},
     "output_type": "display_data"
    },
    {
     "name": "stdout",
     "output_type": "stream",
     "text": [
      "Epoch 1, Train Loss: 2.2962, Val Loss: 2.3034\n",
      "Epoch 2, Train Loss: 2.2960, Val Loss: 2.3034\n",
      "Epoch 3, Train Loss: 2.2960, Val Loss: 2.3034\n",
      "Epoch 4, Train Loss: 2.2960, Val Loss: 2.3034\n",
      "Epoch 5, Train Loss: 2.2960, Val Loss: 2.3034\n"
     ]
    },
    {
     "data": {
      "text/html": [],
      "text/plain": [
       "<IPython.core.display.HTML object>"
      ]
     },
     "metadata": {},
     "output_type": "display_data"
    },
    {
     "data": {
      "text/html": [
       "<br>    <style><br>        .wandb-row {<br>            display: flex;<br>            flex-direction: row;<br>            flex-wrap: wrap;<br>            justify-content: flex-start;<br>            width: 100%;<br>        }<br>        .wandb-col {<br>            display: flex;<br>            flex-direction: column;<br>            flex-basis: 100%;<br>            flex: 1;<br>            padding: 10px;<br>        }<br>    </style><br><div class=\"wandb-row\"><div class=\"wandb-col\"><h3>Run history:</h3><br/><table class=\"wandb\"><tr><td>epoch</td><td>▁▃▅▆█</td></tr><tr><td>train_loss</td><td>█▁▁▁▁</td></tr><tr><td>val_loss</td><td>▁████</td></tr></table><br/></div><div class=\"wandb-col\"><h3>Run summary:</h3><br/><table class=\"wandb\"><tr><td>epoch</td><td>5</td></tr><tr><td>train_loss</td><td>2.29601</td></tr><tr><td>val_loss</td><td>2.30341</td></tr></table><br/></div></div>"
      ],
      "text/plain": [
       "<IPython.core.display.HTML object>"
      ]
     },
     "metadata": {},
     "output_type": "display_data"
    },
    {
     "data": {
      "text/html": [
       " View run <strong style=\"color:#cdcd00\">resilient-sweep-16</strong> at: <a href='https://wandb.ai/da24m017-indian-institute-of-technology-madras/DA6401_Assignment_1/runs/4x0vqmpt' target=\"_blank\">https://wandb.ai/da24m017-indian-institute-of-technology-madras/DA6401_Assignment_1/runs/4x0vqmpt</a><br> View project at: <a href='https://wandb.ai/da24m017-indian-institute-of-technology-madras/DA6401_Assignment_1' target=\"_blank\">https://wandb.ai/da24m017-indian-institute-of-technology-madras/DA6401_Assignment_1</a><br>Synced 5 W&B file(s), 0 media file(s), 0 artifact file(s) and 0 other file(s)"
      ],
      "text/plain": [
       "<IPython.core.display.HTML object>"
      ]
     },
     "metadata": {},
     "output_type": "display_data"
    },
    {
     "data": {
      "text/html": [
       "Find logs at: <code>./wandb/run-20250309_060025-4x0vqmpt/logs</code>"
      ],
      "text/plain": [
       "<IPython.core.display.HTML object>"
      ]
     },
     "metadata": {},
     "output_type": "display_data"
    },
    {
     "name": "stderr",
     "output_type": "stream",
     "text": [
      "\u001b[34m\u001b[1mwandb\u001b[0m: Agent Starting Run: 0zt36ssk with config:\n",
      "\u001b[34m\u001b[1mwandb\u001b[0m: \tactivation: relu\n",
      "\u001b[34m\u001b[1mwandb\u001b[0m: \tbatch_size: 64\n",
      "\u001b[34m\u001b[1mwandb\u001b[0m: \tepochs: 5\n",
      "\u001b[34m\u001b[1mwandb\u001b[0m: \thidden_layers: 3\n",
      "\u001b[34m\u001b[1mwandb\u001b[0m: \tlayer_size: 64\n",
      "\u001b[34m\u001b[1mwandb\u001b[0m: \tlearning_rate: 0.0001\n",
      "\u001b[34m\u001b[1mwandb\u001b[0m: \toptimizer: nadam\n",
      "\u001b[34m\u001b[1mwandb\u001b[0m: \tweight_decay: 0.5\n",
      "\u001b[34m\u001b[1mwandb\u001b[0m: \tweight_init: xavier\n"
     ]
    },
    {
     "data": {
      "text/html": [
       "Tracking run with wandb version 0.19.8"
      ],
      "text/plain": [
       "<IPython.core.display.HTML object>"
      ]
     },
     "metadata": {},
     "output_type": "display_data"
    },
    {
     "data": {
      "text/html": [
       "Run data is saved locally in <code>/Users/sathwikpentela/MTECH/DA6401_Assignment_1/wandb/run-20250309_060035-0zt36ssk</code>"
      ],
      "text/plain": [
       "<IPython.core.display.HTML object>"
      ]
     },
     "metadata": {},
     "output_type": "display_data"
    },
    {
     "data": {
      "text/html": [
       "Syncing run <strong><a href='https://wandb.ai/da24m017-indian-institute-of-technology-madras/DA6401_Assignment_1/runs/0zt36ssk' target=\"_blank\">rosy-sweep-17</a></strong> to <a href='https://wandb.ai/da24m017-indian-institute-of-technology-madras/DA6401_Assignment_1' target=\"_blank\">Weights & Biases</a> (<a href='https://wandb.me/developer-guide' target=\"_blank\">docs</a>)<br>Sweep page: <a href='https://wandb.ai/da24m017-indian-institute-of-technology-madras/DA6401_Assignment_1/sweeps/ic4mfnl6' target=\"_blank\">https://wandb.ai/da24m017-indian-institute-of-technology-madras/DA6401_Assignment_1/sweeps/ic4mfnl6</a>"
      ],
      "text/plain": [
       "<IPython.core.display.HTML object>"
      ]
     },
     "metadata": {},
     "output_type": "display_data"
    },
    {
     "data": {
      "text/html": [
       " View project at <a href='https://wandb.ai/da24m017-indian-institute-of-technology-madras/DA6401_Assignment_1' target=\"_blank\">https://wandb.ai/da24m017-indian-institute-of-technology-madras/DA6401_Assignment_1</a>"
      ],
      "text/plain": [
       "<IPython.core.display.HTML object>"
      ]
     },
     "metadata": {},
     "output_type": "display_data"
    },
    {
     "data": {
      "text/html": [
       " View sweep at <a href='https://wandb.ai/da24m017-indian-institute-of-technology-madras/DA6401_Assignment_1/sweeps/ic4mfnl6' target=\"_blank\">https://wandb.ai/da24m017-indian-institute-of-technology-madras/DA6401_Assignment_1/sweeps/ic4mfnl6</a>"
      ],
      "text/plain": [
       "<IPython.core.display.HTML object>"
      ]
     },
     "metadata": {},
     "output_type": "display_data"
    },
    {
     "data": {
      "text/html": [
       " View run at <a href='https://wandb.ai/da24m017-indian-institute-of-technology-madras/DA6401_Assignment_1/runs/0zt36ssk' target=\"_blank\">https://wandb.ai/da24m017-indian-institute-of-technology-madras/DA6401_Assignment_1/runs/0zt36ssk</a>"
      ],
      "text/plain": [
       "<IPython.core.display.HTML object>"
      ]
     },
     "metadata": {},
     "output_type": "display_data"
    },
    {
     "name": "stderr",
     "output_type": "stream",
     "text": [
      "Traceback (most recent call last):\n",
      "  File \"/var/folders/97/64q5gb_55n5dk9c9nd8xzdw00000gn/T/ipykernel_38811/4050847273.py\", line 20, in sweep_train\n",
      "    model = NeuralNetwork(\n",
      "  File \"/var/folders/97/64q5gb_55n5dk9c9nd8xzdw00000gn/T/ipykernel_38811/4163194409.py\", line 8, in __init__\n",
      "    self.optimizer = optimizers[optimizer](lr=lr)\n",
      "KeyError: 'nadam'\n"
     ]
    },
    {
     "data": {
      "text/html": [],
      "text/plain": [
       "<IPython.core.display.HTML object>"
      ]
     },
     "metadata": {},
     "output_type": "display_data"
    },
    {
     "data": {
      "text/html": [
       " View run <strong style=\"color:#cdcd00\">rosy-sweep-17</strong> at: <a href='https://wandb.ai/da24m017-indian-institute-of-technology-madras/DA6401_Assignment_1/runs/0zt36ssk' target=\"_blank\">https://wandb.ai/da24m017-indian-institute-of-technology-madras/DA6401_Assignment_1/runs/0zt36ssk</a><br> View project at: <a href='https://wandb.ai/da24m017-indian-institute-of-technology-madras/DA6401_Assignment_1' target=\"_blank\">https://wandb.ai/da24m017-indian-institute-of-technology-madras/DA6401_Assignment_1</a><br>Synced 5 W&B file(s), 0 media file(s), 0 artifact file(s) and 0 other file(s)"
      ],
      "text/plain": [
       "<IPython.core.display.HTML object>"
      ]
     },
     "metadata": {},
     "output_type": "display_data"
    },
    {
     "data": {
      "text/html": [
       "Find logs at: <code>./wandb/run-20250309_060035-0zt36ssk/logs</code>"
      ],
      "text/plain": [
       "<IPython.core.display.HTML object>"
      ]
     },
     "metadata": {},
     "output_type": "display_data"
    },
    {
     "name": "stderr",
     "output_type": "stream",
     "text": [
      "Run 0zt36ssk errored:\n",
      "Traceback (most recent call last):\n",
      "  File \"/Users/sathwikpentela/miniforge3/envs/PINN/lib/python3.10/site-packages/wandb/agents/pyagent.py\", line 306, in _run_job\n",
      "    self._function()\n",
      "  File \"/var/folders/97/64q5gb_55n5dk9c9nd8xzdw00000gn/T/ipykernel_38811/4050847273.py\", line 20, in sweep_train\n",
      "    model = NeuralNetwork(\n",
      "  File \"/var/folders/97/64q5gb_55n5dk9c9nd8xzdw00000gn/T/ipykernel_38811/4163194409.py\", line 8, in __init__\n",
      "    self.optimizer = optimizers[optimizer](lr=lr)\n",
      "KeyError: 'nadam'\n",
      "\n",
      "\u001b[34m\u001b[1mwandb\u001b[0m: \u001b[32m\u001b[41mERROR\u001b[0m Run 0zt36ssk errored:\n",
      "\u001b[34m\u001b[1mwandb\u001b[0m: \u001b[32m\u001b[41mERROR\u001b[0m Traceback (most recent call last):\n",
      "\u001b[34m\u001b[1mwandb\u001b[0m: \u001b[32m\u001b[41mERROR\u001b[0m   File \"/Users/sathwikpentela/miniforge3/envs/PINN/lib/python3.10/site-packages/wandb/agents/pyagent.py\", line 306, in _run_job\n",
      "\u001b[34m\u001b[1mwandb\u001b[0m: \u001b[32m\u001b[41mERROR\u001b[0m     self._function()\n",
      "\u001b[34m\u001b[1mwandb\u001b[0m: \u001b[32m\u001b[41mERROR\u001b[0m   File \"/var/folders/97/64q5gb_55n5dk9c9nd8xzdw00000gn/T/ipykernel_38811/4050847273.py\", line 20, in sweep_train\n",
      "\u001b[34m\u001b[1mwandb\u001b[0m: \u001b[32m\u001b[41mERROR\u001b[0m     model = NeuralNetwork(\n",
      "\u001b[34m\u001b[1mwandb\u001b[0m: \u001b[32m\u001b[41mERROR\u001b[0m   File \"/var/folders/97/64q5gb_55n5dk9c9nd8xzdw00000gn/T/ipykernel_38811/4163194409.py\", line 8, in __init__\n",
      "\u001b[34m\u001b[1mwandb\u001b[0m: \u001b[32m\u001b[41mERROR\u001b[0m     self.optimizer = optimizers[optimizer](lr=lr)\n",
      "\u001b[34m\u001b[1mwandb\u001b[0m: \u001b[32m\u001b[41mERROR\u001b[0m KeyError: 'nadam'\n",
      "\u001b[34m\u001b[1mwandb\u001b[0m: \u001b[32m\u001b[41mERROR\u001b[0m \n",
      "\u001b[34m\u001b[1mwandb\u001b[0m: Agent Starting Run: d375k35p with config:\n",
      "\u001b[34m\u001b[1mwandb\u001b[0m: \tactivation: relu\n",
      "\u001b[34m\u001b[1mwandb\u001b[0m: \tbatch_size: 64\n",
      "\u001b[34m\u001b[1mwandb\u001b[0m: \tepochs: 5\n",
      "\u001b[34m\u001b[1mwandb\u001b[0m: \thidden_layers: 5\n",
      "\u001b[34m\u001b[1mwandb\u001b[0m: \tlayer_size: 128\n",
      "\u001b[34m\u001b[1mwandb\u001b[0m: \tlearning_rate: 0.0001\n",
      "\u001b[34m\u001b[1mwandb\u001b[0m: \toptimizer: adam\n",
      "\u001b[34m\u001b[1mwandb\u001b[0m: \tweight_decay: 0\n",
      "\u001b[34m\u001b[1mwandb\u001b[0m: \tweight_init: xavier\n"
     ]
    },
    {
     "data": {
      "text/html": [
       "Tracking run with wandb version 0.19.8"
      ],
      "text/plain": [
       "<IPython.core.display.HTML object>"
      ]
     },
     "metadata": {},
     "output_type": "display_data"
    },
    {
     "data": {
      "text/html": [
       "Run data is saved locally in <code>/Users/sathwikpentela/MTECH/DA6401_Assignment_1/wandb/run-20250309_060041-d375k35p</code>"
      ],
      "text/plain": [
       "<IPython.core.display.HTML object>"
      ]
     },
     "metadata": {},
     "output_type": "display_data"
    },
    {
     "data": {
      "text/html": [
       "Syncing run <strong><a href='https://wandb.ai/da24m017-indian-institute-of-technology-madras/DA6401_Assignment_1/runs/d375k35p' target=\"_blank\">happy-sweep-18</a></strong> to <a href='https://wandb.ai/da24m017-indian-institute-of-technology-madras/DA6401_Assignment_1' target=\"_blank\">Weights & Biases</a> (<a href='https://wandb.me/developer-guide' target=\"_blank\">docs</a>)<br>Sweep page: <a href='https://wandb.ai/da24m017-indian-institute-of-technology-madras/DA6401_Assignment_1/sweeps/ic4mfnl6' target=\"_blank\">https://wandb.ai/da24m017-indian-institute-of-technology-madras/DA6401_Assignment_1/sweeps/ic4mfnl6</a>"
      ],
      "text/plain": [
       "<IPython.core.display.HTML object>"
      ]
     },
     "metadata": {},
     "output_type": "display_data"
    },
    {
     "data": {
      "text/html": [
       " View project at <a href='https://wandb.ai/da24m017-indian-institute-of-technology-madras/DA6401_Assignment_1' target=\"_blank\">https://wandb.ai/da24m017-indian-institute-of-technology-madras/DA6401_Assignment_1</a>"
      ],
      "text/plain": [
       "<IPython.core.display.HTML object>"
      ]
     },
     "metadata": {},
     "output_type": "display_data"
    },
    {
     "data": {
      "text/html": [
       " View sweep at <a href='https://wandb.ai/da24m017-indian-institute-of-technology-madras/DA6401_Assignment_1/sweeps/ic4mfnl6' target=\"_blank\">https://wandb.ai/da24m017-indian-institute-of-technology-madras/DA6401_Assignment_1/sweeps/ic4mfnl6</a>"
      ],
      "text/plain": [
       "<IPython.core.display.HTML object>"
      ]
     },
     "metadata": {},
     "output_type": "display_data"
    },
    {
     "data": {
      "text/html": [
       " View run at <a href='https://wandb.ai/da24m017-indian-institute-of-technology-madras/DA6401_Assignment_1/runs/d375k35p' target=\"_blank\">https://wandb.ai/da24m017-indian-institute-of-technology-madras/DA6401_Assignment_1/runs/d375k35p</a>"
      ],
      "text/plain": [
       "<IPython.core.display.HTML object>"
      ]
     },
     "metadata": {},
     "output_type": "display_data"
    },
    {
     "name": "stdout",
     "output_type": "stream",
     "text": [
      "Epoch 1, Train Loss: 2.0799, Val Loss: 2.0506\n",
      "Epoch 2, Train Loss: 1.8987, Val Loss: 1.9077\n",
      "Epoch 3, Train Loss: 1.8310, Val Loss: 1.8439\n",
      "Epoch 4, Train Loss: 1.7760, Val Loss: 1.7966\n",
      "Epoch 5, Train Loss: 1.7558, Val Loss: 1.7782\n"
     ]
    },
    {
     "data": {
      "text/html": [],
      "text/plain": [
       "<IPython.core.display.HTML object>"
      ]
     },
     "metadata": {},
     "output_type": "display_data"
    },
    {
     "data": {
      "text/html": [
       "<br>    <style><br>        .wandb-row {<br>            display: flex;<br>            flex-direction: row;<br>            flex-wrap: wrap;<br>            justify-content: flex-start;<br>            width: 100%;<br>        }<br>        .wandb-col {<br>            display: flex;<br>            flex-direction: column;<br>            flex-basis: 100%;<br>            flex: 1;<br>            padding: 10px;<br>        }<br>    </style><br><div class=\"wandb-row\"><div class=\"wandb-col\"><h3>Run history:</h3><br/><table class=\"wandb\"><tr><td>epoch</td><td>▁▃▅▆█</td></tr><tr><td>train_loss</td><td>█▄▃▁▁</td></tr><tr><td>val_loss</td><td>█▄▃▁▁</td></tr></table><br/></div><div class=\"wandb-col\"><h3>Run summary:</h3><br/><table class=\"wandb\"><tr><td>epoch</td><td>5</td></tr><tr><td>train_loss</td><td>1.75577</td></tr><tr><td>val_loss</td><td>1.77821</td></tr></table><br/></div></div>"
      ],
      "text/plain": [
       "<IPython.core.display.HTML object>"
      ]
     },
     "metadata": {},
     "output_type": "display_data"
    },
    {
     "data": {
      "text/html": [
       " View run <strong style=\"color:#cdcd00\">happy-sweep-18</strong> at: <a href='https://wandb.ai/da24m017-indian-institute-of-technology-madras/DA6401_Assignment_1/runs/d375k35p' target=\"_blank\">https://wandb.ai/da24m017-indian-institute-of-technology-madras/DA6401_Assignment_1/runs/d375k35p</a><br> View project at: <a href='https://wandb.ai/da24m017-indian-institute-of-technology-madras/DA6401_Assignment_1' target=\"_blank\">https://wandb.ai/da24m017-indian-institute-of-technology-madras/DA6401_Assignment_1</a><br>Synced 5 W&B file(s), 0 media file(s), 0 artifact file(s) and 0 other file(s)"
      ],
      "text/plain": [
       "<IPython.core.display.HTML object>"
      ]
     },
     "metadata": {},
     "output_type": "display_data"
    },
    {
     "data": {
      "text/html": [
       "Find logs at: <code>./wandb/run-20250309_060041-d375k35p/logs</code>"
      ],
      "text/plain": [
       "<IPython.core.display.HTML object>"
      ]
     },
     "metadata": {},
     "output_type": "display_data"
    },
    {
     "name": "stderr",
     "output_type": "stream",
     "text": [
      "\u001b[34m\u001b[1mwandb\u001b[0m: Agent Starting Run: j62dycf6 with config:\n",
      "\u001b[34m\u001b[1mwandb\u001b[0m: \tactivation: tanh\n",
      "\u001b[34m\u001b[1mwandb\u001b[0m: \tbatch_size: 64\n",
      "\u001b[34m\u001b[1mwandb\u001b[0m: \tepochs: 5\n",
      "\u001b[34m\u001b[1mwandb\u001b[0m: \thidden_layers: 5\n",
      "\u001b[34m\u001b[1mwandb\u001b[0m: \tlayer_size: 128\n",
      "\u001b[34m\u001b[1mwandb\u001b[0m: \tlearning_rate: 0.0001\n",
      "\u001b[34m\u001b[1mwandb\u001b[0m: \toptimizer: adam\n",
      "\u001b[34m\u001b[1mwandb\u001b[0m: \tweight_decay: 0\n",
      "\u001b[34m\u001b[1mwandb\u001b[0m: \tweight_init: xavier\n"
     ]
    },
    {
     "data": {
      "text/html": [
       "Tracking run with wandb version 0.19.8"
      ],
      "text/plain": [
       "<IPython.core.display.HTML object>"
      ]
     },
     "metadata": {},
     "output_type": "display_data"
    },
    {
     "data": {
      "text/html": [
       "Run data is saved locally in <code>/Users/sathwikpentela/MTECH/DA6401_Assignment_1/wandb/run-20250309_060052-j62dycf6</code>"
      ],
      "text/plain": [
       "<IPython.core.display.HTML object>"
      ]
     },
     "metadata": {},
     "output_type": "display_data"
    },
    {
     "data": {
      "text/html": [
       "Syncing run <strong><a href='https://wandb.ai/da24m017-indian-institute-of-technology-madras/DA6401_Assignment_1/runs/j62dycf6' target=\"_blank\">stoic-sweep-19</a></strong> to <a href='https://wandb.ai/da24m017-indian-institute-of-technology-madras/DA6401_Assignment_1' target=\"_blank\">Weights & Biases</a> (<a href='https://wandb.me/developer-guide' target=\"_blank\">docs</a>)<br>Sweep page: <a href='https://wandb.ai/da24m017-indian-institute-of-technology-madras/DA6401_Assignment_1/sweeps/ic4mfnl6' target=\"_blank\">https://wandb.ai/da24m017-indian-institute-of-technology-madras/DA6401_Assignment_1/sweeps/ic4mfnl6</a>"
      ],
      "text/plain": [
       "<IPython.core.display.HTML object>"
      ]
     },
     "metadata": {},
     "output_type": "display_data"
    },
    {
     "data": {
      "text/html": [
       " View project at <a href='https://wandb.ai/da24m017-indian-institute-of-technology-madras/DA6401_Assignment_1' target=\"_blank\">https://wandb.ai/da24m017-indian-institute-of-technology-madras/DA6401_Assignment_1</a>"
      ],
      "text/plain": [
       "<IPython.core.display.HTML object>"
      ]
     },
     "metadata": {},
     "output_type": "display_data"
    },
    {
     "data": {
      "text/html": [
       " View sweep at <a href='https://wandb.ai/da24m017-indian-institute-of-technology-madras/DA6401_Assignment_1/sweeps/ic4mfnl6' target=\"_blank\">https://wandb.ai/da24m017-indian-institute-of-technology-madras/DA6401_Assignment_1/sweeps/ic4mfnl6</a>"
      ],
      "text/plain": [
       "<IPython.core.display.HTML object>"
      ]
     },
     "metadata": {},
     "output_type": "display_data"
    },
    {
     "data": {
      "text/html": [
       " View run at <a href='https://wandb.ai/da24m017-indian-institute-of-technology-madras/DA6401_Assignment_1/runs/j62dycf6' target=\"_blank\">https://wandb.ai/da24m017-indian-institute-of-technology-madras/DA6401_Assignment_1/runs/j62dycf6</a>"
      ],
      "text/plain": [
       "<IPython.core.display.HTML object>"
      ]
     },
     "metadata": {},
     "output_type": "display_data"
    },
    {
     "name": "stdout",
     "output_type": "stream",
     "text": [
      "Epoch 1, Train Loss: 2.3020, Val Loss: 2.3026\n",
      "Epoch 2, Train Loss: 2.3020, Val Loss: 2.3026\n",
      "Epoch 3, Train Loss: 2.3020, Val Loss: 2.3027\n",
      "Epoch 4, Train Loss: 2.3020, Val Loss: 2.3027\n",
      "Epoch 5, Train Loss: 2.3020, Val Loss: 2.3027\n"
     ]
    },
    {
     "data": {
      "text/html": [],
      "text/plain": [
       "<IPython.core.display.HTML object>"
      ]
     },
     "metadata": {},
     "output_type": "display_data"
    },
    {
     "data": {
      "text/html": [
       "<br>    <style><br>        .wandb-row {<br>            display: flex;<br>            flex-direction: row;<br>            flex-wrap: wrap;<br>            justify-content: flex-start;<br>            width: 100%;<br>        }<br>        .wandb-col {<br>            display: flex;<br>            flex-direction: column;<br>            flex-basis: 100%;<br>            flex: 1;<br>            padding: 10px;<br>        }<br>    </style><br><div class=\"wandb-row\"><div class=\"wandb-col\"><h3>Run history:</h3><br/><table class=\"wandb\"><tr><td>epoch</td><td>▁▃▅▆█</td></tr><tr><td>train_loss</td><td>█▁▃▄▅</td></tr><tr><td>val_loss</td><td>▁▆███</td></tr></table><br/></div><div class=\"wandb-col\"><h3>Run summary:</h3><br/><table class=\"wandb\"><tr><td>epoch</td><td>5</td></tr><tr><td>train_loss</td><td>2.30198</td></tr><tr><td>val_loss</td><td>2.30265</td></tr></table><br/></div></div>"
      ],
      "text/plain": [
       "<IPython.core.display.HTML object>"
      ]
     },
     "metadata": {},
     "output_type": "display_data"
    },
    {
     "data": {
      "text/html": [
       " View run <strong style=\"color:#cdcd00\">stoic-sweep-19</strong> at: <a href='https://wandb.ai/da24m017-indian-institute-of-technology-madras/DA6401_Assignment_1/runs/j62dycf6' target=\"_blank\">https://wandb.ai/da24m017-indian-institute-of-technology-madras/DA6401_Assignment_1/runs/j62dycf6</a><br> View project at: <a href='https://wandb.ai/da24m017-indian-institute-of-technology-madras/DA6401_Assignment_1' target=\"_blank\">https://wandb.ai/da24m017-indian-institute-of-technology-madras/DA6401_Assignment_1</a><br>Synced 5 W&B file(s), 0 media file(s), 0 artifact file(s) and 0 other file(s)"
      ],
      "text/plain": [
       "<IPython.core.display.HTML object>"
      ]
     },
     "metadata": {},
     "output_type": "display_data"
    },
    {
     "data": {
      "text/html": [
       "Find logs at: <code>./wandb/run-20250309_060052-j62dycf6/logs</code>"
      ],
      "text/plain": [
       "<IPython.core.display.HTML object>"
      ]
     },
     "metadata": {},
     "output_type": "display_data"
    },
    {
     "name": "stderr",
     "output_type": "stream",
     "text": [
      "\u001b[34m\u001b[1mwandb\u001b[0m: Agent Starting Run: wzz63qwc with config:\n",
      "\u001b[34m\u001b[1mwandb\u001b[0m: \tactivation: relu\n",
      "\u001b[34m\u001b[1mwandb\u001b[0m: \tbatch_size: 64\n",
      "\u001b[34m\u001b[1mwandb\u001b[0m: \tepochs: 10\n",
      "\u001b[34m\u001b[1mwandb\u001b[0m: \thidden_layers: 4\n",
      "\u001b[34m\u001b[1mwandb\u001b[0m: \tlayer_size: 128\n",
      "\u001b[34m\u001b[1mwandb\u001b[0m: \tlearning_rate: 0.0001\n",
      "\u001b[34m\u001b[1mwandb\u001b[0m: \toptimizer: adam\n",
      "\u001b[34m\u001b[1mwandb\u001b[0m: \tweight_decay: 0.5\n",
      "\u001b[34m\u001b[1mwandb\u001b[0m: \tweight_init: xavier\n"
     ]
    },
    {
     "data": {
      "text/html": [
       "Tracking run with wandb version 0.19.8"
      ],
      "text/plain": [
       "<IPython.core.display.HTML object>"
      ]
     },
     "metadata": {},
     "output_type": "display_data"
    },
    {
     "data": {
      "text/html": [
       "Run data is saved locally in <code>/Users/sathwikpentela/MTECH/DA6401_Assignment_1/wandb/run-20250309_060103-wzz63qwc</code>"
      ],
      "text/plain": [
       "<IPython.core.display.HTML object>"
      ]
     },
     "metadata": {},
     "output_type": "display_data"
    },
    {
     "data": {
      "text/html": [
       "Syncing run <strong><a href='https://wandb.ai/da24m017-indian-institute-of-technology-madras/DA6401_Assignment_1/runs/wzz63qwc' target=\"_blank\">comfy-sweep-20</a></strong> to <a href='https://wandb.ai/da24m017-indian-institute-of-technology-madras/DA6401_Assignment_1' target=\"_blank\">Weights & Biases</a> (<a href='https://wandb.me/developer-guide' target=\"_blank\">docs</a>)<br>Sweep page: <a href='https://wandb.ai/da24m017-indian-institute-of-technology-madras/DA6401_Assignment_1/sweeps/ic4mfnl6' target=\"_blank\">https://wandb.ai/da24m017-indian-institute-of-technology-madras/DA6401_Assignment_1/sweeps/ic4mfnl6</a>"
      ],
      "text/plain": [
       "<IPython.core.display.HTML object>"
      ]
     },
     "metadata": {},
     "output_type": "display_data"
    },
    {
     "data": {
      "text/html": [
       " View project at <a href='https://wandb.ai/da24m017-indian-institute-of-technology-madras/DA6401_Assignment_1' target=\"_blank\">https://wandb.ai/da24m017-indian-institute-of-technology-madras/DA6401_Assignment_1</a>"
      ],
      "text/plain": [
       "<IPython.core.display.HTML object>"
      ]
     },
     "metadata": {},
     "output_type": "display_data"
    },
    {
     "data": {
      "text/html": [
       " View sweep at <a href='https://wandb.ai/da24m017-indian-institute-of-technology-madras/DA6401_Assignment_1/sweeps/ic4mfnl6' target=\"_blank\">https://wandb.ai/da24m017-indian-institute-of-technology-madras/DA6401_Assignment_1/sweeps/ic4mfnl6</a>"
      ],
      "text/plain": [
       "<IPython.core.display.HTML object>"
      ]
     },
     "metadata": {},
     "output_type": "display_data"
    },
    {
     "data": {
      "text/html": [
       " View run at <a href='https://wandb.ai/da24m017-indian-institute-of-technology-madras/DA6401_Assignment_1/runs/wzz63qwc' target=\"_blank\">https://wandb.ai/da24m017-indian-institute-of-technology-madras/DA6401_Assignment_1/runs/wzz63qwc</a>"
      ],
      "text/plain": [
       "<IPython.core.display.HTML object>"
      ]
     },
     "metadata": {},
     "output_type": "display_data"
    },
    {
     "name": "stdout",
     "output_type": "stream",
     "text": [
      "Epoch 1, Train Loss: 2.0836, Val Loss: 2.0241\n",
      "Epoch 2, Train Loss: 2.0412, Val Loss: 1.9764\n",
      "Epoch 3, Train Loss: 2.0119, Val Loss: 1.9271\n",
      "Epoch 4, Train Loss: 2.0073, Val Loss: 1.9104\n",
      "Epoch 5, Train Loss: 2.0002, Val Loss: 1.9009\n",
      "Epoch 6, Train Loss: 1.9936, Val Loss: 1.8921\n",
      "Epoch 7, Train Loss: 1.9883, Val Loss: 1.8871\n",
      "Epoch 8, Train Loss: 1.9793, Val Loss: 1.8783\n",
      "Epoch 9, Train Loss: 1.9682, Val Loss: 1.8705\n",
      "Epoch 10, Train Loss: 1.9581, Val Loss: 1.8635\n"
     ]
    },
    {
     "data": {
      "text/html": [],
      "text/plain": [
       "<IPython.core.display.HTML object>"
      ]
     },
     "metadata": {},
     "output_type": "display_data"
    },
    {
     "data": {
      "text/html": [
       "<br>    <style><br>        .wandb-row {<br>            display: flex;<br>            flex-direction: row;<br>            flex-wrap: wrap;<br>            justify-content: flex-start;<br>            width: 100%;<br>        }<br>        .wandb-col {<br>            display: flex;<br>            flex-direction: column;<br>            flex-basis: 100%;<br>            flex: 1;<br>            padding: 10px;<br>        }<br>    </style><br><div class=\"wandb-row\"><div class=\"wandb-col\"><h3>Run history:</h3><br/><table class=\"wandb\"><tr><td>epoch</td><td>▁▂▃▃▄▅▆▆▇█</td></tr><tr><td>train_loss</td><td>█▆▄▄▃▃▃▂▂▁</td></tr><tr><td>val_loss</td><td>█▆▄▃▃▂▂▂▁▁</td></tr></table><br/></div><div class=\"wandb-col\"><h3>Run summary:</h3><br/><table class=\"wandb\"><tr><td>epoch</td><td>10</td></tr><tr><td>train_loss</td><td>1.95813</td></tr><tr><td>val_loss</td><td>1.86349</td></tr></table><br/></div></div>"
      ],
      "text/plain": [
       "<IPython.core.display.HTML object>"
      ]
     },
     "metadata": {},
     "output_type": "display_data"
    },
    {
     "data": {
      "text/html": [
       " View run <strong style=\"color:#cdcd00\">comfy-sweep-20</strong> at: <a href='https://wandb.ai/da24m017-indian-institute-of-technology-madras/DA6401_Assignment_1/runs/wzz63qwc' target=\"_blank\">https://wandb.ai/da24m017-indian-institute-of-technology-madras/DA6401_Assignment_1/runs/wzz63qwc</a><br> View project at: <a href='https://wandb.ai/da24m017-indian-institute-of-technology-madras/DA6401_Assignment_1' target=\"_blank\">https://wandb.ai/da24m017-indian-institute-of-technology-madras/DA6401_Assignment_1</a><br>Synced 5 W&B file(s), 0 media file(s), 0 artifact file(s) and 0 other file(s)"
      ],
      "text/plain": [
       "<IPython.core.display.HTML object>"
      ]
     },
     "metadata": {},
     "output_type": "display_data"
    },
    {
     "data": {
      "text/html": [
       "Find logs at: <code>./wandb/run-20250309_060103-wzz63qwc/logs</code>"
      ],
      "text/plain": [
       "<IPython.core.display.HTML object>"
      ]
     },
     "metadata": {},
     "output_type": "display_data"
    },
    {
     "name": "stderr",
     "output_type": "stream",
     "text": [
      "\u001b[34m\u001b[1mwandb\u001b[0m: Agent Starting Run: 4imnmeqh with config:\n",
      "\u001b[34m\u001b[1mwandb\u001b[0m: \tactivation: relu\n",
      "\u001b[34m\u001b[1mwandb\u001b[0m: \tbatch_size: 32\n",
      "\u001b[34m\u001b[1mwandb\u001b[0m: \tepochs: 10\n",
      "\u001b[34m\u001b[1mwandb\u001b[0m: \thidden_layers: 4\n",
      "\u001b[34m\u001b[1mwandb\u001b[0m: \tlayer_size: 128\n",
      "\u001b[34m\u001b[1mwandb\u001b[0m: \tlearning_rate: 0.0001\n",
      "\u001b[34m\u001b[1mwandb\u001b[0m: \toptimizer: adam\n",
      "\u001b[34m\u001b[1mwandb\u001b[0m: \tweight_decay: 0.5\n",
      "\u001b[34m\u001b[1mwandb\u001b[0m: \tweight_init: xavier\n"
     ]
    },
    {
     "data": {
      "text/html": [
       "Tracking run with wandb version 0.19.8"
      ],
      "text/plain": [
       "<IPython.core.display.HTML object>"
      ]
     },
     "metadata": {},
     "output_type": "display_data"
    },
    {
     "data": {
      "text/html": [
       "Run data is saved locally in <code>/Users/sathwikpentela/MTECH/DA6401_Assignment_1/wandb/run-20250309_060119-4imnmeqh</code>"
      ],
      "text/plain": [
       "<IPython.core.display.HTML object>"
      ]
     },
     "metadata": {},
     "output_type": "display_data"
    },
    {
     "data": {
      "text/html": [
       "Syncing run <strong><a href='https://wandb.ai/da24m017-indian-institute-of-technology-madras/DA6401_Assignment_1/runs/4imnmeqh' target=\"_blank\">quiet-sweep-21</a></strong> to <a href='https://wandb.ai/da24m017-indian-institute-of-technology-madras/DA6401_Assignment_1' target=\"_blank\">Weights & Biases</a> (<a href='https://wandb.me/developer-guide' target=\"_blank\">docs</a>)<br>Sweep page: <a href='https://wandb.ai/da24m017-indian-institute-of-technology-madras/DA6401_Assignment_1/sweeps/ic4mfnl6' target=\"_blank\">https://wandb.ai/da24m017-indian-institute-of-technology-madras/DA6401_Assignment_1/sweeps/ic4mfnl6</a>"
      ],
      "text/plain": [
       "<IPython.core.display.HTML object>"
      ]
     },
     "metadata": {},
     "output_type": "display_data"
    },
    {
     "data": {
      "text/html": [
       " View project at <a href='https://wandb.ai/da24m017-indian-institute-of-technology-madras/DA6401_Assignment_1' target=\"_blank\">https://wandb.ai/da24m017-indian-institute-of-technology-madras/DA6401_Assignment_1</a>"
      ],
      "text/plain": [
       "<IPython.core.display.HTML object>"
      ]
     },
     "metadata": {},
     "output_type": "display_data"
    },
    {
     "data": {
      "text/html": [
       " View sweep at <a href='https://wandb.ai/da24m017-indian-institute-of-technology-madras/DA6401_Assignment_1/sweeps/ic4mfnl6' target=\"_blank\">https://wandb.ai/da24m017-indian-institute-of-technology-madras/DA6401_Assignment_1/sweeps/ic4mfnl6</a>"
      ],
      "text/plain": [
       "<IPython.core.display.HTML object>"
      ]
     },
     "metadata": {},
     "output_type": "display_data"
    },
    {
     "data": {
      "text/html": [
       " View run at <a href='https://wandb.ai/da24m017-indian-institute-of-technology-madras/DA6401_Assignment_1/runs/4imnmeqh' target=\"_blank\">https://wandb.ai/da24m017-indian-institute-of-technology-madras/DA6401_Assignment_1/runs/4imnmeqh</a>"
      ],
      "text/plain": [
       "<IPython.core.display.HTML object>"
      ]
     },
     "metadata": {},
     "output_type": "display_data"
    },
    {
     "name": "stdout",
     "output_type": "stream",
     "text": [
      "Epoch 1, Train Loss: 2.0374, Val Loss: 1.9532\n",
      "Epoch 2, Train Loss: 1.9518, Val Loss: 1.9091\n",
      "Epoch 3, Train Loss: 1.9210, Val Loss: 1.8877\n",
      "Epoch 4, Train Loss: 1.9009, Val Loss: 1.8730\n",
      "Epoch 5, Train Loss: 1.8833, Val Loss: 1.8631\n",
      "Epoch 6, Train Loss: 1.8606, Val Loss: 1.8533\n",
      "Epoch 7, Train Loss: 1.8574, Val Loss: 1.8440\n",
      "Epoch 8, Train Loss: 1.8332, Val Loss: 1.8318\n",
      "Epoch 9, Train Loss: 1.8223, Val Loss: 1.8286\n",
      "Epoch 10, Train Loss: 1.8060, Val Loss: 1.8240\n"
     ]
    },
    {
     "data": {
      "text/html": [],
      "text/plain": [
       "<IPython.core.display.HTML object>"
      ]
     },
     "metadata": {},
     "output_type": "display_data"
    },
    {
     "data": {
      "text/html": [
       "<br>    <style><br>        .wandb-row {<br>            display: flex;<br>            flex-direction: row;<br>            flex-wrap: wrap;<br>            justify-content: flex-start;<br>            width: 100%;<br>        }<br>        .wandb-col {<br>            display: flex;<br>            flex-direction: column;<br>            flex-basis: 100%;<br>            flex: 1;<br>            padding: 10px;<br>        }<br>    </style><br><div class=\"wandb-row\"><div class=\"wandb-col\"><h3>Run history:</h3><br/><table class=\"wandb\"><tr><td>epoch</td><td>▁▂▃▃▄▅▆▆▇█</td></tr><tr><td>train_loss</td><td>█▅▄▄▃▃▃▂▁▁</td></tr><tr><td>val_loss</td><td>█▆▄▄▃▃▂▁▁▁</td></tr></table><br/></div><div class=\"wandb-col\"><h3>Run summary:</h3><br/><table class=\"wandb\"><tr><td>epoch</td><td>10</td></tr><tr><td>train_loss</td><td>1.80603</td></tr><tr><td>val_loss</td><td>1.82403</td></tr></table><br/></div></div>"
      ],
      "text/plain": [
       "<IPython.core.display.HTML object>"
      ]
     },
     "metadata": {},
     "output_type": "display_data"
    },
    {
     "data": {
      "text/html": [
       " View run <strong style=\"color:#cdcd00\">quiet-sweep-21</strong> at: <a href='https://wandb.ai/da24m017-indian-institute-of-technology-madras/DA6401_Assignment_1/runs/4imnmeqh' target=\"_blank\">https://wandb.ai/da24m017-indian-institute-of-technology-madras/DA6401_Assignment_1/runs/4imnmeqh</a><br> View project at: <a href='https://wandb.ai/da24m017-indian-institute-of-technology-madras/DA6401_Assignment_1' target=\"_blank\">https://wandb.ai/da24m017-indian-institute-of-technology-madras/DA6401_Assignment_1</a><br>Synced 5 W&B file(s), 0 media file(s), 0 artifact file(s) and 0 other file(s)"
      ],
      "text/plain": [
       "<IPython.core.display.HTML object>"
      ]
     },
     "metadata": {},
     "output_type": "display_data"
    },
    {
     "data": {
      "text/html": [
       "Find logs at: <code>./wandb/run-20250309_060119-4imnmeqh/logs</code>"
      ],
      "text/plain": [
       "<IPython.core.display.HTML object>"
      ]
     },
     "metadata": {},
     "output_type": "display_data"
    },
    {
     "name": "stderr",
     "output_type": "stream",
     "text": [
      "\u001b[34m\u001b[1mwandb\u001b[0m: Agent Starting Run: vgfj9wxj with config:\n",
      "\u001b[34m\u001b[1mwandb\u001b[0m: \tactivation: sigmoid\n",
      "\u001b[34m\u001b[1mwandb\u001b[0m: \tbatch_size: 64\n",
      "\u001b[34m\u001b[1mwandb\u001b[0m: \tepochs: 5\n",
      "\u001b[34m\u001b[1mwandb\u001b[0m: \thidden_layers: 3\n",
      "\u001b[34m\u001b[1mwandb\u001b[0m: \tlayer_size: 32\n",
      "\u001b[34m\u001b[1mwandb\u001b[0m: \tlearning_rate: 0.001\n",
      "\u001b[34m\u001b[1mwandb\u001b[0m: \toptimizer: sgd\n",
      "\u001b[34m\u001b[1mwandb\u001b[0m: \tweight_decay: 0.5\n",
      "\u001b[34m\u001b[1mwandb\u001b[0m: \tweight_init: random\n"
     ]
    },
    {
     "data": {
      "text/html": [
       "Tracking run with wandb version 0.19.8"
      ],
      "text/plain": [
       "<IPython.core.display.HTML object>"
      ]
     },
     "metadata": {},
     "output_type": "display_data"
    },
    {
     "data": {
      "text/html": [
       "Run data is saved locally in <code>/Users/sathwikpentela/MTECH/DA6401_Assignment_1/wandb/run-20250309_060141-vgfj9wxj</code>"
      ],
      "text/plain": [
       "<IPython.core.display.HTML object>"
      ]
     },
     "metadata": {},
     "output_type": "display_data"
    },
    {
     "data": {
      "text/html": [
       "Syncing run <strong><a href='https://wandb.ai/da24m017-indian-institute-of-technology-madras/DA6401_Assignment_1/runs/vgfj9wxj' target=\"_blank\">magic-sweep-22</a></strong> to <a href='https://wandb.ai/da24m017-indian-institute-of-technology-madras/DA6401_Assignment_1' target=\"_blank\">Weights & Biases</a> (<a href='https://wandb.me/developer-guide' target=\"_blank\">docs</a>)<br>Sweep page: <a href='https://wandb.ai/da24m017-indian-institute-of-technology-madras/DA6401_Assignment_1/sweeps/ic4mfnl6' target=\"_blank\">https://wandb.ai/da24m017-indian-institute-of-technology-madras/DA6401_Assignment_1/sweeps/ic4mfnl6</a>"
      ],
      "text/plain": [
       "<IPython.core.display.HTML object>"
      ]
     },
     "metadata": {},
     "output_type": "display_data"
    },
    {
     "data": {
      "text/html": [
       " View project at <a href='https://wandb.ai/da24m017-indian-institute-of-technology-madras/DA6401_Assignment_1' target=\"_blank\">https://wandb.ai/da24m017-indian-institute-of-technology-madras/DA6401_Assignment_1</a>"
      ],
      "text/plain": [
       "<IPython.core.display.HTML object>"
      ]
     },
     "metadata": {},
     "output_type": "display_data"
    },
    {
     "data": {
      "text/html": [
       " View sweep at <a href='https://wandb.ai/da24m017-indian-institute-of-technology-madras/DA6401_Assignment_1/sweeps/ic4mfnl6' target=\"_blank\">https://wandb.ai/da24m017-indian-institute-of-technology-madras/DA6401_Assignment_1/sweeps/ic4mfnl6</a>"
      ],
      "text/plain": [
       "<IPython.core.display.HTML object>"
      ]
     },
     "metadata": {},
     "output_type": "display_data"
    },
    {
     "data": {
      "text/html": [
       " View run at <a href='https://wandb.ai/da24m017-indian-institute-of-technology-madras/DA6401_Assignment_1/runs/vgfj9wxj' target=\"_blank\">https://wandb.ai/da24m017-indian-institute-of-technology-madras/DA6401_Assignment_1/runs/vgfj9wxj</a>"
      ],
      "text/plain": [
       "<IPython.core.display.HTML object>"
      ]
     },
     "metadata": {},
     "output_type": "display_data"
    },
    {
     "name": "stdout",
     "output_type": "stream",
     "text": [
      "Epoch 1, Train Loss: 2.3026, Val Loss: 2.3026\n",
      "Epoch 2, Train Loss: 2.3025, Val Loss: 2.3026\n",
      "Epoch 3, Train Loss: 2.3025, Val Loss: 2.3026\n",
      "Epoch 4, Train Loss: 2.3025, Val Loss: 2.3026\n",
      "Epoch 5, Train Loss: 2.3025, Val Loss: 2.3026\n"
     ]
    },
    {
     "data": {
      "text/html": [],
      "text/plain": [
       "<IPython.core.display.HTML object>"
      ]
     },
     "metadata": {},
     "output_type": "display_data"
    },
    {
     "data": {
      "text/html": [
       "<br>    <style><br>        .wandb-row {<br>            display: flex;<br>            flex-direction: row;<br>            flex-wrap: wrap;<br>            justify-content: flex-start;<br>            width: 100%;<br>        }<br>        .wandb-col {<br>            display: flex;<br>            flex-direction: column;<br>            flex-basis: 100%;<br>            flex: 1;<br>            padding: 10px;<br>        }<br>    </style><br><div class=\"wandb-row\"><div class=\"wandb-col\"><h3>Run history:</h3><br/><table class=\"wandb\"><tr><td>epoch</td><td>▁▃▅▆█</td></tr><tr><td>train_loss</td><td>█▅▂▁▁</td></tr><tr><td>val_loss</td><td>▁▅▇██</td></tr></table><br/></div><div class=\"wandb-col\"><h3>Run summary:</h3><br/><table class=\"wandb\"><tr><td>epoch</td><td>5</td></tr><tr><td>train_loss</td><td>2.30253</td></tr><tr><td>val_loss</td><td>2.3026</td></tr></table><br/></div></div>"
      ],
      "text/plain": [
       "<IPython.core.display.HTML object>"
      ]
     },
     "metadata": {},
     "output_type": "display_data"
    },
    {
     "data": {
      "text/html": [
       " View run <strong style=\"color:#cdcd00\">magic-sweep-22</strong> at: <a href='https://wandb.ai/da24m017-indian-institute-of-technology-madras/DA6401_Assignment_1/runs/vgfj9wxj' target=\"_blank\">https://wandb.ai/da24m017-indian-institute-of-technology-madras/DA6401_Assignment_1/runs/vgfj9wxj</a><br> View project at: <a href='https://wandb.ai/da24m017-indian-institute-of-technology-madras/DA6401_Assignment_1' target=\"_blank\">https://wandb.ai/da24m017-indian-institute-of-technology-madras/DA6401_Assignment_1</a><br>Synced 5 W&B file(s), 0 media file(s), 0 artifact file(s) and 0 other file(s)"
      ],
      "text/plain": [
       "<IPython.core.display.HTML object>"
      ]
     },
     "metadata": {},
     "output_type": "display_data"
    },
    {
     "data": {
      "text/html": [
       "Find logs at: <code>./wandb/run-20250309_060141-vgfj9wxj/logs</code>"
      ],
      "text/plain": [
       "<IPython.core.display.HTML object>"
      ]
     },
     "metadata": {},
     "output_type": "display_data"
    },
    {
     "name": "stderr",
     "output_type": "stream",
     "text": [
      "\u001b[34m\u001b[1mwandb\u001b[0m: Sweep Agent: Waiting for job.\n",
      "\u001b[34m\u001b[1mwandb\u001b[0m: Job received.\n",
      "\u001b[34m\u001b[1mwandb\u001b[0m: Agent Starting Run: ob6jyh5f with config:\n",
      "\u001b[34m\u001b[1mwandb\u001b[0m: \tactivation: relu\n",
      "\u001b[34m\u001b[1mwandb\u001b[0m: \tbatch_size: 64\n",
      "\u001b[34m\u001b[1mwandb\u001b[0m: \tepochs: 10\n",
      "\u001b[34m\u001b[1mwandb\u001b[0m: \thidden_layers: 4\n",
      "\u001b[34m\u001b[1mwandb\u001b[0m: \tlayer_size: 128\n",
      "\u001b[34m\u001b[1mwandb\u001b[0m: \tlearning_rate: 0.0001\n",
      "\u001b[34m\u001b[1mwandb\u001b[0m: \toptimizer: adam\n",
      "\u001b[34m\u001b[1mwandb\u001b[0m: \tweight_decay: 0\n",
      "\u001b[34m\u001b[1mwandb\u001b[0m: \tweight_init: xavier\n"
     ]
    },
    {
     "data": {
      "text/html": [
       "Tracking run with wandb version 0.19.8"
      ],
      "text/plain": [
       "<IPython.core.display.HTML object>"
      ]
     },
     "metadata": {},
     "output_type": "display_data"
    },
    {
     "data": {
      "text/html": [
       "Run data is saved locally in <code>/Users/sathwikpentela/MTECH/DA6401_Assignment_1/wandb/run-20250309_060156-ob6jyh5f</code>"
      ],
      "text/plain": [
       "<IPython.core.display.HTML object>"
      ]
     },
     "metadata": {},
     "output_type": "display_data"
    },
    {
     "data": {
      "text/html": [
       "Syncing run <strong><a href='https://wandb.ai/da24m017-indian-institute-of-technology-madras/DA6401_Assignment_1/runs/ob6jyh5f' target=\"_blank\">silver-sweep-23</a></strong> to <a href='https://wandb.ai/da24m017-indian-institute-of-technology-madras/DA6401_Assignment_1' target=\"_blank\">Weights & Biases</a> (<a href='https://wandb.me/developer-guide' target=\"_blank\">docs</a>)<br>Sweep page: <a href='https://wandb.ai/da24m017-indian-institute-of-technology-madras/DA6401_Assignment_1/sweeps/ic4mfnl6' target=\"_blank\">https://wandb.ai/da24m017-indian-institute-of-technology-madras/DA6401_Assignment_1/sweeps/ic4mfnl6</a>"
      ],
      "text/plain": [
       "<IPython.core.display.HTML object>"
      ]
     },
     "metadata": {},
     "output_type": "display_data"
    },
    {
     "data": {
      "text/html": [
       " View project at <a href='https://wandb.ai/da24m017-indian-institute-of-technology-madras/DA6401_Assignment_1' target=\"_blank\">https://wandb.ai/da24m017-indian-institute-of-technology-madras/DA6401_Assignment_1</a>"
      ],
      "text/plain": [
       "<IPython.core.display.HTML object>"
      ]
     },
     "metadata": {},
     "output_type": "display_data"
    },
    {
     "data": {
      "text/html": [
       " View sweep at <a href='https://wandb.ai/da24m017-indian-institute-of-technology-madras/DA6401_Assignment_1/sweeps/ic4mfnl6' target=\"_blank\">https://wandb.ai/da24m017-indian-institute-of-technology-madras/DA6401_Assignment_1/sweeps/ic4mfnl6</a>"
      ],
      "text/plain": [
       "<IPython.core.display.HTML object>"
      ]
     },
     "metadata": {},
     "output_type": "display_data"
    },
    {
     "data": {
      "text/html": [
       " View run at <a href='https://wandb.ai/da24m017-indian-institute-of-technology-madras/DA6401_Assignment_1/runs/ob6jyh5f' target=\"_blank\">https://wandb.ai/da24m017-indian-institute-of-technology-madras/DA6401_Assignment_1/runs/ob6jyh5f</a>"
      ],
      "text/plain": [
       "<IPython.core.display.HTML object>"
      ]
     },
     "metadata": {},
     "output_type": "display_data"
    },
    {
     "name": "stdout",
     "output_type": "stream",
     "text": [
      "Epoch 1, Train Loss: 1.9863, Val Loss: 1.9689\n",
      "Epoch 2, Train Loss: 1.9401, Val Loss: 1.9042\n",
      "Epoch 3, Train Loss: 1.9106, Val Loss: 1.8793\n",
      "Epoch 4, Train Loss: 1.8983, Val Loss: 1.8685\n",
      "Epoch 5, Train Loss: 1.8868, Val Loss: 1.8580\n",
      "Epoch 6, Train Loss: 1.8751, Val Loss: 1.8463\n",
      "Epoch 7, Train Loss: 1.8698, Val Loss: 1.8425\n",
      "Epoch 8, Train Loss: 1.8598, Val Loss: 1.8350\n",
      "Epoch 9, Train Loss: 1.8433, Val Loss: 1.8234\n",
      "Epoch 10, Train Loss: 1.8320, Val Loss: 1.8142\n"
     ]
    },
    {
     "data": {
      "text/html": [],
      "text/plain": [
       "<IPython.core.display.HTML object>"
      ]
     },
     "metadata": {},
     "output_type": "display_data"
    },
    {
     "data": {
      "text/html": [
       "<br>    <style><br>        .wandb-row {<br>            display: flex;<br>            flex-direction: row;<br>            flex-wrap: wrap;<br>            justify-content: flex-start;<br>            width: 100%;<br>        }<br>        .wandb-col {<br>            display: flex;<br>            flex-direction: column;<br>            flex-basis: 100%;<br>            flex: 1;<br>            padding: 10px;<br>        }<br>    </style><br><div class=\"wandb-row\"><div class=\"wandb-col\"><h3>Run history:</h3><br/><table class=\"wandb\"><tr><td>epoch</td><td>▁▂▃▃▄▅▆▆▇█</td></tr><tr><td>train_loss</td><td>█▆▅▄▃▃▃▂▂▁</td></tr><tr><td>val_loss</td><td>█▅▄▃▃▂▂▂▁▁</td></tr></table><br/></div><div class=\"wandb-col\"><h3>Run summary:</h3><br/><table class=\"wandb\"><tr><td>epoch</td><td>10</td></tr><tr><td>train_loss</td><td>1.83199</td></tr><tr><td>val_loss</td><td>1.81424</td></tr></table><br/></div></div>"
      ],
      "text/plain": [
       "<IPython.core.display.HTML object>"
      ]
     },
     "metadata": {},
     "output_type": "display_data"
    },
    {
     "data": {
      "text/html": [
       " View run <strong style=\"color:#cdcd00\">silver-sweep-23</strong> at: <a href='https://wandb.ai/da24m017-indian-institute-of-technology-madras/DA6401_Assignment_1/runs/ob6jyh5f' target=\"_blank\">https://wandb.ai/da24m017-indian-institute-of-technology-madras/DA6401_Assignment_1/runs/ob6jyh5f</a><br> View project at: <a href='https://wandb.ai/da24m017-indian-institute-of-technology-madras/DA6401_Assignment_1' target=\"_blank\">https://wandb.ai/da24m017-indian-institute-of-technology-madras/DA6401_Assignment_1</a><br>Synced 5 W&B file(s), 0 media file(s), 0 artifact file(s) and 0 other file(s)"
      ],
      "text/plain": [
       "<IPython.core.display.HTML object>"
      ]
     },
     "metadata": {},
     "output_type": "display_data"
    },
    {
     "data": {
      "text/html": [
       "Find logs at: <code>./wandb/run-20250309_060156-ob6jyh5f/logs</code>"
      ],
      "text/plain": [
       "<IPython.core.display.HTML object>"
      ]
     },
     "metadata": {},
     "output_type": "display_data"
    },
    {
     "name": "stderr",
     "output_type": "stream",
     "text": [
      "\u001b[34m\u001b[1mwandb\u001b[0m: Agent Starting Run: udy0ysqg with config:\n",
      "\u001b[34m\u001b[1mwandb\u001b[0m: \tactivation: relu\n",
      "\u001b[34m\u001b[1mwandb\u001b[0m: \tbatch_size: 16\n",
      "\u001b[34m\u001b[1mwandb\u001b[0m: \tepochs: 5\n",
      "\u001b[34m\u001b[1mwandb\u001b[0m: \thidden_layers: 3\n",
      "\u001b[34m\u001b[1mwandb\u001b[0m: \tlayer_size: 128\n",
      "\u001b[34m\u001b[1mwandb\u001b[0m: \tlearning_rate: 0.001\n",
      "\u001b[34m\u001b[1mwandb\u001b[0m: \toptimizer: nadam\n",
      "\u001b[34m\u001b[1mwandb\u001b[0m: \tweight_decay: 0.5\n",
      "\u001b[34m\u001b[1mwandb\u001b[0m: \tweight_init: random\n"
     ]
    },
    {
     "data": {
      "text/html": [
       "Tracking run with wandb version 0.19.8"
      ],
      "text/plain": [
       "<IPython.core.display.HTML object>"
      ]
     },
     "metadata": {},
     "output_type": "display_data"
    },
    {
     "data": {
      "text/html": [
       "Run data is saved locally in <code>/Users/sathwikpentela/MTECH/DA6401_Assignment_1/wandb/run-20250309_060213-udy0ysqg</code>"
      ],
      "text/plain": [
       "<IPython.core.display.HTML object>"
      ]
     },
     "metadata": {},
     "output_type": "display_data"
    },
    {
     "data": {
      "text/html": [
       "Syncing run <strong><a href='https://wandb.ai/da24m017-indian-institute-of-technology-madras/DA6401_Assignment_1/runs/udy0ysqg' target=\"_blank\">young-sweep-24</a></strong> to <a href='https://wandb.ai/da24m017-indian-institute-of-technology-madras/DA6401_Assignment_1' target=\"_blank\">Weights & Biases</a> (<a href='https://wandb.me/developer-guide' target=\"_blank\">docs</a>)<br>Sweep page: <a href='https://wandb.ai/da24m017-indian-institute-of-technology-madras/DA6401_Assignment_1/sweeps/ic4mfnl6' target=\"_blank\">https://wandb.ai/da24m017-indian-institute-of-technology-madras/DA6401_Assignment_1/sweeps/ic4mfnl6</a>"
      ],
      "text/plain": [
       "<IPython.core.display.HTML object>"
      ]
     },
     "metadata": {},
     "output_type": "display_data"
    },
    {
     "data": {
      "text/html": [
       " View project at <a href='https://wandb.ai/da24m017-indian-institute-of-technology-madras/DA6401_Assignment_1' target=\"_blank\">https://wandb.ai/da24m017-indian-institute-of-technology-madras/DA6401_Assignment_1</a>"
      ],
      "text/plain": [
       "<IPython.core.display.HTML object>"
      ]
     },
     "metadata": {},
     "output_type": "display_data"
    },
    {
     "data": {
      "text/html": [
       " View sweep at <a href='https://wandb.ai/da24m017-indian-institute-of-technology-madras/DA6401_Assignment_1/sweeps/ic4mfnl6' target=\"_blank\">https://wandb.ai/da24m017-indian-institute-of-technology-madras/DA6401_Assignment_1/sweeps/ic4mfnl6</a>"
      ],
      "text/plain": [
       "<IPython.core.display.HTML object>"
      ]
     },
     "metadata": {},
     "output_type": "display_data"
    },
    {
     "data": {
      "text/html": [
       " View run at <a href='https://wandb.ai/da24m017-indian-institute-of-technology-madras/DA6401_Assignment_1/runs/udy0ysqg' target=\"_blank\">https://wandb.ai/da24m017-indian-institute-of-technology-madras/DA6401_Assignment_1/runs/udy0ysqg</a>"
      ],
      "text/plain": [
       "<IPython.core.display.HTML object>"
      ]
     },
     "metadata": {},
     "output_type": "display_data"
    },
    {
     "name": "stderr",
     "output_type": "stream",
     "text": [
      "Traceback (most recent call last):\n",
      "  File \"/var/folders/97/64q5gb_55n5dk9c9nd8xzdw00000gn/T/ipykernel_38811/4050847273.py\", line 20, in sweep_train\n",
      "    model = NeuralNetwork(\n",
      "  File \"/var/folders/97/64q5gb_55n5dk9c9nd8xzdw00000gn/T/ipykernel_38811/4163194409.py\", line 8, in __init__\n",
      "    self.optimizer = optimizers[optimizer](lr=lr)\n",
      "KeyError: 'nadam'\n"
     ]
    },
    {
     "data": {
      "text/html": [],
      "text/plain": [
       "<IPython.core.display.HTML object>"
      ]
     },
     "metadata": {},
     "output_type": "display_data"
    },
    {
     "data": {
      "text/html": [
       " View run <strong style=\"color:#cdcd00\">young-sweep-24</strong> at: <a href='https://wandb.ai/da24m017-indian-institute-of-technology-madras/DA6401_Assignment_1/runs/udy0ysqg' target=\"_blank\">https://wandb.ai/da24m017-indian-institute-of-technology-madras/DA6401_Assignment_1/runs/udy0ysqg</a><br> View project at: <a href='https://wandb.ai/da24m017-indian-institute-of-technology-madras/DA6401_Assignment_1' target=\"_blank\">https://wandb.ai/da24m017-indian-institute-of-technology-madras/DA6401_Assignment_1</a><br>Synced 5 W&B file(s), 0 media file(s), 0 artifact file(s) and 0 other file(s)"
      ],
      "text/plain": [
       "<IPython.core.display.HTML object>"
      ]
     },
     "metadata": {},
     "output_type": "display_data"
    },
    {
     "data": {
      "text/html": [
       "Find logs at: <code>./wandb/run-20250309_060213-udy0ysqg/logs</code>"
      ],
      "text/plain": [
       "<IPython.core.display.HTML object>"
      ]
     },
     "metadata": {},
     "output_type": "display_data"
    },
    {
     "name": "stderr",
     "output_type": "stream",
     "text": [
      "Run udy0ysqg errored:\n",
      "Traceback (most recent call last):\n",
      "  File \"/Users/sathwikpentela/miniforge3/envs/PINN/lib/python3.10/site-packages/wandb/agents/pyagent.py\", line 306, in _run_job\n",
      "    self._function()\n",
      "  File \"/var/folders/97/64q5gb_55n5dk9c9nd8xzdw00000gn/T/ipykernel_38811/4050847273.py\", line 20, in sweep_train\n",
      "    model = NeuralNetwork(\n",
      "  File \"/var/folders/97/64q5gb_55n5dk9c9nd8xzdw00000gn/T/ipykernel_38811/4163194409.py\", line 8, in __init__\n",
      "    self.optimizer = optimizers[optimizer](lr=lr)\n",
      "KeyError: 'nadam'\n",
      "\n",
      "\u001b[34m\u001b[1mwandb\u001b[0m: \u001b[32m\u001b[41mERROR\u001b[0m Run udy0ysqg errored:\n",
      "\u001b[34m\u001b[1mwandb\u001b[0m: \u001b[32m\u001b[41mERROR\u001b[0m Traceback (most recent call last):\n",
      "\u001b[34m\u001b[1mwandb\u001b[0m: \u001b[32m\u001b[41mERROR\u001b[0m   File \"/Users/sathwikpentela/miniforge3/envs/PINN/lib/python3.10/site-packages/wandb/agents/pyagent.py\", line 306, in _run_job\n",
      "\u001b[34m\u001b[1mwandb\u001b[0m: \u001b[32m\u001b[41mERROR\u001b[0m     self._function()\n",
      "\u001b[34m\u001b[1mwandb\u001b[0m: \u001b[32m\u001b[41mERROR\u001b[0m   File \"/var/folders/97/64q5gb_55n5dk9c9nd8xzdw00000gn/T/ipykernel_38811/4050847273.py\", line 20, in sweep_train\n",
      "\u001b[34m\u001b[1mwandb\u001b[0m: \u001b[32m\u001b[41mERROR\u001b[0m     model = NeuralNetwork(\n",
      "\u001b[34m\u001b[1mwandb\u001b[0m: \u001b[32m\u001b[41mERROR\u001b[0m   File \"/var/folders/97/64q5gb_55n5dk9c9nd8xzdw00000gn/T/ipykernel_38811/4163194409.py\", line 8, in __init__\n",
      "\u001b[34m\u001b[1mwandb\u001b[0m: \u001b[32m\u001b[41mERROR\u001b[0m     self.optimizer = optimizers[optimizer](lr=lr)\n",
      "\u001b[34m\u001b[1mwandb\u001b[0m: \u001b[32m\u001b[41mERROR\u001b[0m KeyError: 'nadam'\n",
      "\u001b[34m\u001b[1mwandb\u001b[0m: \u001b[32m\u001b[41mERROR\u001b[0m \n",
      "\u001b[34m\u001b[1mwandb\u001b[0m: Agent Starting Run: 87b6563y with config:\n",
      "\u001b[34m\u001b[1mwandb\u001b[0m: \tactivation: relu\n",
      "\u001b[34m\u001b[1mwandb\u001b[0m: \tbatch_size: 64\n",
      "\u001b[34m\u001b[1mwandb\u001b[0m: \tepochs: 10\n",
      "\u001b[34m\u001b[1mwandb\u001b[0m: \thidden_layers: 4\n",
      "\u001b[34m\u001b[1mwandb\u001b[0m: \tlayer_size: 128\n",
      "\u001b[34m\u001b[1mwandb\u001b[0m: \tlearning_rate: 0.0001\n",
      "\u001b[34m\u001b[1mwandb\u001b[0m: \toptimizer: rmsprop\n",
      "\u001b[34m\u001b[1mwandb\u001b[0m: \tweight_decay: 0\n",
      "\u001b[34m\u001b[1mwandb\u001b[0m: \tweight_init: xavier\n"
     ]
    },
    {
     "data": {
      "text/html": [
       "Tracking run with wandb version 0.19.8"
      ],
      "text/plain": [
       "<IPython.core.display.HTML object>"
      ]
     },
     "metadata": {},
     "output_type": "display_data"
    },
    {
     "data": {
      "text/html": [
       "Run data is saved locally in <code>/Users/sathwikpentela/MTECH/DA6401_Assignment_1/wandb/run-20250309_060219-87b6563y</code>"
      ],
      "text/plain": [
       "<IPython.core.display.HTML object>"
      ]
     },
     "metadata": {},
     "output_type": "display_data"
    },
    {
     "data": {
      "text/html": [
       "Syncing run <strong><a href='https://wandb.ai/da24m017-indian-institute-of-technology-madras/DA6401_Assignment_1/runs/87b6563y' target=\"_blank\">comfy-sweep-25</a></strong> to <a href='https://wandb.ai/da24m017-indian-institute-of-technology-madras/DA6401_Assignment_1' target=\"_blank\">Weights & Biases</a> (<a href='https://wandb.me/developer-guide' target=\"_blank\">docs</a>)<br>Sweep page: <a href='https://wandb.ai/da24m017-indian-institute-of-technology-madras/DA6401_Assignment_1/sweeps/ic4mfnl6' target=\"_blank\">https://wandb.ai/da24m017-indian-institute-of-technology-madras/DA6401_Assignment_1/sweeps/ic4mfnl6</a>"
      ],
      "text/plain": [
       "<IPython.core.display.HTML object>"
      ]
     },
     "metadata": {},
     "output_type": "display_data"
    },
    {
     "data": {
      "text/html": [
       " View project at <a href='https://wandb.ai/da24m017-indian-institute-of-technology-madras/DA6401_Assignment_1' target=\"_blank\">https://wandb.ai/da24m017-indian-institute-of-technology-madras/DA6401_Assignment_1</a>"
      ],
      "text/plain": [
       "<IPython.core.display.HTML object>"
      ]
     },
     "metadata": {},
     "output_type": "display_data"
    },
    {
     "data": {
      "text/html": [
       " View sweep at <a href='https://wandb.ai/da24m017-indian-institute-of-technology-madras/DA6401_Assignment_1/sweeps/ic4mfnl6' target=\"_blank\">https://wandb.ai/da24m017-indian-institute-of-technology-madras/DA6401_Assignment_1/sweeps/ic4mfnl6</a>"
      ],
      "text/plain": [
       "<IPython.core.display.HTML object>"
      ]
     },
     "metadata": {},
     "output_type": "display_data"
    },
    {
     "data": {
      "text/html": [
       " View run at <a href='https://wandb.ai/da24m017-indian-institute-of-technology-madras/DA6401_Assignment_1/runs/87b6563y' target=\"_blank\">https://wandb.ai/da24m017-indian-institute-of-technology-madras/DA6401_Assignment_1/runs/87b6563y</a>"
      ],
      "text/plain": [
       "<IPython.core.display.HTML object>"
      ]
     },
     "metadata": {},
     "output_type": "display_data"
    },
    {
     "name": "stdout",
     "output_type": "stream",
     "text": [
      "Epoch 1, Train Loss: 2.0056, Val Loss: 1.9953\n",
      "Epoch 2, Train Loss: 1.9613, Val Loss: 1.9105\n",
      "Epoch 3, Train Loss: 1.9185, Val Loss: 1.8476\n",
      "Epoch 4, Train Loss: 1.8690, Val Loss: 1.7830\n",
      "Epoch 5, Train Loss: 1.8403, Val Loss: 1.7560\n",
      "Epoch 6, Train Loss: 1.8232, Val Loss: 1.7380\n",
      "Epoch 7, Train Loss: 1.8054, Val Loss: 1.7244\n",
      "Epoch 8, Train Loss: 1.7877, Val Loss: 1.7109\n",
      "Epoch 9, Train Loss: 1.7722, Val Loss: 1.7019\n",
      "Epoch 10, Train Loss: 1.7485, Val Loss: 1.6920\n"
     ]
    },
    {
     "data": {
      "text/html": [],
      "text/plain": [
       "<IPython.core.display.HTML object>"
      ]
     },
     "metadata": {},
     "output_type": "display_data"
    },
    {
     "data": {
      "text/html": [
       "<br>    <style><br>        .wandb-row {<br>            display: flex;<br>            flex-direction: row;<br>            flex-wrap: wrap;<br>            justify-content: flex-start;<br>            width: 100%;<br>        }<br>        .wandb-col {<br>            display: flex;<br>            flex-direction: column;<br>            flex-basis: 100%;<br>            flex: 1;<br>            padding: 10px;<br>        }<br>    </style><br><div class=\"wandb-row\"><div class=\"wandb-col\"><h3>Run history:</h3><br/><table class=\"wandb\"><tr><td>epoch</td><td>▁▂▃▃▄▅▆▆▇█</td></tr><tr><td>train_loss</td><td>█▇▆▄▄▃▃▂▂▁</td></tr><tr><td>val_loss</td><td>█▆▅▃▂▂▂▁▁▁</td></tr></table><br/></div><div class=\"wandb-col\"><h3>Run summary:</h3><br/><table class=\"wandb\"><tr><td>epoch</td><td>10</td></tr><tr><td>train_loss</td><td>1.74851</td></tr><tr><td>val_loss</td><td>1.69199</td></tr></table><br/></div></div>"
      ],
      "text/plain": [
       "<IPython.core.display.HTML object>"
      ]
     },
     "metadata": {},
     "output_type": "display_data"
    },
    {
     "data": {
      "text/html": [
       " View run <strong style=\"color:#cdcd00\">comfy-sweep-25</strong> at: <a href='https://wandb.ai/da24m017-indian-institute-of-technology-madras/DA6401_Assignment_1/runs/87b6563y' target=\"_blank\">https://wandb.ai/da24m017-indian-institute-of-technology-madras/DA6401_Assignment_1/runs/87b6563y</a><br> View project at: <a href='https://wandb.ai/da24m017-indian-institute-of-technology-madras/DA6401_Assignment_1' target=\"_blank\">https://wandb.ai/da24m017-indian-institute-of-technology-madras/DA6401_Assignment_1</a><br>Synced 5 W&B file(s), 0 media file(s), 0 artifact file(s) and 0 other file(s)"
      ],
      "text/plain": [
       "<IPython.core.display.HTML object>"
      ]
     },
     "metadata": {},
     "output_type": "display_data"
    },
    {
     "data": {
      "text/html": [
       "Find logs at: <code>./wandb/run-20250309_060219-87b6563y/logs</code>"
      ],
      "text/plain": [
       "<IPython.core.display.HTML object>"
      ]
     },
     "metadata": {},
     "output_type": "display_data"
    },
    {
     "name": "stderr",
     "output_type": "stream",
     "text": [
      "\u001b[34m\u001b[1mwandb\u001b[0m: Agent Starting Run: bnsco452 with config:\n",
      "\u001b[34m\u001b[1mwandb\u001b[0m: \tactivation: relu\n",
      "\u001b[34m\u001b[1mwandb\u001b[0m: \tbatch_size: 64\n",
      "\u001b[34m\u001b[1mwandb\u001b[0m: \tepochs: 10\n",
      "\u001b[34m\u001b[1mwandb\u001b[0m: \thidden_layers: 5\n",
      "\u001b[34m\u001b[1mwandb\u001b[0m: \tlayer_size: 128\n",
      "\u001b[34m\u001b[1mwandb\u001b[0m: \tlearning_rate: 0.0001\n",
      "\u001b[34m\u001b[1mwandb\u001b[0m: \toptimizer: adam\n",
      "\u001b[34m\u001b[1mwandb\u001b[0m: \tweight_decay: 0.5\n",
      "\u001b[34m\u001b[1mwandb\u001b[0m: \tweight_init: xavier\n"
     ]
    },
    {
     "data": {
      "text/html": [
       "Tracking run with wandb version 0.19.8"
      ],
      "text/plain": [
       "<IPython.core.display.HTML object>"
      ]
     },
     "metadata": {},
     "output_type": "display_data"
    },
    {
     "data": {
      "text/html": [
       "Run data is saved locally in <code>/Users/sathwikpentela/MTECH/DA6401_Assignment_1/wandb/run-20250309_060235-bnsco452</code>"
      ],
      "text/plain": [
       "<IPython.core.display.HTML object>"
      ]
     },
     "metadata": {},
     "output_type": "display_data"
    },
    {
     "data": {
      "text/html": [
       "Syncing run <strong><a href='https://wandb.ai/da24m017-indian-institute-of-technology-madras/DA6401_Assignment_1/runs/bnsco452' target=\"_blank\">wise-sweep-26</a></strong> to <a href='https://wandb.ai/da24m017-indian-institute-of-technology-madras/DA6401_Assignment_1' target=\"_blank\">Weights & Biases</a> (<a href='https://wandb.me/developer-guide' target=\"_blank\">docs</a>)<br>Sweep page: <a href='https://wandb.ai/da24m017-indian-institute-of-technology-madras/DA6401_Assignment_1/sweeps/ic4mfnl6' target=\"_blank\">https://wandb.ai/da24m017-indian-institute-of-technology-madras/DA6401_Assignment_1/sweeps/ic4mfnl6</a>"
      ],
      "text/plain": [
       "<IPython.core.display.HTML object>"
      ]
     },
     "metadata": {},
     "output_type": "display_data"
    },
    {
     "data": {
      "text/html": [
       " View project at <a href='https://wandb.ai/da24m017-indian-institute-of-technology-madras/DA6401_Assignment_1' target=\"_blank\">https://wandb.ai/da24m017-indian-institute-of-technology-madras/DA6401_Assignment_1</a>"
      ],
      "text/plain": [
       "<IPython.core.display.HTML object>"
      ]
     },
     "metadata": {},
     "output_type": "display_data"
    },
    {
     "data": {
      "text/html": [
       " View sweep at <a href='https://wandb.ai/da24m017-indian-institute-of-technology-madras/DA6401_Assignment_1/sweeps/ic4mfnl6' target=\"_blank\">https://wandb.ai/da24m017-indian-institute-of-technology-madras/DA6401_Assignment_1/sweeps/ic4mfnl6</a>"
      ],
      "text/plain": [
       "<IPython.core.display.HTML object>"
      ]
     },
     "metadata": {},
     "output_type": "display_data"
    },
    {
     "data": {
      "text/html": [
       " View run at <a href='https://wandb.ai/da24m017-indian-institute-of-technology-madras/DA6401_Assignment_1/runs/bnsco452' target=\"_blank\">https://wandb.ai/da24m017-indian-institute-of-technology-madras/DA6401_Assignment_1/runs/bnsco452</a>"
      ],
      "text/plain": [
       "<IPython.core.display.HTML object>"
      ]
     },
     "metadata": {},
     "output_type": "display_data"
    },
    {
     "name": "stdout",
     "output_type": "stream",
     "text": [
      "Epoch 1, Train Loss: 2.0506, Val Loss: 2.0773\n",
      "Epoch 2, Train Loss: 1.8528, Val Loss: 1.8115\n",
      "Epoch 3, Train Loss: 1.7760, Val Loss: 1.7484\n",
      "Epoch 4, Train Loss: 1.7459, Val Loss: 1.7280\n",
      "Epoch 5, Train Loss: 1.7269, Val Loss: 1.7152\n",
      "Epoch 6, Train Loss: 1.7113, Val Loss: 1.7077\n",
      "Epoch 7, Train Loss: 1.7014, Val Loss: 1.6996\n",
      "Epoch 8, Train Loss: 1.6857, Val Loss: 1.6903\n",
      "Epoch 9, Train Loss: 1.6781, Val Loss: 1.6862\n",
      "Epoch 10, Train Loss: 1.6672, Val Loss: 1.6794\n"
     ]
    },
    {
     "data": {
      "text/html": [],
      "text/plain": [
       "<IPython.core.display.HTML object>"
      ]
     },
     "metadata": {},
     "output_type": "display_data"
    },
    {
     "data": {
      "text/html": [
       "<br>    <style><br>        .wandb-row {<br>            display: flex;<br>            flex-direction: row;<br>            flex-wrap: wrap;<br>            justify-content: flex-start;<br>            width: 100%;<br>        }<br>        .wandb-col {<br>            display: flex;<br>            flex-direction: column;<br>            flex-basis: 100%;<br>            flex: 1;<br>            padding: 10px;<br>        }<br>    </style><br><div class=\"wandb-row\"><div class=\"wandb-col\"><h3>Run history:</h3><br/><table class=\"wandb\"><tr><td>epoch</td><td>▁▂▃▃▄▅▆▆▇█</td></tr><tr><td>train_loss</td><td>█▄▃▂▂▂▂▁▁▁</td></tr><tr><td>val_loss</td><td>█▃▂▂▂▁▁▁▁▁</td></tr></table><br/></div><div class=\"wandb-col\"><h3>Run summary:</h3><br/><table class=\"wandb\"><tr><td>epoch</td><td>10</td></tr><tr><td>train_loss</td><td>1.66723</td></tr><tr><td>val_loss</td><td>1.67935</td></tr></table><br/></div></div>"
      ],
      "text/plain": [
       "<IPython.core.display.HTML object>"
      ]
     },
     "metadata": {},
     "output_type": "display_data"
    },
    {
     "data": {
      "text/html": [
       " View run <strong style=\"color:#cdcd00\">wise-sweep-26</strong> at: <a href='https://wandb.ai/da24m017-indian-institute-of-technology-madras/DA6401_Assignment_1/runs/bnsco452' target=\"_blank\">https://wandb.ai/da24m017-indian-institute-of-technology-madras/DA6401_Assignment_1/runs/bnsco452</a><br> View project at: <a href='https://wandb.ai/da24m017-indian-institute-of-technology-madras/DA6401_Assignment_1' target=\"_blank\">https://wandb.ai/da24m017-indian-institute-of-technology-madras/DA6401_Assignment_1</a><br>Synced 5 W&B file(s), 0 media file(s), 0 artifact file(s) and 0 other file(s)"
      ],
      "text/plain": [
       "<IPython.core.display.HTML object>"
      ]
     },
     "metadata": {},
     "output_type": "display_data"
    },
    {
     "data": {
      "text/html": [
       "Find logs at: <code>./wandb/run-20250309_060235-bnsco452/logs</code>"
      ],
      "text/plain": [
       "<IPython.core.display.HTML object>"
      ]
     },
     "metadata": {},
     "output_type": "display_data"
    },
    {
     "name": "stderr",
     "output_type": "stream",
     "text": [
      "\u001b[34m\u001b[1mwandb\u001b[0m: Agent Starting Run: y5cs7awz with config:\n",
      "\u001b[34m\u001b[1mwandb\u001b[0m: \tactivation: sigmoid\n",
      "\u001b[34m\u001b[1mwandb\u001b[0m: \tbatch_size: 16\n",
      "\u001b[34m\u001b[1mwandb\u001b[0m: \tepochs: 5\n",
      "\u001b[34m\u001b[1mwandb\u001b[0m: \thidden_layers: 5\n",
      "\u001b[34m\u001b[1mwandb\u001b[0m: \tlayer_size: 128\n",
      "\u001b[34m\u001b[1mwandb\u001b[0m: \tlearning_rate: 0.001\n",
      "\u001b[34m\u001b[1mwandb\u001b[0m: \toptimizer: rmsprop\n",
      "\u001b[34m\u001b[1mwandb\u001b[0m: \tweight_decay: 0\n",
      "\u001b[34m\u001b[1mwandb\u001b[0m: \tweight_init: random\n"
     ]
    },
    {
     "data": {
      "text/html": [
       "Tracking run with wandb version 0.19.8"
      ],
      "text/plain": [
       "<IPython.core.display.HTML object>"
      ]
     },
     "metadata": {},
     "output_type": "display_data"
    },
    {
     "data": {
      "text/html": [
       "Run data is saved locally in <code>/Users/sathwikpentela/MTECH/DA6401_Assignment_1/wandb/run-20250309_060256-y5cs7awz</code>"
      ],
      "text/plain": [
       "<IPython.core.display.HTML object>"
      ]
     },
     "metadata": {},
     "output_type": "display_data"
    },
    {
     "data": {
      "text/html": [
       "Syncing run <strong><a href='https://wandb.ai/da24m017-indian-institute-of-technology-madras/DA6401_Assignment_1/runs/y5cs7awz' target=\"_blank\">clean-sweep-27</a></strong> to <a href='https://wandb.ai/da24m017-indian-institute-of-technology-madras/DA6401_Assignment_1' target=\"_blank\">Weights & Biases</a> (<a href='https://wandb.me/developer-guide' target=\"_blank\">docs</a>)<br>Sweep page: <a href='https://wandb.ai/da24m017-indian-institute-of-technology-madras/DA6401_Assignment_1/sweeps/ic4mfnl6' target=\"_blank\">https://wandb.ai/da24m017-indian-institute-of-technology-madras/DA6401_Assignment_1/sweeps/ic4mfnl6</a>"
      ],
      "text/plain": [
       "<IPython.core.display.HTML object>"
      ]
     },
     "metadata": {},
     "output_type": "display_data"
    },
    {
     "data": {
      "text/html": [
       " View project at <a href='https://wandb.ai/da24m017-indian-institute-of-technology-madras/DA6401_Assignment_1' target=\"_blank\">https://wandb.ai/da24m017-indian-institute-of-technology-madras/DA6401_Assignment_1</a>"
      ],
      "text/plain": [
       "<IPython.core.display.HTML object>"
      ]
     },
     "metadata": {},
     "output_type": "display_data"
    },
    {
     "data": {
      "text/html": [
       " View sweep at <a href='https://wandb.ai/da24m017-indian-institute-of-technology-madras/DA6401_Assignment_1/sweeps/ic4mfnl6' target=\"_blank\">https://wandb.ai/da24m017-indian-institute-of-technology-madras/DA6401_Assignment_1/sweeps/ic4mfnl6</a>"
      ],
      "text/plain": [
       "<IPython.core.display.HTML object>"
      ]
     },
     "metadata": {},
     "output_type": "display_data"
    },
    {
     "data": {
      "text/html": [
       " View run at <a href='https://wandb.ai/da24m017-indian-institute-of-technology-madras/DA6401_Assignment_1/runs/y5cs7awz' target=\"_blank\">https://wandb.ai/da24m017-indian-institute-of-technology-madras/DA6401_Assignment_1/runs/y5cs7awz</a>"
      ],
      "text/plain": [
       "<IPython.core.display.HTML object>"
      ]
     },
     "metadata": {},
     "output_type": "display_data"
    },
    {
     "name": "stdout",
     "output_type": "stream",
     "text": [
      "Epoch 1, Train Loss: 2.3020, Val Loss: 2.3027\n",
      "Epoch 2, Train Loss: 2.3019, Val Loss: 2.3027\n",
      "Epoch 3, Train Loss: 2.3020, Val Loss: 2.3027\n",
      "Epoch 4, Train Loss: 2.3021, Val Loss: 2.3027\n",
      "Epoch 5, Train Loss: 2.3022, Val Loss: 2.3027\n"
     ]
    },
    {
     "data": {
      "text/html": [],
      "text/plain": [
       "<IPython.core.display.HTML object>"
      ]
     },
     "metadata": {},
     "output_type": "display_data"
    },
    {
     "data": {
      "text/html": [
       "<br>    <style><br>        .wandb-row {<br>            display: flex;<br>            flex-direction: row;<br>            flex-wrap: wrap;<br>            justify-content: flex-start;<br>            width: 100%;<br>        }<br>        .wandb-col {<br>            display: flex;<br>            flex-direction: column;<br>            flex-basis: 100%;<br>            flex: 1;<br>            padding: 10px;<br>        }<br>    </style><br><div class=\"wandb-row\"><div class=\"wandb-col\"><h3>Run history:</h3><br/><table class=\"wandb\"><tr><td>epoch</td><td>▁▃▅▆█</td></tr><tr><td>train_loss</td><td>▄▁▄▆█</td></tr><tr><td>val_loss</td><td>▄█▆▃▁</td></tr></table><br/></div><div class=\"wandb-col\"><h3>Run summary:</h3><br/><table class=\"wandb\"><tr><td>epoch</td><td>5</td></tr><tr><td>train_loss</td><td>2.30216</td></tr><tr><td>val_loss</td><td>2.30267</td></tr></table><br/></div></div>"
      ],
      "text/plain": [
       "<IPython.core.display.HTML object>"
      ]
     },
     "metadata": {},
     "output_type": "display_data"
    },
    {
     "data": {
      "text/html": [
       " View run <strong style=\"color:#cdcd00\">clean-sweep-27</strong> at: <a href='https://wandb.ai/da24m017-indian-institute-of-technology-madras/DA6401_Assignment_1/runs/y5cs7awz' target=\"_blank\">https://wandb.ai/da24m017-indian-institute-of-technology-madras/DA6401_Assignment_1/runs/y5cs7awz</a><br> View project at: <a href='https://wandb.ai/da24m017-indian-institute-of-technology-madras/DA6401_Assignment_1' target=\"_blank\">https://wandb.ai/da24m017-indian-institute-of-technology-madras/DA6401_Assignment_1</a><br>Synced 5 W&B file(s), 0 media file(s), 0 artifact file(s) and 0 other file(s)"
      ],
      "text/plain": [
       "<IPython.core.display.HTML object>"
      ]
     },
     "metadata": {},
     "output_type": "display_data"
    },
    {
     "data": {
      "text/html": [
       "Find logs at: <code>./wandb/run-20250309_060256-y5cs7awz/logs</code>"
      ],
      "text/plain": [
       "<IPython.core.display.HTML object>"
      ]
     },
     "metadata": {},
     "output_type": "display_data"
    },
    {
     "name": "stderr",
     "output_type": "stream",
     "text": [
      "\u001b[34m\u001b[1mwandb\u001b[0m: Agent Starting Run: mfofdgpi with config:\n",
      "\u001b[34m\u001b[1mwandb\u001b[0m: \tactivation: relu\n",
      "\u001b[34m\u001b[1mwandb\u001b[0m: \tbatch_size: 64\n",
      "\u001b[34m\u001b[1mwandb\u001b[0m: \tepochs: 10\n",
      "\u001b[34m\u001b[1mwandb\u001b[0m: \thidden_layers: 4\n",
      "\u001b[34m\u001b[1mwandb\u001b[0m: \tlayer_size: 128\n",
      "\u001b[34m\u001b[1mwandb\u001b[0m: \tlearning_rate: 0.0001\n",
      "\u001b[34m\u001b[1mwandb\u001b[0m: \toptimizer: momentum\n",
      "\u001b[34m\u001b[1mwandb\u001b[0m: \tweight_decay: 0\n",
      "\u001b[34m\u001b[1mwandb\u001b[0m: \tweight_init: xavier\n"
     ]
    },
    {
     "data": {
      "text/html": [
       "Tracking run with wandb version 0.19.8"
      ],
      "text/plain": [
       "<IPython.core.display.HTML object>"
      ]
     },
     "metadata": {},
     "output_type": "display_data"
    },
    {
     "data": {
      "text/html": [
       "Run data is saved locally in <code>/Users/sathwikpentela/MTECH/DA6401_Assignment_1/wandb/run-20250309_060317-mfofdgpi</code>"
      ],
      "text/plain": [
       "<IPython.core.display.HTML object>"
      ]
     },
     "metadata": {},
     "output_type": "display_data"
    },
    {
     "data": {
      "text/html": [
       "Syncing run <strong><a href='https://wandb.ai/da24m017-indian-institute-of-technology-madras/DA6401_Assignment_1/runs/mfofdgpi' target=\"_blank\">pretty-sweep-28</a></strong> to <a href='https://wandb.ai/da24m017-indian-institute-of-technology-madras/DA6401_Assignment_1' target=\"_blank\">Weights & Biases</a> (<a href='https://wandb.me/developer-guide' target=\"_blank\">docs</a>)<br>Sweep page: <a href='https://wandb.ai/da24m017-indian-institute-of-technology-madras/DA6401_Assignment_1/sweeps/ic4mfnl6' target=\"_blank\">https://wandb.ai/da24m017-indian-institute-of-technology-madras/DA6401_Assignment_1/sweeps/ic4mfnl6</a>"
      ],
      "text/plain": [
       "<IPython.core.display.HTML object>"
      ]
     },
     "metadata": {},
     "output_type": "display_data"
    },
    {
     "data": {
      "text/html": [
       " View project at <a href='https://wandb.ai/da24m017-indian-institute-of-technology-madras/DA6401_Assignment_1' target=\"_blank\">https://wandb.ai/da24m017-indian-institute-of-technology-madras/DA6401_Assignment_1</a>"
      ],
      "text/plain": [
       "<IPython.core.display.HTML object>"
      ]
     },
     "metadata": {},
     "output_type": "display_data"
    },
    {
     "data": {
      "text/html": [
       " View sweep at <a href='https://wandb.ai/da24m017-indian-institute-of-technology-madras/DA6401_Assignment_1/sweeps/ic4mfnl6' target=\"_blank\">https://wandb.ai/da24m017-indian-institute-of-technology-madras/DA6401_Assignment_1/sweeps/ic4mfnl6</a>"
      ],
      "text/plain": [
       "<IPython.core.display.HTML object>"
      ]
     },
     "metadata": {},
     "output_type": "display_data"
    },
    {
     "data": {
      "text/html": [
       " View run at <a href='https://wandb.ai/da24m017-indian-institute-of-technology-madras/DA6401_Assignment_1/runs/mfofdgpi' target=\"_blank\">https://wandb.ai/da24m017-indian-institute-of-technology-madras/DA6401_Assignment_1/runs/mfofdgpi</a>"
      ],
      "text/plain": [
       "<IPython.core.display.HTML object>"
      ]
     },
     "metadata": {},
     "output_type": "display_data"
    },
    {
     "name": "stdout",
     "output_type": "stream",
     "text": [
      "Epoch 1, Train Loss: 2.3024, Val Loss: 2.3025\n",
      "Epoch 2, Train Loss: 2.3023, Val Loss: 2.3025\n",
      "Epoch 3, Train Loss: 2.3021, Val Loss: 2.3025\n",
      "Epoch 4, Train Loss: 2.3020, Val Loss: 2.3025\n",
      "Epoch 5, Train Loss: 2.3019, Val Loss: 2.3025\n",
      "Epoch 6, Train Loss: 2.3018, Val Loss: 2.3025\n",
      "Epoch 7, Train Loss: 2.3017, Val Loss: 2.3024\n",
      "Epoch 8, Train Loss: 2.3016, Val Loss: 2.3024\n",
      "Epoch 9, Train Loss: 2.3015, Val Loss: 2.3024\n",
      "Epoch 10, Train Loss: 2.3015, Val Loss: 2.3024\n"
     ]
    },
    {
     "data": {
      "text/html": [],
      "text/plain": [
       "<IPython.core.display.HTML object>"
      ]
     },
     "metadata": {},
     "output_type": "display_data"
    },
    {
     "data": {
      "text/html": [
       "<br>    <style><br>        .wandb-row {<br>            display: flex;<br>            flex-direction: row;<br>            flex-wrap: wrap;<br>            justify-content: flex-start;<br>            width: 100%;<br>        }<br>        .wandb-col {<br>            display: flex;<br>            flex-direction: column;<br>            flex-basis: 100%;<br>            flex: 1;<br>            padding: 10px;<br>        }<br>    </style><br><div class=\"wandb-row\"><div class=\"wandb-col\"><h3>Run history:</h3><br/><table class=\"wandb\"><tr><td>epoch</td><td>▁▂▃▃▄▅▆▆▇█</td></tr><tr><td>train_loss</td><td>█▇▆▅▄▃▃▂▁▁</td></tr><tr><td>val_loss</td><td>█▆▅▃▃▂▁▁▁▁</td></tr></table><br/></div><div class=\"wandb-col\"><h3>Run summary:</h3><br/><table class=\"wandb\"><tr><td>epoch</td><td>10</td></tr><tr><td>train_loss</td><td>2.30145</td></tr><tr><td>val_loss</td><td>2.30244</td></tr></table><br/></div></div>"
      ],
      "text/plain": [
       "<IPython.core.display.HTML object>"
      ]
     },
     "metadata": {},
     "output_type": "display_data"
    },
    {
     "data": {
      "text/html": [
       " View run <strong style=\"color:#cdcd00\">pretty-sweep-28</strong> at: <a href='https://wandb.ai/da24m017-indian-institute-of-technology-madras/DA6401_Assignment_1/runs/mfofdgpi' target=\"_blank\">https://wandb.ai/da24m017-indian-institute-of-technology-madras/DA6401_Assignment_1/runs/mfofdgpi</a><br> View project at: <a href='https://wandb.ai/da24m017-indian-institute-of-technology-madras/DA6401_Assignment_1' target=\"_blank\">https://wandb.ai/da24m017-indian-institute-of-technology-madras/DA6401_Assignment_1</a><br>Synced 5 W&B file(s), 0 media file(s), 0 artifact file(s) and 0 other file(s)"
      ],
      "text/plain": [
       "<IPython.core.display.HTML object>"
      ]
     },
     "metadata": {},
     "output_type": "display_data"
    },
    {
     "data": {
      "text/html": [
       "Find logs at: <code>./wandb/run-20250309_060317-mfofdgpi/logs</code>"
      ],
      "text/plain": [
       "<IPython.core.display.HTML object>"
      ]
     },
     "metadata": {},
     "output_type": "display_data"
    },
    {
     "name": "stderr",
     "output_type": "stream",
     "text": [
      "\u001b[34m\u001b[1mwandb\u001b[0m: Sweep Agent: Waiting for job.\n",
      "\u001b[34m\u001b[1mwandb\u001b[0m: Job received.\n",
      "\u001b[34m\u001b[1mwandb\u001b[0m: Agent Starting Run: ii6j1p6x with config:\n",
      "\u001b[34m\u001b[1mwandb\u001b[0m: \tactivation: sigmoid\n",
      "\u001b[34m\u001b[1mwandb\u001b[0m: \tbatch_size: 16\n",
      "\u001b[34m\u001b[1mwandb\u001b[0m: \tepochs: 5\n",
      "\u001b[34m\u001b[1mwandb\u001b[0m: \thidden_layers: 5\n",
      "\u001b[34m\u001b[1mwandb\u001b[0m: \tlayer_size: 64\n",
      "\u001b[34m\u001b[1mwandb\u001b[0m: \tlearning_rate: 0.0001\n",
      "\u001b[34m\u001b[1mwandb\u001b[0m: \toptimizer: sgd\n",
      "\u001b[34m\u001b[1mwandb\u001b[0m: \tweight_decay: 0\n",
      "\u001b[34m\u001b[1mwandb\u001b[0m: \tweight_init: random\n"
     ]
    },
    {
     "data": {
      "text/html": [
       "Tracking run with wandb version 0.19.8"
      ],
      "text/plain": [
       "<IPython.core.display.HTML object>"
      ]
     },
     "metadata": {},
     "output_type": "display_data"
    },
    {
     "data": {
      "text/html": [
       "Run data is saved locally in <code>/Users/sathwikpentela/MTECH/DA6401_Assignment_1/wandb/run-20250309_060339-ii6j1p6x</code>"
      ],
      "text/plain": [
       "<IPython.core.display.HTML object>"
      ]
     },
     "metadata": {},
     "output_type": "display_data"
    },
    {
     "data": {
      "text/html": [
       "Syncing run <strong><a href='https://wandb.ai/da24m017-indian-institute-of-technology-madras/DA6401_Assignment_1/runs/ii6j1p6x' target=\"_blank\">rare-sweep-29</a></strong> to <a href='https://wandb.ai/da24m017-indian-institute-of-technology-madras/DA6401_Assignment_1' target=\"_blank\">Weights & Biases</a> (<a href='https://wandb.me/developer-guide' target=\"_blank\">docs</a>)<br>Sweep page: <a href='https://wandb.ai/da24m017-indian-institute-of-technology-madras/DA6401_Assignment_1/sweeps/ic4mfnl6' target=\"_blank\">https://wandb.ai/da24m017-indian-institute-of-technology-madras/DA6401_Assignment_1/sweeps/ic4mfnl6</a>"
      ],
      "text/plain": [
       "<IPython.core.display.HTML object>"
      ]
     },
     "metadata": {},
     "output_type": "display_data"
    },
    {
     "data": {
      "text/html": [
       " View project at <a href='https://wandb.ai/da24m017-indian-institute-of-technology-madras/DA6401_Assignment_1' target=\"_blank\">https://wandb.ai/da24m017-indian-institute-of-technology-madras/DA6401_Assignment_1</a>"
      ],
      "text/plain": [
       "<IPython.core.display.HTML object>"
      ]
     },
     "metadata": {},
     "output_type": "display_data"
    },
    {
     "data": {
      "text/html": [
       " View sweep at <a href='https://wandb.ai/da24m017-indian-institute-of-technology-madras/DA6401_Assignment_1/sweeps/ic4mfnl6' target=\"_blank\">https://wandb.ai/da24m017-indian-institute-of-technology-madras/DA6401_Assignment_1/sweeps/ic4mfnl6</a>"
      ],
      "text/plain": [
       "<IPython.core.display.HTML object>"
      ]
     },
     "metadata": {},
     "output_type": "display_data"
    },
    {
     "data": {
      "text/html": [
       " View run at <a href='https://wandb.ai/da24m017-indian-institute-of-technology-madras/DA6401_Assignment_1/runs/ii6j1p6x' target=\"_blank\">https://wandb.ai/da24m017-indian-institute-of-technology-madras/DA6401_Assignment_1/runs/ii6j1p6x</a>"
      ],
      "text/plain": [
       "<IPython.core.display.HTML object>"
      ]
     },
     "metadata": {},
     "output_type": "display_data"
    },
    {
     "name": "stdout",
     "output_type": "stream",
     "text": [
      "Epoch 1, Train Loss: 2.3025, Val Loss: 2.3026\n",
      "Epoch 2, Train Loss: 2.3025, Val Loss: 2.3026\n",
      "Epoch 3, Train Loss: 2.3026, Val Loss: 2.3026\n",
      "Epoch 4, Train Loss: 2.3025, Val Loss: 2.3026\n",
      "Epoch 5, Train Loss: 2.3025, Val Loss: 2.3026\n"
     ]
    },
    {
     "data": {
      "text/html": [],
      "text/plain": [
       "<IPython.core.display.HTML object>"
      ]
     },
     "metadata": {},
     "output_type": "display_data"
    },
    {
     "data": {
      "text/html": [
       "<br>    <style><br>        .wandb-row {<br>            display: flex;<br>            flex-direction: row;<br>            flex-wrap: wrap;<br>            justify-content: flex-start;<br>            width: 100%;<br>        }<br>        .wandb-col {<br>            display: flex;<br>            flex-direction: column;<br>            flex-basis: 100%;<br>            flex: 1;<br>            padding: 10px;<br>        }<br>    </style><br><div class=\"wandb-row\"><div class=\"wandb-col\"><h3>Run history:</h3><br/><table class=\"wandb\"><tr><td>epoch</td><td>▁▃▅▆█</td></tr><tr><td>train_loss</td><td>▁▇███</td></tr><tr><td>val_loss</td><td>█▂▁▁▁</td></tr></table><br/></div><div class=\"wandb-col\"><h3>Run summary:</h3><br/><table class=\"wandb\"><tr><td>epoch</td><td>5</td></tr><tr><td>train_loss</td><td>2.30255</td></tr><tr><td>val_loss</td><td>2.30261</td></tr></table><br/></div></div>"
      ],
      "text/plain": [
       "<IPython.core.display.HTML object>"
      ]
     },
     "metadata": {},
     "output_type": "display_data"
    },
    {
     "data": {
      "text/html": [
       " View run <strong style=\"color:#cdcd00\">rare-sweep-29</strong> at: <a href='https://wandb.ai/da24m017-indian-institute-of-technology-madras/DA6401_Assignment_1/runs/ii6j1p6x' target=\"_blank\">https://wandb.ai/da24m017-indian-institute-of-technology-madras/DA6401_Assignment_1/runs/ii6j1p6x</a><br> View project at: <a href='https://wandb.ai/da24m017-indian-institute-of-technology-madras/DA6401_Assignment_1' target=\"_blank\">https://wandb.ai/da24m017-indian-institute-of-technology-madras/DA6401_Assignment_1</a><br>Synced 5 W&B file(s), 0 media file(s), 0 artifact file(s) and 0 other file(s)"
      ],
      "text/plain": [
       "<IPython.core.display.HTML object>"
      ]
     },
     "metadata": {},
     "output_type": "display_data"
    },
    {
     "data": {
      "text/html": [
       "Find logs at: <code>./wandb/run-20250309_060339-ii6j1p6x/logs</code>"
      ],
      "text/plain": [
       "<IPython.core.display.HTML object>"
      ]
     },
     "metadata": {},
     "output_type": "display_data"
    },
    {
     "name": "stderr",
     "output_type": "stream",
     "text": [
      "\u001b[34m\u001b[1mwandb\u001b[0m: Agent Starting Run: ksqvp0mo with config:\n",
      "\u001b[34m\u001b[1mwandb\u001b[0m: \tactivation: sigmoid\n",
      "\u001b[34m\u001b[1mwandb\u001b[0m: \tbatch_size: 64\n",
      "\u001b[34m\u001b[1mwandb\u001b[0m: \tepochs: 5\n",
      "\u001b[34m\u001b[1mwandb\u001b[0m: \thidden_layers: 4\n",
      "\u001b[34m\u001b[1mwandb\u001b[0m: \tlayer_size: 128\n",
      "\u001b[34m\u001b[1mwandb\u001b[0m: \tlearning_rate: 0.001\n",
      "\u001b[34m\u001b[1mwandb\u001b[0m: \toptimizer: sgd\n",
      "\u001b[34m\u001b[1mwandb\u001b[0m: \tweight_decay: 0\n",
      "\u001b[34m\u001b[1mwandb\u001b[0m: \tweight_init: xavier\n"
     ]
    },
    {
     "data": {
      "text/html": [
       "Tracking run with wandb version 0.19.8"
      ],
      "text/plain": [
       "<IPython.core.display.HTML object>"
      ]
     },
     "metadata": {},
     "output_type": "display_data"
    },
    {
     "data": {
      "text/html": [
       "Run data is saved locally in <code>/Users/sathwikpentela/MTECH/DA6401_Assignment_1/wandb/run-20250309_060349-ksqvp0mo</code>"
      ],
      "text/plain": [
       "<IPython.core.display.HTML object>"
      ]
     },
     "metadata": {},
     "output_type": "display_data"
    },
    {
     "data": {
      "text/html": [
       "Syncing run <strong><a href='https://wandb.ai/da24m017-indian-institute-of-technology-madras/DA6401_Assignment_1/runs/ksqvp0mo' target=\"_blank\">sage-sweep-30</a></strong> to <a href='https://wandb.ai/da24m017-indian-institute-of-technology-madras/DA6401_Assignment_1' target=\"_blank\">Weights & Biases</a> (<a href='https://wandb.me/developer-guide' target=\"_blank\">docs</a>)<br>Sweep page: <a href='https://wandb.ai/da24m017-indian-institute-of-technology-madras/DA6401_Assignment_1/sweeps/ic4mfnl6' target=\"_blank\">https://wandb.ai/da24m017-indian-institute-of-technology-madras/DA6401_Assignment_1/sweeps/ic4mfnl6</a>"
      ],
      "text/plain": [
       "<IPython.core.display.HTML object>"
      ]
     },
     "metadata": {},
     "output_type": "display_data"
    },
    {
     "data": {
      "text/html": [
       " View project at <a href='https://wandb.ai/da24m017-indian-institute-of-technology-madras/DA6401_Assignment_1' target=\"_blank\">https://wandb.ai/da24m017-indian-institute-of-technology-madras/DA6401_Assignment_1</a>"
      ],
      "text/plain": [
       "<IPython.core.display.HTML object>"
      ]
     },
     "metadata": {},
     "output_type": "display_data"
    },
    {
     "data": {
      "text/html": [
       " View sweep at <a href='https://wandb.ai/da24m017-indian-institute-of-technology-madras/DA6401_Assignment_1/sweeps/ic4mfnl6' target=\"_blank\">https://wandb.ai/da24m017-indian-institute-of-technology-madras/DA6401_Assignment_1/sweeps/ic4mfnl6</a>"
      ],
      "text/plain": [
       "<IPython.core.display.HTML object>"
      ]
     },
     "metadata": {},
     "output_type": "display_data"
    },
    {
     "data": {
      "text/html": [
       " View run at <a href='https://wandb.ai/da24m017-indian-institute-of-technology-madras/DA6401_Assignment_1/runs/ksqvp0mo' target=\"_blank\">https://wandb.ai/da24m017-indian-institute-of-technology-madras/DA6401_Assignment_1/runs/ksqvp0mo</a>"
      ],
      "text/plain": [
       "<IPython.core.display.HTML object>"
      ]
     },
     "metadata": {},
     "output_type": "display_data"
    },
    {
     "name": "stdout",
     "output_type": "stream",
     "text": [
      "Epoch 1, Train Loss: 2.3023, Val Loss: 2.3026\n",
      "Epoch 2, Train Loss: 2.3024, Val Loss: 2.3026\n",
      "Epoch 3, Train Loss: 2.3024, Val Loss: 2.3026\n",
      "Epoch 4, Train Loss: 2.3024, Val Loss: 2.3026\n",
      "Epoch 5, Train Loss: 2.3024, Val Loss: 2.3026\n"
     ]
    },
    {
     "data": {
      "text/html": [],
      "text/plain": [
       "<IPython.core.display.HTML object>"
      ]
     },
     "metadata": {},
     "output_type": "display_data"
    },
    {
     "data": {
      "text/html": [
       "<br>    <style><br>        .wandb-row {<br>            display: flex;<br>            flex-direction: row;<br>            flex-wrap: wrap;<br>            justify-content: flex-start;<br>            width: 100%;<br>        }<br>        .wandb-col {<br>            display: flex;<br>            flex-direction: column;<br>            flex-basis: 100%;<br>            flex: 1;<br>            padding: 10px;<br>        }<br>    </style><br><div class=\"wandb-row\"><div class=\"wandb-col\"><h3>Run history:</h3><br/><table class=\"wandb\"><tr><td>epoch</td><td>▁▃▅▆█</td></tr><tr><td>train_loss</td><td>▁████</td></tr><tr><td>val_loss</td><td>▁████</td></tr></table><br/></div><div class=\"wandb-col\"><h3>Run summary:</h3><br/><table class=\"wandb\"><tr><td>epoch</td><td>5</td></tr><tr><td>train_loss</td><td>2.30235</td></tr><tr><td>val_loss</td><td>2.3026</td></tr></table><br/></div></div>"
      ],
      "text/plain": [
       "<IPython.core.display.HTML object>"
      ]
     },
     "metadata": {},
     "output_type": "display_data"
    },
    {
     "data": {
      "text/html": [
       " View run <strong style=\"color:#cdcd00\">sage-sweep-30</strong> at: <a href='https://wandb.ai/da24m017-indian-institute-of-technology-madras/DA6401_Assignment_1/runs/ksqvp0mo' target=\"_blank\">https://wandb.ai/da24m017-indian-institute-of-technology-madras/DA6401_Assignment_1/runs/ksqvp0mo</a><br> View project at: <a href='https://wandb.ai/da24m017-indian-institute-of-technology-madras/DA6401_Assignment_1' target=\"_blank\">https://wandb.ai/da24m017-indian-institute-of-technology-madras/DA6401_Assignment_1</a><br>Synced 5 W&B file(s), 0 media file(s), 0 artifact file(s) and 0 other file(s)"
      ],
      "text/plain": [
       "<IPython.core.display.HTML object>"
      ]
     },
     "metadata": {},
     "output_type": "display_data"
    },
    {
     "data": {
      "text/html": [
       "Find logs at: <code>./wandb/run-20250309_060349-ksqvp0mo/logs</code>"
      ],
      "text/plain": [
       "<IPython.core.display.HTML object>"
      ]
     },
     "metadata": {},
     "output_type": "display_data"
    },
    {
     "name": "stderr",
     "output_type": "stream",
     "text": [
      "\u001b[34m\u001b[1mwandb\u001b[0m: Agent Starting Run: df64mxwa with config:\n",
      "\u001b[34m\u001b[1mwandb\u001b[0m: \tactivation: relu\n",
      "\u001b[34m\u001b[1mwandb\u001b[0m: \tbatch_size: 64\n",
      "\u001b[34m\u001b[1mwandb\u001b[0m: \tepochs: 10\n",
      "\u001b[34m\u001b[1mwandb\u001b[0m: \thidden_layers: 4\n",
      "\u001b[34m\u001b[1mwandb\u001b[0m: \tlayer_size: 128\n",
      "\u001b[34m\u001b[1mwandb\u001b[0m: \tlearning_rate: 0.0001\n",
      "\u001b[34m\u001b[1mwandb\u001b[0m: \toptimizer: adam\n",
      "\u001b[34m\u001b[1mwandb\u001b[0m: \tweight_decay: 0.0005\n",
      "\u001b[34m\u001b[1mwandb\u001b[0m: \tweight_init: xavier\n"
     ]
    },
    {
     "data": {
      "text/html": [
       "Tracking run with wandb version 0.19.8"
      ],
      "text/plain": [
       "<IPython.core.display.HTML object>"
      ]
     },
     "metadata": {},
     "output_type": "display_data"
    },
    {
     "data": {
      "text/html": [
       "Run data is saved locally in <code>/Users/sathwikpentela/MTECH/DA6401_Assignment_1/wandb/run-20250309_060401-df64mxwa</code>"
      ],
      "text/plain": [
       "<IPython.core.display.HTML object>"
      ]
     },
     "metadata": {},
     "output_type": "display_data"
    },
    {
     "data": {
      "text/html": [
       "Syncing run <strong><a href='https://wandb.ai/da24m017-indian-institute-of-technology-madras/DA6401_Assignment_1/runs/df64mxwa' target=\"_blank\">radiant-sweep-31</a></strong> to <a href='https://wandb.ai/da24m017-indian-institute-of-technology-madras/DA6401_Assignment_1' target=\"_blank\">Weights & Biases</a> (<a href='https://wandb.me/developer-guide' target=\"_blank\">docs</a>)<br>Sweep page: <a href='https://wandb.ai/da24m017-indian-institute-of-technology-madras/DA6401_Assignment_1/sweeps/ic4mfnl6' target=\"_blank\">https://wandb.ai/da24m017-indian-institute-of-technology-madras/DA6401_Assignment_1/sweeps/ic4mfnl6</a>"
      ],
      "text/plain": [
       "<IPython.core.display.HTML object>"
      ]
     },
     "metadata": {},
     "output_type": "display_data"
    },
    {
     "data": {
      "text/html": [
       " View project at <a href='https://wandb.ai/da24m017-indian-institute-of-technology-madras/DA6401_Assignment_1' target=\"_blank\">https://wandb.ai/da24m017-indian-institute-of-technology-madras/DA6401_Assignment_1</a>"
      ],
      "text/plain": [
       "<IPython.core.display.HTML object>"
      ]
     },
     "metadata": {},
     "output_type": "display_data"
    },
    {
     "data": {
      "text/html": [
       " View sweep at <a href='https://wandb.ai/da24m017-indian-institute-of-technology-madras/DA6401_Assignment_1/sweeps/ic4mfnl6' target=\"_blank\">https://wandb.ai/da24m017-indian-institute-of-technology-madras/DA6401_Assignment_1/sweeps/ic4mfnl6</a>"
      ],
      "text/plain": [
       "<IPython.core.display.HTML object>"
      ]
     },
     "metadata": {},
     "output_type": "display_data"
    },
    {
     "data": {
      "text/html": [
       " View run at <a href='https://wandb.ai/da24m017-indian-institute-of-technology-madras/DA6401_Assignment_1/runs/df64mxwa' target=\"_blank\">https://wandb.ai/da24m017-indian-institute-of-technology-madras/DA6401_Assignment_1/runs/df64mxwa</a>"
      ],
      "text/plain": [
       "<IPython.core.display.HTML object>"
      ]
     },
     "metadata": {},
     "output_type": "display_data"
    },
    {
     "name": "stdout",
     "output_type": "stream",
     "text": [
      "Epoch 1, Train Loss: 2.0199, Val Loss: 2.0474\n",
      "Epoch 2, Train Loss: 1.9941, Val Loss: 2.0024\n",
      "Epoch 3, Train Loss: 1.9759, Val Loss: 1.9875\n",
      "Epoch 4, Train Loss: 1.9589, Val Loss: 1.9717\n",
      "Epoch 5, Train Loss: 1.9551, Val Loss: 1.9618\n",
      "Epoch 6, Train Loss: 1.9419, Val Loss: 1.9514\n",
      "Epoch 7, Train Loss: 1.9241, Val Loss: 1.9387\n",
      "Epoch 8, Train Loss: 1.9079, Val Loss: 1.9282\n",
      "Epoch 9, Train Loss: 1.8953, Val Loss: 1.9177\n",
      "Epoch 10, Train Loss: 1.8794, Val Loss: 1.9113\n"
     ]
    },
    {
     "data": {
      "text/html": [],
      "text/plain": [
       "<IPython.core.display.HTML object>"
      ]
     },
     "metadata": {},
     "output_type": "display_data"
    },
    {
     "data": {
      "text/html": [
       "<br>    <style><br>        .wandb-row {<br>            display: flex;<br>            flex-direction: row;<br>            flex-wrap: wrap;<br>            justify-content: flex-start;<br>            width: 100%;<br>        }<br>        .wandb-col {<br>            display: flex;<br>            flex-direction: column;<br>            flex-basis: 100%;<br>            flex: 1;<br>            padding: 10px;<br>        }<br>    </style><br><div class=\"wandb-row\"><div class=\"wandb-col\"><h3>Run history:</h3><br/><table class=\"wandb\"><tr><td>epoch</td><td>▁▂▃▃▄▅▆▆▇█</td></tr><tr><td>train_loss</td><td>█▇▆▅▅▄▃▂▂▁</td></tr><tr><td>val_loss</td><td>█▆▅▄▄▃▂▂▁▁</td></tr></table><br/></div><div class=\"wandb-col\"><h3>Run summary:</h3><br/><table class=\"wandb\"><tr><td>epoch</td><td>10</td></tr><tr><td>train_loss</td><td>1.87938</td></tr><tr><td>val_loss</td><td>1.91134</td></tr></table><br/></div></div>"
      ],
      "text/plain": [
       "<IPython.core.display.HTML object>"
      ]
     },
     "metadata": {},
     "output_type": "display_data"
    },
    {
     "data": {
      "text/html": [
       " View run <strong style=\"color:#cdcd00\">radiant-sweep-31</strong> at: <a href='https://wandb.ai/da24m017-indian-institute-of-technology-madras/DA6401_Assignment_1/runs/df64mxwa' target=\"_blank\">https://wandb.ai/da24m017-indian-institute-of-technology-madras/DA6401_Assignment_1/runs/df64mxwa</a><br> View project at: <a href='https://wandb.ai/da24m017-indian-institute-of-technology-madras/DA6401_Assignment_1' target=\"_blank\">https://wandb.ai/da24m017-indian-institute-of-technology-madras/DA6401_Assignment_1</a><br>Synced 5 W&B file(s), 0 media file(s), 0 artifact file(s) and 0 other file(s)"
      ],
      "text/plain": [
       "<IPython.core.display.HTML object>"
      ]
     },
     "metadata": {},
     "output_type": "display_data"
    },
    {
     "data": {
      "text/html": [
       "Find logs at: <code>./wandb/run-20250309_060401-df64mxwa/logs</code>"
      ],
      "text/plain": [
       "<IPython.core.display.HTML object>"
      ]
     },
     "metadata": {},
     "output_type": "display_data"
    },
    {
     "name": "stderr",
     "output_type": "stream",
     "text": [
      "\u001b[34m\u001b[1mwandb\u001b[0m: Agent Starting Run: 8ji17kqi with config:\n",
      "\u001b[34m\u001b[1mwandb\u001b[0m: \tactivation: relu\n",
      "\u001b[34m\u001b[1mwandb\u001b[0m: \tbatch_size: 64\n",
      "\u001b[34m\u001b[1mwandb\u001b[0m: \tepochs: 5\n",
      "\u001b[34m\u001b[1mwandb\u001b[0m: \thidden_layers: 5\n",
      "\u001b[34m\u001b[1mwandb\u001b[0m: \tlayer_size: 32\n",
      "\u001b[34m\u001b[1mwandb\u001b[0m: \tlearning_rate: 0.001\n",
      "\u001b[34m\u001b[1mwandb\u001b[0m: \toptimizer: adam\n",
      "\u001b[34m\u001b[1mwandb\u001b[0m: \tweight_decay: 0\n",
      "\u001b[34m\u001b[1mwandb\u001b[0m: \tweight_init: random\n"
     ]
    },
    {
     "data": {
      "text/html": [
       "Tracking run with wandb version 0.19.8"
      ],
      "text/plain": [
       "<IPython.core.display.HTML object>"
      ]
     },
     "metadata": {},
     "output_type": "display_data"
    },
    {
     "data": {
      "text/html": [
       "Run data is saved locally in <code>/Users/sathwikpentela/MTECH/DA6401_Assignment_1/wandb/run-20250309_060417-8ji17kqi</code>"
      ],
      "text/plain": [
       "<IPython.core.display.HTML object>"
      ]
     },
     "metadata": {},
     "output_type": "display_data"
    },
    {
     "data": {
      "text/html": [
       "Syncing run <strong><a href='https://wandb.ai/da24m017-indian-institute-of-technology-madras/DA6401_Assignment_1/runs/8ji17kqi' target=\"_blank\">vocal-sweep-32</a></strong> to <a href='https://wandb.ai/da24m017-indian-institute-of-technology-madras/DA6401_Assignment_1' target=\"_blank\">Weights & Biases</a> (<a href='https://wandb.me/developer-guide' target=\"_blank\">docs</a>)<br>Sweep page: <a href='https://wandb.ai/da24m017-indian-institute-of-technology-madras/DA6401_Assignment_1/sweeps/ic4mfnl6' target=\"_blank\">https://wandb.ai/da24m017-indian-institute-of-technology-madras/DA6401_Assignment_1/sweeps/ic4mfnl6</a>"
      ],
      "text/plain": [
       "<IPython.core.display.HTML object>"
      ]
     },
     "metadata": {},
     "output_type": "display_data"
    },
    {
     "data": {
      "text/html": [
       " View project at <a href='https://wandb.ai/da24m017-indian-institute-of-technology-madras/DA6401_Assignment_1' target=\"_blank\">https://wandb.ai/da24m017-indian-institute-of-technology-madras/DA6401_Assignment_1</a>"
      ],
      "text/plain": [
       "<IPython.core.display.HTML object>"
      ]
     },
     "metadata": {},
     "output_type": "display_data"
    },
    {
     "data": {
      "text/html": [
       " View sweep at <a href='https://wandb.ai/da24m017-indian-institute-of-technology-madras/DA6401_Assignment_1/sweeps/ic4mfnl6' target=\"_blank\">https://wandb.ai/da24m017-indian-institute-of-technology-madras/DA6401_Assignment_1/sweeps/ic4mfnl6</a>"
      ],
      "text/plain": [
       "<IPython.core.display.HTML object>"
      ]
     },
     "metadata": {},
     "output_type": "display_data"
    },
    {
     "data": {
      "text/html": [
       " View run at <a href='https://wandb.ai/da24m017-indian-institute-of-technology-madras/DA6401_Assignment_1/runs/8ji17kqi' target=\"_blank\">https://wandb.ai/da24m017-indian-institute-of-technology-madras/DA6401_Assignment_1/runs/8ji17kqi</a>"
      ],
      "text/plain": [
       "<IPython.core.display.HTML object>"
      ]
     },
     "metadata": {},
     "output_type": "display_data"
    },
    {
     "name": "stdout",
     "output_type": "stream",
     "text": [
      "Epoch 1, Train Loss: 2.1445, Val Loss: 2.0799\n",
      "Epoch 2, Train Loss: 2.1037, Val Loss: 2.0066\n",
      "Epoch 3, Train Loss: 1.9956, Val Loss: 1.9243\n",
      "Epoch 4, Train Loss: 1.9564, Val Loss: 1.8838\n",
      "Epoch 5, Train Loss: 1.9133, Val Loss: 1.8526\n"
     ]
    },
    {
     "data": {
      "text/html": [],
      "text/plain": [
       "<IPython.core.display.HTML object>"
      ]
     },
     "metadata": {},
     "output_type": "display_data"
    },
    {
     "data": {
      "text/html": [
       "<br>    <style><br>        .wandb-row {<br>            display: flex;<br>            flex-direction: row;<br>            flex-wrap: wrap;<br>            justify-content: flex-start;<br>            width: 100%;<br>        }<br>        .wandb-col {<br>            display: flex;<br>            flex-direction: column;<br>            flex-basis: 100%;<br>            flex: 1;<br>            padding: 10px;<br>        }<br>    </style><br><div class=\"wandb-row\"><div class=\"wandb-col\"><h3>Run history:</h3><br/><table class=\"wandb\"><tr><td>epoch</td><td>▁▃▅▆█</td></tr><tr><td>train_loss</td><td>█▇▃▂▁</td></tr><tr><td>val_loss</td><td>█▆▃▂▁</td></tr></table><br/></div><div class=\"wandb-col\"><h3>Run summary:</h3><br/><table class=\"wandb\"><tr><td>epoch</td><td>5</td></tr><tr><td>train_loss</td><td>1.91334</td></tr><tr><td>val_loss</td><td>1.85262</td></tr></table><br/></div></div>"
      ],
      "text/plain": [
       "<IPython.core.display.HTML object>"
      ]
     },
     "metadata": {},
     "output_type": "display_data"
    },
    {
     "data": {
      "text/html": [
       " View run <strong style=\"color:#cdcd00\">vocal-sweep-32</strong> at: <a href='https://wandb.ai/da24m017-indian-institute-of-technology-madras/DA6401_Assignment_1/runs/8ji17kqi' target=\"_blank\">https://wandb.ai/da24m017-indian-institute-of-technology-madras/DA6401_Assignment_1/runs/8ji17kqi</a><br> View project at: <a href='https://wandb.ai/da24m017-indian-institute-of-technology-madras/DA6401_Assignment_1' target=\"_blank\">https://wandb.ai/da24m017-indian-institute-of-technology-madras/DA6401_Assignment_1</a><br>Synced 5 W&B file(s), 0 media file(s), 0 artifact file(s) and 0 other file(s)"
      ],
      "text/plain": [
       "<IPython.core.display.HTML object>"
      ]
     },
     "metadata": {},
     "output_type": "display_data"
    },
    {
     "data": {
      "text/html": [
       "Find logs at: <code>./wandb/run-20250309_060417-8ji17kqi/logs</code>"
      ],
      "text/plain": [
       "<IPython.core.display.HTML object>"
      ]
     },
     "metadata": {},
     "output_type": "display_data"
    },
    {
     "name": "stderr",
     "output_type": "stream",
     "text": [
      "\u001b[34m\u001b[1mwandb\u001b[0m: Sweep Agent: Waiting for job.\n",
      "\u001b[34m\u001b[1mwandb\u001b[0m: Job received.\n",
      "\u001b[34m\u001b[1mwandb\u001b[0m: Agent Starting Run: r8d4rkwc with config:\n",
      "\u001b[34m\u001b[1mwandb\u001b[0m: \tactivation: relu\n",
      "\u001b[34m\u001b[1mwandb\u001b[0m: \tbatch_size: 64\n",
      "\u001b[34m\u001b[1mwandb\u001b[0m: \tepochs: 5\n",
      "\u001b[34m\u001b[1mwandb\u001b[0m: \thidden_layers: 5\n",
      "\u001b[34m\u001b[1mwandb\u001b[0m: \tlayer_size: 32\n",
      "\u001b[34m\u001b[1mwandb\u001b[0m: \tlearning_rate: 0.0001\n",
      "\u001b[34m\u001b[1mwandb\u001b[0m: \toptimizer: nadam\n",
      "\u001b[34m\u001b[1mwandb\u001b[0m: \tweight_decay: 0\n",
      "\u001b[34m\u001b[1mwandb\u001b[0m: \tweight_init: random\n"
     ]
    },
    {
     "data": {
      "text/html": [
       "Tracking run with wandb version 0.19.8"
      ],
      "text/plain": [
       "<IPython.core.display.HTML object>"
      ]
     },
     "metadata": {},
     "output_type": "display_data"
    },
    {
     "data": {
      "text/html": [
       "Run data is saved locally in <code>/Users/sathwikpentela/MTECH/DA6401_Assignment_1/wandb/run-20250309_060433-r8d4rkwc</code>"
      ],
      "text/plain": [
       "<IPython.core.display.HTML object>"
      ]
     },
     "metadata": {},
     "output_type": "display_data"
    },
    {
     "data": {
      "text/html": [
       "Syncing run <strong><a href='https://wandb.ai/da24m017-indian-institute-of-technology-madras/DA6401_Assignment_1/runs/r8d4rkwc' target=\"_blank\">spring-sweep-33</a></strong> to <a href='https://wandb.ai/da24m017-indian-institute-of-technology-madras/DA6401_Assignment_1' target=\"_blank\">Weights & Biases</a> (<a href='https://wandb.me/developer-guide' target=\"_blank\">docs</a>)<br>Sweep page: <a href='https://wandb.ai/da24m017-indian-institute-of-technology-madras/DA6401_Assignment_1/sweeps/ic4mfnl6' target=\"_blank\">https://wandb.ai/da24m017-indian-institute-of-technology-madras/DA6401_Assignment_1/sweeps/ic4mfnl6</a>"
      ],
      "text/plain": [
       "<IPython.core.display.HTML object>"
      ]
     },
     "metadata": {},
     "output_type": "display_data"
    },
    {
     "data": {
      "text/html": [
       " View project at <a href='https://wandb.ai/da24m017-indian-institute-of-technology-madras/DA6401_Assignment_1' target=\"_blank\">https://wandb.ai/da24m017-indian-institute-of-technology-madras/DA6401_Assignment_1</a>"
      ],
      "text/plain": [
       "<IPython.core.display.HTML object>"
      ]
     },
     "metadata": {},
     "output_type": "display_data"
    },
    {
     "data": {
      "text/html": [
       " View sweep at <a href='https://wandb.ai/da24m017-indian-institute-of-technology-madras/DA6401_Assignment_1/sweeps/ic4mfnl6' target=\"_blank\">https://wandb.ai/da24m017-indian-institute-of-technology-madras/DA6401_Assignment_1/sweeps/ic4mfnl6</a>"
      ],
      "text/plain": [
       "<IPython.core.display.HTML object>"
      ]
     },
     "metadata": {},
     "output_type": "display_data"
    },
    {
     "data": {
      "text/html": [
       " View run at <a href='https://wandb.ai/da24m017-indian-institute-of-technology-madras/DA6401_Assignment_1/runs/r8d4rkwc' target=\"_blank\">https://wandb.ai/da24m017-indian-institute-of-technology-madras/DA6401_Assignment_1/runs/r8d4rkwc</a>"
      ],
      "text/plain": [
       "<IPython.core.display.HTML object>"
      ]
     },
     "metadata": {},
     "output_type": "display_data"
    },
    {
     "name": "stderr",
     "output_type": "stream",
     "text": [
      "Traceback (most recent call last):\n",
      "  File \"/var/folders/97/64q5gb_55n5dk9c9nd8xzdw00000gn/T/ipykernel_38811/4050847273.py\", line 20, in sweep_train\n",
      "    model = NeuralNetwork(\n",
      "  File \"/var/folders/97/64q5gb_55n5dk9c9nd8xzdw00000gn/T/ipykernel_38811/4163194409.py\", line 8, in __init__\n",
      "    self.optimizer = optimizers[optimizer](lr=lr)\n",
      "KeyError: 'nadam'\n"
     ]
    },
    {
     "data": {
      "text/html": [],
      "text/plain": [
       "<IPython.core.display.HTML object>"
      ]
     },
     "metadata": {},
     "output_type": "display_data"
    },
    {
     "data": {
      "text/html": [
       " View run <strong style=\"color:#cdcd00\">spring-sweep-33</strong> at: <a href='https://wandb.ai/da24m017-indian-institute-of-technology-madras/DA6401_Assignment_1/runs/r8d4rkwc' target=\"_blank\">https://wandb.ai/da24m017-indian-institute-of-technology-madras/DA6401_Assignment_1/runs/r8d4rkwc</a><br> View project at: <a href='https://wandb.ai/da24m017-indian-institute-of-technology-madras/DA6401_Assignment_1' target=\"_blank\">https://wandb.ai/da24m017-indian-institute-of-technology-madras/DA6401_Assignment_1</a><br>Synced 5 W&B file(s), 0 media file(s), 0 artifact file(s) and 0 other file(s)"
      ],
      "text/plain": [
       "<IPython.core.display.HTML object>"
      ]
     },
     "metadata": {},
     "output_type": "display_data"
    },
    {
     "data": {
      "text/html": [
       "Find logs at: <code>./wandb/run-20250309_060433-r8d4rkwc/logs</code>"
      ],
      "text/plain": [
       "<IPython.core.display.HTML object>"
      ]
     },
     "metadata": {},
     "output_type": "display_data"
    },
    {
     "name": "stderr",
     "output_type": "stream",
     "text": [
      "Run r8d4rkwc errored:\n",
      "Traceback (most recent call last):\n",
      "  File \"/Users/sathwikpentela/miniforge3/envs/PINN/lib/python3.10/site-packages/wandb/agents/pyagent.py\", line 306, in _run_job\n",
      "    self._function()\n",
      "  File \"/var/folders/97/64q5gb_55n5dk9c9nd8xzdw00000gn/T/ipykernel_38811/4050847273.py\", line 20, in sweep_train\n",
      "    model = NeuralNetwork(\n",
      "  File \"/var/folders/97/64q5gb_55n5dk9c9nd8xzdw00000gn/T/ipykernel_38811/4163194409.py\", line 8, in __init__\n",
      "    self.optimizer = optimizers[optimizer](lr=lr)\n",
      "KeyError: 'nadam'\n",
      "\n",
      "\u001b[34m\u001b[1mwandb\u001b[0m: \u001b[32m\u001b[41mERROR\u001b[0m Run r8d4rkwc errored:\n",
      "\u001b[34m\u001b[1mwandb\u001b[0m: \u001b[32m\u001b[41mERROR\u001b[0m Traceback (most recent call last):\n",
      "\u001b[34m\u001b[1mwandb\u001b[0m: \u001b[32m\u001b[41mERROR\u001b[0m   File \"/Users/sathwikpentela/miniforge3/envs/PINN/lib/python3.10/site-packages/wandb/agents/pyagent.py\", line 306, in _run_job\n",
      "\u001b[34m\u001b[1mwandb\u001b[0m: \u001b[32m\u001b[41mERROR\u001b[0m     self._function()\n",
      "\u001b[34m\u001b[1mwandb\u001b[0m: \u001b[32m\u001b[41mERROR\u001b[0m   File \"/var/folders/97/64q5gb_55n5dk9c9nd8xzdw00000gn/T/ipykernel_38811/4050847273.py\", line 20, in sweep_train\n",
      "\u001b[34m\u001b[1mwandb\u001b[0m: \u001b[32m\u001b[41mERROR\u001b[0m     model = NeuralNetwork(\n",
      "\u001b[34m\u001b[1mwandb\u001b[0m: \u001b[32m\u001b[41mERROR\u001b[0m   File \"/var/folders/97/64q5gb_55n5dk9c9nd8xzdw00000gn/T/ipykernel_38811/4163194409.py\", line 8, in __init__\n",
      "\u001b[34m\u001b[1mwandb\u001b[0m: \u001b[32m\u001b[41mERROR\u001b[0m     self.optimizer = optimizers[optimizer](lr=lr)\n",
      "\u001b[34m\u001b[1mwandb\u001b[0m: \u001b[32m\u001b[41mERROR\u001b[0m KeyError: 'nadam'\n",
      "\u001b[34m\u001b[1mwandb\u001b[0m: \u001b[32m\u001b[41mERROR\u001b[0m \n",
      "\u001b[34m\u001b[1mwandb\u001b[0m: Agent Starting Run: 4z8rqisd with config:\n",
      "\u001b[34m\u001b[1mwandb\u001b[0m: \tactivation: relu\n",
      "\u001b[34m\u001b[1mwandb\u001b[0m: \tbatch_size: 64\n",
      "\u001b[34m\u001b[1mwandb\u001b[0m: \tepochs: 10\n",
      "\u001b[34m\u001b[1mwandb\u001b[0m: \thidden_layers: 5\n",
      "\u001b[34m\u001b[1mwandb\u001b[0m: \tlayer_size: 128\n",
      "\u001b[34m\u001b[1mwandb\u001b[0m: \tlearning_rate: 0.0001\n",
      "\u001b[34m\u001b[1mwandb\u001b[0m: \toptimizer: adam\n",
      "\u001b[34m\u001b[1mwandb\u001b[0m: \tweight_decay: 0.0005\n",
      "\u001b[34m\u001b[1mwandb\u001b[0m: \tweight_init: xavier\n"
     ]
    },
    {
     "data": {
      "text/html": [
       "Tracking run with wandb version 0.19.8"
      ],
      "text/plain": [
       "<IPython.core.display.HTML object>"
      ]
     },
     "metadata": {},
     "output_type": "display_data"
    },
    {
     "data": {
      "text/html": [
       "Run data is saved locally in <code>/Users/sathwikpentela/MTECH/DA6401_Assignment_1/wandb/run-20250309_060439-4z8rqisd</code>"
      ],
      "text/plain": [
       "<IPython.core.display.HTML object>"
      ]
     },
     "metadata": {},
     "output_type": "display_data"
    },
    {
     "data": {
      "text/html": [
       "Syncing run <strong><a href='https://wandb.ai/da24m017-indian-institute-of-technology-madras/DA6401_Assignment_1/runs/4z8rqisd' target=\"_blank\">dainty-sweep-34</a></strong> to <a href='https://wandb.ai/da24m017-indian-institute-of-technology-madras/DA6401_Assignment_1' target=\"_blank\">Weights & Biases</a> (<a href='https://wandb.me/developer-guide' target=\"_blank\">docs</a>)<br>Sweep page: <a href='https://wandb.ai/da24m017-indian-institute-of-technology-madras/DA6401_Assignment_1/sweeps/ic4mfnl6' target=\"_blank\">https://wandb.ai/da24m017-indian-institute-of-technology-madras/DA6401_Assignment_1/sweeps/ic4mfnl6</a>"
      ],
      "text/plain": [
       "<IPython.core.display.HTML object>"
      ]
     },
     "metadata": {},
     "output_type": "display_data"
    },
    {
     "data": {
      "text/html": [
       " View project at <a href='https://wandb.ai/da24m017-indian-institute-of-technology-madras/DA6401_Assignment_1' target=\"_blank\">https://wandb.ai/da24m017-indian-institute-of-technology-madras/DA6401_Assignment_1</a>"
      ],
      "text/plain": [
       "<IPython.core.display.HTML object>"
      ]
     },
     "metadata": {},
     "output_type": "display_data"
    },
    {
     "data": {
      "text/html": [
       " View sweep at <a href='https://wandb.ai/da24m017-indian-institute-of-technology-madras/DA6401_Assignment_1/sweeps/ic4mfnl6' target=\"_blank\">https://wandb.ai/da24m017-indian-institute-of-technology-madras/DA6401_Assignment_1/sweeps/ic4mfnl6</a>"
      ],
      "text/plain": [
       "<IPython.core.display.HTML object>"
      ]
     },
     "metadata": {},
     "output_type": "display_data"
    },
    {
     "data": {
      "text/html": [
       " View run at <a href='https://wandb.ai/da24m017-indian-institute-of-technology-madras/DA6401_Assignment_1/runs/4z8rqisd' target=\"_blank\">https://wandb.ai/da24m017-indian-institute-of-technology-madras/DA6401_Assignment_1/runs/4z8rqisd</a>"
      ],
      "text/plain": [
       "<IPython.core.display.HTML object>"
      ]
     },
     "metadata": {},
     "output_type": "display_data"
    },
    {
     "name": "stdout",
     "output_type": "stream",
     "text": [
      "Epoch 1, Train Loss: 2.0021, Val Loss: 2.0392\n",
      "Epoch 2, Train Loss: 1.9459, Val Loss: 1.9276\n",
      "Epoch 3, Train Loss: 1.9168, Val Loss: 1.8965\n",
      "Epoch 4, Train Loss: 1.8943, Val Loss: 1.8833\n",
      "Epoch 5, Train Loss: 1.8806, Val Loss: 1.8736\n",
      "Epoch 6, Train Loss: 1.8699, Val Loss: 1.8612\n",
      "Epoch 7, Train Loss: 1.8588, Val Loss: 1.8520\n",
      "Epoch 8, Train Loss: 1.8482, Val Loss: 1.8454\n",
      "Epoch 9, Train Loss: 1.8493, Val Loss: 1.8466\n",
      "Epoch 10, Train Loss: 1.8416, Val Loss: 1.8413\n"
     ]
    },
    {
     "data": {
      "text/html": [],
      "text/plain": [
       "<IPython.core.display.HTML object>"
      ]
     },
     "metadata": {},
     "output_type": "display_data"
    },
    {
     "data": {
      "text/html": [
       "<br>    <style><br>        .wandb-row {<br>            display: flex;<br>            flex-direction: row;<br>            flex-wrap: wrap;<br>            justify-content: flex-start;<br>            width: 100%;<br>        }<br>        .wandb-col {<br>            display: flex;<br>            flex-direction: column;<br>            flex-basis: 100%;<br>            flex: 1;<br>            padding: 10px;<br>        }<br>    </style><br><div class=\"wandb-row\"><div class=\"wandb-col\"><h3>Run history:</h3><br/><table class=\"wandb\"><tr><td>epoch</td><td>▁▂▃▃▄▅▆▆▇█</td></tr><tr><td>train_loss</td><td>█▆▄▃▃▂▂▁▁▁</td></tr><tr><td>val_loss</td><td>█▄▃▂▂▂▁▁▁▁</td></tr></table><br/></div><div class=\"wandb-col\"><h3>Run summary:</h3><br/><table class=\"wandb\"><tr><td>epoch</td><td>10</td></tr><tr><td>train_loss</td><td>1.84163</td></tr><tr><td>val_loss</td><td>1.84134</td></tr></table><br/></div></div>"
      ],
      "text/plain": [
       "<IPython.core.display.HTML object>"
      ]
     },
     "metadata": {},
     "output_type": "display_data"
    },
    {
     "data": {
      "text/html": [
       " View run <strong style=\"color:#cdcd00\">dainty-sweep-34</strong> at: <a href='https://wandb.ai/da24m017-indian-institute-of-technology-madras/DA6401_Assignment_1/runs/4z8rqisd' target=\"_blank\">https://wandb.ai/da24m017-indian-institute-of-technology-madras/DA6401_Assignment_1/runs/4z8rqisd</a><br> View project at: <a href='https://wandb.ai/da24m017-indian-institute-of-technology-madras/DA6401_Assignment_1' target=\"_blank\">https://wandb.ai/da24m017-indian-institute-of-technology-madras/DA6401_Assignment_1</a><br>Synced 5 W&B file(s), 0 media file(s), 0 artifact file(s) and 0 other file(s)"
      ],
      "text/plain": [
       "<IPython.core.display.HTML object>"
      ]
     },
     "metadata": {},
     "output_type": "display_data"
    },
    {
     "data": {
      "text/html": [
       "Find logs at: <code>./wandb/run-20250309_060439-4z8rqisd/logs</code>"
      ],
      "text/plain": [
       "<IPython.core.display.HTML object>"
      ]
     },
     "metadata": {},
     "output_type": "display_data"
    },
    {
     "name": "stderr",
     "output_type": "stream",
     "text": [
      "\u001b[34m\u001b[1mwandb\u001b[0m: Sweep Agent: Waiting for job.\n",
      "\u001b[34m\u001b[1mwandb\u001b[0m: Job received.\n",
      "\u001b[34m\u001b[1mwandb\u001b[0m: Agent Starting Run: yvo58vie with config:\n",
      "\u001b[34m\u001b[1mwandb\u001b[0m: \tactivation: relu\n",
      "\u001b[34m\u001b[1mwandb\u001b[0m: \tbatch_size: 64\n",
      "\u001b[34m\u001b[1mwandb\u001b[0m: \tepochs: 5\n",
      "\u001b[34m\u001b[1mwandb\u001b[0m: \thidden_layers: 5\n",
      "\u001b[34m\u001b[1mwandb\u001b[0m: \tlayer_size: 128\n",
      "\u001b[34m\u001b[1mwandb\u001b[0m: \tlearning_rate: 0.001\n",
      "\u001b[34m\u001b[1mwandb\u001b[0m: \toptimizer: adam\n",
      "\u001b[34m\u001b[1mwandb\u001b[0m: \tweight_decay: 0\n",
      "\u001b[34m\u001b[1mwandb\u001b[0m: \tweight_init: xavier\n"
     ]
    },
    {
     "data": {
      "text/html": [
       "Tracking run with wandb version 0.19.8"
      ],
      "text/plain": [
       "<IPython.core.display.HTML object>"
      ]
     },
     "metadata": {},
     "output_type": "display_data"
    },
    {
     "data": {
      "text/html": [
       "Run data is saved locally in <code>/Users/sathwikpentela/MTECH/DA6401_Assignment_1/wandb/run-20250309_060506-yvo58vie</code>"
      ],
      "text/plain": [
       "<IPython.core.display.HTML object>"
      ]
     },
     "metadata": {},
     "output_type": "display_data"
    },
    {
     "data": {
      "text/html": [
       "Syncing run <strong><a href='https://wandb.ai/da24m017-indian-institute-of-technology-madras/DA6401_Assignment_1/runs/yvo58vie' target=\"_blank\">dandy-sweep-35</a></strong> to <a href='https://wandb.ai/da24m017-indian-institute-of-technology-madras/DA6401_Assignment_1' target=\"_blank\">Weights & Biases</a> (<a href='https://wandb.me/developer-guide' target=\"_blank\">docs</a>)<br>Sweep page: <a href='https://wandb.ai/da24m017-indian-institute-of-technology-madras/DA6401_Assignment_1/sweeps/ic4mfnl6' target=\"_blank\">https://wandb.ai/da24m017-indian-institute-of-technology-madras/DA6401_Assignment_1/sweeps/ic4mfnl6</a>"
      ],
      "text/plain": [
       "<IPython.core.display.HTML object>"
      ]
     },
     "metadata": {},
     "output_type": "display_data"
    },
    {
     "data": {
      "text/html": [
       " View project at <a href='https://wandb.ai/da24m017-indian-institute-of-technology-madras/DA6401_Assignment_1' target=\"_blank\">https://wandb.ai/da24m017-indian-institute-of-technology-madras/DA6401_Assignment_1</a>"
      ],
      "text/plain": [
       "<IPython.core.display.HTML object>"
      ]
     },
     "metadata": {},
     "output_type": "display_data"
    },
    {
     "data": {
      "text/html": [
       " View sweep at <a href='https://wandb.ai/da24m017-indian-institute-of-technology-madras/DA6401_Assignment_1/sweeps/ic4mfnl6' target=\"_blank\">https://wandb.ai/da24m017-indian-institute-of-technology-madras/DA6401_Assignment_1/sweeps/ic4mfnl6</a>"
      ],
      "text/plain": [
       "<IPython.core.display.HTML object>"
      ]
     },
     "metadata": {},
     "output_type": "display_data"
    },
    {
     "data": {
      "text/html": [
       " View run at <a href='https://wandb.ai/da24m017-indian-institute-of-technology-madras/DA6401_Assignment_1/runs/yvo58vie' target=\"_blank\">https://wandb.ai/da24m017-indian-institute-of-technology-madras/DA6401_Assignment_1/runs/yvo58vie</a>"
      ],
      "text/plain": [
       "<IPython.core.display.HTML object>"
      ]
     },
     "metadata": {},
     "output_type": "display_data"
    },
    {
     "name": "stdout",
     "output_type": "stream",
     "text": [
      "Epoch 1, Train Loss: 1.8430, Val Loss: 1.8552\n",
      "Epoch 2, Train Loss: 1.8024, Val Loss: 1.8104\n",
      "Epoch 3, Train Loss: 1.7872, Val Loss: 1.8005\n",
      "Epoch 4, Train Loss: 1.7819, Val Loss: 1.7958\n",
      "Epoch 5, Train Loss: 1.7703, Val Loss: 1.7878\n"
     ]
    },
    {
     "data": {
      "text/html": [],
      "text/plain": [
       "<IPython.core.display.HTML object>"
      ]
     },
     "metadata": {},
     "output_type": "display_data"
    },
    {
     "data": {
      "text/html": [
       "<br>    <style><br>        .wandb-row {<br>            display: flex;<br>            flex-direction: row;<br>            flex-wrap: wrap;<br>            justify-content: flex-start;<br>            width: 100%;<br>        }<br>        .wandb-col {<br>            display: flex;<br>            flex-direction: column;<br>            flex-basis: 100%;<br>            flex: 1;<br>            padding: 10px;<br>        }<br>    </style><br><div class=\"wandb-row\"><div class=\"wandb-col\"><h3>Run history:</h3><br/><table class=\"wandb\"><tr><td>epoch</td><td>▁▃▅▆█</td></tr><tr><td>train_loss</td><td>█▄▃▂▁</td></tr><tr><td>val_loss</td><td>█▃▂▂▁</td></tr></table><br/></div><div class=\"wandb-col\"><h3>Run summary:</h3><br/><table class=\"wandb\"><tr><td>epoch</td><td>5</td></tr><tr><td>train_loss</td><td>1.77026</td></tr><tr><td>val_loss</td><td>1.78783</td></tr></table><br/></div></div>"
      ],
      "text/plain": [
       "<IPython.core.display.HTML object>"
      ]
     },
     "metadata": {},
     "output_type": "display_data"
    },
    {
     "data": {
      "text/html": [
       " View run <strong style=\"color:#cdcd00\">dandy-sweep-35</strong> at: <a href='https://wandb.ai/da24m017-indian-institute-of-technology-madras/DA6401_Assignment_1/runs/yvo58vie' target=\"_blank\">https://wandb.ai/da24m017-indian-institute-of-technology-madras/DA6401_Assignment_1/runs/yvo58vie</a><br> View project at: <a href='https://wandb.ai/da24m017-indian-institute-of-technology-madras/DA6401_Assignment_1' target=\"_blank\">https://wandb.ai/da24m017-indian-institute-of-technology-madras/DA6401_Assignment_1</a><br>Synced 5 W&B file(s), 0 media file(s), 0 artifact file(s) and 0 other file(s)"
      ],
      "text/plain": [
       "<IPython.core.display.HTML object>"
      ]
     },
     "metadata": {},
     "output_type": "display_data"
    },
    {
     "data": {
      "text/html": [
       "Find logs at: <code>./wandb/run-20250309_060506-yvo58vie/logs</code>"
      ],
      "text/plain": [
       "<IPython.core.display.HTML object>"
      ]
     },
     "metadata": {},
     "output_type": "display_data"
    },
    {
     "name": "stderr",
     "output_type": "stream",
     "text": [
      "\u001b[34m\u001b[1mwandb\u001b[0m: Sweep Agent: Waiting for job.\n",
      "\u001b[34m\u001b[1mwandb\u001b[0m: Job received.\n",
      "\u001b[34m\u001b[1mwandb\u001b[0m: Agent Starting Run: z0swx700 with config:\n",
      "\u001b[34m\u001b[1mwandb\u001b[0m: \tactivation: relu\n",
      "\u001b[34m\u001b[1mwandb\u001b[0m: \tbatch_size: 64\n",
      "\u001b[34m\u001b[1mwandb\u001b[0m: \tepochs: 5\n",
      "\u001b[34m\u001b[1mwandb\u001b[0m: \thidden_layers: 5\n",
      "\u001b[34m\u001b[1mwandb\u001b[0m: \tlayer_size: 128\n",
      "\u001b[34m\u001b[1mwandb\u001b[0m: \tlearning_rate: 0.0001\n",
      "\u001b[34m\u001b[1mwandb\u001b[0m: \toptimizer: adam\n",
      "\u001b[34m\u001b[1mwandb\u001b[0m: \tweight_decay: 0.0005\n",
      "\u001b[34m\u001b[1mwandb\u001b[0m: \tweight_init: xavier\n"
     ]
    },
    {
     "data": {
      "text/html": [
       "Tracking run with wandb version 0.19.8"
      ],
      "text/plain": [
       "<IPython.core.display.HTML object>"
      ]
     },
     "metadata": {},
     "output_type": "display_data"
    },
    {
     "data": {
      "text/html": [
       "Run data is saved locally in <code>/Users/sathwikpentela/MTECH/DA6401_Assignment_1/wandb/run-20250309_060527-z0swx700</code>"
      ],
      "text/plain": [
       "<IPython.core.display.HTML object>"
      ]
     },
     "metadata": {},
     "output_type": "display_data"
    },
    {
     "data": {
      "text/html": [
       "Syncing run <strong><a href='https://wandb.ai/da24m017-indian-institute-of-technology-madras/DA6401_Assignment_1/runs/z0swx700' target=\"_blank\">graceful-sweep-36</a></strong> to <a href='https://wandb.ai/da24m017-indian-institute-of-technology-madras/DA6401_Assignment_1' target=\"_blank\">Weights & Biases</a> (<a href='https://wandb.me/developer-guide' target=\"_blank\">docs</a>)<br>Sweep page: <a href='https://wandb.ai/da24m017-indian-institute-of-technology-madras/DA6401_Assignment_1/sweeps/ic4mfnl6' target=\"_blank\">https://wandb.ai/da24m017-indian-institute-of-technology-madras/DA6401_Assignment_1/sweeps/ic4mfnl6</a>"
      ],
      "text/plain": [
       "<IPython.core.display.HTML object>"
      ]
     },
     "metadata": {},
     "output_type": "display_data"
    },
    {
     "data": {
      "text/html": [
       " View project at <a href='https://wandb.ai/da24m017-indian-institute-of-technology-madras/DA6401_Assignment_1' target=\"_blank\">https://wandb.ai/da24m017-indian-institute-of-technology-madras/DA6401_Assignment_1</a>"
      ],
      "text/plain": [
       "<IPython.core.display.HTML object>"
      ]
     },
     "metadata": {},
     "output_type": "display_data"
    },
    {
     "data": {
      "text/html": [
       " View sweep at <a href='https://wandb.ai/da24m017-indian-institute-of-technology-madras/DA6401_Assignment_1/sweeps/ic4mfnl6' target=\"_blank\">https://wandb.ai/da24m017-indian-institute-of-technology-madras/DA6401_Assignment_1/sweeps/ic4mfnl6</a>"
      ],
      "text/plain": [
       "<IPython.core.display.HTML object>"
      ]
     },
     "metadata": {},
     "output_type": "display_data"
    },
    {
     "data": {
      "text/html": [
       " View run at <a href='https://wandb.ai/da24m017-indian-institute-of-technology-madras/DA6401_Assignment_1/runs/z0swx700' target=\"_blank\">https://wandb.ai/da24m017-indian-institute-of-technology-madras/DA6401_Assignment_1/runs/z0swx700</a>"
      ],
      "text/plain": [
       "<IPython.core.display.HTML object>"
      ]
     },
     "metadata": {},
     "output_type": "display_data"
    },
    {
     "name": "stdout",
     "output_type": "stream",
     "text": [
      "Epoch 1, Train Loss: 2.0771, Val Loss: 2.0635\n",
      "Epoch 2, Train Loss: 2.0113, Val Loss: 1.9677\n",
      "Epoch 3, Train Loss: 1.9482, Val Loss: 1.9119\n",
      "Epoch 4, Train Loss: 1.9124, Val Loss: 1.8664\n",
      "Epoch 5, Train Loss: 1.8903, Val Loss: 1.8295\n"
     ]
    },
    {
     "data": {
      "text/html": [],
      "text/plain": [
       "<IPython.core.display.HTML object>"
      ]
     },
     "metadata": {},
     "output_type": "display_data"
    },
    {
     "data": {
      "text/html": [
       "<br>    <style><br>        .wandb-row {<br>            display: flex;<br>            flex-direction: row;<br>            flex-wrap: wrap;<br>            justify-content: flex-start;<br>            width: 100%;<br>        }<br>        .wandb-col {<br>            display: flex;<br>            flex-direction: column;<br>            flex-basis: 100%;<br>            flex: 1;<br>            padding: 10px;<br>        }<br>    </style><br><div class=\"wandb-row\"><div class=\"wandb-col\"><h3>Run history:</h3><br/><table class=\"wandb\"><tr><td>epoch</td><td>▁▃▅▆█</td></tr><tr><td>train_loss</td><td>█▆▃▂▁</td></tr><tr><td>val_loss</td><td>█▅▃▂▁</td></tr></table><br/></div><div class=\"wandb-col\"><h3>Run summary:</h3><br/><table class=\"wandb\"><tr><td>epoch</td><td>5</td></tr><tr><td>train_loss</td><td>1.89033</td></tr><tr><td>val_loss</td><td>1.82947</td></tr></table><br/></div></div>"
      ],
      "text/plain": [
       "<IPython.core.display.HTML object>"
      ]
     },
     "metadata": {},
     "output_type": "display_data"
    },
    {
     "data": {
      "text/html": [
       " View run <strong style=\"color:#cdcd00\">graceful-sweep-36</strong> at: <a href='https://wandb.ai/da24m017-indian-institute-of-technology-madras/DA6401_Assignment_1/runs/z0swx700' target=\"_blank\">https://wandb.ai/da24m017-indian-institute-of-technology-madras/DA6401_Assignment_1/runs/z0swx700</a><br> View project at: <a href='https://wandb.ai/da24m017-indian-institute-of-technology-madras/DA6401_Assignment_1' target=\"_blank\">https://wandb.ai/da24m017-indian-institute-of-technology-madras/DA6401_Assignment_1</a><br>Synced 5 W&B file(s), 0 media file(s), 0 artifact file(s) and 0 other file(s)"
      ],
      "text/plain": [
       "<IPython.core.display.HTML object>"
      ]
     },
     "metadata": {},
     "output_type": "display_data"
    },
    {
     "data": {
      "text/html": [
       "Find logs at: <code>./wandb/run-20250309_060527-z0swx700/logs</code>"
      ],
      "text/plain": [
       "<IPython.core.display.HTML object>"
      ]
     },
     "metadata": {},
     "output_type": "display_data"
    },
    {
     "name": "stderr",
     "output_type": "stream",
     "text": [
      "\u001b[34m\u001b[1mwandb\u001b[0m: Agent Starting Run: zgdomedk with config:\n",
      "\u001b[34m\u001b[1mwandb\u001b[0m: \tactivation: relu\n",
      "\u001b[34m\u001b[1mwandb\u001b[0m: \tbatch_size: 64\n",
      "\u001b[34m\u001b[1mwandb\u001b[0m: \tepochs: 10\n",
      "\u001b[34m\u001b[1mwandb\u001b[0m: \thidden_layers: 5\n",
      "\u001b[34m\u001b[1mwandb\u001b[0m: \tlayer_size: 32\n",
      "\u001b[34m\u001b[1mwandb\u001b[0m: \tlearning_rate: 0.001\n",
      "\u001b[34m\u001b[1mwandb\u001b[0m: \toptimizer: nadam\n",
      "\u001b[34m\u001b[1mwandb\u001b[0m: \tweight_decay: 0\n",
      "\u001b[34m\u001b[1mwandb\u001b[0m: \tweight_init: xavier\n"
     ]
    },
    {
     "data": {
      "text/html": [
       "Tracking run with wandb version 0.19.8"
      ],
      "text/plain": [
       "<IPython.core.display.HTML object>"
      ]
     },
     "metadata": {},
     "output_type": "display_data"
    },
    {
     "data": {
      "text/html": [
       "Run data is saved locally in <code>/Users/sathwikpentela/MTECH/DA6401_Assignment_1/wandb/run-20250309_060539-zgdomedk</code>"
      ],
      "text/plain": [
       "<IPython.core.display.HTML object>"
      ]
     },
     "metadata": {},
     "output_type": "display_data"
    },
    {
     "data": {
      "text/html": [
       "Syncing run <strong><a href='https://wandb.ai/da24m017-indian-institute-of-technology-madras/DA6401_Assignment_1/runs/zgdomedk' target=\"_blank\">playful-sweep-37</a></strong> to <a href='https://wandb.ai/da24m017-indian-institute-of-technology-madras/DA6401_Assignment_1' target=\"_blank\">Weights & Biases</a> (<a href='https://wandb.me/developer-guide' target=\"_blank\">docs</a>)<br>Sweep page: <a href='https://wandb.ai/da24m017-indian-institute-of-technology-madras/DA6401_Assignment_1/sweeps/ic4mfnl6' target=\"_blank\">https://wandb.ai/da24m017-indian-institute-of-technology-madras/DA6401_Assignment_1/sweeps/ic4mfnl6</a>"
      ],
      "text/plain": [
       "<IPython.core.display.HTML object>"
      ]
     },
     "metadata": {},
     "output_type": "display_data"
    },
    {
     "data": {
      "text/html": [
       " View project at <a href='https://wandb.ai/da24m017-indian-institute-of-technology-madras/DA6401_Assignment_1' target=\"_blank\">https://wandb.ai/da24m017-indian-institute-of-technology-madras/DA6401_Assignment_1</a>"
      ],
      "text/plain": [
       "<IPython.core.display.HTML object>"
      ]
     },
     "metadata": {},
     "output_type": "display_data"
    },
    {
     "data": {
      "text/html": [
       " View sweep at <a href='https://wandb.ai/da24m017-indian-institute-of-technology-madras/DA6401_Assignment_1/sweeps/ic4mfnl6' target=\"_blank\">https://wandb.ai/da24m017-indian-institute-of-technology-madras/DA6401_Assignment_1/sweeps/ic4mfnl6</a>"
      ],
      "text/plain": [
       "<IPython.core.display.HTML object>"
      ]
     },
     "metadata": {},
     "output_type": "display_data"
    },
    {
     "data": {
      "text/html": [
       " View run at <a href='https://wandb.ai/da24m017-indian-institute-of-technology-madras/DA6401_Assignment_1/runs/zgdomedk' target=\"_blank\">https://wandb.ai/da24m017-indian-institute-of-technology-madras/DA6401_Assignment_1/runs/zgdomedk</a>"
      ],
      "text/plain": [
       "<IPython.core.display.HTML object>"
      ]
     },
     "metadata": {},
     "output_type": "display_data"
    },
    {
     "name": "stderr",
     "output_type": "stream",
     "text": [
      "Traceback (most recent call last):\n",
      "  File \"/var/folders/97/64q5gb_55n5dk9c9nd8xzdw00000gn/T/ipykernel_38811/4050847273.py\", line 20, in sweep_train\n",
      "    model = NeuralNetwork(\n",
      "  File \"/var/folders/97/64q5gb_55n5dk9c9nd8xzdw00000gn/T/ipykernel_38811/4163194409.py\", line 8, in __init__\n",
      "    self.optimizer = optimizers[optimizer](lr=lr)\n",
      "KeyError: 'nadam'\n"
     ]
    },
    {
     "data": {
      "text/html": [],
      "text/plain": [
       "<IPython.core.display.HTML object>"
      ]
     },
     "metadata": {},
     "output_type": "display_data"
    },
    {
     "data": {
      "text/html": [
       " View run <strong style=\"color:#cdcd00\">playful-sweep-37</strong> at: <a href='https://wandb.ai/da24m017-indian-institute-of-technology-madras/DA6401_Assignment_1/runs/zgdomedk' target=\"_blank\">https://wandb.ai/da24m017-indian-institute-of-technology-madras/DA6401_Assignment_1/runs/zgdomedk</a><br> View project at: <a href='https://wandb.ai/da24m017-indian-institute-of-technology-madras/DA6401_Assignment_1' target=\"_blank\">https://wandb.ai/da24m017-indian-institute-of-technology-madras/DA6401_Assignment_1</a><br>Synced 5 W&B file(s), 0 media file(s), 0 artifact file(s) and 0 other file(s)"
      ],
      "text/plain": [
       "<IPython.core.display.HTML object>"
      ]
     },
     "metadata": {},
     "output_type": "display_data"
    },
    {
     "data": {
      "text/html": [
       "Find logs at: <code>./wandb/run-20250309_060539-zgdomedk/logs</code>"
      ],
      "text/plain": [
       "<IPython.core.display.HTML object>"
      ]
     },
     "metadata": {},
     "output_type": "display_data"
    },
    {
     "name": "stderr",
     "output_type": "stream",
     "text": [
      "Run zgdomedk errored:\n",
      "Traceback (most recent call last):\n",
      "  File \"/Users/sathwikpentela/miniforge3/envs/PINN/lib/python3.10/site-packages/wandb/agents/pyagent.py\", line 306, in _run_job\n",
      "    self._function()\n",
      "  File \"/var/folders/97/64q5gb_55n5dk9c9nd8xzdw00000gn/T/ipykernel_38811/4050847273.py\", line 20, in sweep_train\n",
      "    model = NeuralNetwork(\n",
      "  File \"/var/folders/97/64q5gb_55n5dk9c9nd8xzdw00000gn/T/ipykernel_38811/4163194409.py\", line 8, in __init__\n",
      "    self.optimizer = optimizers[optimizer](lr=lr)\n",
      "KeyError: 'nadam'\n",
      "\n",
      "\u001b[34m\u001b[1mwandb\u001b[0m: \u001b[32m\u001b[41mERROR\u001b[0m Run zgdomedk errored:\n",
      "\u001b[34m\u001b[1mwandb\u001b[0m: \u001b[32m\u001b[41mERROR\u001b[0m Traceback (most recent call last):\n",
      "\u001b[34m\u001b[1mwandb\u001b[0m: \u001b[32m\u001b[41mERROR\u001b[0m   File \"/Users/sathwikpentela/miniforge3/envs/PINN/lib/python3.10/site-packages/wandb/agents/pyagent.py\", line 306, in _run_job\n",
      "\u001b[34m\u001b[1mwandb\u001b[0m: \u001b[32m\u001b[41mERROR\u001b[0m     self._function()\n",
      "\u001b[34m\u001b[1mwandb\u001b[0m: \u001b[32m\u001b[41mERROR\u001b[0m   File \"/var/folders/97/64q5gb_55n5dk9c9nd8xzdw00000gn/T/ipykernel_38811/4050847273.py\", line 20, in sweep_train\n",
      "\u001b[34m\u001b[1mwandb\u001b[0m: \u001b[32m\u001b[41mERROR\u001b[0m     model = NeuralNetwork(\n",
      "\u001b[34m\u001b[1mwandb\u001b[0m: \u001b[32m\u001b[41mERROR\u001b[0m   File \"/var/folders/97/64q5gb_55n5dk9c9nd8xzdw00000gn/T/ipykernel_38811/4163194409.py\", line 8, in __init__\n",
      "\u001b[34m\u001b[1mwandb\u001b[0m: \u001b[32m\u001b[41mERROR\u001b[0m     self.optimizer = optimizers[optimizer](lr=lr)\n",
      "\u001b[34m\u001b[1mwandb\u001b[0m: \u001b[32m\u001b[41mERROR\u001b[0m KeyError: 'nadam'\n",
      "\u001b[34m\u001b[1mwandb\u001b[0m: \u001b[32m\u001b[41mERROR\u001b[0m \n",
      "\u001b[34m\u001b[1mwandb\u001b[0m: Agent Starting Run: tuf3kvu3 with config:\n",
      "\u001b[34m\u001b[1mwandb\u001b[0m: \tactivation: relu\n",
      "\u001b[34m\u001b[1mwandb\u001b[0m: \tbatch_size: 64\n",
      "\u001b[34m\u001b[1mwandb\u001b[0m: \tepochs: 5\n",
      "\u001b[34m\u001b[1mwandb\u001b[0m: \thidden_layers: 5\n",
      "\u001b[34m\u001b[1mwandb\u001b[0m: \tlayer_size: 128\n",
      "\u001b[34m\u001b[1mwandb\u001b[0m: \tlearning_rate: 0.001\n",
      "\u001b[34m\u001b[1mwandb\u001b[0m: \toptimizer: nadam\n",
      "\u001b[34m\u001b[1mwandb\u001b[0m: \tweight_decay: 0.0005\n",
      "\u001b[34m\u001b[1mwandb\u001b[0m: \tweight_init: xavier\n"
     ]
    },
    {
     "data": {
      "text/html": [
       "Tracking run with wandb version 0.19.8"
      ],
      "text/plain": [
       "<IPython.core.display.HTML object>"
      ]
     },
     "metadata": {},
     "output_type": "display_data"
    },
    {
     "data": {
      "text/html": [
       "Run data is saved locally in <code>/Users/sathwikpentela/MTECH/DA6401_Assignment_1/wandb/run-20250309_060544-tuf3kvu3</code>"
      ],
      "text/plain": [
       "<IPython.core.display.HTML object>"
      ]
     },
     "metadata": {},
     "output_type": "display_data"
    },
    {
     "data": {
      "text/html": [
       "Syncing run <strong><a href='https://wandb.ai/da24m017-indian-institute-of-technology-madras/DA6401_Assignment_1/runs/tuf3kvu3' target=\"_blank\">glorious-sweep-38</a></strong> to <a href='https://wandb.ai/da24m017-indian-institute-of-technology-madras/DA6401_Assignment_1' target=\"_blank\">Weights & Biases</a> (<a href='https://wandb.me/developer-guide' target=\"_blank\">docs</a>)<br>Sweep page: <a href='https://wandb.ai/da24m017-indian-institute-of-technology-madras/DA6401_Assignment_1/sweeps/ic4mfnl6' target=\"_blank\">https://wandb.ai/da24m017-indian-institute-of-technology-madras/DA6401_Assignment_1/sweeps/ic4mfnl6</a>"
      ],
      "text/plain": [
       "<IPython.core.display.HTML object>"
      ]
     },
     "metadata": {},
     "output_type": "display_data"
    },
    {
     "data": {
      "text/html": [
       " View project at <a href='https://wandb.ai/da24m017-indian-institute-of-technology-madras/DA6401_Assignment_1' target=\"_blank\">https://wandb.ai/da24m017-indian-institute-of-technology-madras/DA6401_Assignment_1</a>"
      ],
      "text/plain": [
       "<IPython.core.display.HTML object>"
      ]
     },
     "metadata": {},
     "output_type": "display_data"
    },
    {
     "data": {
      "text/html": [
       " View sweep at <a href='https://wandb.ai/da24m017-indian-institute-of-technology-madras/DA6401_Assignment_1/sweeps/ic4mfnl6' target=\"_blank\">https://wandb.ai/da24m017-indian-institute-of-technology-madras/DA6401_Assignment_1/sweeps/ic4mfnl6</a>"
      ],
      "text/plain": [
       "<IPython.core.display.HTML object>"
      ]
     },
     "metadata": {},
     "output_type": "display_data"
    },
    {
     "data": {
      "text/html": [
       " View run at <a href='https://wandb.ai/da24m017-indian-institute-of-technology-madras/DA6401_Assignment_1/runs/tuf3kvu3' target=\"_blank\">https://wandb.ai/da24m017-indian-institute-of-technology-madras/DA6401_Assignment_1/runs/tuf3kvu3</a>"
      ],
      "text/plain": [
       "<IPython.core.display.HTML object>"
      ]
     },
     "metadata": {},
     "output_type": "display_data"
    },
    {
     "name": "stderr",
     "output_type": "stream",
     "text": [
      "Traceback (most recent call last):\n",
      "  File \"/var/folders/97/64q5gb_55n5dk9c9nd8xzdw00000gn/T/ipykernel_38811/4050847273.py\", line 20, in sweep_train\n",
      "    model = NeuralNetwork(\n",
      "  File \"/var/folders/97/64q5gb_55n5dk9c9nd8xzdw00000gn/T/ipykernel_38811/4163194409.py\", line 8, in __init__\n",
      "    self.optimizer = optimizers[optimizer](lr=lr)\n",
      "KeyError: 'nadam'\n"
     ]
    },
    {
     "data": {
      "text/html": [],
      "text/plain": [
       "<IPython.core.display.HTML object>"
      ]
     },
     "metadata": {},
     "output_type": "display_data"
    },
    {
     "data": {
      "text/html": [
       " View run <strong style=\"color:#cdcd00\">glorious-sweep-38</strong> at: <a href='https://wandb.ai/da24m017-indian-institute-of-technology-madras/DA6401_Assignment_1/runs/tuf3kvu3' target=\"_blank\">https://wandb.ai/da24m017-indian-institute-of-technology-madras/DA6401_Assignment_1/runs/tuf3kvu3</a><br> View project at: <a href='https://wandb.ai/da24m017-indian-institute-of-technology-madras/DA6401_Assignment_1' target=\"_blank\">https://wandb.ai/da24m017-indian-institute-of-technology-madras/DA6401_Assignment_1</a><br>Synced 5 W&B file(s), 0 media file(s), 0 artifact file(s) and 0 other file(s)"
      ],
      "text/plain": [
       "<IPython.core.display.HTML object>"
      ]
     },
     "metadata": {},
     "output_type": "display_data"
    },
    {
     "data": {
      "text/html": [
       "Find logs at: <code>./wandb/run-20250309_060544-tuf3kvu3/logs</code>"
      ],
      "text/plain": [
       "<IPython.core.display.HTML object>"
      ]
     },
     "metadata": {},
     "output_type": "display_data"
    },
    {
     "name": "stderr",
     "output_type": "stream",
     "text": [
      "Run tuf3kvu3 errored:\n",
      "Traceback (most recent call last):\n",
      "  File \"/Users/sathwikpentela/miniforge3/envs/PINN/lib/python3.10/site-packages/wandb/agents/pyagent.py\", line 306, in _run_job\n",
      "    self._function()\n",
      "  File \"/var/folders/97/64q5gb_55n5dk9c9nd8xzdw00000gn/T/ipykernel_38811/4050847273.py\", line 20, in sweep_train\n",
      "    model = NeuralNetwork(\n",
      "  File \"/var/folders/97/64q5gb_55n5dk9c9nd8xzdw00000gn/T/ipykernel_38811/4163194409.py\", line 8, in __init__\n",
      "    self.optimizer = optimizers[optimizer](lr=lr)\n",
      "KeyError: 'nadam'\n",
      "\n",
      "\u001b[34m\u001b[1mwandb\u001b[0m: \u001b[32m\u001b[41mERROR\u001b[0m Run tuf3kvu3 errored:\n",
      "\u001b[34m\u001b[1mwandb\u001b[0m: \u001b[32m\u001b[41mERROR\u001b[0m Traceback (most recent call last):\n",
      "\u001b[34m\u001b[1mwandb\u001b[0m: \u001b[32m\u001b[41mERROR\u001b[0m   File \"/Users/sathwikpentela/miniforge3/envs/PINN/lib/python3.10/site-packages/wandb/agents/pyagent.py\", line 306, in _run_job\n",
      "\u001b[34m\u001b[1mwandb\u001b[0m: \u001b[32m\u001b[41mERROR\u001b[0m     self._function()\n",
      "\u001b[34m\u001b[1mwandb\u001b[0m: \u001b[32m\u001b[41mERROR\u001b[0m   File \"/var/folders/97/64q5gb_55n5dk9c9nd8xzdw00000gn/T/ipykernel_38811/4050847273.py\", line 20, in sweep_train\n",
      "\u001b[34m\u001b[1mwandb\u001b[0m: \u001b[32m\u001b[41mERROR\u001b[0m     model = NeuralNetwork(\n",
      "\u001b[34m\u001b[1mwandb\u001b[0m: \u001b[32m\u001b[41mERROR\u001b[0m   File \"/var/folders/97/64q5gb_55n5dk9c9nd8xzdw00000gn/T/ipykernel_38811/4163194409.py\", line 8, in __init__\n",
      "\u001b[34m\u001b[1mwandb\u001b[0m: \u001b[32m\u001b[41mERROR\u001b[0m     self.optimizer = optimizers[optimizer](lr=lr)\n",
      "\u001b[34m\u001b[1mwandb\u001b[0m: \u001b[32m\u001b[41mERROR\u001b[0m KeyError: 'nadam'\n",
      "\u001b[34m\u001b[1mwandb\u001b[0m: \u001b[32m\u001b[41mERROR\u001b[0m \n",
      "\u001b[34m\u001b[1mwandb\u001b[0m: Agent Starting Run: sn51aom5 with config:\n",
      "\u001b[34m\u001b[1mwandb\u001b[0m: \tactivation: relu\n",
      "\u001b[34m\u001b[1mwandb\u001b[0m: \tbatch_size: 64\n",
      "\u001b[34m\u001b[1mwandb\u001b[0m: \tepochs: 10\n",
      "\u001b[34m\u001b[1mwandb\u001b[0m: \thidden_layers: 5\n",
      "\u001b[34m\u001b[1mwandb\u001b[0m: \tlayer_size: 32\n",
      "\u001b[34m\u001b[1mwandb\u001b[0m: \tlearning_rate: 0.001\n",
      "\u001b[34m\u001b[1mwandb\u001b[0m: \toptimizer: nadam\n",
      "\u001b[34m\u001b[1mwandb\u001b[0m: \tweight_decay: 0\n",
      "\u001b[34m\u001b[1mwandb\u001b[0m: \tweight_init: random\n"
     ]
    },
    {
     "data": {
      "text/html": [
       "Tracking run with wandb version 0.19.8"
      ],
      "text/plain": [
       "<IPython.core.display.HTML object>"
      ]
     },
     "metadata": {},
     "output_type": "display_data"
    },
    {
     "data": {
      "text/html": [
       "Run data is saved locally in <code>/Users/sathwikpentela/MTECH/DA6401_Assignment_1/wandb/run-20250309_060550-sn51aom5</code>"
      ],
      "text/plain": [
       "<IPython.core.display.HTML object>"
      ]
     },
     "metadata": {},
     "output_type": "display_data"
    },
    {
     "data": {
      "text/html": [
       "Syncing run <strong><a href='https://wandb.ai/da24m017-indian-institute-of-technology-madras/DA6401_Assignment_1/runs/sn51aom5' target=\"_blank\">prime-sweep-39</a></strong> to <a href='https://wandb.ai/da24m017-indian-institute-of-technology-madras/DA6401_Assignment_1' target=\"_blank\">Weights & Biases</a> (<a href='https://wandb.me/developer-guide' target=\"_blank\">docs</a>)<br>Sweep page: <a href='https://wandb.ai/da24m017-indian-institute-of-technology-madras/DA6401_Assignment_1/sweeps/ic4mfnl6' target=\"_blank\">https://wandb.ai/da24m017-indian-institute-of-technology-madras/DA6401_Assignment_1/sweeps/ic4mfnl6</a>"
      ],
      "text/plain": [
       "<IPython.core.display.HTML object>"
      ]
     },
     "metadata": {},
     "output_type": "display_data"
    },
    {
     "data": {
      "text/html": [
       " View project at <a href='https://wandb.ai/da24m017-indian-institute-of-technology-madras/DA6401_Assignment_1' target=\"_blank\">https://wandb.ai/da24m017-indian-institute-of-technology-madras/DA6401_Assignment_1</a>"
      ],
      "text/plain": [
       "<IPython.core.display.HTML object>"
      ]
     },
     "metadata": {},
     "output_type": "display_data"
    },
    {
     "data": {
      "text/html": [
       " View sweep at <a href='https://wandb.ai/da24m017-indian-institute-of-technology-madras/DA6401_Assignment_1/sweeps/ic4mfnl6' target=\"_blank\">https://wandb.ai/da24m017-indian-institute-of-technology-madras/DA6401_Assignment_1/sweeps/ic4mfnl6</a>"
      ],
      "text/plain": [
       "<IPython.core.display.HTML object>"
      ]
     },
     "metadata": {},
     "output_type": "display_data"
    },
    {
     "data": {
      "text/html": [
       " View run at <a href='https://wandb.ai/da24m017-indian-institute-of-technology-madras/DA6401_Assignment_1/runs/sn51aom5' target=\"_blank\">https://wandb.ai/da24m017-indian-institute-of-technology-madras/DA6401_Assignment_1/runs/sn51aom5</a>"
      ],
      "text/plain": [
       "<IPython.core.display.HTML object>"
      ]
     },
     "metadata": {},
     "output_type": "display_data"
    },
    {
     "name": "stderr",
     "output_type": "stream",
     "text": [
      "Traceback (most recent call last):\n",
      "  File \"/var/folders/97/64q5gb_55n5dk9c9nd8xzdw00000gn/T/ipykernel_38811/4050847273.py\", line 20, in sweep_train\n",
      "    model = NeuralNetwork(\n",
      "  File \"/var/folders/97/64q5gb_55n5dk9c9nd8xzdw00000gn/T/ipykernel_38811/4163194409.py\", line 8, in __init__\n",
      "    self.optimizer = optimizers[optimizer](lr=lr)\n",
      "KeyError: 'nadam'\n"
     ]
    },
    {
     "data": {
      "text/html": [],
      "text/plain": [
       "<IPython.core.display.HTML object>"
      ]
     },
     "metadata": {},
     "output_type": "display_data"
    },
    {
     "data": {
      "text/html": [
       " View run <strong style=\"color:#cdcd00\">prime-sweep-39</strong> at: <a href='https://wandb.ai/da24m017-indian-institute-of-technology-madras/DA6401_Assignment_1/runs/sn51aom5' target=\"_blank\">https://wandb.ai/da24m017-indian-institute-of-technology-madras/DA6401_Assignment_1/runs/sn51aom5</a><br> View project at: <a href='https://wandb.ai/da24m017-indian-institute-of-technology-madras/DA6401_Assignment_1' target=\"_blank\">https://wandb.ai/da24m017-indian-institute-of-technology-madras/DA6401_Assignment_1</a><br>Synced 5 W&B file(s), 0 media file(s), 0 artifact file(s) and 0 other file(s)"
      ],
      "text/plain": [
       "<IPython.core.display.HTML object>"
      ]
     },
     "metadata": {},
     "output_type": "display_data"
    },
    {
     "data": {
      "text/html": [
       "Find logs at: <code>./wandb/run-20250309_060550-sn51aom5/logs</code>"
      ],
      "text/plain": [
       "<IPython.core.display.HTML object>"
      ]
     },
     "metadata": {},
     "output_type": "display_data"
    },
    {
     "name": "stderr",
     "output_type": "stream",
     "text": [
      "Run sn51aom5 errored:\n",
      "Traceback (most recent call last):\n",
      "  File \"/Users/sathwikpentela/miniforge3/envs/PINN/lib/python3.10/site-packages/wandb/agents/pyagent.py\", line 306, in _run_job\n",
      "    self._function()\n",
      "  File \"/var/folders/97/64q5gb_55n5dk9c9nd8xzdw00000gn/T/ipykernel_38811/4050847273.py\", line 20, in sweep_train\n",
      "    model = NeuralNetwork(\n",
      "  File \"/var/folders/97/64q5gb_55n5dk9c9nd8xzdw00000gn/T/ipykernel_38811/4163194409.py\", line 8, in __init__\n",
      "    self.optimizer = optimizers[optimizer](lr=lr)\n",
      "KeyError: 'nadam'\n",
      "\n",
      "\u001b[34m\u001b[1mwandb\u001b[0m: \u001b[32m\u001b[41mERROR\u001b[0m Run sn51aom5 errored:\n",
      "\u001b[34m\u001b[1mwandb\u001b[0m: \u001b[32m\u001b[41mERROR\u001b[0m Traceback (most recent call last):\n",
      "\u001b[34m\u001b[1mwandb\u001b[0m: \u001b[32m\u001b[41mERROR\u001b[0m   File \"/Users/sathwikpentela/miniforge3/envs/PINN/lib/python3.10/site-packages/wandb/agents/pyagent.py\", line 306, in _run_job\n",
      "\u001b[34m\u001b[1mwandb\u001b[0m: \u001b[32m\u001b[41mERROR\u001b[0m     self._function()\n",
      "\u001b[34m\u001b[1mwandb\u001b[0m: \u001b[32m\u001b[41mERROR\u001b[0m   File \"/var/folders/97/64q5gb_55n5dk9c9nd8xzdw00000gn/T/ipykernel_38811/4050847273.py\", line 20, in sweep_train\n",
      "\u001b[34m\u001b[1mwandb\u001b[0m: \u001b[32m\u001b[41mERROR\u001b[0m     model = NeuralNetwork(\n",
      "\u001b[34m\u001b[1mwandb\u001b[0m: \u001b[32m\u001b[41mERROR\u001b[0m   File \"/var/folders/97/64q5gb_55n5dk9c9nd8xzdw00000gn/T/ipykernel_38811/4163194409.py\", line 8, in __init__\n",
      "\u001b[34m\u001b[1mwandb\u001b[0m: \u001b[32m\u001b[41mERROR\u001b[0m     self.optimizer = optimizers[optimizer](lr=lr)\n",
      "\u001b[34m\u001b[1mwandb\u001b[0m: \u001b[32m\u001b[41mERROR\u001b[0m KeyError: 'nadam'\n",
      "\u001b[34m\u001b[1mwandb\u001b[0m: \u001b[32m\u001b[41mERROR\u001b[0m \n",
      "\u001b[34m\u001b[1mwandb\u001b[0m: Agent Starting Run: 71r29tbf with config:\n",
      "\u001b[34m\u001b[1mwandb\u001b[0m: \tactivation: relu\n",
      "\u001b[34m\u001b[1mwandb\u001b[0m: \tbatch_size: 64\n",
      "\u001b[34m\u001b[1mwandb\u001b[0m: \tepochs: 5\n",
      "\u001b[34m\u001b[1mwandb\u001b[0m: \thidden_layers: 5\n",
      "\u001b[34m\u001b[1mwandb\u001b[0m: \tlayer_size: 64\n",
      "\u001b[34m\u001b[1mwandb\u001b[0m: \tlearning_rate: 0.001\n",
      "\u001b[34m\u001b[1mwandb\u001b[0m: \toptimizer: nadam\n",
      "\u001b[34m\u001b[1mwandb\u001b[0m: \tweight_decay: 0\n",
      "\u001b[34m\u001b[1mwandb\u001b[0m: \tweight_init: xavier\n"
     ]
    },
    {
     "data": {
      "text/html": [
       "Tracking run with wandb version 0.19.8"
      ],
      "text/plain": [
       "<IPython.core.display.HTML object>"
      ]
     },
     "metadata": {},
     "output_type": "display_data"
    },
    {
     "data": {
      "text/html": [
       "Run data is saved locally in <code>/Users/sathwikpentela/MTECH/DA6401_Assignment_1/wandb/run-20250309_060555-71r29tbf</code>"
      ],
      "text/plain": [
       "<IPython.core.display.HTML object>"
      ]
     },
     "metadata": {},
     "output_type": "display_data"
    },
    {
     "data": {
      "text/html": [
       "Syncing run <strong><a href='https://wandb.ai/da24m017-indian-institute-of-technology-madras/DA6401_Assignment_1/runs/71r29tbf' target=\"_blank\">comic-sweep-40</a></strong> to <a href='https://wandb.ai/da24m017-indian-institute-of-technology-madras/DA6401_Assignment_1' target=\"_blank\">Weights & Biases</a> (<a href='https://wandb.me/developer-guide' target=\"_blank\">docs</a>)<br>Sweep page: <a href='https://wandb.ai/da24m017-indian-institute-of-technology-madras/DA6401_Assignment_1/sweeps/ic4mfnl6' target=\"_blank\">https://wandb.ai/da24m017-indian-institute-of-technology-madras/DA6401_Assignment_1/sweeps/ic4mfnl6</a>"
      ],
      "text/plain": [
       "<IPython.core.display.HTML object>"
      ]
     },
     "metadata": {},
     "output_type": "display_data"
    },
    {
     "data": {
      "text/html": [
       " View project at <a href='https://wandb.ai/da24m017-indian-institute-of-technology-madras/DA6401_Assignment_1' target=\"_blank\">https://wandb.ai/da24m017-indian-institute-of-technology-madras/DA6401_Assignment_1</a>"
      ],
      "text/plain": [
       "<IPython.core.display.HTML object>"
      ]
     },
     "metadata": {},
     "output_type": "display_data"
    },
    {
     "data": {
      "text/html": [
       " View sweep at <a href='https://wandb.ai/da24m017-indian-institute-of-technology-madras/DA6401_Assignment_1/sweeps/ic4mfnl6' target=\"_blank\">https://wandb.ai/da24m017-indian-institute-of-technology-madras/DA6401_Assignment_1/sweeps/ic4mfnl6</a>"
      ],
      "text/plain": [
       "<IPython.core.display.HTML object>"
      ]
     },
     "metadata": {},
     "output_type": "display_data"
    },
    {
     "data": {
      "text/html": [
       " View run at <a href='https://wandb.ai/da24m017-indian-institute-of-technology-madras/DA6401_Assignment_1/runs/71r29tbf' target=\"_blank\">https://wandb.ai/da24m017-indian-institute-of-technology-madras/DA6401_Assignment_1/runs/71r29tbf</a>"
      ],
      "text/plain": [
       "<IPython.core.display.HTML object>"
      ]
     },
     "metadata": {},
     "output_type": "display_data"
    },
    {
     "name": "stderr",
     "output_type": "stream",
     "text": [
      "Traceback (most recent call last):\n",
      "  File \"/var/folders/97/64q5gb_55n5dk9c9nd8xzdw00000gn/T/ipykernel_38811/4050847273.py\", line 20, in sweep_train\n",
      "    model = NeuralNetwork(\n",
      "  File \"/var/folders/97/64q5gb_55n5dk9c9nd8xzdw00000gn/T/ipykernel_38811/4163194409.py\", line 8, in __init__\n",
      "    self.optimizer = optimizers[optimizer](lr=lr)\n",
      "KeyError: 'nadam'\n"
     ]
    },
    {
     "data": {
      "text/html": [],
      "text/plain": [
       "<IPython.core.display.HTML object>"
      ]
     },
     "metadata": {},
     "output_type": "display_data"
    },
    {
     "data": {
      "text/html": [
       " View run <strong style=\"color:#cdcd00\">comic-sweep-40</strong> at: <a href='https://wandb.ai/da24m017-indian-institute-of-technology-madras/DA6401_Assignment_1/runs/71r29tbf' target=\"_blank\">https://wandb.ai/da24m017-indian-institute-of-technology-madras/DA6401_Assignment_1/runs/71r29tbf</a><br> View project at: <a href='https://wandb.ai/da24m017-indian-institute-of-technology-madras/DA6401_Assignment_1' target=\"_blank\">https://wandb.ai/da24m017-indian-institute-of-technology-madras/DA6401_Assignment_1</a><br>Synced 5 W&B file(s), 0 media file(s), 0 artifact file(s) and 0 other file(s)"
      ],
      "text/plain": [
       "<IPython.core.display.HTML object>"
      ]
     },
     "metadata": {},
     "output_type": "display_data"
    },
    {
     "data": {
      "text/html": [
       "Find logs at: <code>./wandb/run-20250309_060555-71r29tbf/logs</code>"
      ],
      "text/plain": [
       "<IPython.core.display.HTML object>"
      ]
     },
     "metadata": {},
     "output_type": "display_data"
    },
    {
     "name": "stderr",
     "output_type": "stream",
     "text": [
      "Run 71r29tbf errored:\n",
      "Traceback (most recent call last):\n",
      "  File \"/Users/sathwikpentela/miniforge3/envs/PINN/lib/python3.10/site-packages/wandb/agents/pyagent.py\", line 306, in _run_job\n",
      "    self._function()\n",
      "  File \"/var/folders/97/64q5gb_55n5dk9c9nd8xzdw00000gn/T/ipykernel_38811/4050847273.py\", line 20, in sweep_train\n",
      "    model = NeuralNetwork(\n",
      "  File \"/var/folders/97/64q5gb_55n5dk9c9nd8xzdw00000gn/T/ipykernel_38811/4163194409.py\", line 8, in __init__\n",
      "    self.optimizer = optimizers[optimizer](lr=lr)\n",
      "KeyError: 'nadam'\n",
      "\n",
      "\u001b[34m\u001b[1mwandb\u001b[0m: \u001b[32m\u001b[41mERROR\u001b[0m Run 71r29tbf errored:\n",
      "\u001b[34m\u001b[1mwandb\u001b[0m: \u001b[32m\u001b[41mERROR\u001b[0m Traceback (most recent call last):\n",
      "\u001b[34m\u001b[1mwandb\u001b[0m: \u001b[32m\u001b[41mERROR\u001b[0m   File \"/Users/sathwikpentela/miniforge3/envs/PINN/lib/python3.10/site-packages/wandb/agents/pyagent.py\", line 306, in _run_job\n",
      "\u001b[34m\u001b[1mwandb\u001b[0m: \u001b[32m\u001b[41mERROR\u001b[0m     self._function()\n",
      "\u001b[34m\u001b[1mwandb\u001b[0m: \u001b[32m\u001b[41mERROR\u001b[0m   File \"/var/folders/97/64q5gb_55n5dk9c9nd8xzdw00000gn/T/ipykernel_38811/4050847273.py\", line 20, in sweep_train\n",
      "\u001b[34m\u001b[1mwandb\u001b[0m: \u001b[32m\u001b[41mERROR\u001b[0m     model = NeuralNetwork(\n",
      "\u001b[34m\u001b[1mwandb\u001b[0m: \u001b[32m\u001b[41mERROR\u001b[0m   File \"/var/folders/97/64q5gb_55n5dk9c9nd8xzdw00000gn/T/ipykernel_38811/4163194409.py\", line 8, in __init__\n",
      "\u001b[34m\u001b[1mwandb\u001b[0m: \u001b[32m\u001b[41mERROR\u001b[0m     self.optimizer = optimizers[optimizer](lr=lr)\n",
      "\u001b[34m\u001b[1mwandb\u001b[0m: \u001b[32m\u001b[41mERROR\u001b[0m KeyError: 'nadam'\n",
      "\u001b[34m\u001b[1mwandb\u001b[0m: \u001b[32m\u001b[41mERROR\u001b[0m \n",
      "\u001b[34m\u001b[1mwandb\u001b[0m: Agent Starting Run: hc8iejk6 with config:\n",
      "\u001b[34m\u001b[1mwandb\u001b[0m: \tactivation: relu\n",
      "\u001b[34m\u001b[1mwandb\u001b[0m: \tbatch_size: 64\n",
      "\u001b[34m\u001b[1mwandb\u001b[0m: \tepochs: 5\n",
      "\u001b[34m\u001b[1mwandb\u001b[0m: \thidden_layers: 5\n",
      "\u001b[34m\u001b[1mwandb\u001b[0m: \tlayer_size: 128\n",
      "\u001b[34m\u001b[1mwandb\u001b[0m: \tlearning_rate: 0.0001\n",
      "\u001b[34m\u001b[1mwandb\u001b[0m: \toptimizer: rmsprop\n",
      "\u001b[34m\u001b[1mwandb\u001b[0m: \tweight_decay: 0\n",
      "\u001b[34m\u001b[1mwandb\u001b[0m: \tweight_init: random\n"
     ]
    },
    {
     "data": {
      "text/html": [
       "Tracking run with wandb version 0.19.8"
      ],
      "text/plain": [
       "<IPython.core.display.HTML object>"
      ]
     },
     "metadata": {},
     "output_type": "display_data"
    },
    {
     "data": {
      "text/html": [
       "Run data is saved locally in <code>/Users/sathwikpentela/MTECH/DA6401_Assignment_1/wandb/run-20250309_060601-hc8iejk6</code>"
      ],
      "text/plain": [
       "<IPython.core.display.HTML object>"
      ]
     },
     "metadata": {},
     "output_type": "display_data"
    },
    {
     "data": {
      "text/html": [
       "Syncing run <strong><a href='https://wandb.ai/da24m017-indian-institute-of-technology-madras/DA6401_Assignment_1/runs/hc8iejk6' target=\"_blank\">chocolate-sweep-41</a></strong> to <a href='https://wandb.ai/da24m017-indian-institute-of-technology-madras/DA6401_Assignment_1' target=\"_blank\">Weights & Biases</a> (<a href='https://wandb.me/developer-guide' target=\"_blank\">docs</a>)<br>Sweep page: <a href='https://wandb.ai/da24m017-indian-institute-of-technology-madras/DA6401_Assignment_1/sweeps/ic4mfnl6' target=\"_blank\">https://wandb.ai/da24m017-indian-institute-of-technology-madras/DA6401_Assignment_1/sweeps/ic4mfnl6</a>"
      ],
      "text/plain": [
       "<IPython.core.display.HTML object>"
      ]
     },
     "metadata": {},
     "output_type": "display_data"
    },
    {
     "data": {
      "text/html": [
       " View project at <a href='https://wandb.ai/da24m017-indian-institute-of-technology-madras/DA6401_Assignment_1' target=\"_blank\">https://wandb.ai/da24m017-indian-institute-of-technology-madras/DA6401_Assignment_1</a>"
      ],
      "text/plain": [
       "<IPython.core.display.HTML object>"
      ]
     },
     "metadata": {},
     "output_type": "display_data"
    },
    {
     "data": {
      "text/html": [
       " View sweep at <a href='https://wandb.ai/da24m017-indian-institute-of-technology-madras/DA6401_Assignment_1/sweeps/ic4mfnl6' target=\"_blank\">https://wandb.ai/da24m017-indian-institute-of-technology-madras/DA6401_Assignment_1/sweeps/ic4mfnl6</a>"
      ],
      "text/plain": [
       "<IPython.core.display.HTML object>"
      ]
     },
     "metadata": {},
     "output_type": "display_data"
    },
    {
     "data": {
      "text/html": [
       " View run at <a href='https://wandb.ai/da24m017-indian-institute-of-technology-madras/DA6401_Assignment_1/runs/hc8iejk6' target=\"_blank\">https://wandb.ai/da24m017-indian-institute-of-technology-madras/DA6401_Assignment_1/runs/hc8iejk6</a>"
      ],
      "text/plain": [
       "<IPython.core.display.HTML object>"
      ]
     },
     "metadata": {},
     "output_type": "display_data"
    },
    {
     "name": "stdout",
     "output_type": "stream",
     "text": [
      "Epoch 1, Train Loss: 2.1257, Val Loss: 2.1317\n",
      "Epoch 2, Train Loss: 1.9890, Val Loss: 1.9756\n",
      "Epoch 3, Train Loss: 1.9185, Val Loss: 1.9015\n",
      "Epoch 4, Train Loss: 1.8889, Val Loss: 1.8637\n",
      "Epoch 5, Train Loss: 1.8713, Val Loss: 1.8465\n"
     ]
    },
    {
     "data": {
      "text/html": [],
      "text/plain": [
       "<IPython.core.display.HTML object>"
      ]
     },
     "metadata": {},
     "output_type": "display_data"
    },
    {
     "data": {
      "text/html": [
       "<br>    <style><br>        .wandb-row {<br>            display: flex;<br>            flex-direction: row;<br>            flex-wrap: wrap;<br>            justify-content: flex-start;<br>            width: 100%;<br>        }<br>        .wandb-col {<br>            display: flex;<br>            flex-direction: column;<br>            flex-basis: 100%;<br>            flex: 1;<br>            padding: 10px;<br>        }<br>    </style><br><div class=\"wandb-row\"><div class=\"wandb-col\"><h3>Run history:</h3><br/><table class=\"wandb\"><tr><td>epoch</td><td>▁▃▅▆█</td></tr><tr><td>train_loss</td><td>█▄▂▁▁</td></tr><tr><td>val_loss</td><td>█▄▂▁▁</td></tr></table><br/></div><div class=\"wandb-col\"><h3>Run summary:</h3><br/><table class=\"wandb\"><tr><td>epoch</td><td>5</td></tr><tr><td>train_loss</td><td>1.87131</td></tr><tr><td>val_loss</td><td>1.84648</td></tr></table><br/></div></div>"
      ],
      "text/plain": [
       "<IPython.core.display.HTML object>"
      ]
     },
     "metadata": {},
     "output_type": "display_data"
    },
    {
     "data": {
      "text/html": [
       " View run <strong style=\"color:#cdcd00\">chocolate-sweep-41</strong> at: <a href='https://wandb.ai/da24m017-indian-institute-of-technology-madras/DA6401_Assignment_1/runs/hc8iejk6' target=\"_blank\">https://wandb.ai/da24m017-indian-institute-of-technology-madras/DA6401_Assignment_1/runs/hc8iejk6</a><br> View project at: <a href='https://wandb.ai/da24m017-indian-institute-of-technology-madras/DA6401_Assignment_1' target=\"_blank\">https://wandb.ai/da24m017-indian-institute-of-technology-madras/DA6401_Assignment_1</a><br>Synced 5 W&B file(s), 0 media file(s), 0 artifact file(s) and 0 other file(s)"
      ],
      "text/plain": [
       "<IPython.core.display.HTML object>"
      ]
     },
     "metadata": {},
     "output_type": "display_data"
    },
    {
     "data": {
      "text/html": [
       "Find logs at: <code>./wandb/run-20250309_060601-hc8iejk6/logs</code>"
      ],
      "text/plain": [
       "<IPython.core.display.HTML object>"
      ]
     },
     "metadata": {},
     "output_type": "display_data"
    },
    {
     "name": "stderr",
     "output_type": "stream",
     "text": [
      "\u001b[34m\u001b[1mwandb\u001b[0m: Agent Starting Run: 16lpwmpz with config:\n",
      "\u001b[34m\u001b[1mwandb\u001b[0m: \tactivation: relu\n",
      "\u001b[34m\u001b[1mwandb\u001b[0m: \tbatch_size: 64\n",
      "\u001b[34m\u001b[1mwandb\u001b[0m: \tepochs: 5\n",
      "\u001b[34m\u001b[1mwandb\u001b[0m: \thidden_layers: 5\n",
      "\u001b[34m\u001b[1mwandb\u001b[0m: \tlayer_size: 32\n",
      "\u001b[34m\u001b[1mwandb\u001b[0m: \tlearning_rate: 0.0001\n",
      "\u001b[34m\u001b[1mwandb\u001b[0m: \toptimizer: rmsprop\n",
      "\u001b[34m\u001b[1mwandb\u001b[0m: \tweight_decay: 0\n",
      "\u001b[34m\u001b[1mwandb\u001b[0m: \tweight_init: xavier\n"
     ]
    },
    {
     "data": {
      "text/html": [
       "Tracking run with wandb version 0.19.8"
      ],
      "text/plain": [
       "<IPython.core.display.HTML object>"
      ]
     },
     "metadata": {},
     "output_type": "display_data"
    },
    {
     "data": {
      "text/html": [
       "Run data is saved locally in <code>/Users/sathwikpentela/MTECH/DA6401_Assignment_1/wandb/run-20250309_060612-16lpwmpz</code>"
      ],
      "text/plain": [
       "<IPython.core.display.HTML object>"
      ]
     },
     "metadata": {},
     "output_type": "display_data"
    },
    {
     "data": {
      "text/html": [
       "Syncing run <strong><a href='https://wandb.ai/da24m017-indian-institute-of-technology-madras/DA6401_Assignment_1/runs/16lpwmpz' target=\"_blank\">misty-sweep-42</a></strong> to <a href='https://wandb.ai/da24m017-indian-institute-of-technology-madras/DA6401_Assignment_1' target=\"_blank\">Weights & Biases</a> (<a href='https://wandb.me/developer-guide' target=\"_blank\">docs</a>)<br>Sweep page: <a href='https://wandb.ai/da24m017-indian-institute-of-technology-madras/DA6401_Assignment_1/sweeps/ic4mfnl6' target=\"_blank\">https://wandb.ai/da24m017-indian-institute-of-technology-madras/DA6401_Assignment_1/sweeps/ic4mfnl6</a>"
      ],
      "text/plain": [
       "<IPython.core.display.HTML object>"
      ]
     },
     "metadata": {},
     "output_type": "display_data"
    },
    {
     "data": {
      "text/html": [
       " View project at <a href='https://wandb.ai/da24m017-indian-institute-of-technology-madras/DA6401_Assignment_1' target=\"_blank\">https://wandb.ai/da24m017-indian-institute-of-technology-madras/DA6401_Assignment_1</a>"
      ],
      "text/plain": [
       "<IPython.core.display.HTML object>"
      ]
     },
     "metadata": {},
     "output_type": "display_data"
    },
    {
     "data": {
      "text/html": [
       " View sweep at <a href='https://wandb.ai/da24m017-indian-institute-of-technology-madras/DA6401_Assignment_1/sweeps/ic4mfnl6' target=\"_blank\">https://wandb.ai/da24m017-indian-institute-of-technology-madras/DA6401_Assignment_1/sweeps/ic4mfnl6</a>"
      ],
      "text/plain": [
       "<IPython.core.display.HTML object>"
      ]
     },
     "metadata": {},
     "output_type": "display_data"
    },
    {
     "data": {
      "text/html": [
       " View run at <a href='https://wandb.ai/da24m017-indian-institute-of-technology-madras/DA6401_Assignment_1/runs/16lpwmpz' target=\"_blank\">https://wandb.ai/da24m017-indian-institute-of-technology-madras/DA6401_Assignment_1/runs/16lpwmpz</a>"
      ],
      "text/plain": [
       "<IPython.core.display.HTML object>"
      ]
     },
     "metadata": {},
     "output_type": "display_data"
    },
    {
     "name": "stdout",
     "output_type": "stream",
     "text": [
      "Epoch 1, Train Loss: 2.2374, Val Loss: 2.2547\n",
      "Epoch 2, Train Loss: 2.1663, Val Loss: 2.1895\n",
      "Epoch 3, Train Loss: 2.1288, Val Loss: 2.1574\n",
      "Epoch 4, Train Loss: 2.0517, Val Loss: 2.0868\n",
      "Epoch 5, Train Loss: 2.0136, Val Loss: 2.0512\n"
     ]
    },
    {
     "data": {
      "text/html": [],
      "text/plain": [
       "<IPython.core.display.HTML object>"
      ]
     },
     "metadata": {},
     "output_type": "display_data"
    },
    {
     "data": {
      "text/html": [
       "<br>    <style><br>        .wandb-row {<br>            display: flex;<br>            flex-direction: row;<br>            flex-wrap: wrap;<br>            justify-content: flex-start;<br>            width: 100%;<br>        }<br>        .wandb-col {<br>            display: flex;<br>            flex-direction: column;<br>            flex-basis: 100%;<br>            flex: 1;<br>            padding: 10px;<br>        }<br>    </style><br><div class=\"wandb-row\"><div class=\"wandb-col\"><h3>Run history:</h3><br/><table class=\"wandb\"><tr><td>epoch</td><td>▁▃▅▆█</td></tr><tr><td>train_loss</td><td>█▆▅▂▁</td></tr><tr><td>val_loss</td><td>█▆▅▂▁</td></tr></table><br/></div><div class=\"wandb-col\"><h3>Run summary:</h3><br/><table class=\"wandb\"><tr><td>epoch</td><td>5</td></tr><tr><td>train_loss</td><td>2.01362</td></tr><tr><td>val_loss</td><td>2.05121</td></tr></table><br/></div></div>"
      ],
      "text/plain": [
       "<IPython.core.display.HTML object>"
      ]
     },
     "metadata": {},
     "output_type": "display_data"
    },
    {
     "data": {
      "text/html": [
       " View run <strong style=\"color:#cdcd00\">misty-sweep-42</strong> at: <a href='https://wandb.ai/da24m017-indian-institute-of-technology-madras/DA6401_Assignment_1/runs/16lpwmpz' target=\"_blank\">https://wandb.ai/da24m017-indian-institute-of-technology-madras/DA6401_Assignment_1/runs/16lpwmpz</a><br> View project at: <a href='https://wandb.ai/da24m017-indian-institute-of-technology-madras/DA6401_Assignment_1' target=\"_blank\">https://wandb.ai/da24m017-indian-institute-of-technology-madras/DA6401_Assignment_1</a><br>Synced 5 W&B file(s), 0 media file(s), 0 artifact file(s) and 0 other file(s)"
      ],
      "text/plain": [
       "<IPython.core.display.HTML object>"
      ]
     },
     "metadata": {},
     "output_type": "display_data"
    },
    {
     "data": {
      "text/html": [
       "Find logs at: <code>./wandb/run-20250309_060612-16lpwmpz/logs</code>"
      ],
      "text/plain": [
       "<IPython.core.display.HTML object>"
      ]
     },
     "metadata": {},
     "output_type": "display_data"
    },
    {
     "name": "stderr",
     "output_type": "stream",
     "text": [
      "\u001b[34m\u001b[1mwandb\u001b[0m: Sweep Agent: Waiting for job.\n",
      "\u001b[34m\u001b[1mwandb\u001b[0m: Job received.\n",
      "\u001b[34m\u001b[1mwandb\u001b[0m: Agent Starting Run: vazebcgm with config:\n",
      "\u001b[34m\u001b[1mwandb\u001b[0m: \tactivation: relu\n",
      "\u001b[34m\u001b[1mwandb\u001b[0m: \tbatch_size: 64\n",
      "\u001b[34m\u001b[1mwandb\u001b[0m: \tepochs: 5\n",
      "\u001b[34m\u001b[1mwandb\u001b[0m: \thidden_layers: 5\n",
      "\u001b[34m\u001b[1mwandb\u001b[0m: \tlayer_size: 64\n",
      "\u001b[34m\u001b[1mwandb\u001b[0m: \tlearning_rate: 0.001\n",
      "\u001b[34m\u001b[1mwandb\u001b[0m: \toptimizer: adam\n",
      "\u001b[34m\u001b[1mwandb\u001b[0m: \tweight_decay: 0.0005\n",
      "\u001b[34m\u001b[1mwandb\u001b[0m: \tweight_init: random\n"
     ]
    },
    {
     "data": {
      "text/html": [
       "Tracking run with wandb version 0.19.8"
      ],
      "text/plain": [
       "<IPython.core.display.HTML object>"
      ]
     },
     "metadata": {},
     "output_type": "display_data"
    },
    {
     "data": {
      "text/html": [
       "Run data is saved locally in <code>/Users/sathwikpentela/MTECH/DA6401_Assignment_1/wandb/run-20250309_060628-vazebcgm</code>"
      ],
      "text/plain": [
       "<IPython.core.display.HTML object>"
      ]
     },
     "metadata": {},
     "output_type": "display_data"
    },
    {
     "data": {
      "text/html": [
       "Syncing run <strong><a href='https://wandb.ai/da24m017-indian-institute-of-technology-madras/DA6401_Assignment_1/runs/vazebcgm' target=\"_blank\">olive-sweep-43</a></strong> to <a href='https://wandb.ai/da24m017-indian-institute-of-technology-madras/DA6401_Assignment_1' target=\"_blank\">Weights & Biases</a> (<a href='https://wandb.me/developer-guide' target=\"_blank\">docs</a>)<br>Sweep page: <a href='https://wandb.ai/da24m017-indian-institute-of-technology-madras/DA6401_Assignment_1/sweeps/ic4mfnl6' target=\"_blank\">https://wandb.ai/da24m017-indian-institute-of-technology-madras/DA6401_Assignment_1/sweeps/ic4mfnl6</a>"
      ],
      "text/plain": [
       "<IPython.core.display.HTML object>"
      ]
     },
     "metadata": {},
     "output_type": "display_data"
    },
    {
     "data": {
      "text/html": [
       " View project at <a href='https://wandb.ai/da24m017-indian-institute-of-technology-madras/DA6401_Assignment_1' target=\"_blank\">https://wandb.ai/da24m017-indian-institute-of-technology-madras/DA6401_Assignment_1</a>"
      ],
      "text/plain": [
       "<IPython.core.display.HTML object>"
      ]
     },
     "metadata": {},
     "output_type": "display_data"
    },
    {
     "data": {
      "text/html": [
       " View sweep at <a href='https://wandb.ai/da24m017-indian-institute-of-technology-madras/DA6401_Assignment_1/sweeps/ic4mfnl6' target=\"_blank\">https://wandb.ai/da24m017-indian-institute-of-technology-madras/DA6401_Assignment_1/sweeps/ic4mfnl6</a>"
      ],
      "text/plain": [
       "<IPython.core.display.HTML object>"
      ]
     },
     "metadata": {},
     "output_type": "display_data"
    },
    {
     "data": {
      "text/html": [
       " View run at <a href='https://wandb.ai/da24m017-indian-institute-of-technology-madras/DA6401_Assignment_1/runs/vazebcgm' target=\"_blank\">https://wandb.ai/da24m017-indian-institute-of-technology-madras/DA6401_Assignment_1/runs/vazebcgm</a>"
      ],
      "text/plain": [
       "<IPython.core.display.HTML object>"
      ]
     },
     "metadata": {},
     "output_type": "display_data"
    },
    {
     "name": "stdout",
     "output_type": "stream",
     "text": [
      "Epoch 1, Train Loss: 1.9640, Val Loss: 1.9319\n",
      "Epoch 2, Train Loss: 1.9375, Val Loss: 1.9033\n",
      "Epoch 3, Train Loss: 1.9436, Val Loss: 1.9042\n",
      "Epoch 4, Train Loss: 1.9244, Val Loss: 1.9021\n",
      "Epoch 5, Train Loss: 1.9110, Val Loss: 1.8938\n"
     ]
    },
    {
     "data": {
      "text/html": [],
      "text/plain": [
       "<IPython.core.display.HTML object>"
      ]
     },
     "metadata": {},
     "output_type": "display_data"
    },
    {
     "data": {
      "text/html": [
       "<br>    <style><br>        .wandb-row {<br>            display: flex;<br>            flex-direction: row;<br>            flex-wrap: wrap;<br>            justify-content: flex-start;<br>            width: 100%;<br>        }<br>        .wandb-col {<br>            display: flex;<br>            flex-direction: column;<br>            flex-basis: 100%;<br>            flex: 1;<br>            padding: 10px;<br>        }<br>    </style><br><div class=\"wandb-row\"><div class=\"wandb-col\"><h3>Run history:</h3><br/><table class=\"wandb\"><tr><td>epoch</td><td>▁▃▅▆█</td></tr><tr><td>train_loss</td><td>█▄▅▃▁</td></tr><tr><td>val_loss</td><td>█▃▃▃▁</td></tr></table><br/></div><div class=\"wandb-col\"><h3>Run summary:</h3><br/><table class=\"wandb\"><tr><td>epoch</td><td>5</td></tr><tr><td>train_loss</td><td>1.91101</td></tr><tr><td>val_loss</td><td>1.89384</td></tr></table><br/></div></div>"
      ],
      "text/plain": [
       "<IPython.core.display.HTML object>"
      ]
     },
     "metadata": {},
     "output_type": "display_data"
    },
    {
     "data": {
      "text/html": [
       " View run <strong style=\"color:#cdcd00\">olive-sweep-43</strong> at: <a href='https://wandb.ai/da24m017-indian-institute-of-technology-madras/DA6401_Assignment_1/runs/vazebcgm' target=\"_blank\">https://wandb.ai/da24m017-indian-institute-of-technology-madras/DA6401_Assignment_1/runs/vazebcgm</a><br> View project at: <a href='https://wandb.ai/da24m017-indian-institute-of-technology-madras/DA6401_Assignment_1' target=\"_blank\">https://wandb.ai/da24m017-indian-institute-of-technology-madras/DA6401_Assignment_1</a><br>Synced 5 W&B file(s), 0 media file(s), 0 artifact file(s) and 0 other file(s)"
      ],
      "text/plain": [
       "<IPython.core.display.HTML object>"
      ]
     },
     "metadata": {},
     "output_type": "display_data"
    },
    {
     "data": {
      "text/html": [
       "Find logs at: <code>./wandb/run-20250309_060628-vazebcgm/logs</code>"
      ],
      "text/plain": [
       "<IPython.core.display.HTML object>"
      ]
     },
     "metadata": {},
     "output_type": "display_data"
    },
    {
     "name": "stderr",
     "output_type": "stream",
     "text": [
      "\u001b[34m\u001b[1mwandb\u001b[0m: Agent Starting Run: c6174ags with config:\n",
      "\u001b[34m\u001b[1mwandb\u001b[0m: \tactivation: relu\n",
      "\u001b[34m\u001b[1mwandb\u001b[0m: \tbatch_size: 64\n",
      "\u001b[34m\u001b[1mwandb\u001b[0m: \tepochs: 5\n",
      "\u001b[34m\u001b[1mwandb\u001b[0m: \thidden_layers: 5\n",
      "\u001b[34m\u001b[1mwandb\u001b[0m: \tlayer_size: 128\n",
      "\u001b[34m\u001b[1mwandb\u001b[0m: \tlearning_rate: 0.001\n",
      "\u001b[34m\u001b[1mwandb\u001b[0m: \toptimizer: adam\n",
      "\u001b[34m\u001b[1mwandb\u001b[0m: \tweight_decay: 0.0005\n",
      "\u001b[34m\u001b[1mwandb\u001b[0m: \tweight_init: xavier\n"
     ]
    },
    {
     "data": {
      "text/html": [
       "Tracking run with wandb version 0.19.8"
      ],
      "text/plain": [
       "<IPython.core.display.HTML object>"
      ]
     },
     "metadata": {},
     "output_type": "display_data"
    },
    {
     "data": {
      "text/html": [
       "Run data is saved locally in <code>/Users/sathwikpentela/MTECH/DA6401_Assignment_1/wandb/run-20250309_060640-c6174ags</code>"
      ],
      "text/plain": [
       "<IPython.core.display.HTML object>"
      ]
     },
     "metadata": {},
     "output_type": "display_data"
    },
    {
     "data": {
      "text/html": [
       "Syncing run <strong><a href='https://wandb.ai/da24m017-indian-institute-of-technology-madras/DA6401_Assignment_1/runs/c6174ags' target=\"_blank\">blooming-sweep-44</a></strong> to <a href='https://wandb.ai/da24m017-indian-institute-of-technology-madras/DA6401_Assignment_1' target=\"_blank\">Weights & Biases</a> (<a href='https://wandb.me/developer-guide' target=\"_blank\">docs</a>)<br>Sweep page: <a href='https://wandb.ai/da24m017-indian-institute-of-technology-madras/DA6401_Assignment_1/sweeps/ic4mfnl6' target=\"_blank\">https://wandb.ai/da24m017-indian-institute-of-technology-madras/DA6401_Assignment_1/sweeps/ic4mfnl6</a>"
      ],
      "text/plain": [
       "<IPython.core.display.HTML object>"
      ]
     },
     "metadata": {},
     "output_type": "display_data"
    },
    {
     "data": {
      "text/html": [
       " View project at <a href='https://wandb.ai/da24m017-indian-institute-of-technology-madras/DA6401_Assignment_1' target=\"_blank\">https://wandb.ai/da24m017-indian-institute-of-technology-madras/DA6401_Assignment_1</a>"
      ],
      "text/plain": [
       "<IPython.core.display.HTML object>"
      ]
     },
     "metadata": {},
     "output_type": "display_data"
    },
    {
     "data": {
      "text/html": [
       " View sweep at <a href='https://wandb.ai/da24m017-indian-institute-of-technology-madras/DA6401_Assignment_1/sweeps/ic4mfnl6' target=\"_blank\">https://wandb.ai/da24m017-indian-institute-of-technology-madras/DA6401_Assignment_1/sweeps/ic4mfnl6</a>"
      ],
      "text/plain": [
       "<IPython.core.display.HTML object>"
      ]
     },
     "metadata": {},
     "output_type": "display_data"
    },
    {
     "data": {
      "text/html": [
       " View run at <a href='https://wandb.ai/da24m017-indian-institute-of-technology-madras/DA6401_Assignment_1/runs/c6174ags' target=\"_blank\">https://wandb.ai/da24m017-indian-institute-of-technology-madras/DA6401_Assignment_1/runs/c6174ags</a>"
      ],
      "text/plain": [
       "<IPython.core.display.HTML object>"
      ]
     },
     "metadata": {},
     "output_type": "display_data"
    },
    {
     "name": "stdout",
     "output_type": "stream",
     "text": [
      "Epoch 1, Train Loss: 1.9490, Val Loss: 1.9822\n",
      "Epoch 2, Train Loss: 1.9384, Val Loss: 1.9687\n",
      "Epoch 3, Train Loss: 1.9124, Val Loss: 1.9612\n",
      "Epoch 4, Train Loss: 1.9170, Val Loss: 1.9546\n",
      "Epoch 5, Train Loss: 1.9020, Val Loss: 1.9563\n"
     ]
    },
    {
     "data": {
      "text/html": [],
      "text/plain": [
       "<IPython.core.display.HTML object>"
      ]
     },
     "metadata": {},
     "output_type": "display_data"
    },
    {
     "data": {
      "text/html": [
       "<br>    <style><br>        .wandb-row {<br>            display: flex;<br>            flex-direction: row;<br>            flex-wrap: wrap;<br>            justify-content: flex-start;<br>            width: 100%;<br>        }<br>        .wandb-col {<br>            display: flex;<br>            flex-direction: column;<br>            flex-basis: 100%;<br>            flex: 1;<br>            padding: 10px;<br>        }<br>    </style><br><div class=\"wandb-row\"><div class=\"wandb-col\"><h3>Run history:</h3><br/><table class=\"wandb\"><tr><td>epoch</td><td>▁▃▅▆█</td></tr><tr><td>train_loss</td><td>█▆▃▃▁</td></tr><tr><td>val_loss</td><td>█▅▃▁▁</td></tr></table><br/></div><div class=\"wandb-col\"><h3>Run summary:</h3><br/><table class=\"wandb\"><tr><td>epoch</td><td>5</td></tr><tr><td>train_loss</td><td>1.90205</td></tr><tr><td>val_loss</td><td>1.95629</td></tr></table><br/></div></div>"
      ],
      "text/plain": [
       "<IPython.core.display.HTML object>"
      ]
     },
     "metadata": {},
     "output_type": "display_data"
    },
    {
     "data": {
      "text/html": [
       " View run <strong style=\"color:#cdcd00\">blooming-sweep-44</strong> at: <a href='https://wandb.ai/da24m017-indian-institute-of-technology-madras/DA6401_Assignment_1/runs/c6174ags' target=\"_blank\">https://wandb.ai/da24m017-indian-institute-of-technology-madras/DA6401_Assignment_1/runs/c6174ags</a><br> View project at: <a href='https://wandb.ai/da24m017-indian-institute-of-technology-madras/DA6401_Assignment_1' target=\"_blank\">https://wandb.ai/da24m017-indian-institute-of-technology-madras/DA6401_Assignment_1</a><br>Synced 5 W&B file(s), 0 media file(s), 0 artifact file(s) and 0 other file(s)"
      ],
      "text/plain": [
       "<IPython.core.display.HTML object>"
      ]
     },
     "metadata": {},
     "output_type": "display_data"
    },
    {
     "data": {
      "text/html": [
       "Find logs at: <code>./wandb/run-20250309_060640-c6174ags/logs</code>"
      ],
      "text/plain": [
       "<IPython.core.display.HTML object>"
      ]
     },
     "metadata": {},
     "output_type": "display_data"
    },
    {
     "name": "stderr",
     "output_type": "stream",
     "text": [
      "\u001b[34m\u001b[1mwandb\u001b[0m: Agent Starting Run: 9b3ceco1 with config:\n",
      "\u001b[34m\u001b[1mwandb\u001b[0m: \tactivation: relu\n",
      "\u001b[34m\u001b[1mwandb\u001b[0m: \tbatch_size: 64\n",
      "\u001b[34m\u001b[1mwandb\u001b[0m: \tepochs: 5\n",
      "\u001b[34m\u001b[1mwandb\u001b[0m: \thidden_layers: 5\n",
      "\u001b[34m\u001b[1mwandb\u001b[0m: \tlayer_size: 128\n",
      "\u001b[34m\u001b[1mwandb\u001b[0m: \tlearning_rate: 0.0001\n",
      "\u001b[34m\u001b[1mwandb\u001b[0m: \toptimizer: nesterov\n",
      "\u001b[34m\u001b[1mwandb\u001b[0m: \tweight_decay: 0.5\n",
      "\u001b[34m\u001b[1mwandb\u001b[0m: \tweight_init: xavier\n"
     ]
    },
    {
     "data": {
      "text/html": [
       "Tracking run with wandb version 0.19.8"
      ],
      "text/plain": [
       "<IPython.core.display.HTML object>"
      ]
     },
     "metadata": {},
     "output_type": "display_data"
    },
    {
     "data": {
      "text/html": [
       "Run data is saved locally in <code>/Users/sathwikpentela/MTECH/DA6401_Assignment_1/wandb/run-20250309_060651-9b3ceco1</code>"
      ],
      "text/plain": [
       "<IPython.core.display.HTML object>"
      ]
     },
     "metadata": {},
     "output_type": "display_data"
    },
    {
     "data": {
      "text/html": [
       "Syncing run <strong><a href='https://wandb.ai/da24m017-indian-institute-of-technology-madras/DA6401_Assignment_1/runs/9b3ceco1' target=\"_blank\">expert-sweep-45</a></strong> to <a href='https://wandb.ai/da24m017-indian-institute-of-technology-madras/DA6401_Assignment_1' target=\"_blank\">Weights & Biases</a> (<a href='https://wandb.me/developer-guide' target=\"_blank\">docs</a>)<br>Sweep page: <a href='https://wandb.ai/da24m017-indian-institute-of-technology-madras/DA6401_Assignment_1/sweeps/ic4mfnl6' target=\"_blank\">https://wandb.ai/da24m017-indian-institute-of-technology-madras/DA6401_Assignment_1/sweeps/ic4mfnl6</a>"
      ],
      "text/plain": [
       "<IPython.core.display.HTML object>"
      ]
     },
     "metadata": {},
     "output_type": "display_data"
    },
    {
     "data": {
      "text/html": [
       " View project at <a href='https://wandb.ai/da24m017-indian-institute-of-technology-madras/DA6401_Assignment_1' target=\"_blank\">https://wandb.ai/da24m017-indian-institute-of-technology-madras/DA6401_Assignment_1</a>"
      ],
      "text/plain": [
       "<IPython.core.display.HTML object>"
      ]
     },
     "metadata": {},
     "output_type": "display_data"
    },
    {
     "data": {
      "text/html": [
       " View sweep at <a href='https://wandb.ai/da24m017-indian-institute-of-technology-madras/DA6401_Assignment_1/sweeps/ic4mfnl6' target=\"_blank\">https://wandb.ai/da24m017-indian-institute-of-technology-madras/DA6401_Assignment_1/sweeps/ic4mfnl6</a>"
      ],
      "text/plain": [
       "<IPython.core.display.HTML object>"
      ]
     },
     "metadata": {},
     "output_type": "display_data"
    },
    {
     "data": {
      "text/html": [
       " View run at <a href='https://wandb.ai/da24m017-indian-institute-of-technology-madras/DA6401_Assignment_1/runs/9b3ceco1' target=\"_blank\">https://wandb.ai/da24m017-indian-institute-of-technology-madras/DA6401_Assignment_1/runs/9b3ceco1</a>"
      ],
      "text/plain": [
       "<IPython.core.display.HTML object>"
      ]
     },
     "metadata": {},
     "output_type": "display_data"
    },
    {
     "name": "stdout",
     "output_type": "stream",
     "text": [
      "Epoch 1, Train Loss: 2.3038, Val Loss: 2.3031\n",
      "Epoch 2, Train Loss: 2.3039, Val Loss: 2.3032\n",
      "Epoch 3, Train Loss: 2.3039, Val Loss: 2.3032\n",
      "Epoch 4, Train Loss: 2.3039, Val Loss: 2.3032\n",
      "Epoch 5, Train Loss: 2.3039, Val Loss: 2.3032\n"
     ]
    },
    {
     "data": {
      "text/html": [],
      "text/plain": [
       "<IPython.core.display.HTML object>"
      ]
     },
     "metadata": {},
     "output_type": "display_data"
    },
    {
     "data": {
      "text/html": [
       "<br>    <style><br>        .wandb-row {<br>            display: flex;<br>            flex-direction: row;<br>            flex-wrap: wrap;<br>            justify-content: flex-start;<br>            width: 100%;<br>        }<br>        .wandb-col {<br>            display: flex;<br>            flex-direction: column;<br>            flex-basis: 100%;<br>            flex: 1;<br>            padding: 10px;<br>        }<br>    </style><br><div class=\"wandb-row\"><div class=\"wandb-col\"><h3>Run history:</h3><br/><table class=\"wandb\"><tr><td>epoch</td><td>▁▃▅▆█</td></tr><tr><td>train_loss</td><td>▁▇███</td></tr><tr><td>val_loss</td><td>▁▇███</td></tr></table><br/></div><div class=\"wandb-col\"><h3>Run summary:</h3><br/><table class=\"wandb\"><tr><td>epoch</td><td>5</td></tr><tr><td>train_loss</td><td>2.30393</td></tr><tr><td>val_loss</td><td>2.30321</td></tr></table><br/></div></div>"
      ],
      "text/plain": [
       "<IPython.core.display.HTML object>"
      ]
     },
     "metadata": {},
     "output_type": "display_data"
    },
    {
     "data": {
      "text/html": [
       " View run <strong style=\"color:#cdcd00\">expert-sweep-45</strong> at: <a href='https://wandb.ai/da24m017-indian-institute-of-technology-madras/DA6401_Assignment_1/runs/9b3ceco1' target=\"_blank\">https://wandb.ai/da24m017-indian-institute-of-technology-madras/DA6401_Assignment_1/runs/9b3ceco1</a><br> View project at: <a href='https://wandb.ai/da24m017-indian-institute-of-technology-madras/DA6401_Assignment_1' target=\"_blank\">https://wandb.ai/da24m017-indian-institute-of-technology-madras/DA6401_Assignment_1</a><br>Synced 5 W&B file(s), 0 media file(s), 0 artifact file(s) and 0 other file(s)"
      ],
      "text/plain": [
       "<IPython.core.display.HTML object>"
      ]
     },
     "metadata": {},
     "output_type": "display_data"
    },
    {
     "data": {
      "text/html": [
       "Find logs at: <code>./wandb/run-20250309_060651-9b3ceco1/logs</code>"
      ],
      "text/plain": [
       "<IPython.core.display.HTML object>"
      ]
     },
     "metadata": {},
     "output_type": "display_data"
    },
    {
     "name": "stderr",
     "output_type": "stream",
     "text": [
      "\u001b[34m\u001b[1mwandb\u001b[0m: Agent Starting Run: gm3kws5f with config:\n",
      "\u001b[34m\u001b[1mwandb\u001b[0m: \tactivation: relu\n",
      "\u001b[34m\u001b[1mwandb\u001b[0m: \tbatch_size: 64\n",
      "\u001b[34m\u001b[1mwandb\u001b[0m: \tepochs: 5\n",
      "\u001b[34m\u001b[1mwandb\u001b[0m: \thidden_layers: 5\n",
      "\u001b[34m\u001b[1mwandb\u001b[0m: \tlayer_size: 64\n",
      "\u001b[34m\u001b[1mwandb\u001b[0m: \tlearning_rate: 0.0001\n",
      "\u001b[34m\u001b[1mwandb\u001b[0m: \toptimizer: adam\n",
      "\u001b[34m\u001b[1mwandb\u001b[0m: \tweight_decay: 0.0005\n",
      "\u001b[34m\u001b[1mwandb\u001b[0m: \tweight_init: random\n"
     ]
    },
    {
     "data": {
      "text/html": [
       "Tracking run with wandb version 0.19.8"
      ],
      "text/plain": [
       "<IPython.core.display.HTML object>"
      ]
     },
     "metadata": {},
     "output_type": "display_data"
    },
    {
     "data": {
      "text/html": [
       "Run data is saved locally in <code>/Users/sathwikpentela/MTECH/DA6401_Assignment_1/wandb/run-20250309_060701-gm3kws5f</code>"
      ],
      "text/plain": [
       "<IPython.core.display.HTML object>"
      ]
     },
     "metadata": {},
     "output_type": "display_data"
    },
    {
     "data": {
      "text/html": [
       "Syncing run <strong><a href='https://wandb.ai/da24m017-indian-institute-of-technology-madras/DA6401_Assignment_1/runs/gm3kws5f' target=\"_blank\">peach-sweep-46</a></strong> to <a href='https://wandb.ai/da24m017-indian-institute-of-technology-madras/DA6401_Assignment_1' target=\"_blank\">Weights & Biases</a> (<a href='https://wandb.me/developer-guide' target=\"_blank\">docs</a>)<br>Sweep page: <a href='https://wandb.ai/da24m017-indian-institute-of-technology-madras/DA6401_Assignment_1/sweeps/ic4mfnl6' target=\"_blank\">https://wandb.ai/da24m017-indian-institute-of-technology-madras/DA6401_Assignment_1/sweeps/ic4mfnl6</a>"
      ],
      "text/plain": [
       "<IPython.core.display.HTML object>"
      ]
     },
     "metadata": {},
     "output_type": "display_data"
    },
    {
     "data": {
      "text/html": [
       " View project at <a href='https://wandb.ai/da24m017-indian-institute-of-technology-madras/DA6401_Assignment_1' target=\"_blank\">https://wandb.ai/da24m017-indian-institute-of-technology-madras/DA6401_Assignment_1</a>"
      ],
      "text/plain": [
       "<IPython.core.display.HTML object>"
      ]
     },
     "metadata": {},
     "output_type": "display_data"
    },
    {
     "data": {
      "text/html": [
       " View sweep at <a href='https://wandb.ai/da24m017-indian-institute-of-technology-madras/DA6401_Assignment_1/sweeps/ic4mfnl6' target=\"_blank\">https://wandb.ai/da24m017-indian-institute-of-technology-madras/DA6401_Assignment_1/sweeps/ic4mfnl6</a>"
      ],
      "text/plain": [
       "<IPython.core.display.HTML object>"
      ]
     },
     "metadata": {},
     "output_type": "display_data"
    },
    {
     "data": {
      "text/html": [
       " View run at <a href='https://wandb.ai/da24m017-indian-institute-of-technology-madras/DA6401_Assignment_1/runs/gm3kws5f' target=\"_blank\">https://wandb.ai/da24m017-indian-institute-of-technology-madras/DA6401_Assignment_1/runs/gm3kws5f</a>"
      ],
      "text/plain": [
       "<IPython.core.display.HTML object>"
      ]
     },
     "metadata": {},
     "output_type": "display_data"
    },
    {
     "name": "stdout",
     "output_type": "stream",
     "text": [
      "Epoch 1, Train Loss: 2.2363, Val Loss: 2.2366\n",
      "Epoch 2, Train Loss: 2.0770, Val Loss: 2.0339\n",
      "Epoch 3, Train Loss: 1.9735, Val Loss: 1.9357\n",
      "Epoch 4, Train Loss: 1.8941, Val Loss: 1.8615\n",
      "Epoch 5, Train Loss: 1.8442, Val Loss: 1.8199\n"
     ]
    },
    {
     "data": {
      "text/html": [],
      "text/plain": [
       "<IPython.core.display.HTML object>"
      ]
     },
     "metadata": {},
     "output_type": "display_data"
    },
    {
     "data": {
      "text/html": [
       "<br>    <style><br>        .wandb-row {<br>            display: flex;<br>            flex-direction: row;<br>            flex-wrap: wrap;<br>            justify-content: flex-start;<br>            width: 100%;<br>        }<br>        .wandb-col {<br>            display: flex;<br>            flex-direction: column;<br>            flex-basis: 100%;<br>            flex: 1;<br>            padding: 10px;<br>        }<br>    </style><br><div class=\"wandb-row\"><div class=\"wandb-col\"><h3>Run history:</h3><br/><table class=\"wandb\"><tr><td>epoch</td><td>▁▃▅▆█</td></tr><tr><td>train_loss</td><td>█▅▃▂▁</td></tr><tr><td>val_loss</td><td>█▅▃▂▁</td></tr></table><br/></div><div class=\"wandb-col\"><h3>Run summary:</h3><br/><table class=\"wandb\"><tr><td>epoch</td><td>5</td></tr><tr><td>train_loss</td><td>1.84416</td></tr><tr><td>val_loss</td><td>1.8199</td></tr></table><br/></div></div>"
      ],
      "text/plain": [
       "<IPython.core.display.HTML object>"
      ]
     },
     "metadata": {},
     "output_type": "display_data"
    },
    {
     "data": {
      "text/html": [
       " View run <strong style=\"color:#cdcd00\">peach-sweep-46</strong> at: <a href='https://wandb.ai/da24m017-indian-institute-of-technology-madras/DA6401_Assignment_1/runs/gm3kws5f' target=\"_blank\">https://wandb.ai/da24m017-indian-institute-of-technology-madras/DA6401_Assignment_1/runs/gm3kws5f</a><br> View project at: <a href='https://wandb.ai/da24m017-indian-institute-of-technology-madras/DA6401_Assignment_1' target=\"_blank\">https://wandb.ai/da24m017-indian-institute-of-technology-madras/DA6401_Assignment_1</a><br>Synced 5 W&B file(s), 0 media file(s), 0 artifact file(s) and 0 other file(s)"
      ],
      "text/plain": [
       "<IPython.core.display.HTML object>"
      ]
     },
     "metadata": {},
     "output_type": "display_data"
    },
    {
     "data": {
      "text/html": [
       "Find logs at: <code>./wandb/run-20250309_060701-gm3kws5f/logs</code>"
      ],
      "text/plain": [
       "<IPython.core.display.HTML object>"
      ]
     },
     "metadata": {},
     "output_type": "display_data"
    },
    {
     "name": "stderr",
     "output_type": "stream",
     "text": [
      "\u001b[34m\u001b[1mwandb\u001b[0m: Agent Starting Run: 8sq823ym with config:\n",
      "\u001b[34m\u001b[1mwandb\u001b[0m: \tactivation: relu\n",
      "\u001b[34m\u001b[1mwandb\u001b[0m: \tbatch_size: 64\n",
      "\u001b[34m\u001b[1mwandb\u001b[0m: \tepochs: 10\n",
      "\u001b[34m\u001b[1mwandb\u001b[0m: \thidden_layers: 5\n",
      "\u001b[34m\u001b[1mwandb\u001b[0m: \tlayer_size: 128\n",
      "\u001b[34m\u001b[1mwandb\u001b[0m: \tlearning_rate: 0.0001\n",
      "\u001b[34m\u001b[1mwandb\u001b[0m: \toptimizer: adam\n",
      "\u001b[34m\u001b[1mwandb\u001b[0m: \tweight_decay: 0.0005\n",
      "\u001b[34m\u001b[1mwandb\u001b[0m: \tweight_init: xavier\n"
     ]
    },
    {
     "data": {
      "text/html": [
       "Tracking run with wandb version 0.19.8"
      ],
      "text/plain": [
       "<IPython.core.display.HTML object>"
      ]
     },
     "metadata": {},
     "output_type": "display_data"
    },
    {
     "data": {
      "text/html": [
       "Run data is saved locally in <code>/Users/sathwikpentela/MTECH/DA6401_Assignment_1/wandb/run-20250309_060713-8sq823ym</code>"
      ],
      "text/plain": [
       "<IPython.core.display.HTML object>"
      ]
     },
     "metadata": {},
     "output_type": "display_data"
    },
    {
     "data": {
      "text/html": [
       "Syncing run <strong><a href='https://wandb.ai/da24m017-indian-institute-of-technology-madras/DA6401_Assignment_1/runs/8sq823ym' target=\"_blank\">fluent-sweep-47</a></strong> to <a href='https://wandb.ai/da24m017-indian-institute-of-technology-madras/DA6401_Assignment_1' target=\"_blank\">Weights & Biases</a> (<a href='https://wandb.me/developer-guide' target=\"_blank\">docs</a>)<br>Sweep page: <a href='https://wandb.ai/da24m017-indian-institute-of-technology-madras/DA6401_Assignment_1/sweeps/ic4mfnl6' target=\"_blank\">https://wandb.ai/da24m017-indian-institute-of-technology-madras/DA6401_Assignment_1/sweeps/ic4mfnl6</a>"
      ],
      "text/plain": [
       "<IPython.core.display.HTML object>"
      ]
     },
     "metadata": {},
     "output_type": "display_data"
    },
    {
     "data": {
      "text/html": [
       " View project at <a href='https://wandb.ai/da24m017-indian-institute-of-technology-madras/DA6401_Assignment_1' target=\"_blank\">https://wandb.ai/da24m017-indian-institute-of-technology-madras/DA6401_Assignment_1</a>"
      ],
      "text/plain": [
       "<IPython.core.display.HTML object>"
      ]
     },
     "metadata": {},
     "output_type": "display_data"
    },
    {
     "data": {
      "text/html": [
       " View sweep at <a href='https://wandb.ai/da24m017-indian-institute-of-technology-madras/DA6401_Assignment_1/sweeps/ic4mfnl6' target=\"_blank\">https://wandb.ai/da24m017-indian-institute-of-technology-madras/DA6401_Assignment_1/sweeps/ic4mfnl6</a>"
      ],
      "text/plain": [
       "<IPython.core.display.HTML object>"
      ]
     },
     "metadata": {},
     "output_type": "display_data"
    },
    {
     "data": {
      "text/html": [
       " View run at <a href='https://wandb.ai/da24m017-indian-institute-of-technology-madras/DA6401_Assignment_1/runs/8sq823ym' target=\"_blank\">https://wandb.ai/da24m017-indian-institute-of-technology-madras/DA6401_Assignment_1/runs/8sq823ym</a>"
      ],
      "text/plain": [
       "<IPython.core.display.HTML object>"
      ]
     },
     "metadata": {},
     "output_type": "display_data"
    },
    {
     "name": "stdout",
     "output_type": "stream",
     "text": [
      "Epoch 1, Train Loss: 2.1174, Val Loss: 2.1092\n",
      "Epoch 2, Train Loss: 1.9675, Val Loss: 1.9931\n",
      "Epoch 3, Train Loss: 1.9548, Val Loss: 1.9741\n",
      "Epoch 4, Train Loss: 1.9470, Val Loss: 1.9644\n",
      "Epoch 5, Train Loss: 1.9385, Val Loss: 1.9571\n",
      "Epoch 6, Train Loss: 1.9293, Val Loss: 1.9496\n",
      "Epoch 7, Train Loss: 1.9191, Val Loss: 1.9423\n",
      "Epoch 8, Train Loss: 1.9121, Val Loss: 1.9378\n",
      "Epoch 9, Train Loss: 1.9104, Val Loss: 1.9330\n",
      "Epoch 10, Train Loss: 1.9075, Val Loss: 1.9274\n"
     ]
    },
    {
     "data": {
      "text/html": [],
      "text/plain": [
       "<IPython.core.display.HTML object>"
      ]
     },
     "metadata": {},
     "output_type": "display_data"
    },
    {
     "data": {
      "text/html": [
       "<br>    <style><br>        .wandb-row {<br>            display: flex;<br>            flex-direction: row;<br>            flex-wrap: wrap;<br>            justify-content: flex-start;<br>            width: 100%;<br>        }<br>        .wandb-col {<br>            display: flex;<br>            flex-direction: column;<br>            flex-basis: 100%;<br>            flex: 1;<br>            padding: 10px;<br>        }<br>    </style><br><div class=\"wandb-row\"><div class=\"wandb-col\"><h3>Run history:</h3><br/><table class=\"wandb\"><tr><td>epoch</td><td>▁▂▃▃▄▅▆▆▇█</td></tr><tr><td>train_loss</td><td>█▃▃▂▂▂▁▁▁▁</td></tr><tr><td>val_loss</td><td>█▄▃▂▂▂▂▁▁▁</td></tr></table><br/></div><div class=\"wandb-col\"><h3>Run summary:</h3><br/><table class=\"wandb\"><tr><td>epoch</td><td>10</td></tr><tr><td>train_loss</td><td>1.90755</td></tr><tr><td>val_loss</td><td>1.92735</td></tr></table><br/></div></div>"
      ],
      "text/plain": [
       "<IPython.core.display.HTML object>"
      ]
     },
     "metadata": {},
     "output_type": "display_data"
    },
    {
     "data": {
      "text/html": [
       " View run <strong style=\"color:#cdcd00\">fluent-sweep-47</strong> at: <a href='https://wandb.ai/da24m017-indian-institute-of-technology-madras/DA6401_Assignment_1/runs/8sq823ym' target=\"_blank\">https://wandb.ai/da24m017-indian-institute-of-technology-madras/DA6401_Assignment_1/runs/8sq823ym</a><br> View project at: <a href='https://wandb.ai/da24m017-indian-institute-of-technology-madras/DA6401_Assignment_1' target=\"_blank\">https://wandb.ai/da24m017-indian-institute-of-technology-madras/DA6401_Assignment_1</a><br>Synced 5 W&B file(s), 0 media file(s), 0 artifact file(s) and 0 other file(s)"
      ],
      "text/plain": [
       "<IPython.core.display.HTML object>"
      ]
     },
     "metadata": {},
     "output_type": "display_data"
    },
    {
     "data": {
      "text/html": [
       "Find logs at: <code>./wandb/run-20250309_060713-8sq823ym/logs</code>"
      ],
      "text/plain": [
       "<IPython.core.display.HTML object>"
      ]
     },
     "metadata": {},
     "output_type": "display_data"
    },
    {
     "name": "stderr",
     "output_type": "stream",
     "text": [
      "\u001b[34m\u001b[1mwandb\u001b[0m: Agent Starting Run: bqvbm34u with config:\n",
      "\u001b[34m\u001b[1mwandb\u001b[0m: \tactivation: relu\n",
      "\u001b[34m\u001b[1mwandb\u001b[0m: \tbatch_size: 64\n",
      "\u001b[34m\u001b[1mwandb\u001b[0m: \tepochs: 10\n",
      "\u001b[34m\u001b[1mwandb\u001b[0m: \thidden_layers: 5\n",
      "\u001b[34m\u001b[1mwandb\u001b[0m: \tlayer_size: 64\n",
      "\u001b[34m\u001b[1mwandb\u001b[0m: \tlearning_rate: 0.0001\n",
      "\u001b[34m\u001b[1mwandb\u001b[0m: \toptimizer: nadam\n",
      "\u001b[34m\u001b[1mwandb\u001b[0m: \tweight_decay: 0.5\n",
      "\u001b[34m\u001b[1mwandb\u001b[0m: \tweight_init: xavier\n"
     ]
    },
    {
     "data": {
      "text/html": [
       "Tracking run with wandb version 0.19.8"
      ],
      "text/plain": [
       "<IPython.core.display.HTML object>"
      ]
     },
     "metadata": {},
     "output_type": "display_data"
    },
    {
     "data": {
      "text/html": [
       "Run data is saved locally in <code>/Users/sathwikpentela/MTECH/DA6401_Assignment_1/wandb/run-20250309_060729-bqvbm34u</code>"
      ],
      "text/plain": [
       "<IPython.core.display.HTML object>"
      ]
     },
     "metadata": {},
     "output_type": "display_data"
    },
    {
     "data": {
      "text/html": [
       "Syncing run <strong><a href='https://wandb.ai/da24m017-indian-institute-of-technology-madras/DA6401_Assignment_1/runs/bqvbm34u' target=\"_blank\">exalted-sweep-48</a></strong> to <a href='https://wandb.ai/da24m017-indian-institute-of-technology-madras/DA6401_Assignment_1' target=\"_blank\">Weights & Biases</a> (<a href='https://wandb.me/developer-guide' target=\"_blank\">docs</a>)<br>Sweep page: <a href='https://wandb.ai/da24m017-indian-institute-of-technology-madras/DA6401_Assignment_1/sweeps/ic4mfnl6' target=\"_blank\">https://wandb.ai/da24m017-indian-institute-of-technology-madras/DA6401_Assignment_1/sweeps/ic4mfnl6</a>"
      ],
      "text/plain": [
       "<IPython.core.display.HTML object>"
      ]
     },
     "metadata": {},
     "output_type": "display_data"
    },
    {
     "data": {
      "text/html": [
       " View project at <a href='https://wandb.ai/da24m017-indian-institute-of-technology-madras/DA6401_Assignment_1' target=\"_blank\">https://wandb.ai/da24m017-indian-institute-of-technology-madras/DA6401_Assignment_1</a>"
      ],
      "text/plain": [
       "<IPython.core.display.HTML object>"
      ]
     },
     "metadata": {},
     "output_type": "display_data"
    },
    {
     "data": {
      "text/html": [
       " View sweep at <a href='https://wandb.ai/da24m017-indian-institute-of-technology-madras/DA6401_Assignment_1/sweeps/ic4mfnl6' target=\"_blank\">https://wandb.ai/da24m017-indian-institute-of-technology-madras/DA6401_Assignment_1/sweeps/ic4mfnl6</a>"
      ],
      "text/plain": [
       "<IPython.core.display.HTML object>"
      ]
     },
     "metadata": {},
     "output_type": "display_data"
    },
    {
     "data": {
      "text/html": [
       " View run at <a href='https://wandb.ai/da24m017-indian-institute-of-technology-madras/DA6401_Assignment_1/runs/bqvbm34u' target=\"_blank\">https://wandb.ai/da24m017-indian-institute-of-technology-madras/DA6401_Assignment_1/runs/bqvbm34u</a>"
      ],
      "text/plain": [
       "<IPython.core.display.HTML object>"
      ]
     },
     "metadata": {},
     "output_type": "display_data"
    },
    {
     "name": "stderr",
     "output_type": "stream",
     "text": [
      "Traceback (most recent call last):\n",
      "  File \"/var/folders/97/64q5gb_55n5dk9c9nd8xzdw00000gn/T/ipykernel_38811/4050847273.py\", line 20, in sweep_train\n",
      "    model = NeuralNetwork(\n",
      "  File \"/var/folders/97/64q5gb_55n5dk9c9nd8xzdw00000gn/T/ipykernel_38811/4163194409.py\", line 8, in __init__\n",
      "    self.optimizer = optimizers[optimizer](lr=lr)\n",
      "KeyError: 'nadam'\n"
     ]
    },
    {
     "data": {
      "text/html": [],
      "text/plain": [
       "<IPython.core.display.HTML object>"
      ]
     },
     "metadata": {},
     "output_type": "display_data"
    },
    {
     "data": {
      "text/html": [
       " View run <strong style=\"color:#cdcd00\">exalted-sweep-48</strong> at: <a href='https://wandb.ai/da24m017-indian-institute-of-technology-madras/DA6401_Assignment_1/runs/bqvbm34u' target=\"_blank\">https://wandb.ai/da24m017-indian-institute-of-technology-madras/DA6401_Assignment_1/runs/bqvbm34u</a><br> View project at: <a href='https://wandb.ai/da24m017-indian-institute-of-technology-madras/DA6401_Assignment_1' target=\"_blank\">https://wandb.ai/da24m017-indian-institute-of-technology-madras/DA6401_Assignment_1</a><br>Synced 5 W&B file(s), 0 media file(s), 0 artifact file(s) and 0 other file(s)"
      ],
      "text/plain": [
       "<IPython.core.display.HTML object>"
      ]
     },
     "metadata": {},
     "output_type": "display_data"
    },
    {
     "data": {
      "text/html": [
       "Find logs at: <code>./wandb/run-20250309_060729-bqvbm34u/logs</code>"
      ],
      "text/plain": [
       "<IPython.core.display.HTML object>"
      ]
     },
     "metadata": {},
     "output_type": "display_data"
    },
    {
     "name": "stderr",
     "output_type": "stream",
     "text": [
      "Run bqvbm34u errored:\n",
      "Traceback (most recent call last):\n",
      "  File \"/Users/sathwikpentela/miniforge3/envs/PINN/lib/python3.10/site-packages/wandb/agents/pyagent.py\", line 306, in _run_job\n",
      "    self._function()\n",
      "  File \"/var/folders/97/64q5gb_55n5dk9c9nd8xzdw00000gn/T/ipykernel_38811/4050847273.py\", line 20, in sweep_train\n",
      "    model = NeuralNetwork(\n",
      "  File \"/var/folders/97/64q5gb_55n5dk9c9nd8xzdw00000gn/T/ipykernel_38811/4163194409.py\", line 8, in __init__\n",
      "    self.optimizer = optimizers[optimizer](lr=lr)\n",
      "KeyError: 'nadam'\n",
      "\n",
      "\u001b[34m\u001b[1mwandb\u001b[0m: \u001b[32m\u001b[41mERROR\u001b[0m Run bqvbm34u errored:\n",
      "\u001b[34m\u001b[1mwandb\u001b[0m: \u001b[32m\u001b[41mERROR\u001b[0m Traceback (most recent call last):\n",
      "\u001b[34m\u001b[1mwandb\u001b[0m: \u001b[32m\u001b[41mERROR\u001b[0m   File \"/Users/sathwikpentela/miniforge3/envs/PINN/lib/python3.10/site-packages/wandb/agents/pyagent.py\", line 306, in _run_job\n",
      "\u001b[34m\u001b[1mwandb\u001b[0m: \u001b[32m\u001b[41mERROR\u001b[0m     self._function()\n",
      "\u001b[34m\u001b[1mwandb\u001b[0m: \u001b[32m\u001b[41mERROR\u001b[0m   File \"/var/folders/97/64q5gb_55n5dk9c9nd8xzdw00000gn/T/ipykernel_38811/4050847273.py\", line 20, in sweep_train\n",
      "\u001b[34m\u001b[1mwandb\u001b[0m: \u001b[32m\u001b[41mERROR\u001b[0m     model = NeuralNetwork(\n",
      "\u001b[34m\u001b[1mwandb\u001b[0m: \u001b[32m\u001b[41mERROR\u001b[0m   File \"/var/folders/97/64q5gb_55n5dk9c9nd8xzdw00000gn/T/ipykernel_38811/4163194409.py\", line 8, in __init__\n",
      "\u001b[34m\u001b[1mwandb\u001b[0m: \u001b[32m\u001b[41mERROR\u001b[0m     self.optimizer = optimizers[optimizer](lr=lr)\n",
      "\u001b[34m\u001b[1mwandb\u001b[0m: \u001b[32m\u001b[41mERROR\u001b[0m KeyError: 'nadam'\n",
      "\u001b[34m\u001b[1mwandb\u001b[0m: \u001b[32m\u001b[41mERROR\u001b[0m \n",
      "\u001b[34m\u001b[1mwandb\u001b[0m: Agent Starting Run: 4cytszwx with config:\n",
      "\u001b[34m\u001b[1mwandb\u001b[0m: \tactivation: relu\n",
      "\u001b[34m\u001b[1mwandb\u001b[0m: \tbatch_size: 64\n",
      "\u001b[34m\u001b[1mwandb\u001b[0m: \tepochs: 5\n",
      "\u001b[34m\u001b[1mwandb\u001b[0m: \thidden_layers: 4\n",
      "\u001b[34m\u001b[1mwandb\u001b[0m: \tlayer_size: 128\n",
      "\u001b[34m\u001b[1mwandb\u001b[0m: \tlearning_rate: 0.0001\n",
      "\u001b[34m\u001b[1mwandb\u001b[0m: \toptimizer: adam\n",
      "\u001b[34m\u001b[1mwandb\u001b[0m: \tweight_decay: 0.5\n",
      "\u001b[34m\u001b[1mwandb\u001b[0m: \tweight_init: xavier\n"
     ]
    },
    {
     "data": {
      "text/html": [
       "Tracking run with wandb version 0.19.8"
      ],
      "text/plain": [
       "<IPython.core.display.HTML object>"
      ]
     },
     "metadata": {},
     "output_type": "display_data"
    },
    {
     "data": {
      "text/html": [
       "Run data is saved locally in <code>/Users/sathwikpentela/MTECH/DA6401_Assignment_1/wandb/run-20250309_060734-4cytszwx</code>"
      ],
      "text/plain": [
       "<IPython.core.display.HTML object>"
      ]
     },
     "metadata": {},
     "output_type": "display_data"
    },
    {
     "data": {
      "text/html": [
       "Syncing run <strong><a href='https://wandb.ai/da24m017-indian-institute-of-technology-madras/DA6401_Assignment_1/runs/4cytszwx' target=\"_blank\">glad-sweep-49</a></strong> to <a href='https://wandb.ai/da24m017-indian-institute-of-technology-madras/DA6401_Assignment_1' target=\"_blank\">Weights & Biases</a> (<a href='https://wandb.me/developer-guide' target=\"_blank\">docs</a>)<br>Sweep page: <a href='https://wandb.ai/da24m017-indian-institute-of-technology-madras/DA6401_Assignment_1/sweeps/ic4mfnl6' target=\"_blank\">https://wandb.ai/da24m017-indian-institute-of-technology-madras/DA6401_Assignment_1/sweeps/ic4mfnl6</a>"
      ],
      "text/plain": [
       "<IPython.core.display.HTML object>"
      ]
     },
     "metadata": {},
     "output_type": "display_data"
    },
    {
     "data": {
      "text/html": [
       " View project at <a href='https://wandb.ai/da24m017-indian-institute-of-technology-madras/DA6401_Assignment_1' target=\"_blank\">https://wandb.ai/da24m017-indian-institute-of-technology-madras/DA6401_Assignment_1</a>"
      ],
      "text/plain": [
       "<IPython.core.display.HTML object>"
      ]
     },
     "metadata": {},
     "output_type": "display_data"
    },
    {
     "data": {
      "text/html": [
       " View sweep at <a href='https://wandb.ai/da24m017-indian-institute-of-technology-madras/DA6401_Assignment_1/sweeps/ic4mfnl6' target=\"_blank\">https://wandb.ai/da24m017-indian-institute-of-technology-madras/DA6401_Assignment_1/sweeps/ic4mfnl6</a>"
      ],
      "text/plain": [
       "<IPython.core.display.HTML object>"
      ]
     },
     "metadata": {},
     "output_type": "display_data"
    },
    {
     "data": {
      "text/html": [
       " View run at <a href='https://wandb.ai/da24m017-indian-institute-of-technology-madras/DA6401_Assignment_1/runs/4cytszwx' target=\"_blank\">https://wandb.ai/da24m017-indian-institute-of-technology-madras/DA6401_Assignment_1/runs/4cytszwx</a>"
      ],
      "text/plain": [
       "<IPython.core.display.HTML object>"
      ]
     },
     "metadata": {},
     "output_type": "display_data"
    },
    {
     "name": "stdout",
     "output_type": "stream",
     "text": [
      "Epoch 1, Train Loss: 1.9636, Val Loss: 2.0014\n",
      "Epoch 2, Train Loss: 1.9387, Val Loss: 1.9509\n",
      "Epoch 3, Train Loss: 1.9173, Val Loss: 1.9351\n",
      "Epoch 4, Train Loss: 1.8975, Val Loss: 1.9200\n",
      "Epoch 5, Train Loss: 1.8843, Val Loss: 1.9132\n"
     ]
    },
    {
     "data": {
      "text/html": [],
      "text/plain": [
       "<IPython.core.display.HTML object>"
      ]
     },
     "metadata": {},
     "output_type": "display_data"
    },
    {
     "data": {
      "text/html": [
       "<br>    <style><br>        .wandb-row {<br>            display: flex;<br>            flex-direction: row;<br>            flex-wrap: wrap;<br>            justify-content: flex-start;<br>            width: 100%;<br>        }<br>        .wandb-col {<br>            display: flex;<br>            flex-direction: column;<br>            flex-basis: 100%;<br>            flex: 1;<br>            padding: 10px;<br>        }<br>    </style><br><div class=\"wandb-row\"><div class=\"wandb-col\"><h3>Run history:</h3><br/><table class=\"wandb\"><tr><td>epoch</td><td>▁▃▅▆█</td></tr><tr><td>train_loss</td><td>█▆▄▂▁</td></tr><tr><td>val_loss</td><td>█▄▃▂▁</td></tr></table><br/></div><div class=\"wandb-col\"><h3>Run summary:</h3><br/><table class=\"wandb\"><tr><td>epoch</td><td>5</td></tr><tr><td>train_loss</td><td>1.88434</td></tr><tr><td>val_loss</td><td>1.91315</td></tr></table><br/></div></div>"
      ],
      "text/plain": [
       "<IPython.core.display.HTML object>"
      ]
     },
     "metadata": {},
     "output_type": "display_data"
    },
    {
     "data": {
      "text/html": [
       " View run <strong style=\"color:#cdcd00\">glad-sweep-49</strong> at: <a href='https://wandb.ai/da24m017-indian-institute-of-technology-madras/DA6401_Assignment_1/runs/4cytszwx' target=\"_blank\">https://wandb.ai/da24m017-indian-institute-of-technology-madras/DA6401_Assignment_1/runs/4cytszwx</a><br> View project at: <a href='https://wandb.ai/da24m017-indian-institute-of-technology-madras/DA6401_Assignment_1' target=\"_blank\">https://wandb.ai/da24m017-indian-institute-of-technology-madras/DA6401_Assignment_1</a><br>Synced 5 W&B file(s), 0 media file(s), 0 artifact file(s) and 0 other file(s)"
      ],
      "text/plain": [
       "<IPython.core.display.HTML object>"
      ]
     },
     "metadata": {},
     "output_type": "display_data"
    },
    {
     "data": {
      "text/html": [
       "Find logs at: <code>./wandb/run-20250309_060734-4cytszwx/logs</code>"
      ],
      "text/plain": [
       "<IPython.core.display.HTML object>"
      ]
     },
     "metadata": {},
     "output_type": "display_data"
    },
    {
     "name": "stderr",
     "output_type": "stream",
     "text": [
      "\u001b[34m\u001b[1mwandb\u001b[0m: Agent Starting Run: s45snz7t with config:\n",
      "\u001b[34m\u001b[1mwandb\u001b[0m: \tactivation: relu\n",
      "\u001b[34m\u001b[1mwandb\u001b[0m: \tbatch_size: 64\n",
      "\u001b[34m\u001b[1mwandb\u001b[0m: \tepochs: 10\n",
      "\u001b[34m\u001b[1mwandb\u001b[0m: \thidden_layers: 5\n",
      "\u001b[34m\u001b[1mwandb\u001b[0m: \tlayer_size: 128\n",
      "\u001b[34m\u001b[1mwandb\u001b[0m: \tlearning_rate: 0.0001\n",
      "\u001b[34m\u001b[1mwandb\u001b[0m: \toptimizer: rmsprop\n",
      "\u001b[34m\u001b[1mwandb\u001b[0m: \tweight_decay: 0.0005\n",
      "\u001b[34m\u001b[1mwandb\u001b[0m: \tweight_init: random\n"
     ]
    },
    {
     "data": {
      "text/html": [
       "Tracking run with wandb version 0.19.8"
      ],
      "text/plain": [
       "<IPython.core.display.HTML object>"
      ]
     },
     "metadata": {},
     "output_type": "display_data"
    },
    {
     "data": {
      "text/html": [
       "Run data is saved locally in <code>/Users/sathwikpentela/MTECH/DA6401_Assignment_1/wandb/run-20250309_060745-s45snz7t</code>"
      ],
      "text/plain": [
       "<IPython.core.display.HTML object>"
      ]
     },
     "metadata": {},
     "output_type": "display_data"
    },
    {
     "data": {
      "text/html": [
       "Syncing run <strong><a href='https://wandb.ai/da24m017-indian-institute-of-technology-madras/DA6401_Assignment_1/runs/s45snz7t' target=\"_blank\">silver-sweep-50</a></strong> to <a href='https://wandb.ai/da24m017-indian-institute-of-technology-madras/DA6401_Assignment_1' target=\"_blank\">Weights & Biases</a> (<a href='https://wandb.me/developer-guide' target=\"_blank\">docs</a>)<br>Sweep page: <a href='https://wandb.ai/da24m017-indian-institute-of-technology-madras/DA6401_Assignment_1/sweeps/ic4mfnl6' target=\"_blank\">https://wandb.ai/da24m017-indian-institute-of-technology-madras/DA6401_Assignment_1/sweeps/ic4mfnl6</a>"
      ],
      "text/plain": [
       "<IPython.core.display.HTML object>"
      ]
     },
     "metadata": {},
     "output_type": "display_data"
    },
    {
     "data": {
      "text/html": [
       " View project at <a href='https://wandb.ai/da24m017-indian-institute-of-technology-madras/DA6401_Assignment_1' target=\"_blank\">https://wandb.ai/da24m017-indian-institute-of-technology-madras/DA6401_Assignment_1</a>"
      ],
      "text/plain": [
       "<IPython.core.display.HTML object>"
      ]
     },
     "metadata": {},
     "output_type": "display_data"
    },
    {
     "data": {
      "text/html": [
       " View sweep at <a href='https://wandb.ai/da24m017-indian-institute-of-technology-madras/DA6401_Assignment_1/sweeps/ic4mfnl6' target=\"_blank\">https://wandb.ai/da24m017-indian-institute-of-technology-madras/DA6401_Assignment_1/sweeps/ic4mfnl6</a>"
      ],
      "text/plain": [
       "<IPython.core.display.HTML object>"
      ]
     },
     "metadata": {},
     "output_type": "display_data"
    },
    {
     "data": {
      "text/html": [
       " View run at <a href='https://wandb.ai/da24m017-indian-institute-of-technology-madras/DA6401_Assignment_1/runs/s45snz7t' target=\"_blank\">https://wandb.ai/da24m017-indian-institute-of-technology-madras/DA6401_Assignment_1/runs/s45snz7t</a>"
      ],
      "text/plain": [
       "<IPython.core.display.HTML object>"
      ]
     },
     "metadata": {},
     "output_type": "display_data"
    },
    {
     "name": "stdout",
     "output_type": "stream",
     "text": [
      "Epoch 1, Train Loss: 2.0573, Val Loss: 2.0784\n",
      "Epoch 2, Train Loss: 1.9712, Val Loss: 1.9610\n",
      "Epoch 3, Train Loss: 1.9183, Val Loss: 1.9014\n",
      "Epoch 4, Train Loss: 1.8688, Val Loss: 1.8520\n",
      "Epoch 5, Train Loss: 1.8146, Val Loss: 1.8159\n",
      "Epoch 6, Train Loss: 1.7795, Val Loss: 1.7920\n",
      "Epoch 7, Train Loss: 1.7664, Val Loss: 1.7807\n",
      "Epoch 8, Train Loss: 1.7546, Val Loss: 1.7758\n",
      "Epoch 9, Train Loss: 1.7435, Val Loss: 1.7687\n",
      "Epoch 10, Train Loss: 1.7267, Val Loss: 1.7637\n"
     ]
    },
    {
     "data": {
      "text/html": [],
      "text/plain": [
       "<IPython.core.display.HTML object>"
      ]
     },
     "metadata": {},
     "output_type": "display_data"
    },
    {
     "data": {
      "text/html": [
       "<br>    <style><br>        .wandb-row {<br>            display: flex;<br>            flex-direction: row;<br>            flex-wrap: wrap;<br>            justify-content: flex-start;<br>            width: 100%;<br>        }<br>        .wandb-col {<br>            display: flex;<br>            flex-direction: column;<br>            flex-basis: 100%;<br>            flex: 1;<br>            padding: 10px;<br>        }<br>    </style><br><div class=\"wandb-row\"><div class=\"wandb-col\"><h3>Run history:</h3><br/><table class=\"wandb\"><tr><td>epoch</td><td>▁▂▃▃▄▅▆▆▇█</td></tr><tr><td>train_loss</td><td>█▆▅▄▃▂▂▂▁▁</td></tr><tr><td>val_loss</td><td>█▅▄▃▂▂▁▁▁▁</td></tr></table><br/></div><div class=\"wandb-col\"><h3>Run summary:</h3><br/><table class=\"wandb\"><tr><td>epoch</td><td>10</td></tr><tr><td>train_loss</td><td>1.72674</td></tr><tr><td>val_loss</td><td>1.76369</td></tr></table><br/></div></div>"
      ],
      "text/plain": [
       "<IPython.core.display.HTML object>"
      ]
     },
     "metadata": {},
     "output_type": "display_data"
    },
    {
     "data": {
      "text/html": [
       " View run <strong style=\"color:#cdcd00\">silver-sweep-50</strong> at: <a href='https://wandb.ai/da24m017-indian-institute-of-technology-madras/DA6401_Assignment_1/runs/s45snz7t' target=\"_blank\">https://wandb.ai/da24m017-indian-institute-of-technology-madras/DA6401_Assignment_1/runs/s45snz7t</a><br> View project at: <a href='https://wandb.ai/da24m017-indian-institute-of-technology-madras/DA6401_Assignment_1' target=\"_blank\">https://wandb.ai/da24m017-indian-institute-of-technology-madras/DA6401_Assignment_1</a><br>Synced 5 W&B file(s), 0 media file(s), 0 artifact file(s) and 0 other file(s)"
      ],
      "text/plain": [
       "<IPython.core.display.HTML object>"
      ]
     },
     "metadata": {},
     "output_type": "display_data"
    },
    {
     "data": {
      "text/html": [
       "Find logs at: <code>./wandb/run-20250309_060745-s45snz7t/logs</code>"
      ],
      "text/plain": [
       "<IPython.core.display.HTML object>"
      ]
     },
     "metadata": {},
     "output_type": "display_data"
    }
   ],
   "source": [
    "wandb.agent(sweep_id, function=sweep_train, count=50)"
   ]
  },
  {
   "cell_type": "code",
   "execution_count": null,
   "metadata": {},
   "outputs": [],
   "source": []
  },
  {
   "cell_type": "code",
   "execution_count": null,
   "metadata": {},
   "outputs": [],
   "source": []
  },
  {
   "cell_type": "code",
   "execution_count": null,
   "metadata": {},
   "outputs": [],
   "source": []
  },
  {
   "cell_type": "code",
   "execution_count": null,
   "metadata": {},
   "outputs": [],
   "source": []
  },
  {
   "cell_type": "code",
   "execution_count": null,
   "metadata": {},
   "outputs": [],
   "source": [
    "import numpy as np\n",
    "import matplotlib.pyplot as plt\n",
    "from keras.datasets import fashion_mnist\n",
    "\n",
    "# Load the dataset\n",
    "(train_images, train_labels), (test_images, test_labels) = fashion_mnist.load_data()\n",
    "\n",
    "# Normalize images to [0,1] range\n",
    "train_images = train_images.reshape(train_images.shape[0], -1) / 255.0\n",
    "test_images = test_images.reshape(test_images.shape[0], -1) / 255.0\n",
    "\n",
    "# Define activation functions and their derivatives\n",
    "def relu(x):\n",
    "    return np.maximum(0, x)\n",
    "\n",
    "def relu_derivative(x):\n",
    "    return (x > 0).astype(float)\n",
    "\n",
    "def sigmoid(x):\n",
    "    return 1 / (1 + np.exp(-x))\n",
    "\n",
    "def sigmoid_derivative(x):\n",
    "    return sigmoid(x) * (1 - sigmoid(x))\n",
    "\n",
    "def tanh(x):\n",
    "    return np.tanh(x)\n",
    "\n",
    "def tanh_derivative(x):\n",
    "    return 1 - np.tanh(x) ** 2\n",
    "\n",
    "def softmax(x):\n",
    "    exp_x = np.exp(x - np.max(x, axis=1, keepdims=True))\n",
    "    return exp_x / np.sum(exp_x, axis=1, keepdims=True)\n",
    "\n",
    "# Base Optimizer Class\n",
    "class Optimizer:\n",
    "    def update(self, params, grads):\n",
    "        raise NotImplementedError\n",
    "\n",
    "# Optimizers Dictionary\n",
    "optimizers = {}\n",
    "\n",
    "def register_optimizer(name, optimizer_class):\n",
    "    optimizers[name] = optimizer_class\n",
    "\n",
    "# SGD Optimizer\n",
    "class SGD(Optimizer):\n",
    "    def __init__(self, lr=0.01):\n",
    "        self.lr = lr\n",
    "    \n",
    "    def update(self, params, grads):\n",
    "        for key in params.keys():\n",
    "            params[key] -= self.lr * grads[key]\n",
    "\n",
    "register_optimizer('sgd', SGD)\n",
    "\n",
    "# Momentum Optimizer\n",
    "class Momentum(SGD):\n",
    "    def __init__(self, lr=0.01, beta=0.9):\n",
    "        super().__init__(lr)\n",
    "        self.beta = beta\n",
    "        self.v = {}\n",
    "    \n",
    "    def update(self, params, grads):\n",
    "        for key in params.keys():\n",
    "            if key not in self.v:\n",
    "                self.v[key] = np.zeros_like(params[key])\n",
    "            self.v[key] = self.beta * self.v[key] + (1 - self.beta) * grads[key]\n",
    "            params[key] -= self.lr * self.v[key]\n",
    "\n",
    "register_optimizer('momentum', Momentum)\n",
    "\n",
    "# Nesterov Accelerated Gradient\n",
    "class NAG(Momentum):\n",
    "    def update(self, params, grads):\n",
    "        for key in params.keys():\n",
    "            if key not in self.v:\n",
    "                self.v[key] = np.zeros_like(params[key])\n",
    "            prev_v = self.v[key]\n",
    "            self.v[key] = self.beta * self.v[key] + self.lr * grads[key]\n",
    "            params[key] -= self.beta * prev_v + (1 + self.beta) * self.v[key]\n",
    "\n",
    "register_optimizer('nesterov', NAG)\n",
    "\n",
    "# RMSprop Optimizer\n",
    "class RMSprop(Optimizer):\n",
    "    def __init__(self, lr=0.01, beta=0.9, epsilon=1e-8):\n",
    "        self.lr = lr\n",
    "        self.beta = beta\n",
    "        self.epsilon = epsilon\n",
    "        self.s = {}\n",
    "    \n",
    "    def update(self, params, grads):\n",
    "        for key in params.keys():\n",
    "            if key not in self.s:\n",
    "                self.s[key] = np.zeros_like(params[key])\n",
    "            self.s[key] = self.beta * self.s[key] + (1 - self.beta) * grads[key]**2\n",
    "            params[key] -= self.lr * grads[key] / (np.sqrt(self.s[key]) + self.epsilon)\n",
    "\n",
    "register_optimizer('rmsprop', RMSprop)\n",
    "\n",
    "# Adam Optimizer\n",
    "class Adam(Optimizer):\n",
    "    def __init__(self, lr=0.01, beta1=0.9, beta2=0.999, epsilon=1e-8):\n",
    "        self.lr = lr\n",
    "        self.beta1 = beta1\n",
    "        self.beta2 = beta2\n",
    "        self.epsilon = epsilon\n",
    "        self.m = {}\n",
    "        self.v = {}\n",
    "        self.t = 0\n",
    "    \n",
    "    def update(self, params, grads):\n",
    "        self.t += 1\n",
    "        for key in params.keys():\n",
    "            if key not in self.m:\n",
    "                self.m[key] = np.zeros_like(params[key])\n",
    "                self.v[key] = np.zeros_like(params[key])\n",
    "            self.m[key] = self.beta1 * self.m[key] + (1 - self.beta1) * grads[key]\n",
    "            self.v[key] = self.beta2 * self.v[key] + (1 - self.beta2) * (grads[key]**2)\n",
    "            m_hat = self.m[key] / (1 - self.beta1**self.t)\n",
    "            v_hat = self.v[key] / (1 - self.beta2**self.t)\n",
    "            params[key] -= self.lr * m_hat / (np.sqrt(v_hat) + self.epsilon)\n",
    "\n",
    "register_optimizer('adam', Adam)\n",
    "\n",
    "# Neural Network Class\n",
    "class FeedforwardNN:\n",
    "    def __init__(self, input_size, hidden_layers, output_size, activation='relu', optimizer='sgd', lr=0.01):\n",
    "        self.layers = [input_size] + hidden_layers + [output_size]\n",
    "        self.params = {}\n",
    "        self.activation = activation\n",
    "        self.activations = {'relu': (relu, relu_derivative), 'sigmoid': (sigmoid, sigmoid_derivative), 'tanh': (tanh, tanh_derivative)}\n",
    "        self.optimizer = optimizers.get(optimizer, SGD)(lr)\n",
    "        \n",
    "        # Initialize weights and biases\n",
    "        for i in range(len(self.layers) - 1):\n",
    "            self.params[f'W{i+1}'] = np.random.randn(self.layers[i], self.layers[i+1]) * 0.01\n",
    "            self.params[f'b{i+1}'] = np.zeros((1, self.layers[i+1]))\n",
    "    \n",
    "    def forward(self, X):\n",
    "        self.cache = {'A0': X}\n",
    "        A = X\n",
    "        for i in range(len(self.layers) - 2):\n",
    "            Z = np.dot(A, self.params[f'W{i+1}']) + self.params[f'b{i+1}']\n",
    "            A = self.activations[self.activation][0](Z)\n",
    "            self.cache[f'A{i+1}'] = A\n",
    "        Z_out = np.dot(A, self.params[f'W{len(self.layers)-1}']) + self.params[f'b{len(self.layers)-1}']\n",
    "        A_out = softmax(Z_out)\n",
    "        self.cache[f'A{len(self.layers)-1}'] = A_out\n",
    "        return A_out\n",
    "    \n",
    "    def backward(self, X, Y):\n",
    "        m = X.shape[0]\n",
    "        grads = {}\n",
    "        A_out = self.cache[f'A{len(self.layers)-1}']\n",
    "        dZ = A_out - Y\n",
    "        \n",
    "        for i in reversed(range(len(self.layers) - 1)):\n",
    "            grads[f'W{i+1}'] = np.dot(self.cache[f'A{i}'].T, dZ) / m\n",
    "            grads[f'b{i+1}'] = np.sum(dZ, axis=0, keepdims=True) / m\n",
    "            if i > 0:\n",
    "                dZ = np.dot(dZ, self.params[f'W{i+1}'].T) * self.activations[self.activation][1](self.cache[f'A{i}'])\n",
    "        \n",
    "        self.optimizer.update(self.params, grads)\n",
    "\n",
    "# Example Usage\n",
    "nn = FeedforwardNN(input_size=784, hidden_layers=[128, 64], output_size=10, activation='relu', optimizer='adam', lr=0.001)\n"
   ]
  }
 ],
 "metadata": {
  "kernelspec": {
   "display_name": "PINN",
   "language": "python",
   "name": "python3"
  },
  "language_info": {
   "codemirror_mode": {
    "name": "ipython",
    "version": 3
   },
   "file_extension": ".py",
   "mimetype": "text/x-python",
   "name": "python",
   "nbconvert_exporter": "python",
   "pygments_lexer": "ipython3",
   "version": "3.10.16"
  }
 },
 "nbformat": 4,
 "nbformat_minor": 2
}
